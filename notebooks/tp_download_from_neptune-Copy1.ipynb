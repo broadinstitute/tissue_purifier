{
 "cells": [
  {
   "cell_type": "markdown",
   "id": "governing-archive",
   "metadata": {},
   "source": [
    "# Download Checkpoint"
   ]
  },
  {
   "cell_type": "code",
   "execution_count": 1,
   "id": "capital-block",
   "metadata": {},
   "outputs": [],
   "source": [
    "NEPTUNE_TOKEN = \"eyJhcGlfYWRkcmVzcyI6Imh0dHBzOi8vYXBwLm5lcHR1bmUuYWkiLCJhcGlfdXJsIjoiaHR0cHM6Ly9hcHAubmVwdHVuZS5haSIsImFwaV9rZXkiOiJjZTkyYmJiYi0wN2E1LTRkY2YtOWU3Ny1kNjhjYmM3ZTVkNWEifQ==\""
   ]
  },
  {
   "cell_type": "code",
   "execution_count": 2,
   "id": "fa64a1f7-554a-4533-a553-7f28195bcabd",
   "metadata": {},
   "outputs": [],
   "source": [
    "import neptune.new as neptune"
   ]
  },
  {
   "cell_type": "code",
   "execution_count": 3,
   "id": "4cf57a55-c3e1-4297-a536-a16502604693",
   "metadata": {},
   "outputs": [
    {
     "name": "stdout",
     "output_type": "stream",
     "text": [
      "https://app.neptune.ai/cellarium/tissue-purifier/e/TIS-1446\n",
      "Remember to stop your run once you’ve finished logging your metadata (https://docs.neptune.ai/api-reference/run#stop). It will be stopped automatically only when the notebook kernel/interactive console is terminated.\n"
     ]
    }
   ],
   "source": [
    "run = neptune.init(\n",
    "    project='cellarium/tissue-purifier',\n",
    "    api_token=NEPTUNE_TOKEN,\n",
    "    run='TIS-1446',\n",
    "    mode=\"read-only\")"
   ]
  },
  {
   "cell_type": "code",
   "execution_count": 4,
   "id": "6734bb9d-b76c-4ff3-b344-7bbdffa180a5",
   "metadata": {},
   "outputs": [
    {
     "name": "stdout",
     "output_type": "stream",
     "text": [
      "dalessioluca\n",
      "0.9317559599876404\n"
     ]
    }
   ],
   "source": [
    "username = run['sys/owner'].fetch()\n",
    "loss = run['training/train_loss'].fetch_last()\n",
    "\n",
    "print(username)\n",
    "print(loss)"
   ]
  },
  {
   "cell_type": "code",
   "execution_count": 5,
   "id": "48913038-efef-4098-8088-09fd942151d1",
   "metadata": {},
   "outputs": [],
   "source": [
    "run['training/model/checkpoints/best_checkpoint-epoch=199.ckpt'].download('ckpt_tis-1446_epoch_199.ckpt')"
   ]
  },
  {
   "cell_type": "code",
   "execution_count": 6,
   "id": "d1673149-a5c8-4c8a-b110-e51f3d965bcf",
   "metadata": {},
   "outputs": [],
   "source": [
    "run['training/model/checkpoints/periodic_checkpoint-epoch=1288.ckpt'].download('ckpt_tis-1446_epoch_1288.ckpt')"
   ]
  },
  {
   "cell_type": "code",
   "execution_count": 7,
   "id": "d4386cb0-4e91-4def-b29c-eb367966e378",
   "metadata": {},
   "outputs": [
    {
     "name": "stdout",
     "output_type": "stream",
     "text": [
      "Shutting down background jobs, please wait a moment...\n",
      "Done!\n"
     ]
    }
   ],
   "source": [
    "run.stop()"
   ]
  }
 ],
 "metadata": {
  "environment": {
   "kernel": "python3",
   "name": "common-cu113.m84",
   "type": "gcloud",
   "uri": "gcr.io/deeplearning-platform-release/base-cu113:m84"
  },
  "kernelspec": {
   "display_name": "Python 3",
   "language": "python",
   "name": "python3"
  },
  "language_info": {
   "codemirror_mode": {
    "name": "ipython",
    "version": 3
   },
   "file_extension": ".py",
   "mimetype": "text/x-python",
   "name": "python",
   "nbconvert_exporter": "python",
   "pygments_lexer": "ipython3",
   "version": "3.7.12"
  }
 },
 "nbformat": 4,
 "nbformat_minor": 5
}
