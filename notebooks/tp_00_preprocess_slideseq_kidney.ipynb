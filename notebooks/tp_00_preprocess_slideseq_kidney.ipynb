{
 "cells": [
  {
   "cell_type": "markdown",
   "id": "casual-might",
   "metadata": {},
   "source": [
    "# PROCESS KIDNEY_DATA"
   ]
  },
  {
   "cell_type": "markdown",
   "id": "d5801219-b5a6-4f71-88ee-47808be0160f",
   "metadata": {},
   "source": [
    "Read in csv file and create anndata object which are then saved to disk"
   ]
  },
  {
   "cell_type": "markdown",
   "id": "outstanding-momentum",
   "metadata": {},
   "source": [
    "### Common Imports"
   ]
  },
  {
   "cell_type": "code",
   "execution_count": 2,
   "id": "therapeutic-punch",
   "metadata": {},
   "outputs": [],
   "source": [
    "import sys\n",
    "import os\n",
    "\n",
    "root_path = os.path.dirname(os.getcwd())\n",
    "src_path = os.path.join(root_path, \"src\")\n",
    "sys.path.insert(0, src_path)\n",
    "\n",
    "%load_ext autoreload\n",
    "%autoreload 2"
   ]
  },
  {
   "cell_type": "markdown",
   "id": "mobile-maker",
   "metadata": {},
   "source": [
    "# Read csv files into anndata objects"
   ]
  },
  {
   "cell_type": "code",
   "execution_count": 3,
   "id": "drawn-switzerland",
   "metadata": {},
   "outputs": [],
   "source": [
    "from tissue_purifier.io_utils.read import anndata_from_expression_csv\n",
    "import pandas as pd"
   ]
  },
  {
   "cell_type": "code",
   "execution_count": 4,
   "id": "24d14d7c-3437-43e7-ac40-a861f44d53fc",
   "metadata": {},
   "outputs": [
    {
     "name": "stdout",
     "output_type": "stream",
     "text": [
      "['Puck_200210_02', 'Puck_200104_07', 'Puck_191223_10', 'Puck_200115_02', 'Puck_200115_04', 'Puck_191109_18', 'Puck_200127_08', 'Puck_191223_21', 'Puck_200115_14', 'Puck_191204_22', 'Puck_191223_23', 'Puck_191109_09', 'Puck_200113_10', 'Puck_200104_18', 'Puck_200115_17', 'Puck_191223_11', 'Puck_191223_22', 'Puck_191109_14', 'Puck_200127_05', 'Puck_200115_01', 'Puck_191204_16', 'Puck_200115_11', 'Puck_191204_14', 'Puck_191109_20', 'Puck_191223_17', 'Puck_191206_02', 'Puck_200115_07', 'Puck_200131_20', 'Puck_200115_16', 'Puck_191223_09', 'Puck_200104_10', 'Puck_200104_15', 'Puck_191206_01', 'Puck_191204_13', 'Puck_200121_03', 'Puck_191204_15', 'Puck_191223_02', 'Puck_200104_05', 'Puck_200104_09', 'Puck_191204_23', 'Puck_200113_11', 'Puck_191206_04', 'Puck_191223_12', 'Puck_200131_25', 'Puck_191223_18', 'Puck_200131_22', 'Puck_191223_03', 'Puck_200131_23', 'Puck_200115_18', 'Puck_191204_20', 'Puck_191223_13', 'Puck_200127_10', 'Puck_191204_12', 'Puck_191204_05', 'Puck_191204_03', 'Puck_200131_21', 'Puck_191204_24', 'Puck_191204_07', 'Puck_200104_23', 'Puck_200104_06', 'Puck_191223_04', 'Puck_200115_15', 'Puck_200210_03', 'Puck_200113_09', 'Puck_200113_08', 'Puck_200127_01', 'Puck_191223_20', 'Puck_191223_08', 'Puck_191206_03', 'Puck_200115_12', 'Puck_191109_19', 'Puck_200104_19', 'Puck_200115_10', 'Puck_191112_05', 'Puck_200104_03', 'Puck_200127_07', 'Puck_191109_07', 'Puck_191223_01', 'Puck_200104_01', 'Puck_200113_12', 'Puck_191112_02', 'Puck_200127_06', 'Puck_191112_04', 'Puck_191223_07', 'Puck_191112_07', 'Puck_200210_01', 'Puck_191112_08', 'Puck_200131_24', 'Puck_200113_07', 'Puck_191112_13', 'Puck_200210_04', 'Puck_200127_09', 'Puck_200104_02', 'Puck_200115_03', 'Puck_200115_05', 'Puck_191223_05', 'Puck_200115_09', 'Puck_200104_20', 'Puck_191204_08', 'Puck_191223_24', 'Puck_200104_21', 'Puck_200104_17', 'Puck_191223_19', 'Puck_191204_04', 'Puck_200121_01', 'Puck_200115_06', 'Puck_200102_09', 'Puck_191109_08', 'Puck_191204_17', 'Puck_200104_14', 'Puck_200104_04', 'Puck_191204_18', 'Puck_191223_15', 'Puck_200104_16', 'Puck_191109_06', 'Puck_200131_13', 'Puck_191109_10', 'Puck_191204_09', 'Puck_191223_14']\n"
     ]
    }
   ],
   "source": [
    "root_data_dir = '/home/jupyter/REPOS/ML_for_slideseq/DATA/kidney/QCed'\n",
    "\n",
    "sub_dir_list = []\n",
    "for file in os.listdir(root_data_dir):\n",
    "    path = os.path.join(root_data_dir, file)\n",
    "    if os.path.isdir(path):\n",
    "        sub_dir_list.append(file)\n",
    "        \n",
    "print(sub_dir_list)"
   ]
  },
  {
   "cell_type": "code",
   "execution_count": null,
   "id": "f0c9e7f8-8b42-435d-9452-7ddea4d30989",
   "metadata": {},
   "outputs": [
    {
     "name": "stdout",
     "output_type": "stream",
     "text": [
      "---\n",
      "---\n",
      "---\n",
      "---\n",
      "Puck_200210_02\n",
      "location_file ---> /home/jupyter/REPOS/ML_for_slideseq/DATA/kidney/QCed/Puck_200210_02/BeadLocationsForR.csv\n",
      "expression_file -> /home/jupyter/REPOS/ML_for_slideseq/DATA/kidney/QCed/Puck_200210_02/MappedDGEForR.csv\n",
      "filename -> /home/jupyter/REPOS/ML_for_slideseq/DATA/kidney/QCed/./anndata_Puck_200210_02.h5ad False\n",
      "working on /home/jupyter/REPOS/ML_for_slideseq/DATA/kidney/QCed/./anndata_Puck_200210_02.h5ad\n",
      "creating anndata object with the counts\n"
     ]
    },
    {
     "name": "stderr",
     "output_type": "stream",
     "text": [
      "/opt/conda/lib/python3.7/site-packages/anndata/_core/anndata.py:1228: FutureWarning: The `inplace` parameter in pandas.Categorical.reorder_categories is deprecated and will be removed in a future version. Reordering categories will always return a new Categorical object.\n",
      "  c.reorder_categories(natsorted(c.categories), inplace=True)\n",
      "... storing 'cell_type' as categorical\n"
     ]
    },
    {
     "name": "stdout",
     "output_type": "stream",
     "text": [
      "saving anndata to file /home/jupyter/REPOS/ML_for_slideseq/DATA/kidney/QCed/./anndata_Puck_200210_02.h5ad\n",
      "---\n",
      "---\n",
      "---\n",
      "---\n",
      "Puck_200104_07\n",
      "location_file ---> /home/jupyter/REPOS/ML_for_slideseq/DATA/kidney/QCed/Puck_200104_07/BeadLocationsForR.csv\n",
      "expression_file -> /home/jupyter/REPOS/ML_for_slideseq/DATA/kidney/QCed/Puck_200104_07/MappedDGEForR.csv\n",
      "filename -> /home/jupyter/REPOS/ML_for_slideseq/DATA/kidney/QCed/./anndata_Puck_200104_07.h5ad False\n",
      "working on /home/jupyter/REPOS/ML_for_slideseq/DATA/kidney/QCed/./anndata_Puck_200104_07.h5ad\n",
      "creating anndata object with the counts\n",
      "---\n",
      "---\n",
      "---\n",
      "---\n",
      "Puck_191223_10\n",
      "location_file ---> /home/jupyter/REPOS/ML_for_slideseq/DATA/kidney/QCed/Puck_191223_10/BeadLocationsForR.csv\n",
      "expression_file -> /home/jupyter/REPOS/ML_for_slideseq/DATA/kidney/QCed/Puck_191223_10/MappedDGEForR.csv\n",
      "filename -> /home/jupyter/REPOS/ML_for_slideseq/DATA/kidney/QCed/./anndata_Puck_191223_10.h5ad False\n",
      "working on /home/jupyter/REPOS/ML_for_slideseq/DATA/kidney/QCed/./anndata_Puck_191223_10.h5ad\n",
      "creating anndata object with the counts\n"
     ]
    }
   ],
   "source": [
    "anndata_fnames = []\n",
    "anndata_fnames_failed = []\n",
    "n_rows = None\n",
    "\n",
    "for my_dir in sub_dir_list:\n",
    "    \n",
    "    path = os.path.join(root_data_dir, my_dir)\n",
    "    files = os.listdir(path)\n",
    "    \n",
    "    expression_file, location_file = None, None\n",
    "    for file in files:\n",
    "        if file.startswith(\"MappedDGE\"):\n",
    "            expression_file = os.path.join(root_data_dir, my_dir, file)\n",
    "        elif file.startswith(\"BeadLocations\"):\n",
    "            location_file = os.path.join(root_data_dir, my_dir, file)\n",
    "    filename = os.path.join(root_data_dir, \"./anndata_\"+my_dir+\".h5ad\")\n",
    "        \n",
    "    print(\"---\")\n",
    "    print(\"---\")\n",
    "    print(\"---\")\n",
    "    print(\"---\")\n",
    "    print(my_dir)\n",
    "    print(\"location_file --->\", location_file)\n",
    "    print(\"expression_file ->\", expression_file)\n",
    "    print(\"filename ->\", filename, os.path.exists(filename))\n",
    "    \n",
    "    if os.path.exists(filename):\n",
    "        continue\n",
    "    else:\n",
    "        print(\"working on\", filename)\n",
    "        try:\n",
    "            ## create the anndata object\n",
    "            print(\"creating anndata object with the counts\")\n",
    "            anndata = anndata_from_expression_csv(expression_file, key='gene', transpose=True, top_n_rows=n_rows)\n",
    "            \n",
    "            ## get the metadata and add to the obs dataframe\n",
    "            metadata_df = pd.read_csv(location_file, usecols=[\"barcodes\", \"xcoord\", \"ycoord\", \"cell_type\"]).set_index(\"barcodes\")\n",
    "            \n",
    "            # add the metadata into the anndata.obs padaframe. Note that I do not change the order of the entries.\n",
    "            anndata.obs = anndata.obs.join(metadata_df)\n",
    "\n",
    "            # save the anndata object to disk \n",
    "            filename = os.path.join(root_data_dir, \"./anndata_\"+my_dir+\".h5ad\")\n",
    "            print(\"saving anndata to file\", filename)\n",
    "            anndata.write(filename=filename, compression=None)\n",
    "            anndata_fnames.append(filename)\n",
    "        except:\n",
    "            anndata_fnames_failed.append(my_dir)"
   ]
  }
 ],
 "metadata": {
  "environment": {
   "kernel": "python3",
   "name": "common-cu113.m84",
   "type": "gcloud",
   "uri": "gcr.io/deeplearning-platform-release/base-cu113:m84"
  },
  "kernelspec": {
   "display_name": "Python 3",
   "language": "python",
   "name": "python3"
  },
  "language_info": {
   "codemirror_mode": {
    "name": "ipython",
    "version": 3
   },
   "file_extension": ".py",
   "mimetype": "text/x-python",
   "name": "python",
   "nbconvert_exporter": "python",
   "pygments_lexer": "ipython3",
   "version": "3.8.8"
  }
 },
 "nbformat": 4,
 "nbformat_minor": 5
}
