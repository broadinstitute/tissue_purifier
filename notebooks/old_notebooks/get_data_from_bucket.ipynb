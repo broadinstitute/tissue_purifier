{
 "cells": [
  {
   "cell_type": "code",
   "execution_count": 1,
   "id": "centered-chemistry",
   "metadata": {},
   "outputs": [],
   "source": [
    "from google.cloud import storage"
   ]
  },
  {
   "cell_type": "markdown",
   "id": "finnish-antenna",
   "metadata": {},
   "source": [
    "The `storage.Client` object uses your default project. Alternatively, you can specify a project in the `Client` constructor. For more information about how the default project is determined, see the [google-auth documentation](https://google-auth.readthedocs.io/en/latest/reference/google.auth.html).\n",
    "\n",
    "Run the following to create a client with your default project:"
   ]
  },
  {
   "cell_type": "code",
   "execution_count": 2,
   "id": "liked-triumph",
   "metadata": {},
   "outputs": [
    {
     "name": "stdout",
     "output_type": "stream",
     "text": [
      "Client created using default project: broad-dsde\n"
     ]
    }
   ],
   "source": [
    "client = storage.Client()\n",
    "print(\"Client created using default project: {}\".format(client.project))"
   ]
  },
  {
   "cell_type": "markdown",
   "id": "typical-magazine",
   "metadata": {},
   "source": [
    "To explicitly specify a project when constructing the client, set the `project` parameter:"
   ]
  },
  {
   "cell_type": "markdown",
   "id": "encouraging-delicious",
   "metadata": {},
   "source": [
    "Finally, create a bucket with a globally unique name.\n",
    "\n",
    "For more information about naming buckets, see [Bucket name requirements](https://cloud.google.com/storage/docs/naming#requirements)."
   ]
  },
  {
   "cell_type": "markdown",
   "id": "surgical-flooring",
   "metadata": {},
   "source": [
    "## List buckets in a project"
   ]
  },
  {
   "cell_type": "code",
   "execution_count": 3,
   "id": "prospective-fluid",
   "metadata": {},
   "outputs": [
    {
     "name": "stdout",
     "output_type": "stream",
     "text": [
      "Buckets in broad-dsde:\n",
      "\tbradt-dsde\n",
      "\tbroad-dsde-usage-export\n",
      "\tdataproc-891181e4-6b0c-4a76-a75f-89af22a22c02-asia-northeast1\n",
      "\tfc-cd00bfe9-9108-4eca-a39c-8403a620143z\n",
      "\tfg-slide-seq\n",
      "\tjgs_really_cool_stuff\n",
      "\tsfrazer\n"
     ]
    }
   ],
   "source": [
    "buckets = client.list_buckets()\n",
    "\n",
    "print(\"Buckets in {}:\".format(client.project))\n",
    "for item in buckets:\n",
    "    print(\"\\t\" + item.name)"
   ]
  },
  {
   "cell_type": "markdown",
   "id": "arctic-terrain",
   "metadata": {},
   "source": [
    "## Get bucket metadata\n",
    "\n",
    "The next cell shows how to get information on metadata of your Cloud Storage buckets.\n",
    "\n",
    "To learn more about specific bucket properties, see [Bucket locations](https://cloud.google.com/storage/docs/locations) and [Storage classes](https://cloud.google.com/storage/docs/storage-classes)."
   ]
  },
  {
   "cell_type": "code",
   "execution_count": 5,
   "id": "determined-ethernet",
   "metadata": {},
   "outputs": [
    {
     "name": "stdout",
     "output_type": "stream",
     "text": [
      "Bucket name: fg-slide-seq\n",
      "Bucket location: US\n",
      "Bucket storage class: STANDARD\n"
     ]
    }
   ],
   "source": [
    "bucket = client.get_bucket(\"fg-slide-seq\")\n",
    "\n",
    "print(\"Bucket name: {}\".format(bucket.name))\n",
    "print(\"Bucket location: {}\".format(bucket.location))\n",
    "print(\"Bucket storage class: {}\".format(bucket.storage_class))"
   ]
  },
  {
   "cell_type": "markdown",
   "id": "surrounded-weekend",
   "metadata": {},
   "source": [
    "## Upload a local file to a bucket\n",
    "\n",
    "Objects are the individual pieces of data that you store in Cloud Storage. Objects are referred to as \"blobs\" in the Python client library. There is no limit on the number of objects that you can create in a bucket.\n",
    "\n",
    "An object's name is treated as a piece of object metadata in Cloud Storage. Object names can contain any combination of Unicode characters (UTF-8 encoded) and must be less than 1024 bytes in length.\n",
    "\n",
    "For more information, including how to rename an object, see the [Object name requirements](https://cloud.google.com/storage/docs/naming#objectnames)."
   ]
  },
  {
   "cell_type": "markdown",
   "id": "needed-constitution",
   "metadata": {},
   "source": [
    "## List blobs in a bucket"
   ]
  },
  {
   "cell_type": "code",
   "execution_count": 6,
   "id": "formed-islam",
   "metadata": {
    "scrolled": true
   },
   "outputs": [
    {
     "name": "stdout",
     "output_type": "stream",
     "text": [
      "Blobs in fg-slide-seq:\n",
      "\tcredentials.json\n",
      "\tcredentials.txt\n",
      "\tdata/\n",
      "\tdata/other_data/test.tar.gz\n",
      "\tdata/other_data/train.tar.gz\n",
      "\tdata/sigma5_ps7/test.tar.gz\n",
      "\tdata/sigma5_ps7/train.tar.gz\n",
      "\tdata/sigma_3/\n",
      "\tdata/sigma_3/diseased/image_sick_1.npy\n",
      "\tdata/sigma_3/diseased/image_sick_2.npy\n",
      "\tdata/sigma_3/diseased/image_sick_3.npy\n",
      "\tdata/sigma_3/healthy/image_wt_1.npy\n",
      "\tdata/sigma_3/healthy/image_wt_2.npy\n",
      "\tdata/sigma_3/healthy/image_wt_3.npy\n",
      "\tdata/sigma_3_train_test/\n",
      "\tdata/sigma_3_train_test/test.tar.gz\n",
      "\tdata/sigma_3_train_test/test_2.tar.gz\n",
      "\tdata/sigma_3_train_test/train.tar.gz\n",
      "\tdata/sigma_3_train_test/train_2.tar.gz\n",
      "\tdata/sigma_7_train_test/test.tar.gz\n",
      "\tdata/sigma_7_train_test/train.tar.gz\n",
      "\tdata/train_test_dropout_sigma7/test.tar.gz\n",
      "\tdata/train_test_dropout_sigma7/train.tar.gz\n",
      "\tinput_jsons/ml_1ZLzSaQyL7yCZNUkFscR9GDZNQSI6TI7.json\n",
      "\tinput_jsons/ml_3jgzqF7b7OPHVR6ScFx6hOFjXDMUu0gS.json\n",
      "\tinput_jsons/ml_3xU0YCytfbYd3sPirEDKxtVlPAkQAlSQ.json\n",
      "\tinput_jsons/ml_4OBKWzQz7VFPI7KiA6RR9j9lTj9nYv93.json\n",
      "\tinput_jsons/ml_5Gs0BlEqI8lYowch8aictiMHjsWZy9XT.json\n",
      "\tinput_jsons/ml_6dYACRAorVvGf7vphEFj69YfkgHAyOoY.json\n",
      "\tinput_jsons/ml_8uK0iWT7RMbolSZownRFMQXhD6BrZxk2.json\n",
      "\tinput_jsons/ml_93uPiNzazo2HNzEj5FwJLl2bG0jdyrRq.json\n",
      "\tinput_jsons/ml_A2Z7NhRg10JtXDV4vobKVXyEjAZz3Wd5.json\n",
      "\tinput_jsons/ml_B4JxQgr0LivxRpQzrMt9HJ5upIEqkTAP.json\n",
      "\tinput_jsons/ml_CKFlA0dtxiDICkXJVX0QZjQ4R7tlxX2W.json\n",
      "\tinput_jsons/ml_FXfcXxgfOqBTgLzkyJ4pQB0PmgIBaUrK.json\n",
      "\tinput_jsons/ml_G0HyAJe8H9Pvw90gmJ8KZNWYzEJ9FRS1.json\n",
      "\tinput_jsons/ml_GEZwiX8xKfykQaEJG3QlaeUuBY5tLqDP.json\n",
      "\tinput_jsons/ml_Gipnrq3QHeaz5qxF66C2HGED3XarBWM7.json\n",
      "\tinput_jsons/ml_HY7EGgQV4PoRuBYJaA21kUjmf8OdHvaJ.json\n",
      "\tinput_jsons/ml_JeNW7ah5dpmXBp7cgm81FfpW9XBtBPq3.json\n",
      "\tinput_jsons/ml_MKzB1G1jkWlyjIAda7Efk17LjyRXJR2w.json\n",
      "\tinput_jsons/ml_MNi05p7pPxaVk0DglrSMpSZAxZZQ74qD.json\n",
      "\tinput_jsons/ml_QT2wP7W8jQmoybxLg4IXl0nSUX5uB0fX.json\n",
      "\tinput_jsons/ml_QWgeTV2UkvrD6oEyB8nn7rEgB3hDabdo.json\n",
      "\tinput_jsons/ml_SuZvSihiWBhV4RivHnyKAeTRMgUR7teH.json\n",
      "\tinput_jsons/ml_VIDDos8dM4MiOT1vBRZ8EJZEVIAwjRKZ.json\n",
      "\tinput_jsons/ml_YqlJIYPg5LrRLJAaRTpoLmFFZHOImopD.json\n",
      "\tinput_jsons/ml_ZiUPyB7YFdys2lK38qKuCe7ClR4B2m4V.json\n",
      "\tinput_jsons/ml_aaSn1fW1OQCvEumYyaCqGZay2N5Aawvi.json\n",
      "\tinput_jsons/ml_bC1oOtQZC6I9vUXFio14IuiSr282jCRC.json\n",
      "\tinput_jsons/ml_bj0GCuXzZAs2NGcdDUGbiVndi8lm43Pi.json\n",
      "\tinput_jsons/ml_blbKPqxHWgLM8E74IM4il1vgkO0kcRzR.json\n",
      "\tinput_jsons/ml_c1Kdysi5llkdrSkQRdnpFdgescZ28Ttc.json\n",
      "\tinput_jsons/ml_c4bMHfkYkrA0y4XXUPrJy5jDjrfrUEdW.json\n",
      "\tinput_jsons/ml_e24Cs0dIv5lnYulBfssFhc2NPhaxp4jg.json\n",
      "\tinput_jsons/ml_e2sjHwBbjjwg6Y2EPeyVwVInGSO9Xvvm.json\n",
      "\tinput_jsons/ml_ee2j52loubedSlGlQFsdwkkQyTh2a9jr.json\n",
      "\tinput_jsons/ml_fBkUlZQpesU0pxFPzGsbAQvVdTDiei1S.json\n",
      "\tinput_jsons/ml_fH9Zp4w0DvvMrgtbuppNfJWpoiXn2TRt.json\n",
      "\tinput_jsons/ml_gE4eZl0VhT1bC8RSP05OB2ypH5dMmF8K.json\n",
      "\tinput_jsons/ml_hCTceqcuaiYqyzuv4WyZxdEEzHvERbGL.json\n",
      "\tinput_jsons/ml_idpaCRTyLe384vAuw94hULEAVhCxGX8z.json\n",
      "\tinput_jsons/ml_jm9eBCd6TUYK8KoK4PMoxEOMHTydBNPk.json\n",
      "\tinput_jsons/ml_jnY9vSCt5dzRmIb14Xl1FphYZzSX0Sgg.json\n",
      "\tinput_jsons/ml_nSTYDZjc21RoTQHS2T5035nPlIKs1YSn.json\n",
      "\tinput_jsons/ml_nSwLxprZuav7OEEFG3qyLxVuCmlpWiIM.json\n",
      "\tinput_jsons/ml_oamYZPNiVqTD7tT7H1jK6LywaVUYuuNf.json\n",
      "\tinput_jsons/ml_ofhJZP3YAguwm3AogVeDcavTYsErHnl9.json\n",
      "\tinput_jsons/ml_pKwkKAc3cqqPAyM6qoat5JV0f1itVFnO.json\n",
      "\tinput_jsons/ml_tS5FydraAYJs4IdYPtbNH3NigvNYExKd.json\n",
      "\tinput_jsons/ml_vt23AluUYAiQaDNVgnqmG6fQIZ3h4jlz.json\n",
      "\tinput_jsons/ml_z5S94cfexhSHD2Liop9uikgTfkpZH8OQ.json\n",
      "\tinput_jsons/ml_zALSBOTjAIw0EN0giOuNX0HeTLkBsg4z.json\n",
      "\tml_ryOYwhUpwSh2mDyRHtU0cwT39roURhO7.json\n"
     ]
    }
   ],
   "source": [
    "blobs = bucket.list_blobs()\n",
    "\n",
    "print(\"Blobs in {}:\".format(bucket.name))\n",
    "for item in blobs:\n",
    "    print(\"\\t\" + item.name)"
   ]
  },
  {
   "cell_type": "markdown",
   "id": "discrete-actress",
   "metadata": {},
   "source": [
    "## Get a blob and display metadata\n",
    "\n",
    "See [documentation](https://cloud.google.com/storage/docs/viewing-editing-metadata) for more information about object metadata."
   ]
  },
  {
   "cell_type": "code",
   "execution_count": 6,
   "id": "auburn-activity",
   "metadata": {},
   "outputs": [],
   "source": [
    "test_blob = bucket.get_blob(\"data/train_test_dropout_sigma7_2/test.tar.gz\")\n",
    "train_blob = bucket.get_blob(\"data/train_test_dropout_sigma7_2/train.tar.gz\")\n",
    "# print(\"Name: {}\".format(blob.id))\n",
    "# print(\"Size: {} bytes\".format(blob.size))\n",
    "# print(\"Content type: {}\".format(blob.content_type))\n",
    "# print(\"Public URL: {}\".format(blob.public_url))"
   ]
  },
  {
   "cell_type": "markdown",
   "id": "limiting-rogers",
   "metadata": {},
   "source": [
    "## Download a blob to a local directory"
   ]
  },
  {
   "cell_type": "code",
   "execution_count": 8,
   "id": "external-gasoline",
   "metadata": {
    "scrolled": true
   },
   "outputs": [],
   "source": [
    "test_output_file_name = \"/home/jupyter/data/slide-seq/dropout_sigma7_2/test.tar.gz\"\n",
    "train_output_file_name = \"/home/jupyter/data/slide-seq/dropout_sigma7_2/train.tar.gz\"\n",
    "test_blob.download_to_filename(test_output_file_name)\n",
    "train_blob.download_to_filename(train_output_file_name)\n",
    "# print(\"Downloaded blob {} to {}.\".format(blob.name, output_file_name))"
   ]
  },
  {
   "cell_type": "markdown",
   "id": "postal-ethiopia",
   "metadata": {},
   "source": [
    "## Cleaning up"
   ]
  },
  {
   "cell_type": "markdown",
   "id": "prescription-bulletin",
   "metadata": {},
   "source": [
    "### Delete a blob"
   ]
  },
  {
   "cell_type": "code",
   "execution_count": null,
   "id": "abstract-cuisine",
   "metadata": {},
   "outputs": [],
   "source": [
    "blob = client.get_bucket(bucket_name).get_blob(blob_name)\n",
    "blob.delete()\n",
    "\n",
    "print(\"Blob {} deleted.\".format(blob.name))"
   ]
  },
  {
   "cell_type": "markdown",
   "id": "chinese-swing",
   "metadata": {},
   "source": [
    "### Delete a bucket\n",
    "\n",
    "Note that the bucket must be empty before it can be deleted."
   ]
  },
  {
   "cell_type": "code",
   "execution_count": null,
   "id": "higher-visiting",
   "metadata": {},
   "outputs": [],
   "source": [
    "bucket = client.get_bucket(bucket_name)\n",
    "bucket.delete()\n",
    "\n",
    "print(\"Bucket {} deleted.\".format(bucket.name))"
   ]
  },
  {
   "cell_type": "markdown",
   "id": "electric-treatment",
   "metadata": {},
   "source": [
    "## Next Steps\n",
    "\n",
    "Read more about Cloud Storage in the documentation:\n",
    "+ [Storage key terms](https://cloud.google.com/storage/docs/key-terms)\n",
    "+ [How-to guides](https://cloud.google.com/storage/docs/how-to)\n",
    "+ [Pricing](https://cloud.google.com/storage/pricing)"
   ]
  }
 ],
 "metadata": {
  "environment": {
   "name": "pytorch-gpu.1-7.m65",
   "type": "gcloud",
   "uri": "gcr.io/deeplearning-platform-release/pytorch-gpu.1-7:m65"
  },
  "kernelspec": {
   "display_name": "Python 3",
   "language": "python",
   "name": "python3"
  },
  "language_info": {
   "codemirror_mode": {
    "name": "ipython",
    "version": 3
   },
   "file_extension": ".py",
   "mimetype": "text/x-python",
   "name": "python",
   "nbconvert_exporter": "python",
   "pygments_lexer": "ipython3",
   "version": "3.7.10"
  }
 },
 "nbformat": 4,
 "nbformat_minor": 5
}
