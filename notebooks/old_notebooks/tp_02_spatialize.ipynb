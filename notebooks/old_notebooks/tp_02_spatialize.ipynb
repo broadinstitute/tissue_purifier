{
 "cells": [
  {
   "cell_type": "markdown",
   "id": "protecting-refrigerator",
   "metadata": {},
   "source": [
    "# Spatialize"
   ]
  },
  {
   "cell_type": "markdown",
   "id": "agricultural-screw",
   "metadata": {},
   "source": [
    "### Add the src folder to the path"
   ]
  },
  {
   "cell_type": "code",
   "execution_count": null,
   "id": "stable-region",
   "metadata": {},
   "outputs": [],
   "source": [
    "#! yes | pip3 install -U umap-learn"
   ]
  },
  {
   "cell_type": "code",
   "execution_count": null,
   "id": "numerical-absence",
   "metadata": {},
   "outputs": [],
   "source": [
    "#!pip install scikit-learn"
   ]
  },
  {
   "cell_type": "code",
   "execution_count": null,
   "id": "female-cannon",
   "metadata": {},
   "outputs": [],
   "source": [
    "#! pip uninstall h2o4gpu"
   ]
  },
  {
   "cell_type": "code",
   "execution_count": 1,
   "id": "desperate-palestinian",
   "metadata": {},
   "outputs": [],
   "source": [
    "import sys\n",
    "import os\n",
    "\n",
    "root_path = os.path.dirname(os.getcwd())\n",
    "src_path = os.path.join(root_path, \"src\")\n",
    "sys.path.insert(0, src_path)"
   ]
  },
  {
   "cell_type": "code",
   "execution_count": 2,
   "id": "occupied-paris",
   "metadata": {},
   "outputs": [],
   "source": [
    "%load_ext autoreload\n",
    "%autoreload 2"
   ]
  },
  {
   "cell_type": "markdown",
   "id": "romantic-probability",
   "metadata": {},
   "source": [
    "## Common imports"
   ]
  },
  {
   "cell_type": "code",
   "execution_count": 3,
   "id": "coated-lease",
   "metadata": {},
   "outputs": [],
   "source": [
    "%matplotlib inline\n",
    "from matplotlib import pyplot as plt\n",
    "import torch\n",
    "import numpy\n",
    "from tissue_purifier.plot_utils.plot_results import plot_all_maps, plot_embeddings\n",
    "from tissue_purifier.misc_utils.misc import get_z_score"
   ]
  },
  {
   "cell_type": "markdown",
   "id": "julian-booking",
   "metadata": {},
   "source": [
    "# Make a spatialize"
   ]
  },
  {
   "cell_type": "code",
   "execution_count": 4,
   "id": "imperial-speaker",
   "metadata": {},
   "outputs": [
    {
     "name": "stdout",
     "output_type": "stream",
     "text": [
      "-----> running datamodule init\n"
     ]
    }
   ],
   "source": [
    "from tissue_purifier.data_utils.datamodule import SlideSeqTestisDM\n",
    "from tissue_purifier.model_utils.dino import DinoModel\n",
    "\n",
    "config_dict_default_dm = SlideSeqTestisDM.get_default_params()\n",
    "dm = SlideSeqTestisDM(**config_dict_default_dm)\n",
    "\n",
    "#config_dict_default_dino = DinoModel.get_default_params()\n",
    "#dino = DinoModel.load_from_checkpoint(checkpoint_path=ckpt_file)"
   ]
  },
  {
   "cell_type": "code",
   "execution_count": 5,
   "id": "spatial-crazy",
   "metadata": {},
   "outputs": [
    {
     "name": "stdout",
     "output_type": "stream",
     "text": [
      "-----> running datamodule prepare_data\n",
      "number of elements ---> 31659\n",
      "The dense shape of the image is -> torch.Size([9, 1168, 1168])\n",
      "number of elements ---> 33059\n",
      "The dense shape of the image is -> torch.Size([9, 1170, 845])\n",
      "number of elements ---> 39206\n",
      "The dense shape of the image is -> torch.Size([9, 1169, 1170])\n",
      "number of elements ---> 27194\n",
      "The dense shape of the image is -> torch.Size([9, 1166, 1170])\n",
      "number of elements ---> 42776\n",
      "The dense shape of the image is -> torch.Size([9, 1170, 1170])\n",
      "number of elements ---> 33441\n",
      "The dense shape of the image is -> torch.Size([9, 1154, 1155])\n"
     ]
    }
   ],
   "source": [
    "dm.prepare_data()"
   ]
  },
  {
   "cell_type": "code",
   "execution_count": 6,
   "id": "broke-butterfly",
   "metadata": {},
   "outputs": [],
   "source": [
    "dm.setup(stage=None)"
   ]
  },
  {
   "cell_type": "code",
   "execution_count": 7,
   "id": "parental-decade",
   "metadata": {},
   "outputs": [],
   "source": [
    "train_loader = dm.train_dataloader()\n",
    "sparse_images = train_loader.dataset.imgs"
   ]
  },
  {
   "cell_type": "code",
   "execution_count": 8,
   "id": "tribal-typing",
   "metadata": {},
   "outputs": [],
   "source": [
    "sp_img = sparse_images[0]"
   ]
  },
  {
   "cell_type": "code",
   "execution_count": 9,
   "id": "liquid-shelf",
   "metadata": {},
   "outputs": [
    {
     "data": {
      "text/plain": [
       "{'x_name': 'x',\n",
       " 'y_name': 'y',\n",
       " 'classifier_classes_': None,\n",
       " 'classifier_counts_': None,\n",
       " 'original_data':        Unnamed: 0         barcode            x            y   cell_type\n",
       " 0               0  ACCTTTTTTTTTTT  2911.083333  3180.472222          ES\n",
       " 1               1  CGGGATTTTTTTTT  3037.054795  4285.363014          RS\n",
       " 2               2  CATTCATTTTTTTT  1664.345238  3552.726190         SPC\n",
       " 3               3  GGCTACTTTTTTTT  4048.823204  2583.165746       Myoid\n",
       " 4               4  CTTGATGTTTTTTT  3072.972222  2726.277778         SPC\n",
       " ...           ...             ...          ...          ...         ...\n",
       " 31654       31654  GTAGAAAAAAAAAA  3848.592593  2712.548148  Macrophage\n",
       " 31655       31655  GGACAAAAGAAACA  3752.410959  2630.520548          ES\n",
       " 31656       31656  CGCAGTTTCAAAAC  1795.675325  1678.961039         SPC\n",
       " 31657       31657  GCGCTCAAAAAACA  4204.135135  3657.770270         SPC\n",
       " 31658       31658  AAACAAAAAAAAAA  4145.626761  3055.626761     Sertoli\n",
       " \n",
       " [31659 rows x 5 columns],\n",
       " 'code_to_cat': OrderedDict([(0, 'ES'),\n",
       "              (1, 'Endothelial'),\n",
       "              (2, 'Leydig'),\n",
       "              (3, 'Macrophage'),\n",
       "              (4, 'Myoid'),\n",
       "              (5, 'RS'),\n",
       "              (6, 'SPC'),\n",
       "              (7, 'SPG'),\n",
       "              (8, 'Sertoli')]),\n",
       " 'pixel_size': 4.0,\n",
       " 'origin': (772.4623413085938, 768.6500244140625),\n",
       " 'data': tensor(indices=tensor([[   0,    0,    0,  ...,    8,    8,    8],\n",
       "                        [  10,   17,   17,  ..., 1137, 1140, 1154],\n",
       "                        [ 629,  634,  649,  ...,  690,  454,  565]]),\n",
       "        values=tensor([1, 1, 1,  ..., 1, 1, 1]),\n",
       "        device='cuda:0', size=(9, 1168, 1168), nnz=31654, dtype=torch.int32,\n",
       "        layout=torch.sparse_coo)}"
      ]
     },
     "execution_count": 9,
     "metadata": {},
     "output_type": "execute_result"
    }
   ],
   "source": [
    "vars(sp_img)"
   ]
  },
  {
   "cell_type": "code",
   "execution_count": null,
   "id": "mathematical-still",
   "metadata": {},
   "outputs": [],
   "source": []
  },
  {
   "cell_type": "code",
   "execution_count": 10,
   "id": "compliant-billion",
   "metadata": {},
   "outputs": [],
   "source": [
    "mask_file = 'classifier_spatialize.pt'\n",
    "classifier_classes_, classifier_counts_ = torch.load(mask_file, map_location=torch.device('cpu'))\n",
    "sp_img.classifier_classes_ = classifier_classes_\n",
    "sp_img.classifier_counts_ = classifier_counts_"
   ]
  },
  {
   "cell_type": "code",
   "execution_count": 11,
   "id": "antique-essex",
   "metadata": {},
   "outputs": [
    {
     "data": {
      "text/plain": [
       "torch.Size([9, 1168, 1168])"
      ]
     },
     "execution_count": 11,
     "metadata": {},
     "output_type": "execute_result"
    }
   ],
   "source": [
    "sp_img.shape"
   ]
  },
  {
   "cell_type": "code",
   "execution_count": 14,
   "id": "prepared-calvin",
   "metadata": {},
   "outputs": [
    {
     "ename": "AttributeError",
     "evalue": "'SparseImage' object has no attribute 'classifier_probs_'",
     "output_type": "error",
     "traceback": [
      "\u001b[0;31m---------------------------------------------------------------------------\u001b[0m",
      "\u001b[0;31mAttributeError\u001b[0m                            Traceback (most recent call last)",
      "\u001b[0;32m<ipython-input-14-490503af1a01>\u001b[0m in \u001b[0;36m<module>\u001b[0;34m\u001b[0m\n\u001b[0;32m----> 1\u001b[0;31m \u001b[0msp_img\u001b[0m\u001b[0;34m.\u001b[0m\u001b[0mclassifier_probs_\u001b[0m\u001b[0;34m.\u001b[0m\u001b[0mshape\u001b[0m\u001b[0;34m\u001b[0m\u001b[0;34m\u001b[0m\u001b[0m\n\u001b[0m",
      "\u001b[0;31mAttributeError\u001b[0m: 'SparseImage' object has no attribute 'classifier_probs_'"
     ]
    }
   ],
   "source": [
    "sp_img.classifier_probs_.shape"
   ]
  },
  {
   "cell_type": "code",
   "execution_count": 15,
   "id": "veterinary-binary",
   "metadata": {},
   "outputs": [
    {
     "name": "stdout",
     "output_type": "stream",
     "text": [
      "After interpolation (5, 31659)\n"
     ]
    }
   ],
   "source": [
    "sp_img.add_probs_to_original_data()"
   ]
  },
  {
   "cell_type": "code",
   "execution_count": 16,
   "id": "bulgarian-story",
   "metadata": {},
   "outputs": [
    {
     "data": {
      "text/plain": [
       "{'x_name': 'x',\n",
       " 'y_name': 'y',\n",
       " 'classifier_classes_': array([0, 1, 2, 3, 4]),\n",
       " 'classifier_counts_': tensor([[[0., 0., 0.,  ..., 0., 0., 0.],\n",
       "          [0., 0., 0.,  ..., 0., 0., 0.],\n",
       "          [0., 0., 0.,  ..., 0., 0., 0.],\n",
       "          ...,\n",
       "          [0., 0., 0.,  ..., 0., 0., 0.],\n",
       "          [0., 0., 0.,  ..., 0., 0., 0.],\n",
       "          [0., 0., 0.,  ..., 0., 0., 0.]],\n",
       " \n",
       "         [[0., 0., 0.,  ..., 0., 0., 0.],\n",
       "          [0., 0., 0.,  ..., 0., 0., 0.],\n",
       "          [0., 0., 0.,  ..., 0., 0., 0.],\n",
       "          ...,\n",
       "          [0., 0., 0.,  ..., 0., 0., 0.],\n",
       "          [0., 0., 0.,  ..., 0., 0., 0.],\n",
       "          [0., 0., 0.,  ..., 0., 0., 0.]],\n",
       " \n",
       "         [[0., 0., 0.,  ..., 0., 0., 0.],\n",
       "          [0., 0., 0.,  ..., 0., 0., 0.],\n",
       "          [0., 0., 0.,  ..., 0., 0., 0.],\n",
       "          ...,\n",
       "          [0., 0., 0.,  ..., 0., 0., 0.],\n",
       "          [0., 0., 0.,  ..., 0., 0., 0.],\n",
       "          [0., 0., 0.,  ..., 0., 0., 0.]],\n",
       " \n",
       "         [[0., 0., 0.,  ..., 0., 0., 0.],\n",
       "          [0., 0., 0.,  ..., 0., 0., 0.],\n",
       "          [0., 0., 0.,  ..., 0., 0., 0.],\n",
       "          ...,\n",
       "          [0., 0., 0.,  ..., 0., 0., 0.],\n",
       "          [0., 0., 0.,  ..., 0., 0., 0.],\n",
       "          [0., 0., 0.,  ..., 0., 0., 0.]],\n",
       " \n",
       "         [[0., 0., 0.,  ..., 0., 0., 0.],\n",
       "          [0., 0., 0.,  ..., 0., 0., 0.],\n",
       "          [0., 0., 0.,  ..., 0., 0., 0.],\n",
       "          ...,\n",
       "          [0., 0., 0.,  ..., 0., 0., 0.],\n",
       "          [0., 0., 0.,  ..., 0., 0., 0.],\n",
       "          [0., 0., 0.,  ..., 0., 0., 0.]]]),\n",
       " 'original_data':        Unnamed: 0         barcode            x            y   cell_type  \\\n",
       " 0               0  ACCTTTTTTTTTTT  2911.083333  3180.472222          ES   \n",
       " 1               1  CGGGATTTTTTTTT  3037.054795  4285.363014          RS   \n",
       " 2               2  CATTCATTTTTTTT  1664.345238  3552.726190         SPC   \n",
       " 3               3  GGCTACTTTTTTTT  4048.823204  2583.165746       Myoid   \n",
       " 4               4  CTTGATGTTTTTTT  3072.972222  2726.277778         SPC   \n",
       " ...           ...             ...          ...          ...         ...   \n",
       " 31654       31654  GTAGAAAAAAAAAA  3848.592593  2712.548148  Macrophage   \n",
       " 31655       31655  GGACAAAAGAAACA  3752.410959  2630.520548          ES   \n",
       " 31656       31656  CGCAGTTTCAAAAC  1795.675325  1678.961039         SPC   \n",
       " 31657       31657  GCGCTCAAAAAACA  4204.135135  3657.770270         SPC   \n",
       " 31658       31658  AAACAAAAAAAAAA  4145.626761  3055.626761     Sertoli   \n",
       " \n",
       "        classifier_probs_0  classifier_probs_1  classifier_probs_2  \\\n",
       " 0                0.160956            0.820489            0.001479   \n",
       " 1                0.257043            0.713814            0.000365   \n",
       " 2                0.105627            0.894228            0.000101   \n",
       " 3                0.234709            0.728571            0.000080   \n",
       " 4                0.059922            0.926853            0.000774   \n",
       " ...                   ...                 ...                 ...   \n",
       " 31654            0.251077            0.703105            0.000122   \n",
       " 31655            0.204907            0.764899            0.000119   \n",
       " 31656            0.237040            0.762841            0.000030   \n",
       " 31657            0.321699            0.633275            0.000428   \n",
       " 31658            0.368319            0.571456            0.000080   \n",
       " \n",
       "        classifier_probs_3  classifier_probs_4  \n",
       " 0                0.016908            0.000168  \n",
       " 1                0.028612            0.000166  \n",
       " 2                0.000021            0.000023  \n",
       " 3                0.036501            0.000139  \n",
       " 4                0.012286            0.000165  \n",
       " ...                   ...                 ...  \n",
       " 31654            0.045517            0.000179  \n",
       " 31655            0.029900            0.000176  \n",
       " 31656            0.000039            0.000051  \n",
       " 31657            0.044160            0.000438  \n",
       " 31658            0.059928            0.000217  \n",
       " \n",
       " [31659 rows x 10 columns],\n",
       " 'code_to_cat': OrderedDict([(0, 'ES'),\n",
       "              (1, 'Endothelial'),\n",
       "              (2, 'Leydig'),\n",
       "              (3, 'Macrophage'),\n",
       "              (4, 'Myoid'),\n",
       "              (5, 'RS'),\n",
       "              (6, 'SPC'),\n",
       "              (7, 'SPG'),\n",
       "              (8, 'Sertoli')]),\n",
       " 'pixel_size': 4.0,\n",
       " 'origin': (772.4623413085938, 768.6500244140625),\n",
       " 'data': tensor(indices=tensor([[   0,    0,    0,  ...,    8,    8,    8],\n",
       "                        [  10,   17,   17,  ..., 1137, 1140, 1154],\n",
       "                        [ 629,  634,  649,  ...,  690,  454,  565]]),\n",
       "        values=tensor([1, 1, 1,  ..., 1, 1, 1]),\n",
       "        size=(9, 1168, 1168), nnz=31654, dtype=torch.int32,\n",
       "        layout=torch.sparse_coo)}"
      ]
     },
     "execution_count": 16,
     "metadata": {},
     "output_type": "execute_result"
    }
   ],
   "source": [
    "vars(sp_img)"
   ]
  },
  {
   "cell_type": "code",
   "execution_count": 17,
   "id": "hollywood-topic",
   "metadata": {},
   "outputs": [],
   "source": [
    "df = sp_img.export_original_data()"
   ]
  },
  {
   "cell_type": "code",
   "execution_count": 18,
   "id": "valid-participant",
   "metadata": {},
   "outputs": [
    {
     "data": {
      "text/html": [
       "<div>\n",
       "<style scoped>\n",
       "    .dataframe tbody tr th:only-of-type {\n",
       "        vertical-align: middle;\n",
       "    }\n",
       "\n",
       "    .dataframe tbody tr th {\n",
       "        vertical-align: top;\n",
       "    }\n",
       "\n",
       "    .dataframe thead th {\n",
       "        text-align: right;\n",
       "    }\n",
       "</style>\n",
       "<table border=\"1\" class=\"dataframe\">\n",
       "  <thead>\n",
       "    <tr style=\"text-align: right;\">\n",
       "      <th></th>\n",
       "      <th>Unnamed: 0</th>\n",
       "      <th>barcode</th>\n",
       "      <th>x</th>\n",
       "      <th>y</th>\n",
       "      <th>cell_type</th>\n",
       "      <th>classifier_probs_0</th>\n",
       "      <th>classifier_probs_1</th>\n",
       "      <th>classifier_probs_2</th>\n",
       "      <th>classifier_probs_3</th>\n",
       "      <th>classifier_probs_4</th>\n",
       "    </tr>\n",
       "  </thead>\n",
       "  <tbody>\n",
       "    <tr>\n",
       "      <th>0</th>\n",
       "      <td>0</td>\n",
       "      <td>ACCTTTTTTTTTTT</td>\n",
       "      <td>2911.083333</td>\n",
       "      <td>3180.472222</td>\n",
       "      <td>ES</td>\n",
       "      <td>0.160956</td>\n",
       "      <td>0.820489</td>\n",
       "      <td>0.001479</td>\n",
       "      <td>0.016908</td>\n",
       "      <td>0.000168</td>\n",
       "    </tr>\n",
       "    <tr>\n",
       "      <th>1</th>\n",
       "      <td>1</td>\n",
       "      <td>CGGGATTTTTTTTT</td>\n",
       "      <td>3037.054795</td>\n",
       "      <td>4285.363014</td>\n",
       "      <td>RS</td>\n",
       "      <td>0.257043</td>\n",
       "      <td>0.713814</td>\n",
       "      <td>0.000365</td>\n",
       "      <td>0.028612</td>\n",
       "      <td>0.000166</td>\n",
       "    </tr>\n",
       "    <tr>\n",
       "      <th>2</th>\n",
       "      <td>2</td>\n",
       "      <td>CATTCATTTTTTTT</td>\n",
       "      <td>1664.345238</td>\n",
       "      <td>3552.726190</td>\n",
       "      <td>SPC</td>\n",
       "      <td>0.105627</td>\n",
       "      <td>0.894228</td>\n",
       "      <td>0.000101</td>\n",
       "      <td>0.000021</td>\n",
       "      <td>0.000023</td>\n",
       "    </tr>\n",
       "    <tr>\n",
       "      <th>3</th>\n",
       "      <td>3</td>\n",
       "      <td>GGCTACTTTTTTTT</td>\n",
       "      <td>4048.823204</td>\n",
       "      <td>2583.165746</td>\n",
       "      <td>Myoid</td>\n",
       "      <td>0.234709</td>\n",
       "      <td>0.728571</td>\n",
       "      <td>0.000080</td>\n",
       "      <td>0.036501</td>\n",
       "      <td>0.000139</td>\n",
       "    </tr>\n",
       "    <tr>\n",
       "      <th>4</th>\n",
       "      <td>4</td>\n",
       "      <td>CTTGATGTTTTTTT</td>\n",
       "      <td>3072.972222</td>\n",
       "      <td>2726.277778</td>\n",
       "      <td>SPC</td>\n",
       "      <td>0.059922</td>\n",
       "      <td>0.926853</td>\n",
       "      <td>0.000774</td>\n",
       "      <td>0.012286</td>\n",
       "      <td>0.000165</td>\n",
       "    </tr>\n",
       "    <tr>\n",
       "      <th>...</th>\n",
       "      <td>...</td>\n",
       "      <td>...</td>\n",
       "      <td>...</td>\n",
       "      <td>...</td>\n",
       "      <td>...</td>\n",
       "      <td>...</td>\n",
       "      <td>...</td>\n",
       "      <td>...</td>\n",
       "      <td>...</td>\n",
       "      <td>...</td>\n",
       "    </tr>\n",
       "    <tr>\n",
       "      <th>31654</th>\n",
       "      <td>31654</td>\n",
       "      <td>GTAGAAAAAAAAAA</td>\n",
       "      <td>3848.592593</td>\n",
       "      <td>2712.548148</td>\n",
       "      <td>Macrophage</td>\n",
       "      <td>0.251077</td>\n",
       "      <td>0.703105</td>\n",
       "      <td>0.000122</td>\n",
       "      <td>0.045517</td>\n",
       "      <td>0.000179</td>\n",
       "    </tr>\n",
       "    <tr>\n",
       "      <th>31655</th>\n",
       "      <td>31655</td>\n",
       "      <td>GGACAAAAGAAACA</td>\n",
       "      <td>3752.410959</td>\n",
       "      <td>2630.520548</td>\n",
       "      <td>ES</td>\n",
       "      <td>0.204907</td>\n",
       "      <td>0.764899</td>\n",
       "      <td>0.000119</td>\n",
       "      <td>0.029900</td>\n",
       "      <td>0.000176</td>\n",
       "    </tr>\n",
       "    <tr>\n",
       "      <th>31656</th>\n",
       "      <td>31656</td>\n",
       "      <td>CGCAGTTTCAAAAC</td>\n",
       "      <td>1795.675325</td>\n",
       "      <td>1678.961039</td>\n",
       "      <td>SPC</td>\n",
       "      <td>0.237040</td>\n",
       "      <td>0.762841</td>\n",
       "      <td>0.000030</td>\n",
       "      <td>0.000039</td>\n",
       "      <td>0.000051</td>\n",
       "    </tr>\n",
       "    <tr>\n",
       "      <th>31657</th>\n",
       "      <td>31657</td>\n",
       "      <td>GCGCTCAAAAAACA</td>\n",
       "      <td>4204.135135</td>\n",
       "      <td>3657.770270</td>\n",
       "      <td>SPC</td>\n",
       "      <td>0.321699</td>\n",
       "      <td>0.633275</td>\n",
       "      <td>0.000428</td>\n",
       "      <td>0.044160</td>\n",
       "      <td>0.000438</td>\n",
       "    </tr>\n",
       "    <tr>\n",
       "      <th>31658</th>\n",
       "      <td>31658</td>\n",
       "      <td>AAACAAAAAAAAAA</td>\n",
       "      <td>4145.626761</td>\n",
       "      <td>3055.626761</td>\n",
       "      <td>Sertoli</td>\n",
       "      <td>0.368319</td>\n",
       "      <td>0.571456</td>\n",
       "      <td>0.000080</td>\n",
       "      <td>0.059928</td>\n",
       "      <td>0.000217</td>\n",
       "    </tr>\n",
       "  </tbody>\n",
       "</table>\n",
       "<p>31659 rows × 10 columns</p>\n",
       "</div>"
      ],
      "text/plain": [
       "       Unnamed: 0         barcode            x            y   cell_type  \\\n",
       "0               0  ACCTTTTTTTTTTT  2911.083333  3180.472222          ES   \n",
       "1               1  CGGGATTTTTTTTT  3037.054795  4285.363014          RS   \n",
       "2               2  CATTCATTTTTTTT  1664.345238  3552.726190         SPC   \n",
       "3               3  GGCTACTTTTTTTT  4048.823204  2583.165746       Myoid   \n",
       "4               4  CTTGATGTTTTTTT  3072.972222  2726.277778         SPC   \n",
       "...           ...             ...          ...          ...         ...   \n",
       "31654       31654  GTAGAAAAAAAAAA  3848.592593  2712.548148  Macrophage   \n",
       "31655       31655  GGACAAAAGAAACA  3752.410959  2630.520548          ES   \n",
       "31656       31656  CGCAGTTTCAAAAC  1795.675325  1678.961039         SPC   \n",
       "31657       31657  GCGCTCAAAAAACA  4204.135135  3657.770270         SPC   \n",
       "31658       31658  AAACAAAAAAAAAA  4145.626761  3055.626761     Sertoli   \n",
       "\n",
       "       classifier_probs_0  classifier_probs_1  classifier_probs_2  \\\n",
       "0                0.160956            0.820489            0.001479   \n",
       "1                0.257043            0.713814            0.000365   \n",
       "2                0.105627            0.894228            0.000101   \n",
       "3                0.234709            0.728571            0.000080   \n",
       "4                0.059922            0.926853            0.000774   \n",
       "...                   ...                 ...                 ...   \n",
       "31654            0.251077            0.703105            0.000122   \n",
       "31655            0.204907            0.764899            0.000119   \n",
       "31656            0.237040            0.762841            0.000030   \n",
       "31657            0.321699            0.633275            0.000428   \n",
       "31658            0.368319            0.571456            0.000080   \n",
       "\n",
       "       classifier_probs_3  classifier_probs_4  \n",
       "0                0.016908            0.000168  \n",
       "1                0.028612            0.000166  \n",
       "2                0.000021            0.000023  \n",
       "3                0.036501            0.000139  \n",
       "4                0.012286            0.000165  \n",
       "...                   ...                 ...  \n",
       "31654            0.045517            0.000179  \n",
       "31655            0.029900            0.000176  \n",
       "31656            0.000039            0.000051  \n",
       "31657            0.044160            0.000438  \n",
       "31658            0.059928            0.000217  \n",
       "\n",
       "[31659 rows x 10 columns]"
      ]
     },
     "execution_count": 18,
     "metadata": {},
     "output_type": "execute_result"
    }
   ],
   "source": [
    "df"
   ]
  },
  {
   "cell_type": "code",
   "execution_count": null,
   "id": "specific-stack",
   "metadata": {},
   "outputs": [],
   "source": []
  }
 ],
 "metadata": {
  "environment": {
   "name": "pytorch-gpu.1-7.m65",
   "type": "gcloud",
   "uri": "gcr.io/deeplearning-platform-release/pytorch-gpu.1-7:m65"
  },
  "kernelspec": {
   "display_name": "Python 3",
   "language": "python",
   "name": "python3"
  },
  "language_info": {
   "codemirror_mode": {
    "name": "ipython",
    "version": 3
   },
   "file_extension": ".py",
   "mimetype": "text/x-python",
   "name": "python",
   "nbconvert_exporter": "python",
   "pygments_lexer": "ipython3",
   "version": "3.8.8"
  }
 },
 "nbformat": 4,
 "nbformat_minor": 5
}
