{
 "cells": [
  {
   "cell_type": "markdown",
   "id": "b50a730d",
   "metadata": {},
   "source": [
    "# Synthetic Data (Poisson-Log-Normal)"
   ]
  },
  {
   "cell_type": "code",
   "execution_count": 1,
   "id": "f7979b29",
   "metadata": {},
   "outputs": [],
   "source": [
    "%load_ext autoreload\n",
    "%autoreload 2"
   ]
  },
  {
   "cell_type": "code",
   "execution_count": 2,
   "id": "60d1ef27",
   "metadata": {},
   "outputs": [],
   "source": [
    "import torch\n",
    "import numpy \n",
    "import matplotlib.pyplot as plt\n",
    "import seaborn\n",
    "\n",
    "import time\n",
    "import pyro\n",
    "import pyro.poutine as poutine\n",
    "import pyro.distributions as dist\n",
    "from pyro.infer import SVI, Trace_ELBO\n",
    "from pyro.infer.autoguide import AutoDelta\n",
    "from torch.distributions import constraints"
   ]
  },
  {
   "cell_type": "markdown",
   "id": "6c7c7210",
   "metadata": {},
   "source": [
    "### Helper functions"
   ]
  },
  {
   "cell_type": "code",
   "execution_count": 3,
   "id": "4a4a7934",
   "metadata": {},
   "outputs": [],
   "source": [
    "def generate_fake_data(X_nl, g, k=1, alpha_scale=1E-2, alpha0_loc=-6.0, alpha0_scale=0.5, noise_scale=1E-2):\n",
    "    \"\"\"\n",
    "    Args:\n",
    "        X_nl: design matrix (with the covariates)\n",
    "        g: int, number of genes\n",
    "        k: int, number of cell types\n",
    "        alpha_scale: scale for alpha\n",
    "        alpha0_loc: loc of alpha0\n",
    "        alpha0_scale: scale for alpha0\n",
    "        noise_scale: noise scale\n",
    "    \"\"\"\n",
    "    n, l = X_nl.shape[:2]\n",
    "    cell_ids_n = torch.randint(low=0, high=k, size=[n])\n",
    "    total_umi_n1 = torch.randint(low=250, high=3000, size=[n,1])\n",
    "    alpha_klg = alpha_scale * torch.randn((k,l,g))\n",
    "    alpha0_kg = alpha0_loc + alpha0_scale * torch.randn((k,g))\n",
    "    eps_g = torch.randn(g) * noise_scale  # std per gene\n",
    "    eps_ng = torch.randn(n,g) * eps_g\n",
    "    \n",
    "    log_mu_ng = alpha0_kg[cell_ids_n] + (X_nl[...,None] * alpha_klg[cell_ids_n]).sum(dim=-2) \n",
    "    mu_ng = (log_mu_ng + eps_ng).exp()\n",
    "    rate_ng = total_umi_n1 * mu_ng\n",
    "    counts_ng = torch.poisson(rate_ng).long()\n",
    "    \n",
    "    results = {\n",
    "        \"cell_type_ids_n\": cell_ids_n,\n",
    "        \"counts_ng\": counts_ng,\n",
    "        \"alpha0_kg\": alpha0_kg,\n",
    "        \"alpha_klg\": alpha_klg,\n",
    "        \"X_nl\": X_nl\n",
    "    }\n",
    "    return results\n",
    "\n",
    "\n",
    "def plot_few_gene_hist(cell_types_n, counts_ng, other_counts_ng=None, ncols=4):\n",
    "    assert len(cell_types_n.shape) == 1 \n",
    "    assert len(counts_ng.shape) == 2\n",
    "    assert other_counts_ng is None or counts_ng.shape == other_counts_ng.shape\n",
    "    assert counts_ng.shape[0] == cell_types_n.shape[0]\n",
    "    \n",
    "    def _to_torch(_x):\n",
    "        if isinstance(_x, torch.Tensor):\n",
    "            return _x\n",
    "        elif isinstance(_x, numpy.ndarray):\n",
    "            return torch.tensor(_x)\n",
    "        else:\n",
    "            raise Exception(\"Expected torch.tensor or numpy.ndarray. Received {0}\".format(type(_x)))\n",
    "    \n",
    "    counts_ng = _to_torch(counts_ng)\n",
    "    other_counts_ng = None if other_counts_ng is None else _to_torch(other_counts_ng)\n",
    "    \n",
    "    ctypes = torch.unique(cell_types_n)\n",
    "    genes = counts_ng.shape[-1]\n",
    "    \n",
    "    \n",
    "    nrows = genes\n",
    "    ncols = len(ctypes)\n",
    "    fig, axes = plt.subplots(ncols=ncols, nrows=nrows, figsize=(4*ncols, 4*nrows))\n",
    "\n",
    "    for r in range(genes):\n",
    "        tmp = counts_ng[:,r]\n",
    "        other_tmp = None if other_counts_ng is None else other_counts_ng[:,r]\n",
    "        for c, c_type in enumerate(ctypes):\n",
    "            tmp2 = tmp[cell_types_n == c_type]\n",
    "            other_tmp2 = None if other_counts_ng is None else other_tmp[cell_types_n == c_type]\n",
    "            if other_counts_ng is not None:\n",
    "                barWidth=0.4\n",
    "                \n",
    "                y = torch.bincount(tmp2)\n",
    "                x = torch.arange(y.shape[0]).cpu().numpy()\n",
    "                other_y = torch.bincount(other_tmp2)\n",
    "                other_x = torch.arange(other_y.shape[0]).cpu().numpy() + barWidth\n",
    "                \n",
    "                _ = axes[r,c].bar(x, y.cpu().numpy(), width = barWidth)\n",
    "                _ = axes[r,c].bar(other_x, other_y.cpu().numpy(), width = barWidth)\n",
    "            else:\n",
    "                y = torch.bincount(tmp2)\n",
    "                x = numpy.arange(y.shape[0])\n",
    "                barWidth=0.9\n",
    "                _ = axes[r,c].bar(x, y, width = barWidth)\n",
    "    plt.close()\n",
    "    return fig\n",
    "\n",
    "\n",
    "def EMD_between_distributions(distA, distB, normalize: bool=False):\n",
    "    \"\"\"\n",
    "    Eearth mover's distance (aka  Wasserstein distance) has a close form solution in 1D.\n",
    "    See https://en.wikipedia.org/wiki/Wasserstein_metric)\n",
    "    \"\"\"\n",
    "\n",
    "    sizeA = distA.shape[-1]\n",
    "    sizeB = distB.shape[-1]\n",
    "    max_size = max(sizeA, sizeB)\n",
    "    min_size = min(sizeA, sizeB)\n",
    "    delta_size = max_size - min_size\n",
    "    \n",
    "    padder = torch.nn.ConstantPad1d(padding=(0, delta_size), value=0)\n",
    "    _distA = padder(distA)[...,:max_size]\n",
    "    _distB = padder(distB)[...,:max_size]\n",
    "    \n",
    "    if normalize:\n",
    "        normA = _distA.sum(dim=-1, keepdim=True)\n",
    "        normB = _distB.sum(dim=-1, keepdim=True)\n",
    "        _distA /= normA\n",
    "        _distB /= normB\n",
    "    \n",
    "    # Actual caltulation \n",
    "    _distA_cum = torch.cumsum(_distA, axis=-1)\n",
    "    _distB_cum = torch.cumsum(_distB, axis=-1)    \n",
    "    EMD = (_distA_cum - _distB_cum).abs().sum(axis=-1)\n",
    "    return EMD\n",
    "\n",
    "\n",
    "def L1_between_distributions(distA, distB, normalize: bool=False):\n",
    "    \"\"\" Simple L1 distance between two distributions. \"\"\"\n",
    "    sizeA = distA.shape[-1]\n",
    "    sizeB = distB.shape[-1]\n",
    "    max_size = max(sizeA, sizeB)\n",
    "    min_size = min(sizeA, sizeB)\n",
    "    delta_size = max_size - min_size\n",
    "    \n",
    "    padder = torch.nn.ConstantPad1d(padding=(0, delta_size), value=0)\n",
    "    _distA = padder(distA)[...,:max_size]\n",
    "    _distB = padder(distB)[...,:max_size]\n",
    "    \n",
    "    if normalize:\n",
    "        normA = _distA.sum(dim=-1, keepdim=True)\n",
    "        normB = _distB.sum(dim=-1, keepdim=True)\n",
    "        _distA /= normA\n",
    "        _distB /= normB\n",
    "    \n",
    "    # Actual calculation\n",
    "    L1_norm = (_distA - _distB).abs().sum(axis=-1)\n",
    "    return L1_norm\n",
    "\n",
    "\n",
    "def compute_per_cell_type_distributions(cell_types_n, counts_ng):\n",
    "    \"\"\"\n",
    "    Computes the per-cell-type distribution of all the genes\n",
    "    \n",
    "    Args:\n",
    "        cell_types_n: \n",
    "        counts_ng:\n",
    "    \n",
    "    Returns:\n",
    "        dist_kgi a tensor of shape (cell_types, genes, max_counts) whose entry represent the number of cells \n",
    "        of type k with i counts for gene g.  \n",
    "    \"\"\"\n",
    "    counts_ng = counts_ng.int()\n",
    "    \n",
    "    unique_cell_types = torch.unique(cell_types_n)\n",
    "    i_max = torch.max(counts_ng).item() + 1\n",
    "    k = len(unique_cell_types)\n",
    "    g = counts_ng.shape[-1]\n",
    "    \n",
    "    dist_kgi = torch.zeros((k,g,i_max))\n",
    "\n",
    "    for ik, ctype in enumerate(unique_cell_types):\n",
    "        counts_kg = counts_ng[cell_types_n == ctype]\n",
    "        for ig in range(g):\n",
    "            dist_kgi[ik,ig, :] = torch.bincount(counts_kg[:,ig], minlength=i_max) \n",
    "    return dist_kgi"
   ]
  },
  {
   "cell_type": "markdown",
   "id": "486d2af7-4f62-4b3b-933e-99e5f2eb8ac2",
   "metadata": {},
   "source": [
    "### Generate fake data and visualize"
   ]
  },
  {
   "cell_type": "code",
   "execution_count": 4,
   "id": "b9872bf7",
   "metadata": {},
   "outputs": [
    {
     "data": {
      "image/png": "[encoded data removed]",
      "text/plain": [
       "<Figure size 2592x576 with 18 Axes>"
      ]
     },
     "execution_count": 4,
     "metadata": {},
     "output_type": "execute_result"
    }
   ],
   "source": [
    "X_nl = torch.randn((20000,20))\n",
    "fake_data = generate_fake_data(X_nl, g=500, k=9)\n",
    "\n",
    "counts_ng = fake_data[\"counts_ng\"]\n",
    "cell_types_n = fake_data[\"cell_type_ids_n\"]\n",
    "fig = plot_few_gene_hist(cell_types_n, counts_ng[:,:2])\n",
    "fig"
   ]
  },
  {
   "cell_type": "markdown",
   "id": "9f889bfc",
   "metadata": {},
   "source": [
    "### Package the fake data for the models"
   ]
  },
  {
   "cell_type": "code",
   "execution_count": 5,
   "id": "500af0e9",
   "metadata": {},
   "outputs": [],
   "source": [
    "fake_dataset = {\n",
    "    \"counts\" : fake_data[\"counts_ng\"],\n",
    "    \"cell_type_codes\" : fake_data[\"cell_type_ids_n\"],\n",
    "    \"other_covariates\" : fake_data[\"X_nl\"]\n",
    "}                               "
   ]
  },
  {
   "cell_type": "markdown",
   "id": "d98a00d7-4475-42f1-8331-19d16b50ea95",
   "metadata": {},
   "source": [
    "# Define the initial parameters/priors for all models"
   ]
  },
  {
   "cell_type": "code",
   "execution_count": 6,
   "id": "81a48e2d-1767-4f0e-90c3-b42597d35bc4",
   "metadata": {},
   "outputs": [],
   "source": [
    "# Define the parameter for the model prior\n",
    "alpha0_loc = -6.0\n",
    "alpha0_scale = 1E-2\n",
    "alpha_scale = 1E-2\n",
    "eps_g_low = 1E-4\n",
    "eps_g_high = 1E-1"
   ]
  },
  {
   "cell_type": "markdown",
   "id": "da96caa2",
   "metadata": {},
   "source": [
    "# Model A (no priors, i.e. Maximum Likelihood estimates MLE)"
   ]
  },
  {
   "cell_type": "code",
   "execution_count": 7,
   "id": "72c95039",
   "metadata": {},
   "outputs": [],
   "source": [
    "def model_poisson_log_normal_A(dataset, observed: bool=True):\n",
    "    \"\"\" \n",
    "    This model has NO priors on the regression parameters and the noise in the rate\n",
    "    \"\"\"\n",
    "    \n",
    "    # Unpack the dataset\n",
    "    counts_ng = dataset[\"counts\"].long()\n",
    "    covariates_nl = dataset['other_covariates'].float()  \n",
    "    cell_type_ids_n = dataset['cell_type_codes'].long()  # ids: 0,1,...,K-1\n",
    "    k = cell_type_ids_n.max().item()+1\n",
    "    \n",
    "    n, g = counts_ng.shape[:2]\n",
    "    n, l = covariates_nl.shape[:2]\n",
    "    n = cell_type_ids_n.shape[0]  \n",
    "    assert isinstance(k, int) and k>0, \"Got {0}\".format(k)\n",
    "    assert isinstance(l, int) and l>0, \"Got {0}\".format(l)\n",
    "    assert isinstance(n, int) and n>0, \"Got {0}\".format(n)\n",
    "    assert isinstance(g, int) and g>0, \"Got {0}\".format(g)\n",
    "    \n",
    "    if torch.cuda.is_available(): \n",
    "        covariates_nl = covariates_nl.cuda()\n",
    "        cell_type_ids_n = cell_type_ids_n.cuda()\n",
    "        counts_ng = counts_ng.cuda()\n",
    "    device = covariates_nl.device\n",
    "      \n",
    "    # Define the gene and cell plates. It make sense to subsample only gene and cells.\n",
    "    cell_plate = pyro.plate(\"cells\", size=n, dim=-3, device=device, subsample_size=None)\n",
    "    gene_plate = pyro.plate(\"genes\", size=g, dim=-1, device=device, subsample_size=None) \n",
    "    \n",
    "    # define the parameters (on the correct device)\n",
    "    eps_g = pyro.param(\"eps_g\", \n",
    "                       dist.Uniform(low=eps_g_low, high=eps_g_high).sample(sample_shape=[g]), \n",
    "                       constraint=constraints.interval(eps_g_low, eps_g_high)).to(device)\n",
    "    alpha0_k1g = pyro.param(\"alpha0\", \n",
    "                            dist.Normal(loc=alpha0_loc, scale=alpha0_scale).sample(sample_shape=[k,1,g])).to(device)\n",
    "    alpha_klg = pyro.param(\"alpha\", \n",
    "                           dist.Normal(loc=0.0, scale=alpha_scale).sample(sample_shape=[k,l,g])).to(device)\n",
    "    eps_n1g = pyro.param(\"eps_n1g\", dist.Normal(loc=0, scale=eps_g).sample(sample_shape=[n,1])).to(device)\n",
    "        \n",
    "    assert eps_g.shape == torch.Size([g]), \"Got {0}\".format(eps_g.shape)\n",
    "    assert alpha0_k1g.shape == torch.Size([k,1,g]), \"Got {0}\".format(alpha0_k1g.shape)\n",
    "    assert alpha_klg.shape == torch.Size([k,l,g]), \"Got {0}\".format(alpha_klg.shape)\n",
    "    assert eps_n1g.shape == torch.Size([n,1,g]), \"Got {0}\".format(eps_n1g.shape)\n",
    "    \n",
    "    \n",
    "    with cell_plate as ind_n:\n",
    "        cell_ids_sub_n = cell_type_ids_n[ind_n]\n",
    "        alpha0_n1g = alpha0_k1g[cell_ids_sub_n]\n",
    "        alpha_nlg = alpha_klg[cell_ids_sub_n]\n",
    "        covariate_sub_nl1 = covariates_nl[cell_ids_sub_n].unsqueeze(dim=-1)\n",
    "        log_mu_n1g = alpha0_n1g + torch.sum(covariate_sub_nl1 * alpha_nlg, dim=-2, keepdim=True)\n",
    "        total_umi_n11 = counts_ng[ind_n].sum(dim=-1, keepdim=True).unsqueeze(dim=-1)\n",
    "        eps_sub_n1g = eps_n1g[ind_n]\n",
    "        \n",
    "        with gene_plate as ind_g: \n",
    "            mu_n1g = (log_mu_n1g[...,ind_g] + eps_sub_n1g[..., ind_g]).exp()\n",
    "            rate_n1g = mu_n1g * total_umi_n11 \n",
    "            \n",
    "            pyro.sample(\"counts\", dist.Poisson(rate_n1g), \n",
    "                        obs=counts_ng[ind_n, None][...,ind_g] if observed else None)"
   ]
  },
  {
   "cell_type": "code",
   "execution_count": 8,
   "id": "bef446ac",
   "metadata": {},
   "outputs": [
    {
     "name": "stdout",
     "output_type": "stream",
     "text": [
      "Trace Shapes:                      \n",
      " Param Sites:                      \n",
      "        eps_g                   500\n",
      "       alpha0           9     1 500\n",
      "        alpha           9    20 500\n",
      "      eps_n1g       20000     1 500\n",
      "Sample Sites:                      \n",
      "   cells dist                     |\n",
      "        value             20000   |\n",
      "     log_prob                     |\n",
      "   genes dist                     |\n",
      "        value               500   |\n",
      "     log_prob                     |\n",
      "  counts dist 20000     1   500   |\n",
      "        value 20000     1   500   |\n",
      "     log_prob 20000     1   500   |\n"
     ]
    },
    {
     "data": {
      "image/svg+xml": [
       "<?xml version=\"1.0\" encoding=\"UTF-8\" standalone=\"no\"?>\n",
       "<!DOCTYPE svg PUBLIC \"-//W3C//DTD SVG 1.1//EN\"\n",
       " \"http://www.w3.org/Graphics/SVG/1.1/DTD/svg11.dtd\">\n",
       "<!-- Generated by graphviz version 2.50.0 (20211204.2007)\n",
       " -->\n",
       "<!-- Pages: 1 -->\n",
       "<svg width=\"124pt\" height=\"138pt\"\n",
       " viewBox=\"0.00 0.00 124.00 138.00\" xmlns=\"http://www.w3.org/2000/svg\" xmlns:xlink=\"http://www.w3.org/1999/xlink\">\n",
       "<g id=\"graph0\" class=\"graph\" transform=\"scale(1 1) rotate(0) translate(4 134)\">\n",
       "<polygon fill=\"white\" stroke=\"transparent\" points=\"-4,4 -4,-134 120,-134 120,4 -4,4\"/>\n",
       "<g id=\"clust1\" class=\"cluster\">\n",
       "<title>cluster_cells</title>\n",
       "<polygon fill=\"none\" stroke=\"black\" points=\"8,-8 8,-122 108,-122 108,-8 8,-8\"/>\n",
       "<text text-anchor=\"middle\" x=\"87.5\" y=\"-15.8\" font-family=\"Times,serif\" font-size=\"14.00\">cells</text>\n",
       "</g>\n",
       "<g id=\"clust2\" class=\"cluster\">\n",
       "<title>cluster_genes</title>\n",
       "<polygon fill=\"none\" stroke=\"black\" points=\"16,-39 16,-114 100,-114 100,-39 16,-39\"/>\n",
       "<text text-anchor=\"middle\" x=\"76.5\" y=\"-46.8\" font-family=\"Times,serif\" font-size=\"14.00\">genes</text>\n",
       "</g>\n",
       "<!-- counts -->\n",
       "<g id=\"node1\" class=\"node\">\n",
       "<title>counts</title>\n",
       "<ellipse fill=\"grey\" stroke=\"black\" cx=\"58\" cy=\"-88\" rx=\"33.6\" ry=\"18\"/>\n",
       "<text text-anchor=\"middle\" x=\"58\" y=\"-84.3\" font-family=\"Times,serif\" font-size=\"14.00\">counts</text>\n",
       "</g>\n",
       "</g>\n",
       "</svg>\n"
      ],
      "text/plain": [
       "<graphviz.graphs.Digraph at 0x7fd519594be0>"
      ]
     },
     "execution_count": 8,
     "metadata": {},
     "output_type": "execute_result"
    }
   ],
   "source": [
    "def guide_poisson_log_normal_A(*args, **kargs):\n",
    "    pass\n",
    "\n",
    "trace = poutine.trace(model_poisson_log_normal_A).get_trace(fake_dataset)\n",
    "trace.compute_log_prob()  # optional, but allows printing of log_prob shapes\n",
    "print(trace.format_shapes())\n",
    "\n",
    "pyro.render_model(model_poisson_log_normal_A, model_kwargs={\"dataset\": fake_dataset})"
   ]
  },
  {
   "cell_type": "markdown",
   "id": "2925ecbe",
   "metadata": {},
   "source": [
    "# MODEL B (with priors, i.e. MAP estimates)"
   ]
  },
  {
   "cell_type": "code",
   "execution_count": 9,
   "id": "32b2fa71",
   "metadata": {},
   "outputs": [],
   "source": [
    "def model_poisson_log_normal_B(dataset, observed: bool = True):\n",
    "    \"\"\" \n",
    "    This model has priors on the regression parameters and the noise in the rate\n",
    "    \"\"\"\n",
    "    \n",
    "    # Unpack the dataset\n",
    "    counts_ng = dataset[\"counts\"].long()\n",
    "    covariates_nl = dataset['other_covariates'].float()  \n",
    "    cell_type_ids_n = dataset['cell_type_codes'].long()  # ids: 0,1,...,K-1\n",
    "    k = cell_type_ids_n.max().item()+1\n",
    "    \n",
    "    n, g = counts_ng.shape[:2]\n",
    "    n, l = covariates_nl.shape[:2]\n",
    "    n = cell_type_ids_n.shape[0]  \n",
    "    assert isinstance(k, int) and k>0, \"Got {0}\".format(k)\n",
    "    assert isinstance(l, int) and l>0, \"Got {0}\".format(l)\n",
    "    assert isinstance(n, int) and n>0, \"Got {0}\".format(n)\n",
    "    assert isinstance(g, int) and g>0, \"Got {0}\".format(g)\n",
    "    \n",
    "    if torch.cuda.is_available(): \n",
    "        covariates_nl = covariates_nl.cuda()\n",
    "        cell_type_ids_n = cell_type_ids_n.cuda()\n",
    "        counts_ng = counts_ng.cuda()\n",
    "    device = covariates_nl.device\n",
    "      \n",
    "    # Define the gene and cell plates. It make sense to subsample only gene and cells.\n",
    "    cell_plate = pyro.plate(\"cells\", size=n, dim=-3, device=device, subsample_size=None) \n",
    "    cell_types_plate = pyro.plate(\"cell_types\", size=k, dim=-3, device=device)\n",
    "    covariate_plate = pyro.plate(\"covariate\", size=l, dim=-2, device=device)\n",
    "    gene_plate = pyro.plate(\"genes\", size=g, dim=-1, device=device, subsample_size=None) \n",
    "    \n",
    "    with gene_plate as ind_g: \n",
    "        eps_g = pyro.sample(\"eps_g\", dist.Uniform(low=eps_g_low, high=eps_g_high)).to(device)\n",
    "        with cell_types_plate:\n",
    "            alpha0_k1g = pyro.sample(\"alpha0\", dist.Normal(loc=alpha0_loc, scale=alpha0_scale)).to(device)\n",
    "            with covariate_plate:\n",
    "                alpha_klg = pyro.sample(\"alpha\", dist.Normal(loc=0, scale=alpha_scale)).to(device)\n",
    "    \n",
    "    # assert eps_g.shape == torch.Size([len(ind_g)])\n",
    "    # assert alpha0_k1g.shape == torch.Size([k,1,len(ind_g)]), \"Got {0}\".format(alpha0_k1g.shape)\n",
    "    # assert alpha_klg.shape == torch.Size([k,l,len(ind_g)]), \"Got {0}\".format(alpha_klg.shape)\n",
    "    \n",
    "    with cell_plate as ind_n:\n",
    "        cell_ids_sub_n = cell_type_ids_n[ind_n]\n",
    "        alpha0_n1g = alpha0_k1g[cell_ids_sub_n]\n",
    "        alpha_nlg = alpha_klg[cell_ids_sub_n]\n",
    "        covariate_sub_nl1 = covariates_nl[cell_ids_sub_n].unsqueeze(dim=-1)\n",
    "        log_mu_n1g = alpha0_n1g + torch.sum(covariate_sub_nl1 * alpha_nlg, dim=-2, keepdim=True)\n",
    "        total_umi_n11 = counts_ng[ind_n].sum(dim=-1, keepdim=True).unsqueeze(dim=-1)\n",
    "    \n",
    "        assert alpha0_n1g.shape == torch.Size([len(ind_n), 1, len(ind_g)]), \"Got {0}\".format(alpha0_n1g.shape)\n",
    "        assert alpha0_n1g.shape == torch.Size([len(ind_n), 1, len(ind_g)]), \"Got {0}\".format(alpha0_n1g.shape)\n",
    "        assert total_umi_n11.shape == torch.Size([len(ind_n), 1, 1]), \"Got {0}\".format(total_umi_n11.shape)\n",
    "\n",
    "        with gene_plate as ind_g: \n",
    "            eps_n1g = pyro.sample(\"eps_n1g\", dist.Normal(loc=0, scale=eps_g))\n",
    "            mu_n1g = (log_mu_n1g + eps_n1g).exp()\n",
    "            rate_n1g = mu_n1g * total_umi_n11 \n",
    "            pyro.sample(\"counts\", dist.Poisson(rate_n1g), \n",
    "                        obs=counts_ng[ind_n, None][...,ind_g] if observed else None)"
   ]
  },
  {
   "cell_type": "code",
   "execution_count": 10,
   "id": "ce6a16fa",
   "metadata": {},
   "outputs": [
    {
     "name": "stdout",
     "output_type": "stream",
     "text": [
      "  Trace Shapes:                 \n",
      "   Param Sites:                 \n",
      "  Sample Sites:                 \n",
      "     cells dist                |\n",
      "          value          20000 |\n",
      "       log_prob                |\n",
      "cell_types dist                |\n",
      "          value              9 |\n",
      "       log_prob                |\n",
      " covariate dist                |\n",
      "          value             20 |\n",
      "       log_prob                |\n",
      "     genes dist                |\n",
      "          value            500 |\n",
      "       log_prob                |\n",
      "     eps_g dist            500 |\n",
      "          value            500 |\n",
      "       log_prob            500 |\n",
      "    alpha0 dist     9  1   500 |\n",
      "          value     9  1   500 |\n",
      "       log_prob     9  1   500 |\n",
      "     alpha dist     9 20   500 |\n",
      "          value     9 20   500 |\n",
      "       log_prob     9 20   500 |\n",
      "   eps_n1g dist 20000  1   500 |\n",
      "          value 20000  1   500 |\n",
      "       log_prob 20000  1   500 |\n",
      "    counts dist 20000  1   500 |\n",
      "          value 20000  1   500 |\n",
      "       log_prob 20000  1   500 |\n"
     ]
    },
    {
     "data": {
      "image/svg+xml": [
       "<?xml version=\"1.0\" encoding=\"UTF-8\" standalone=\"no\"?>\n",
       "<!DOCTYPE svg PUBLIC \"-//W3C//DTD SVG 1.1//EN\"\n",
       " \"http://www.w3.org/Graphics/SVG/1.1/DTD/svg11.dtd\">\n",
       "<!-- Generated by graphviz version 2.50.0 (20211204.2007)\n",
       " -->\n",
       "<!-- Pages: 1 -->\n",
       "<svg width=\"314pt\" height=\"308pt\"\n",
       " viewBox=\"0.00 0.00 314.00 308.00\" xmlns=\"http://www.w3.org/2000/svg\" xmlns:xlink=\"http://www.w3.org/1999/xlink\">\n",
       "<g id=\"graph0\" class=\"graph\" transform=\"scale(1 1) rotate(0) translate(4 304)\">\n",
       "<polygon fill=\"white\" stroke=\"transparent\" points=\"-4,4 -4,-304 310,-304 310,4 -4,4\"/>\n",
       "<g id=\"clust1\" class=\"cluster\">\n",
       "<title>cluster_genes</title>\n",
       "<polygon fill=\"none\" stroke=\"black\" points=\"8,-8 8,-292 298,-292 298,-8 8,-8\"/>\n",
       "<text text-anchor=\"middle\" x=\"274.5\" y=\"-15.8\" font-family=\"Times,serif\" font-size=\"14.00\">genes</text>\n",
       "</g>\n",
       "<g id=\"clust2\" class=\"cluster\">\n",
       "<title>cluster_cell_types</title>\n",
       "<polygon fill=\"none\" stroke=\"black\" points=\"120,-114 120,-228 290,-228 290,-114 120,-114\"/>\n",
       "<text text-anchor=\"middle\" x=\"254.5\" y=\"-121.8\" font-family=\"Times,serif\" font-size=\"14.00\">cell_types</text>\n",
       "</g>\n",
       "<g id=\"clust3\" class=\"cluster\">\n",
       "<title>cluster_covariate</title>\n",
       "<polygon fill=\"none\" stroke=\"black\" points=\"206,-145 206,-220 282,-220 282,-145 206,-145\"/>\n",
       "<text text-anchor=\"middle\" x=\"249\" y=\"-152.8\" font-family=\"Times,serif\" font-size=\"14.00\">covariate</text>\n",
       "</g>\n",
       "<g id=\"clust4\" class=\"cluster\">\n",
       "<title>cluster_cells</title>\n",
       "<polygon fill=\"none\" stroke=\"black\" points=\"16,-39 16,-220 112,-220 112,-39 16,-39\"/>\n",
       "<text text-anchor=\"middle\" x=\"91.5\" y=\"-46.8\" font-family=\"Times,serif\" font-size=\"14.00\">cells</text>\n",
       "</g>\n",
       "<!-- eps_g -->\n",
       "<g id=\"node1\" class=\"node\">\n",
       "<title>eps_g</title>\n",
       "<ellipse fill=\"white\" stroke=\"black\" cx=\"64\" cy=\"-266\" rx=\"31.4\" ry=\"18\"/>\n",
       "<text text-anchor=\"middle\" x=\"64\" y=\"-262.3\" font-family=\"Times,serif\" font-size=\"14.00\">eps_g</text>\n",
       "</g>\n",
       "<!-- eps_n1g -->\n",
       "<g id=\"node4\" class=\"node\">\n",
       "<title>eps_n1g</title>\n",
       "<ellipse fill=\"white\" stroke=\"black\" cx=\"64\" cy=\"-194\" rx=\"40.09\" ry=\"18\"/>\n",
       "<text text-anchor=\"middle\" x=\"64\" y=\"-190.3\" font-family=\"Times,serif\" font-size=\"14.00\">eps_n1g</text>\n",
       "</g>\n",
       "<!-- eps_g&#45;&gt;eps_n1g -->\n",
       "<g id=\"edge1\" class=\"edge\">\n",
       "<title>eps_g&#45;&gt;eps_n1g</title>\n",
       "<path fill=\"none\" stroke=\"black\" d=\"M64,-247.7C64,-239.98 64,-230.71 64,-222.11\"/>\n",
       "<polygon fill=\"black\" stroke=\"black\" points=\"67.5,-222.1 64,-212.1 60.5,-222.1 67.5,-222.1\"/>\n",
       "</g>\n",
       "<!-- alpha0 -->\n",
       "<g id=\"node2\" class=\"node\">\n",
       "<title>alpha0</title>\n",
       "<ellipse fill=\"white\" stroke=\"black\" cx=\"162\" cy=\"-194\" rx=\"34.39\" ry=\"18\"/>\n",
       "<text text-anchor=\"middle\" x=\"162\" y=\"-190.3\" font-family=\"Times,serif\" font-size=\"14.00\">alpha0</text>\n",
       "</g>\n",
       "<!-- counts -->\n",
       "<g id=\"node5\" class=\"node\">\n",
       "<title>counts</title>\n",
       "<ellipse fill=\"grey\" stroke=\"black\" cx=\"70\" cy=\"-88\" rx=\"33.6\" ry=\"18\"/>\n",
       "<text text-anchor=\"middle\" x=\"70\" y=\"-84.3\" font-family=\"Times,serif\" font-size=\"14.00\">counts</text>\n",
       "</g>\n",
       "<!-- alpha0&#45;&gt;counts -->\n",
       "<g id=\"edge4\" class=\"edge\">\n",
       "<title>alpha0&#45;&gt;counts</title>\n",
       "<path fill=\"none\" stroke=\"black\" d=\"M155.41,-176.11C147.97,-158.79 134.45,-131.91 116,-114 112.68,-110.78 108.87,-107.85 104.88,-105.23\"/>\n",
       "<polygon fill=\"black\" stroke=\"black\" points=\"106.4,-102.06 96.02,-99.97 102.83,-108.08 106.4,-102.06\"/>\n",
       "</g>\n",
       "<!-- alpha -->\n",
       "<g id=\"node3\" class=\"node\">\n",
       "<title>alpha</title>\n",
       "<ellipse fill=\"white\" stroke=\"black\" cx=\"244\" cy=\"-194\" rx=\"29.8\" ry=\"18\"/>\n",
       "<text text-anchor=\"middle\" x=\"244\" y=\"-190.3\" font-family=\"Times,serif\" font-size=\"14.00\">alpha</text>\n",
       "</g>\n",
       "<!-- alpha&#45;&gt;counts -->\n",
       "<g id=\"edge3\" class=\"edge\">\n",
       "<title>alpha&#45;&gt;counts</title>\n",
       "<path fill=\"none\" stroke=\"black\" d=\"M241.48,-175.95C237.85,-157.7 229.3,-129.31 210,-114 195.34,-102.37 148.98,-95.75 113.59,-92.28\"/>\n",
       "<polygon fill=\"black\" stroke=\"black\" points=\"113.75,-88.78 103.47,-91.35 113.1,-95.75 113.75,-88.78\"/>\n",
       "</g>\n",
       "<!-- eps_n1g&#45;&gt;counts -->\n",
       "<g id=\"edge2\" class=\"edge\">\n",
       "<title>eps_n1g&#45;&gt;counts</title>\n",
       "<path fill=\"none\" stroke=\"black\" d=\"M64.99,-175.83C65.92,-159.64 67.34,-135.13 68.43,-116.27\"/>\n",
       "<polygon fill=\"black\" stroke=\"black\" points=\"71.93,-116.38 69.01,-106.2 64.94,-115.98 71.93,-116.38\"/>\n",
       "</g>\n",
       "</g>\n",
       "</svg>\n"
      ],
      "text/plain": [
       "<graphviz.graphs.Digraph at 0x7fd4c3b81880>"
      ]
     },
     "execution_count": 10,
     "metadata": {},
     "output_type": "execute_result"
    }
   ],
   "source": [
    "guide_poisson_log_normal_B = pyro.infer.autoguide.AutoDelta(model_poisson_log_normal_B)\n",
    "\n",
    "trace = poutine.trace(model_poisson_log_normal_B).get_trace(fake_dataset)\n",
    "trace.compute_log_prob()  # optional, but allows printing of log_prob shapes\n",
    "print(trace.format_shapes())\n",
    "\n",
    "pyro.render_model(model_poisson_log_normal_B, model_kwargs={\"dataset\": fake_dataset})"
   ]
  },
  {
   "cell_type": "markdown",
   "id": "8f75fdb1-b171-4009-8d5b-c18a43850324",
   "metadata": {},
   "source": [
    "# Model C (priors for alpha but not for alpha0)"
   ]
  },
  {
   "cell_type": "code",
   "execution_count": 11,
   "id": "419096d8-ac24-4581-93c0-d120a59cf044",
   "metadata": {},
   "outputs": [],
   "source": [
    "def model_poisson_log_normal_C(dataset, observed: bool = True):\n",
    "    \"\"\" \n",
    "    This model has priors on the regression parameters and the noise in the rate\n",
    "    \"\"\"\n",
    "    \n",
    "    # Unpack the dataset\n",
    "    counts_ng = dataset[\"counts\"].long()\n",
    "    covariates_nl = dataset['other_covariates'].float()  \n",
    "    cell_type_ids_n = dataset['cell_type_codes'].long()  # ids: 0,1,...,K-1\n",
    "    k = cell_type_ids_n.max().item()+1\n",
    "    \n",
    "    n, g = counts_ng.shape[:2]\n",
    "    n, l = covariates_nl.shape[:2]\n",
    "    n = cell_type_ids_n.shape[0]  \n",
    "    assert isinstance(k, int) and k>0, \"Got {0}\".format(k)\n",
    "    assert isinstance(l, int) and l>0, \"Got {0}\".format(l)\n",
    "    assert isinstance(n, int) and n>0, \"Got {0}\".format(n)\n",
    "    assert isinstance(g, int) and g>0, \"Got {0}\".format(g)\n",
    "    \n",
    "    if torch.cuda.is_available(): \n",
    "        covariates_nl = covariates_nl.cuda()\n",
    "        cell_type_ids_n = cell_type_ids_n.cuda()\n",
    "        counts_ng = counts_ng.cuda()\n",
    "    device = covariates_nl.device\n",
    "    \n",
    "    # Define the gene and cell plates. It make sense to subsample only gene and cells.\n",
    "    cell_plate = pyro.plate(\"cells\", size=n, dim=-3, device=device, subsample_size=None) \n",
    "    cell_types_plate = pyro.plate(\"cell_types\", size=k, dim=-3, device=device)\n",
    "    covariate_plate = pyro.plate(\"covariate\", size=l, dim=-2, device=device)\n",
    "    gene_plate = pyro.plate(\"genes\", size=g, dim=-1, device=device, subsample_size=None) \n",
    "    \n",
    "    \n",
    "    with gene_plate as ind_g: \n",
    "        eps_g = pyro.sample(\"eps_g\", \n",
    "                            dist.Uniform(low=eps_g_low, high=eps_g_high).sample(sample_shape=[g]).to(device))\n",
    "        with cell_types_plate:\n",
    "            alpha0_k1g = pyro.param(\"alpha0\", \n",
    "                                    dist.Normal(loc=alpha0_loc, scale=alpha0_scale).sample(sample_shape=[k,1,g])).to(device)\n",
    "            with covariate_plate:\n",
    "                alpha_klg = pyro.sample(\"alpha\", dist.Normal(loc=0, scale=alpha_scale)).to(device)\n",
    "    \n",
    "    # assert eps_g.shape == torch.Size([len(ind_g)])\n",
    "    # assert alpha0_k1g.shape == torch.Size([k,1,len(ind_g)]), \"Got {0}\".format(alpha0_k1g.shape)\n",
    "    # assert alpha_klg.shape == torch.Size([k,l,len(ind_g)]), \"Got {0}\".format(alpha_klg.shape)\n",
    "    \n",
    "    with cell_plate as ind_n:\n",
    "        cell_ids_sub_n = cell_type_ids_n[ind_n]\n",
    "        alpha0_n1g = alpha0_k1g[cell_ids_sub_n]\n",
    "        alpha_nlg = alpha_klg[cell_ids_sub_n]\n",
    "        covariate_sub_nl1 = covariates_nl[cell_ids_sub_n].unsqueeze(dim=-1)\n",
    "        log_mu_n1g = alpha0_n1g + torch.sum(covariate_sub_nl1 * alpha_nlg, dim=-2, keepdim=True)\n",
    "        total_umi_n11 = counts_ng[ind_n].sum(dim=-1, keepdim=True).unsqueeze(dim=-1)\n",
    "    \n",
    "        assert alpha0_n1g.shape == torch.Size([len(ind_n), 1, len(ind_g)]), \"Got {0}\".format(alpha0_n1g.shape)\n",
    "        assert alpha0_n1g.shape == torch.Size([len(ind_n), 1, len(ind_g)]), \"Got {0}\".format(alpha0_n1g.shape)\n",
    "        assert total_umi_n11.shape == torch.Size([len(ind_n), 1, 1]), \"Got {0}\".format(total_umi_n11.shape)\n",
    "\n",
    "        with gene_plate as ind_g: \n",
    "            eps_n1g = pyro.sample(\"eps_n1g\", dist.Normal(loc=0, scale=eps_g))\n",
    "            mu_n1g = (log_mu_n1g + eps_n1g).exp()\n",
    "            rate_n1g = mu_n1g * total_umi_n11 \n",
    "            pyro.sample(\"counts\", dist.Poisson(rate_n1g), \n",
    "                        obs=counts_ng[ind_n, None][...,ind_g] if observed else None)"
   ]
  },
  {
   "cell_type": "code",
   "execution_count": 12,
   "id": "b4fc5a9a-368a-4dd3-9d75-d2a3024e6b0c",
   "metadata": {},
   "outputs": [
    {
     "name": "stdout",
     "output_type": "stream",
     "text": [
      "  Trace Shapes:                   \n",
      "   Param Sites:                   \n",
      "      eps_loc_g                500\n",
      "      alpha_loc        9    20 500\n",
      "    alpha_scale        9    20 500\n",
      "  Sample Sites:                   \n",
      "     cells dist                  |\n",
      "          value          20000   |\n",
      "       log_prob                  |\n",
      "cell_types dist                  |\n",
      "          value              9   |\n",
      "       log_prob                  |\n",
      " covariate dist                  |\n",
      "          value             20   |\n",
      "       log_prob                  |\n",
      "     genes dist                  |\n",
      "          value            500   |\n",
      "       log_prob                  |\n",
      "     eps_g dist            500   |\n",
      "          value            500   |\n",
      "       log_prob            500   |\n",
      "     alpha dist     9 20   500   |\n",
      "          value     9 20   500   |\n",
      "       log_prob     9 20   500   |\n",
      "   eps_n1g dist 20000  1   500   |\n",
      "          value 20000  1   500   |\n",
      "       log_prob 20000  1   500   |\n"
     ]
    },
    {
     "data": {
      "image/svg+xml": [
       "<?xml version=\"1.0\" encoding=\"UTF-8\" standalone=\"no\"?>\n",
       "<!DOCTYPE svg PUBLIC \"-//W3C//DTD SVG 1.1//EN\"\n",
       " \"http://www.w3.org/Graphics/SVG/1.1/DTD/svg11.dtd\">\n",
       "<!-- Generated by graphviz version 2.50.0 (20211204.2007)\n",
       " -->\n",
       "<!-- Pages: 1 -->\n",
       "<svg width=\"308pt\" height=\"177pt\"\n",
       " viewBox=\"0.00 0.00 308.00 177.00\" xmlns=\"http://www.w3.org/2000/svg\" xmlns:xlink=\"http://www.w3.org/1999/xlink\">\n",
       "<g id=\"graph0\" class=\"graph\" transform=\"scale(1 1) rotate(0) translate(4 173)\">\n",
       "<polygon fill=\"white\" stroke=\"transparent\" points=\"-4,4 -4,-173 304,-173 304,4 -4,4\"/>\n",
       "<g id=\"clust1\" class=\"cluster\">\n",
       "<title>cluster_genes</title>\n",
       "<polygon fill=\"none\" stroke=\"black\" points=\"8,-8 8,-161 292,-161 292,-8 8,-8\"/>\n",
       "<text text-anchor=\"middle\" x=\"268.5\" y=\"-15.8\" font-family=\"Times,serif\" font-size=\"14.00\">genes</text>\n",
       "</g>\n",
       "<g id=\"clust2\" class=\"cluster\">\n",
       "<title>cluster_cell_types</title>\n",
       "<polygon fill=\"none\" stroke=\"black\" points=\"192,-39 192,-153 284,-153 284,-39 192,-39\"/>\n",
       "<text text-anchor=\"middle\" x=\"248.5\" y=\"-46.8\" font-family=\"Times,serif\" font-size=\"14.00\">cell_types</text>\n",
       "</g>\n",
       "<g id=\"clust3\" class=\"cluster\">\n",
       "<title>cluster_covariate</title>\n",
       "<polygon fill=\"none\" stroke=\"black\" points=\"200,-70 200,-145 276,-145 276,-70 200,-70\"/>\n",
       "<text text-anchor=\"middle\" x=\"243\" y=\"-77.8\" font-family=\"Times,serif\" font-size=\"14.00\">covariate</text>\n",
       "</g>\n",
       "<g id=\"clust4\" class=\"cluster\">\n",
       "<title>cluster_cells</title>\n",
       "<polygon fill=\"none\" stroke=\"black\" points=\"88,-70 88,-145 184,-145 184,-70 88,-70\"/>\n",
       "<text text-anchor=\"middle\" x=\"163.5\" y=\"-77.8\" font-family=\"Times,serif\" font-size=\"14.00\">cells</text>\n",
       "</g>\n",
       "<!-- eps_g -->\n",
       "<g id=\"node1\" class=\"node\">\n",
       "<title>eps_g</title>\n",
       "<ellipse fill=\"white\" stroke=\"black\" cx=\"47\" cy=\"-119\" rx=\"31.4\" ry=\"18\"/>\n",
       "<text text-anchor=\"middle\" x=\"47\" y=\"-115.3\" font-family=\"Times,serif\" font-size=\"14.00\">eps_g</text>\n",
       "</g>\n",
       "<!-- alpha -->\n",
       "<g id=\"node2\" class=\"node\">\n",
       "<title>alpha</title>\n",
       "<ellipse fill=\"white\" stroke=\"black\" cx=\"238\" cy=\"-119\" rx=\"29.8\" ry=\"18\"/>\n",
       "<text text-anchor=\"middle\" x=\"238\" y=\"-115.3\" font-family=\"Times,serif\" font-size=\"14.00\">alpha</text>\n",
       "</g>\n",
       "<!-- eps_n1g -->\n",
       "<g id=\"node3\" class=\"node\">\n",
       "<title>eps_n1g</title>\n",
       "<ellipse fill=\"white\" stroke=\"black\" cx=\"136\" cy=\"-119\" rx=\"40.09\" ry=\"18\"/>\n",
       "<text text-anchor=\"middle\" x=\"136\" y=\"-115.3\" font-family=\"Times,serif\" font-size=\"14.00\">eps_n1g</text>\n",
       "</g>\n",
       "</g>\n",
       "</svg>\n"
      ],
      "text/plain": [
       "<graphviz.graphs.Digraph at 0x7fd4c3baf970>"
      ]
     },
     "execution_count": 12,
     "metadata": {},
     "output_type": "execute_result"
    }
   ],
   "source": [
    "# guide_poisson_log_normal_C = pyro.infer.autoguide.AutoDelta(model_poisson_log_normal_C)\n",
    "\n",
    "def guide_poisson_log_normal_C(dataset, observed: bool = True):\n",
    "    # Unpack the dataset\n",
    "    counts_ng = dataset[\"counts\"].long()\n",
    "    covariates_nl = dataset['other_covariates'].float()  \n",
    "    cell_type_ids_n = dataset['cell_type_codes'].long()  # ids: 0,1,...,K-1\n",
    "    k = cell_type_ids_n.max().item()+1\n",
    "    \n",
    "    n, g = counts_ng.shape[:2]\n",
    "    n, l = covariates_nl.shape[:2]\n",
    "    n = cell_type_ids_n.shape[0]  \n",
    "    assert isinstance(k, int) and k>0, \"Got {0}\".format(k)\n",
    "    assert isinstance(l, int) and l>0, \"Got {0}\".format(l)\n",
    "    assert isinstance(n, int) and n>0, \"Got {0}\".format(n)\n",
    "    assert isinstance(g, int) and g>0, \"Got {0}\".format(g)\n",
    "    \n",
    "    if torch.cuda.is_available(): \n",
    "        covariates_nl = covariates_nl.cuda()\n",
    "        cell_type_ids_n = cell_type_ids_n.cuda()\n",
    "        counts_ng = counts_ng.cuda()\n",
    "    device = covariates_nl.device\n",
    "    \n",
    "    # Define the gene and cell plates. It make sense to subsample only gene and cells.\n",
    "    cell_plate = pyro.plate(\"cells\", size=n, dim=-3, device=device, subsample_size=None) \n",
    "    cell_types_plate = pyro.plate(\"cell_types\", size=k, dim=-3, device=device)\n",
    "    covariate_plate = pyro.plate(\"covariate\", size=l, dim=-2, device=device)\n",
    "    gene_plate = pyro.plate(\"genes\", size=g, dim=-1, device=device, subsample_size=None) \n",
    "    \n",
    "    \n",
    "    eps_param_g = pyro.param(\n",
    "        \"eps_loc_g\", \n",
    "        eps_g_low * torch.ones(g, device=device),\n",
    "        constraint=constraints.interval(eps_g_low, eps_g_high))\n",
    "    \n",
    "    alpha_param_loc_klg = pyro.param(\n",
    "        \"alpha_loc\", \n",
    "        torch.zeros((k,l,g), device=device))\n",
    "    \n",
    "    alpha_param_scale_klg = pyro.param(\n",
    "        \"alpha_scale\", \n",
    "        alpha_scale * torch.ones((k,l,g), device=device),\n",
    "        constraint=constraints.positive)\n",
    "        \n",
    "    with gene_plate as ind_g: \n",
    "        eps_g = pyro.sample(\"eps_g\", dist.Delta(v=eps_param_g[ind_g]))\n",
    "        with cell_types_plate:\n",
    "            with covariate_plate:\n",
    "                alpha_klg = pyro.sample(\"alpha\", dist.Normal(loc=alpha_param_loc_klg, \n",
    "                                                             scale=alpha_param_scale_klg))\n",
    "       \n",
    "    with cell_plate as ind_n:\n",
    "        with gene_plate as ind_g: \n",
    "            eps_n1g = pyro.sample(\"eps_n1g\", dist.Normal(loc=0, scale=eps_g))\n",
    "            \n",
    "\n",
    "trace = poutine.trace(guide_poisson_log_normal_C).get_trace(fake_dataset)\n",
    "trace.compute_log_prob()  # optional, but allows printing of log_prob shapes\n",
    "print(trace.format_shapes())\n",
    "\n",
    "pyro.render_model(guide_poisson_log_normal_C, model_kwargs={\"dataset\": fake_dataset})"
   ]
  },
  {
   "cell_type": "markdown",
   "id": "60055bfd",
   "metadata": {},
   "source": [
    "# Train all models"
   ]
  },
  {
   "cell_type": "code",
   "execution_count": 13,
   "id": "25458117",
   "metadata": {},
   "outputs": [],
   "source": [
    "def train(model, guide, model_args=[], model_kargs=dict(), lr=0.005, n_steps=2500, print_frequency=50, clear_param_store=True):\n",
    "    if clear_param_store:\n",
    "        pyro.clear_param_store()\n",
    "    \n",
    "    adam = pyro.optim.Adam({\"lr\": lr})\n",
    "    svi = SVI(model, guide, adam, loss=Trace_ELBO())\n",
    "    for i in range(n_steps):\n",
    "        loss = svi.step(*model_args, **model_kargs)\n",
    "        if i % print_frequency == 0:\n",
    "            print('[iter {}]  loss: {:.4f}'.format(i, loss))"
   ]
  },
  {
   "cell_type": "markdown",
   "id": "c30b6c97-4d65-4464-9312-83f5cc6a2803",
   "metadata": {},
   "source": [
    "### train model A"
   ]
  },
  {
   "cell_type": "code",
   "execution_count": 14,
   "id": "b134dd69",
   "metadata": {},
   "outputs": [],
   "source": [
    "# start_time = time.time()\n",
    "# print(\"Starting training\")\n",
    "# \n",
    "# train(model_poisson_log_normal_A, guide_poisson_log_normal_A, \n",
    "#       model_kargs = {\"dataset\": fake_dataset, \"observed\": True}, \n",
    "#       n_steps=1, #2001, \n",
    "#       print_frequency=50,\n",
    "#      clear_param_store=True)\n",
    "# \n",
    "# delta_time = time.time()-start_time\n",
    "# print(\"Traning time was {0:.3f} seconds\".format(delta_time))\n",
    "# \n",
    "# pyro.get_param_store().save(filename=\"params_model_A.pt\")\n",
    "# \n",
    "# for name, value in pyro.get_param_store().items():\n",
    "#     print(name, pyro.param(name).shape)"
   ]
  },
  {
   "cell_type": "markdown",
   "id": "9980916b-a396-4a55-b029-fdd2153040b4",
   "metadata": {},
   "source": [
    "### train model B"
   ]
  },
  {
   "cell_type": "code",
   "execution_count": 15,
   "id": "4902b3b2",
   "metadata": {},
   "outputs": [],
   "source": [
    "# start_time = time.time()\n",
    "# print(\"Starting training\")\n",
    "# \n",
    "# train(model_poisson_log_normal_B, guide_poisson_log_normal_B, \n",
    "#       model_kargs = {\"dataset\": fake_dataset, \"observed\": True}, \n",
    "#       n_steps=1, #2001, \n",
    "#       print_frequency=50,\n",
    "#       clear_param_store=True)\n",
    "# \n",
    "# delta_time = time.time()-start_time\n",
    "# print(\"Traning time was {0:.3f} seconds\".format(delta_time))\n",
    "# \n",
    "# pyro.get_param_store().save(filename=\"params_model_B.pt\")\n",
    "# \n",
    "# for name, value in pyro.get_param_store().items():\n",
    "#     print(name, pyro.param(name).shape)"
   ]
  },
  {
   "cell_type": "markdown",
   "id": "eb4d2a15-b14f-4a8a-a483-117f274bb7ed",
   "metadata": {},
   "source": [
    "### train model C"
   ]
  },
  {
   "cell_type": "code",
   "execution_count": 17,
   "id": "9773b3f1-f330-4297-b130-3e8199b5124f",
   "metadata": {},
   "outputs": [],
   "source": [
    "# start_time = time.time()\n",
    "# print(\"Starting training\")\n",
    "# \n",
    "# train(model_poisson_log_normal_C, guide_poisson_log_normal_C, \n",
    "#       model_kargs = {\"dataset\": fake_dataset, \"observed\": True}, \n",
    "#       n_steps=1, #2001, \n",
    "#       print_frequency=50,\n",
    "#       clear_param_store=True)\n",
    "# \n",
    "# delta_time = time.time()-start_time\n",
    "# print(\"Traning time was {0:.3f} seconds\".format(delta_time))\n",
    "# \n",
    "# pyro.get_param_store().save(filename=\"params_model_C.pt\")\n",
    "# \n",
    "# for name, value in pyro.get_param_store().items():\n",
    "#     print(name, pyro.param(name).shape)"
   ]
  },
  {
   "cell_type": "markdown",
   "id": "39bf5184",
   "metadata": {},
   "source": [
    "### Plot the predicted_counts vs the real_counts"
   ]
  },
  {
   "cell_type": "code",
   "execution_count": 18,
   "id": "8936c0e2",
   "metadata": {},
   "outputs": [],
   "source": [
    "from pyro.infer import Predictive"
   ]
  },
  {
   "cell_type": "code",
   "execution_count": 19,
   "id": "a7bcb8f6",
   "metadata": {},
   "outputs": [
    {
     "name": "stdout",
     "output_type": "stream",
     "text": [
      "counts: (2, 20000, 1, 500)\n"
     ]
    }
   ],
   "source": [
    "pyro.get_param_store().load(filename=\"params_model_A.pt\")\n",
    "predictive_A = Predictive(model_poisson_log_normal_A, guide=guide_poisson_log_normal_A, num_samples=2, \n",
    "                        return_sites={\"counts\"})\n",
    "samples_A = predictive_A.get_samples(fake_dataset, observed=False)\n",
    "for k, v in samples_A.items():\n",
    "    print(f\"{k}: {tuple(v.shape)}\")"
   ]
  },
  {
   "cell_type": "code",
   "execution_count": 21,
   "id": "27940635-95e7-4eb1-9a74-bef9b2d45039",
   "metadata": {},
   "outputs": [
    {
     "ename": "AttributeError",
     "evalue": "'AutoDelta' object has no attribute 'counts_unconstrained'",
     "output_type": "error",
     "traceback": [
      "\u001b[0;31m---------------------------------------------------------------------------\u001b[0m",
      "\u001b[0;31mAttributeError\u001b[0m                            Traceback (most recent call last)",
      "\u001b[0;32m<ipython-input-21-dae807881609>\u001b[0m in \u001b[0;36m<module>\u001b[0;34m\u001b[0m\n\u001b[1;32m      2\u001b[0m predictive_B = Predictive(model_poisson_log_normal_B, guide=guide_poisson_log_normal_B, num_samples=2, \n\u001b[1;32m      3\u001b[0m                         return_sites={\"counts\"})\n\u001b[0;32m----> 4\u001b[0;31m \u001b[0msamples_B\u001b[0m \u001b[0;34m=\u001b[0m \u001b[0mpredictive_B\u001b[0m\u001b[0;34m.\u001b[0m\u001b[0mget_samples\u001b[0m\u001b[0;34m(\u001b[0m\u001b[0mfake_dataset\u001b[0m\u001b[0;34m,\u001b[0m \u001b[0mobserved\u001b[0m\u001b[0;34m=\u001b[0m\u001b[0;32mFalse\u001b[0m\u001b[0;34m)\u001b[0m\u001b[0;34m\u001b[0m\u001b[0;34m\u001b[0m\u001b[0m\n\u001b[0m\u001b[1;32m      5\u001b[0m \u001b[0;32mfor\u001b[0m \u001b[0mk\u001b[0m\u001b[0;34m,\u001b[0m \u001b[0mv\u001b[0m \u001b[0;32min\u001b[0m \u001b[0msamples_B\u001b[0m\u001b[0;34m.\u001b[0m\u001b[0mitems\u001b[0m\u001b[0;34m(\u001b[0m\u001b[0;34m)\u001b[0m\u001b[0;34m:\u001b[0m\u001b[0;34m\u001b[0m\u001b[0;34m\u001b[0m\u001b[0m\n\u001b[1;32m      6\u001b[0m     \u001b[0mprint\u001b[0m\u001b[0;34m(\u001b[0m\u001b[0;34mf\"{k}: {tuple(v.shape)}\"\u001b[0m\u001b[0;34m)\u001b[0m\u001b[0;34m\u001b[0m\u001b[0;34m\u001b[0m\u001b[0m\n",
      "\u001b[0;32m~/anaconda3/envs/pyro/lib/python3.8/site-packages/pyro/infer/predictive.py\u001b[0m in \u001b[0;36mget_samples\u001b[0;34m(self, *args, **kwargs)\u001b[0m\n\u001b[1;32m    286\u001b[0m             \u001b[0mDeprecationWarning\u001b[0m\u001b[0;34m,\u001b[0m\u001b[0;34m\u001b[0m\u001b[0;34m\u001b[0m\u001b[0m\n\u001b[1;32m    287\u001b[0m         )\n\u001b[0;32m--> 288\u001b[0;31m         \u001b[0;32mreturn\u001b[0m \u001b[0mself\u001b[0m\u001b[0;34m.\u001b[0m\u001b[0mforward\u001b[0m\u001b[0;34m(\u001b[0m\u001b[0;34m*\u001b[0m\u001b[0margs\u001b[0m\u001b[0;34m,\u001b[0m \u001b[0;34m**\u001b[0m\u001b[0mkwargs\u001b[0m\u001b[0;34m)\u001b[0m\u001b[0;34m\u001b[0m\u001b[0;34m\u001b[0m\u001b[0m\n\u001b[0m\u001b[1;32m    289\u001b[0m \u001b[0;34m\u001b[0m\u001b[0m\n\u001b[1;32m    290\u001b[0m     \u001b[0;32mdef\u001b[0m \u001b[0mget_vectorized_trace\u001b[0m\u001b[0;34m(\u001b[0m\u001b[0mself\u001b[0m\u001b[0;34m,\u001b[0m \u001b[0;34m*\u001b[0m\u001b[0margs\u001b[0m\u001b[0;34m,\u001b[0m \u001b[0;34m**\u001b[0m\u001b[0mkwargs\u001b[0m\u001b[0;34m)\u001b[0m\u001b[0;34m:\u001b[0m\u001b[0;34m\u001b[0m\u001b[0;34m\u001b[0m\u001b[0m\n",
      "\u001b[0;32m~/anaconda3/envs/pyro/lib/python3.8/site-packages/pyro/infer/predictive.py\u001b[0m in \u001b[0;36mforward\u001b[0;34m(self, *args, **kwargs)\u001b[0m\n\u001b[1;32m    262\u001b[0m             \u001b[0;31m# return all sites by default if a guide is provided.\u001b[0m\u001b[0;34m\u001b[0m\u001b[0;34m\u001b[0m\u001b[0;34m\u001b[0m\u001b[0m\n\u001b[1;32m    263\u001b[0m             \u001b[0mreturn_sites\u001b[0m \u001b[0;34m=\u001b[0m \u001b[0;32mNone\u001b[0m \u001b[0;32mif\u001b[0m \u001b[0;32mnot\u001b[0m \u001b[0mreturn_sites\u001b[0m \u001b[0;32melse\u001b[0m \u001b[0mreturn_sites\u001b[0m\u001b[0;34m\u001b[0m\u001b[0;34m\u001b[0m\u001b[0m\n\u001b[0;32m--> 264\u001b[0;31m             posterior_samples = _predictive(\n\u001b[0m\u001b[1;32m    265\u001b[0m                 \u001b[0mself\u001b[0m\u001b[0;34m.\u001b[0m\u001b[0mguide\u001b[0m\u001b[0;34m,\u001b[0m\u001b[0;34m\u001b[0m\u001b[0;34m\u001b[0m\u001b[0m\n\u001b[1;32m    266\u001b[0m                 \u001b[0mposterior_samples\u001b[0m\u001b[0;34m,\u001b[0m\u001b[0;34m\u001b[0m\u001b[0;34m\u001b[0m\u001b[0m\n",
      "\u001b[0;32m~/anaconda3/envs/pyro/lib/python3.8/site-packages/pyro/infer/predictive.py\u001b[0m in \u001b[0;36m_predictive\u001b[0;34m(model, posterior_samples, num_samples, return_sites, return_trace, parallel, model_args, model_kwargs)\u001b[0m\n\u001b[1;32m     76\u001b[0m ):\n\u001b[1;32m     77\u001b[0m     \u001b[0mmodel\u001b[0m \u001b[0;34m=\u001b[0m \u001b[0mtorch\u001b[0m\u001b[0;34m.\u001b[0m\u001b[0mno_grad\u001b[0m\u001b[0;34m(\u001b[0m\u001b[0;34m)\u001b[0m\u001b[0;34m(\u001b[0m\u001b[0mpoutine\u001b[0m\u001b[0;34m.\u001b[0m\u001b[0mmask\u001b[0m\u001b[0;34m(\u001b[0m\u001b[0mmodel\u001b[0m\u001b[0;34m,\u001b[0m \u001b[0mmask\u001b[0m\u001b[0;34m=\u001b[0m\u001b[0;32mFalse\u001b[0m\u001b[0;34m)\u001b[0m\u001b[0;34m)\u001b[0m\u001b[0;34m\u001b[0m\u001b[0;34m\u001b[0m\u001b[0m\n\u001b[0;32m---> 78\u001b[0;31m     \u001b[0mmax_plate_nesting\u001b[0m \u001b[0;34m=\u001b[0m \u001b[0m_guess_max_plate_nesting\u001b[0m\u001b[0;34m(\u001b[0m\u001b[0mmodel\u001b[0m\u001b[0;34m,\u001b[0m \u001b[0mmodel_args\u001b[0m\u001b[0;34m,\u001b[0m \u001b[0mmodel_kwargs\u001b[0m\u001b[0;34m)\u001b[0m\u001b[0;34m\u001b[0m\u001b[0;34m\u001b[0m\u001b[0m\n\u001b[0m\u001b[1;32m     79\u001b[0m     vectorize = pyro.plate(\n\u001b[1;32m     80\u001b[0m         \u001b[0;34m\"_num_predictive_samples\"\u001b[0m\u001b[0;34m,\u001b[0m \u001b[0mnum_samples\u001b[0m\u001b[0;34m,\u001b[0m \u001b[0mdim\u001b[0m\u001b[0;34m=\u001b[0m\u001b[0;34m-\u001b[0m\u001b[0mmax_plate_nesting\u001b[0m \u001b[0;34m-\u001b[0m \u001b[0;36m1\u001b[0m\u001b[0;34m\u001b[0m\u001b[0;34m\u001b[0m\u001b[0m\n",
      "\u001b[0;32m~/anaconda3/envs/pyro/lib/python3.8/site-packages/pyro/infer/predictive.py\u001b[0m in \u001b[0;36m_guess_max_plate_nesting\u001b[0;34m(model, args, kwargs)\u001b[0m\n\u001b[1;32m     19\u001b[0m     \"\"\"\n\u001b[1;32m     20\u001b[0m     \u001b[0;32mwith\u001b[0m \u001b[0mpoutine\u001b[0m\u001b[0;34m.\u001b[0m\u001b[0mblock\u001b[0m\u001b[0;34m(\u001b[0m\u001b[0;34m)\u001b[0m\u001b[0;34m:\u001b[0m\u001b[0;34m\u001b[0m\u001b[0;34m\u001b[0m\u001b[0m\n\u001b[0;32m---> 21\u001b[0;31m         \u001b[0mmodel_trace\u001b[0m \u001b[0;34m=\u001b[0m \u001b[0mpoutine\u001b[0m\u001b[0;34m.\u001b[0m\u001b[0mtrace\u001b[0m\u001b[0;34m(\u001b[0m\u001b[0mmodel\u001b[0m\u001b[0;34m)\u001b[0m\u001b[0;34m.\u001b[0m\u001b[0mget_trace\u001b[0m\u001b[0;34m(\u001b[0m\u001b[0;34m*\u001b[0m\u001b[0margs\u001b[0m\u001b[0;34m,\u001b[0m \u001b[0;34m**\u001b[0m\u001b[0mkwargs\u001b[0m\u001b[0;34m)\u001b[0m\u001b[0;34m\u001b[0m\u001b[0;34m\u001b[0m\u001b[0m\n\u001b[0m\u001b[1;32m     22\u001b[0m     \u001b[0msites\u001b[0m \u001b[0;34m=\u001b[0m \u001b[0;34m[\u001b[0m\u001b[0msite\u001b[0m \u001b[0;32mfor\u001b[0m \u001b[0msite\u001b[0m \u001b[0;32min\u001b[0m \u001b[0mmodel_trace\u001b[0m\u001b[0;34m.\u001b[0m\u001b[0mnodes\u001b[0m\u001b[0;34m.\u001b[0m\u001b[0mvalues\u001b[0m\u001b[0;34m(\u001b[0m\u001b[0;34m)\u001b[0m \u001b[0;32mif\u001b[0m \u001b[0msite\u001b[0m\u001b[0;34m[\u001b[0m\u001b[0;34m\"type\"\u001b[0m\u001b[0;34m]\u001b[0m \u001b[0;34m==\u001b[0m \u001b[0;34m\"sample\"\u001b[0m\u001b[0;34m]\u001b[0m\u001b[0;34m\u001b[0m\u001b[0;34m\u001b[0m\u001b[0m\n\u001b[1;32m     23\u001b[0m \u001b[0;34m\u001b[0m\u001b[0m\n",
      "\u001b[0;32m~/anaconda3/envs/pyro/lib/python3.8/site-packages/pyro/poutine/trace_messenger.py\u001b[0m in \u001b[0;36mget_trace\u001b[0;34m(self, *args, **kwargs)\u001b[0m\n\u001b[1;32m    196\u001b[0m         \u001b[0mCalls\u001b[0m \u001b[0mthis\u001b[0m \u001b[0mpoutine\u001b[0m \u001b[0;32mand\u001b[0m \u001b[0mreturns\u001b[0m \u001b[0mits\u001b[0m \u001b[0mtrace\u001b[0m \u001b[0minstead\u001b[0m \u001b[0mof\u001b[0m \u001b[0mthe\u001b[0m \u001b[0mfunction\u001b[0m\u001b[0;31m'\u001b[0m\u001b[0ms\u001b[0m \u001b[0;32mreturn\u001b[0m \u001b[0mvalue\u001b[0m\u001b[0;34m.\u001b[0m\u001b[0;34m\u001b[0m\u001b[0;34m\u001b[0m\u001b[0m\n\u001b[1;32m    197\u001b[0m         \"\"\"\n\u001b[0;32m--> 198\u001b[0;31m         \u001b[0mself\u001b[0m\u001b[0;34m(\u001b[0m\u001b[0;34m*\u001b[0m\u001b[0margs\u001b[0m\u001b[0;34m,\u001b[0m \u001b[0;34m**\u001b[0m\u001b[0mkwargs\u001b[0m\u001b[0;34m)\u001b[0m\u001b[0;34m\u001b[0m\u001b[0;34m\u001b[0m\u001b[0m\n\u001b[0m\u001b[1;32m    199\u001b[0m         \u001b[0;32mreturn\u001b[0m \u001b[0mself\u001b[0m\u001b[0;34m.\u001b[0m\u001b[0mmsngr\u001b[0m\u001b[0;34m.\u001b[0m\u001b[0mget_trace\u001b[0m\u001b[0;34m(\u001b[0m\u001b[0;34m)\u001b[0m\u001b[0;34m\u001b[0m\u001b[0;34m\u001b[0m\u001b[0m\n",
      "\u001b[0;32m~/anaconda3/envs/pyro/lib/python3.8/site-packages/pyro/poutine/trace_messenger.py\u001b[0m in \u001b[0;36m__call__\u001b[0;34m(self, *args, **kwargs)\u001b[0m\n\u001b[1;32m    172\u001b[0m             )\n\u001b[1;32m    173\u001b[0m             \u001b[0;32mtry\u001b[0m\u001b[0;34m:\u001b[0m\u001b[0;34m\u001b[0m\u001b[0;34m\u001b[0m\u001b[0m\n\u001b[0;32m--> 174\u001b[0;31m                 \u001b[0mret\u001b[0m \u001b[0;34m=\u001b[0m \u001b[0mself\u001b[0m\u001b[0;34m.\u001b[0m\u001b[0mfn\u001b[0m\u001b[0;34m(\u001b[0m\u001b[0;34m*\u001b[0m\u001b[0margs\u001b[0m\u001b[0;34m,\u001b[0m \u001b[0;34m**\u001b[0m\u001b[0mkwargs\u001b[0m\u001b[0;34m)\u001b[0m\u001b[0;34m\u001b[0m\u001b[0;34m\u001b[0m\u001b[0m\n\u001b[0m\u001b[1;32m    175\u001b[0m             \u001b[0;32mexcept\u001b[0m \u001b[0;34m(\u001b[0m\u001b[0mValueError\u001b[0m\u001b[0;34m,\u001b[0m \u001b[0mRuntimeError\u001b[0m\u001b[0;34m)\u001b[0m \u001b[0;32mas\u001b[0m \u001b[0me\u001b[0m\u001b[0;34m:\u001b[0m\u001b[0;34m\u001b[0m\u001b[0;34m\u001b[0m\u001b[0m\n\u001b[1;32m    176\u001b[0m                 \u001b[0mexc_type\u001b[0m\u001b[0;34m,\u001b[0m \u001b[0mexc_value\u001b[0m\u001b[0;34m,\u001b[0m \u001b[0mtraceback\u001b[0m \u001b[0;34m=\u001b[0m \u001b[0msys\u001b[0m\u001b[0;34m.\u001b[0m\u001b[0mexc_info\u001b[0m\u001b[0;34m(\u001b[0m\u001b[0;34m)\u001b[0m\u001b[0;34m\u001b[0m\u001b[0;34m\u001b[0m\u001b[0m\n",
      "\u001b[0;32m~/anaconda3/envs/pyro/lib/python3.8/site-packages/torch/autograd/grad_mode.py\u001b[0m in \u001b[0;36mdecorate_context\u001b[0;34m(*args, **kwargs)\u001b[0m\n\u001b[1;32m     26\u001b[0m         \u001b[0;32mdef\u001b[0m \u001b[0mdecorate_context\u001b[0m\u001b[0;34m(\u001b[0m\u001b[0;34m*\u001b[0m\u001b[0margs\u001b[0m\u001b[0;34m,\u001b[0m \u001b[0;34m**\u001b[0m\u001b[0mkwargs\u001b[0m\u001b[0;34m)\u001b[0m\u001b[0;34m:\u001b[0m\u001b[0;34m\u001b[0m\u001b[0;34m\u001b[0m\u001b[0m\n\u001b[1;32m     27\u001b[0m             \u001b[0;32mwith\u001b[0m \u001b[0mself\u001b[0m\u001b[0;34m.\u001b[0m\u001b[0m__class__\u001b[0m\u001b[0;34m(\u001b[0m\u001b[0;34m)\u001b[0m\u001b[0;34m:\u001b[0m\u001b[0;34m\u001b[0m\u001b[0;34m\u001b[0m\u001b[0m\n\u001b[0;32m---> 28\u001b[0;31m                 \u001b[0;32mreturn\u001b[0m \u001b[0mfunc\u001b[0m\u001b[0;34m(\u001b[0m\u001b[0;34m*\u001b[0m\u001b[0margs\u001b[0m\u001b[0;34m,\u001b[0m \u001b[0;34m**\u001b[0m\u001b[0mkwargs\u001b[0m\u001b[0;34m)\u001b[0m\u001b[0;34m\u001b[0m\u001b[0;34m\u001b[0m\u001b[0m\n\u001b[0m\u001b[1;32m     29\u001b[0m         \u001b[0;32mreturn\u001b[0m \u001b[0mcast\u001b[0m\u001b[0;34m(\u001b[0m\u001b[0mF\u001b[0m\u001b[0;34m,\u001b[0m \u001b[0mdecorate_context\u001b[0m\u001b[0;34m)\u001b[0m\u001b[0;34m\u001b[0m\u001b[0;34m\u001b[0m\u001b[0m\n\u001b[1;32m     30\u001b[0m \u001b[0;34m\u001b[0m\u001b[0m\n",
      "\u001b[0;32m~/anaconda3/envs/pyro/lib/python3.8/site-packages/pyro/poutine/messenger.py\u001b[0m in \u001b[0;36m_context_wrap\u001b[0;34m(context, fn, *args, **kwargs)\u001b[0m\n\u001b[1;32m     10\u001b[0m \u001b[0;32mdef\u001b[0m \u001b[0m_context_wrap\u001b[0m\u001b[0;34m(\u001b[0m\u001b[0mcontext\u001b[0m\u001b[0;34m,\u001b[0m \u001b[0mfn\u001b[0m\u001b[0;34m,\u001b[0m \u001b[0;34m*\u001b[0m\u001b[0margs\u001b[0m\u001b[0;34m,\u001b[0m \u001b[0;34m**\u001b[0m\u001b[0mkwargs\u001b[0m\u001b[0;34m)\u001b[0m\u001b[0;34m:\u001b[0m\u001b[0;34m\u001b[0m\u001b[0;34m\u001b[0m\u001b[0m\n\u001b[1;32m     11\u001b[0m     \u001b[0;32mwith\u001b[0m \u001b[0mcontext\u001b[0m\u001b[0;34m:\u001b[0m\u001b[0;34m\u001b[0m\u001b[0;34m\u001b[0m\u001b[0m\n\u001b[0;32m---> 12\u001b[0;31m         \u001b[0;32mreturn\u001b[0m \u001b[0mfn\u001b[0m\u001b[0;34m(\u001b[0m\u001b[0;34m*\u001b[0m\u001b[0margs\u001b[0m\u001b[0;34m,\u001b[0m \u001b[0;34m**\u001b[0m\u001b[0mkwargs\u001b[0m\u001b[0;34m)\u001b[0m\u001b[0;34m\u001b[0m\u001b[0;34m\u001b[0m\u001b[0m\n\u001b[0m\u001b[1;32m     13\u001b[0m \u001b[0;34m\u001b[0m\u001b[0m\n\u001b[1;32m     14\u001b[0m \u001b[0;34m\u001b[0m\u001b[0m\n",
      "\u001b[0;32m~/anaconda3/envs/pyro/lib/python3.8/site-packages/pyro/nn/module.py\u001b[0m in \u001b[0;36m__call__\u001b[0;34m(self, *args, **kwargs)\u001b[0m\n\u001b[1;32m    424\u001b[0m     \u001b[0;32mdef\u001b[0m \u001b[0m__call__\u001b[0m\u001b[0;34m(\u001b[0m\u001b[0mself\u001b[0m\u001b[0;34m,\u001b[0m \u001b[0;34m*\u001b[0m\u001b[0margs\u001b[0m\u001b[0;34m,\u001b[0m \u001b[0;34m**\u001b[0m\u001b[0mkwargs\u001b[0m\u001b[0;34m)\u001b[0m\u001b[0;34m:\u001b[0m\u001b[0;34m\u001b[0m\u001b[0;34m\u001b[0m\u001b[0m\n\u001b[1;32m    425\u001b[0m         \u001b[0;32mwith\u001b[0m \u001b[0mself\u001b[0m\u001b[0;34m.\u001b[0m\u001b[0m_pyro_context\u001b[0m\u001b[0;34m:\u001b[0m\u001b[0;34m\u001b[0m\u001b[0;34m\u001b[0m\u001b[0m\n\u001b[0;32m--> 426\u001b[0;31m             \u001b[0;32mreturn\u001b[0m \u001b[0msuper\u001b[0m\u001b[0;34m(\u001b[0m\u001b[0;34m)\u001b[0m\u001b[0;34m.\u001b[0m\u001b[0m__call__\u001b[0m\u001b[0;34m(\u001b[0m\u001b[0;34m*\u001b[0m\u001b[0margs\u001b[0m\u001b[0;34m,\u001b[0m \u001b[0;34m**\u001b[0m\u001b[0mkwargs\u001b[0m\u001b[0;34m)\u001b[0m\u001b[0;34m\u001b[0m\u001b[0;34m\u001b[0m\u001b[0m\n\u001b[0m\u001b[1;32m    427\u001b[0m \u001b[0;34m\u001b[0m\u001b[0m\n\u001b[1;32m    428\u001b[0m     \u001b[0;32mdef\u001b[0m \u001b[0m__getattr__\u001b[0m\u001b[0;34m(\u001b[0m\u001b[0mself\u001b[0m\u001b[0;34m,\u001b[0m \u001b[0mname\u001b[0m\u001b[0;34m)\u001b[0m\u001b[0;34m:\u001b[0m\u001b[0;34m\u001b[0m\u001b[0;34m\u001b[0m\u001b[0m\n",
      "\u001b[0;32m~/anaconda3/envs/pyro/lib/python3.8/site-packages/torch/nn/modules/module.py\u001b[0m in \u001b[0;36m_call_impl\u001b[0;34m(self, *input, **kwargs)\u001b[0m\n\u001b[1;32m   1049\u001b[0m         if not (self._backward_hooks or self._forward_hooks or self._forward_pre_hooks or _global_backward_hooks\n\u001b[1;32m   1050\u001b[0m                 or _global_forward_hooks or _global_forward_pre_hooks):\n\u001b[0;32m-> 1051\u001b[0;31m             \u001b[0;32mreturn\u001b[0m \u001b[0mforward_call\u001b[0m\u001b[0;34m(\u001b[0m\u001b[0;34m*\u001b[0m\u001b[0minput\u001b[0m\u001b[0;34m,\u001b[0m \u001b[0;34m**\u001b[0m\u001b[0mkwargs\u001b[0m\u001b[0;34m)\u001b[0m\u001b[0;34m\u001b[0m\u001b[0;34m\u001b[0m\u001b[0m\n\u001b[0m\u001b[1;32m   1052\u001b[0m         \u001b[0;31m# Do not call functions when jit is used\u001b[0m\u001b[0;34m\u001b[0m\u001b[0;34m\u001b[0m\u001b[0;34m\u001b[0m\u001b[0m\n\u001b[1;32m   1053\u001b[0m         \u001b[0mfull_backward_hooks\u001b[0m\u001b[0;34m,\u001b[0m \u001b[0mnon_full_backward_hooks\u001b[0m \u001b[0;34m=\u001b[0m \u001b[0;34m[\u001b[0m\u001b[0;34m]\u001b[0m\u001b[0;34m,\u001b[0m \u001b[0;34m[\u001b[0m\u001b[0;34m]\u001b[0m\u001b[0;34m\u001b[0m\u001b[0;34m\u001b[0m\u001b[0m\n",
      "\u001b[0;32m~/anaconda3/envs/pyro/lib/python3.8/site-packages/pyro/infer/autoguide/guides.py\u001b[0m in \u001b[0;36mforward\u001b[0;34m(self, *args, **kwargs)\u001b[0m\n\u001b[1;32m    396\u001b[0m                 \u001b[0mattr_get\u001b[0m \u001b[0;34m=\u001b[0m \u001b[0moperator\u001b[0m\u001b[0;34m.\u001b[0m\u001b[0mattrgetter\u001b[0m\u001b[0;34m(\u001b[0m\u001b[0mname\u001b[0m\u001b[0;34m)\u001b[0m\u001b[0;34m\u001b[0m\u001b[0;34m\u001b[0m\u001b[0m\n\u001b[1;32m    397\u001b[0m                 result[name] = pyro.sample(\n\u001b[0;32m--> 398\u001b[0;31m                     \u001b[0mname\u001b[0m\u001b[0;34m,\u001b[0m \u001b[0mdist\u001b[0m\u001b[0;34m.\u001b[0m\u001b[0mDelta\u001b[0m\u001b[0;34m(\u001b[0m\u001b[0mattr_get\u001b[0m\u001b[0;34m(\u001b[0m\u001b[0mself\u001b[0m\u001b[0;34m)\u001b[0m\u001b[0;34m,\u001b[0m \u001b[0mevent_dim\u001b[0m\u001b[0;34m=\u001b[0m\u001b[0msite\u001b[0m\u001b[0;34m[\u001b[0m\u001b[0;34m\"fn\"\u001b[0m\u001b[0;34m]\u001b[0m\u001b[0;34m.\u001b[0m\u001b[0mevent_dim\u001b[0m\u001b[0;34m)\u001b[0m\u001b[0;34m\u001b[0m\u001b[0;34m\u001b[0m\u001b[0m\n\u001b[0m\u001b[1;32m    399\u001b[0m                 )\n\u001b[1;32m    400\u001b[0m         \u001b[0;32mreturn\u001b[0m \u001b[0mresult\u001b[0m\u001b[0;34m\u001b[0m\u001b[0;34m\u001b[0m\u001b[0m\n",
      "\u001b[0;32m~/anaconda3/envs/pyro/lib/python3.8/site-packages/pyro/nn/module.py\u001b[0m in \u001b[0;36m__getattr__\u001b[0;34m(self, name)\u001b[0m\n\u001b[1;32m    432\u001b[0m             \u001b[0;32mif\u001b[0m \u001b[0mname\u001b[0m \u001b[0;32min\u001b[0m \u001b[0m_pyro_params\u001b[0m\u001b[0;34m:\u001b[0m\u001b[0;34m\u001b[0m\u001b[0;34m\u001b[0m\u001b[0m\n\u001b[1;32m    433\u001b[0m                 \u001b[0mconstraint\u001b[0m\u001b[0;34m,\u001b[0m \u001b[0mevent_dim\u001b[0m \u001b[0;34m=\u001b[0m \u001b[0m_pyro_params\u001b[0m\u001b[0;34m[\u001b[0m\u001b[0mname\u001b[0m\u001b[0;34m]\u001b[0m\u001b[0;34m\u001b[0m\u001b[0;34m\u001b[0m\u001b[0m\n\u001b[0;32m--> 434\u001b[0;31m                 \u001b[0munconstrained_value\u001b[0m \u001b[0;34m=\u001b[0m \u001b[0mgetattr\u001b[0m\u001b[0;34m(\u001b[0m\u001b[0mself\u001b[0m\u001b[0;34m,\u001b[0m \u001b[0mname\u001b[0m \u001b[0;34m+\u001b[0m \u001b[0;34m\"_unconstrained\"\u001b[0m\u001b[0;34m)\u001b[0m\u001b[0;34m\u001b[0m\u001b[0;34m\u001b[0m\u001b[0m\n\u001b[0m\u001b[1;32m    435\u001b[0m                 \u001b[0;32mif\u001b[0m \u001b[0mself\u001b[0m\u001b[0;34m.\u001b[0m\u001b[0m_pyro_context\u001b[0m\u001b[0;34m.\u001b[0m\u001b[0mactive\u001b[0m\u001b[0;34m:\u001b[0m\u001b[0;34m\u001b[0m\u001b[0;34m\u001b[0m\u001b[0m\n\u001b[1;32m    436\u001b[0m                     \u001b[0mfullname\u001b[0m \u001b[0;34m=\u001b[0m \u001b[0mself\u001b[0m\u001b[0;34m.\u001b[0m\u001b[0m_pyro_get_fullname\u001b[0m\u001b[0;34m(\u001b[0m\u001b[0mname\u001b[0m\u001b[0;34m)\u001b[0m\u001b[0;34m\u001b[0m\u001b[0;34m\u001b[0m\u001b[0m\n",
      "\u001b[0;32m~/anaconda3/envs/pyro/lib/python3.8/site-packages/pyro/nn/module.py\u001b[0m in \u001b[0;36m__getattr__\u001b[0;34m(self, name)\u001b[0m\n\u001b[1;32m    485\u001b[0m                     \u001b[0;32mreturn\u001b[0m \u001b[0mprior\u001b[0m\u001b[0;34m(\u001b[0m\u001b[0;34m)\u001b[0m\u001b[0;34m\u001b[0m\u001b[0;34m\u001b[0m\u001b[0m\n\u001b[1;32m    486\u001b[0m \u001b[0;34m\u001b[0m\u001b[0m\n\u001b[0;32m--> 487\u001b[0;31m         \u001b[0mresult\u001b[0m \u001b[0;34m=\u001b[0m \u001b[0msuper\u001b[0m\u001b[0;34m(\u001b[0m\u001b[0;34m)\u001b[0m\u001b[0;34m.\u001b[0m\u001b[0m__getattr__\u001b[0m\u001b[0;34m(\u001b[0m\u001b[0mname\u001b[0m\u001b[0;34m)\u001b[0m\u001b[0;34m\u001b[0m\u001b[0;34m\u001b[0m\u001b[0m\n\u001b[0m\u001b[1;32m    488\u001b[0m \u001b[0;34m\u001b[0m\u001b[0m\n\u001b[1;32m    489\u001b[0m         \u001b[0;31m# Regular nn.Parameters trigger pyro.param statements.\u001b[0m\u001b[0;34m\u001b[0m\u001b[0;34m\u001b[0m\u001b[0;34m\u001b[0m\u001b[0m\n",
      "\u001b[0;32m~/anaconda3/envs/pyro/lib/python3.8/site-packages/torch/nn/modules/module.py\u001b[0m in \u001b[0;36m__getattr__\u001b[0;34m(self, name)\u001b[0m\n\u001b[1;32m   1128\u001b[0m             \u001b[0;32mif\u001b[0m \u001b[0mname\u001b[0m \u001b[0;32min\u001b[0m \u001b[0mmodules\u001b[0m\u001b[0;34m:\u001b[0m\u001b[0;34m\u001b[0m\u001b[0;34m\u001b[0m\u001b[0m\n\u001b[1;32m   1129\u001b[0m                 \u001b[0;32mreturn\u001b[0m \u001b[0mmodules\u001b[0m\u001b[0;34m[\u001b[0m\u001b[0mname\u001b[0m\u001b[0;34m]\u001b[0m\u001b[0;34m\u001b[0m\u001b[0;34m\u001b[0m\u001b[0m\n\u001b[0;32m-> 1130\u001b[0;31m         raise AttributeError(\"'{}' object has no attribute '{}'\".format(\n\u001b[0m\u001b[1;32m   1131\u001b[0m             type(self).__name__, name))\n\u001b[1;32m   1132\u001b[0m \u001b[0;34m\u001b[0m\u001b[0m\n",
      "\u001b[0;31mAttributeError\u001b[0m: 'AutoDelta' object has no attribute 'counts_unconstrained'"
     ]
    }
   ],
   "source": [
    "pyro.get_param_store().load(filename=\"params_model_B.pt\")\n",
    "predictive_B = Predictive(model_poisson_log_normal_B, guide=guide_poisson_log_normal_B, num_samples=2, \n",
    "                        return_sites={\"counts\"})\n",
    "samples_B = predictive_B.get_samples(fake_dataset, observed=False)\n",
    "for k, v in samples_B.items():\n",
    "    print(f\"{k}: {tuple(v.shape)}\")"
   ]
  },
  {
   "cell_type": "code",
   "execution_count": 22,
   "id": "07b76c29",
   "metadata": {},
   "outputs": [],
   "source": [
    "# pyro.get_param_store().load(filename=\"params_model_B.pt\")\n",
    "# predictive_C = Predictive(model_poisson_log_normal_C, guide=guide_poisson_log_normal_C, num_samples=2, \n",
    "#                         return_sites={\"counts\"})\n",
    "# samples_C = predictive_C.get_samples(fake_dataset, observed=False)\n",
    "# for k, v in samples_C.items():\n",
    "#     print(f\"{k}: {tuple(v.shape)}\")"
   ]
  },
  {
   "cell_type": "code",
   "execution_count": 23,
   "id": "3eb88a40",
   "metadata": {},
   "outputs": [
    {
     "ename": "NameError",
     "evalue": "name 'samples_B' is not defined",
     "output_type": "error",
     "traceback": [
      "\u001b[0;31m---------------------------------------------------------------------------\u001b[0m",
      "\u001b[0;31mNameError\u001b[0m                                 Traceback (most recent call last)",
      "\u001b[0;32m<ipython-input-23-6b0997f5e1ec>\u001b[0m in \u001b[0;36m<module>\u001b[0;34m\u001b[0m\n\u001b[1;32m      1\u001b[0m \u001b[0;32massert\u001b[0m \u001b[0mtorch\u001b[0m\u001b[0;34m.\u001b[0m\u001b[0many\u001b[0m\u001b[0;34m(\u001b[0m\u001b[0msamples_A\u001b[0m\u001b[0;34m[\u001b[0m\u001b[0;34m\"counts\"\u001b[0m\u001b[0;34m]\u001b[0m\u001b[0;34m[\u001b[0m\u001b[0;36m0\u001b[0m\u001b[0;34m]\u001b[0m \u001b[0;34m!=\u001b[0m \u001b[0msamples_A\u001b[0m\u001b[0;34m[\u001b[0m\u001b[0;34m\"counts\"\u001b[0m\u001b[0;34m]\u001b[0m\u001b[0;34m[\u001b[0m\u001b[0;36m1\u001b[0m\u001b[0;34m]\u001b[0m\u001b[0;34m)\u001b[0m\u001b[0;34m\u001b[0m\u001b[0;34m\u001b[0m\u001b[0m\n\u001b[0;32m----> 2\u001b[0;31m \u001b[0;32massert\u001b[0m \u001b[0mtorch\u001b[0m\u001b[0;34m.\u001b[0m\u001b[0many\u001b[0m\u001b[0;34m(\u001b[0m\u001b[0msamples_B\u001b[0m\u001b[0;34m[\u001b[0m\u001b[0;34m\"counts\"\u001b[0m\u001b[0;34m]\u001b[0m\u001b[0;34m[\u001b[0m\u001b[0;36m0\u001b[0m\u001b[0;34m]\u001b[0m \u001b[0;34m!=\u001b[0m \u001b[0msamples_B\u001b[0m\u001b[0;34m[\u001b[0m\u001b[0;34m\"counts\"\u001b[0m\u001b[0;34m]\u001b[0m\u001b[0;34m[\u001b[0m\u001b[0;36m1\u001b[0m\u001b[0;34m]\u001b[0m\u001b[0;34m)\u001b[0m\u001b[0;34m\u001b[0m\u001b[0;34m\u001b[0m\u001b[0m\n\u001b[0m\u001b[1;32m      3\u001b[0m \u001b[0;32massert\u001b[0m \u001b[0mtorch\u001b[0m\u001b[0;34m.\u001b[0m\u001b[0many\u001b[0m\u001b[0;34m(\u001b[0m\u001b[0msamples_C\u001b[0m\u001b[0;34m[\u001b[0m\u001b[0;34m\"counts\"\u001b[0m\u001b[0;34m]\u001b[0m\u001b[0;34m[\u001b[0m\u001b[0;36m0\u001b[0m\u001b[0;34m]\u001b[0m \u001b[0;34m!=\u001b[0m \u001b[0msamples_C\u001b[0m\u001b[0;34m[\u001b[0m\u001b[0;34m\"counts\"\u001b[0m\u001b[0;34m]\u001b[0m\u001b[0;34m[\u001b[0m\u001b[0;36m1\u001b[0m\u001b[0;34m]\u001b[0m\u001b[0;34m)\u001b[0m\u001b[0;34m\u001b[0m\u001b[0;34m\u001b[0m\u001b[0m\n",
      "\u001b[0;31mNameError\u001b[0m: name 'samples_B' is not defined"
     ]
    }
   ],
   "source": [
    "assert torch.any(samples_A[\"counts\"][0] != samples_A[\"counts\"][1])\n",
    "assert torch.any(samples_B[\"counts\"][0] != samples_B[\"counts\"][1])\n",
    "assert torch.any(samples_C[\"counts\"][0] != samples_C[\"counts\"][1])"
   ]
  },
  {
   "cell_type": "code",
   "execution_count": 24,
   "id": "32776a32",
   "metadata": {},
   "outputs": [
    {
     "ename": "NameError",
     "evalue": "name 'samples_B' is not defined",
     "output_type": "error",
     "traceback": [
      "\u001b[0;31m---------------------------------------------------------------------------\u001b[0m",
      "\u001b[0;31mNameError\u001b[0m                                 Traceback (most recent call last)",
      "\u001b[0;32m<ipython-input-24-4618bb4aeb23>\u001b[0m in \u001b[0;36m<module>\u001b[0;34m\u001b[0m\n\u001b[1;32m      2\u001b[0m \u001b[0mtrue_counts_ng\u001b[0m \u001b[0;34m=\u001b[0m \u001b[0mfake_dataset\u001b[0m\u001b[0;34m[\u001b[0m\u001b[0;34m'counts'\u001b[0m\u001b[0;34m]\u001b[0m\u001b[0;34m\u001b[0m\u001b[0;34m\u001b[0m\u001b[0m\n\u001b[1;32m      3\u001b[0m \u001b[0mpredA_counts_ng\u001b[0m \u001b[0;34m=\u001b[0m \u001b[0msamples_A\u001b[0m\u001b[0;34m[\u001b[0m\u001b[0;34m\"counts\"\u001b[0m\u001b[0;34m]\u001b[0m\u001b[0;34m[\u001b[0m\u001b[0;36m0\u001b[0m\u001b[0;34m]\u001b[0m\u001b[0;34m.\u001b[0m\u001b[0msqueeze\u001b[0m\u001b[0;34m(\u001b[0m\u001b[0;34m)\u001b[0m\u001b[0;34m\u001b[0m\u001b[0;34m\u001b[0m\u001b[0m\n\u001b[0;32m----> 4\u001b[0;31m \u001b[0mpredB_counts_ng\u001b[0m \u001b[0;34m=\u001b[0m \u001b[0msamples_B\u001b[0m\u001b[0;34m[\u001b[0m\u001b[0;34m\"counts\"\u001b[0m\u001b[0;34m]\u001b[0m\u001b[0;34m[\u001b[0m\u001b[0;36m0\u001b[0m\u001b[0;34m]\u001b[0m\u001b[0;34m.\u001b[0m\u001b[0msqueeze\u001b[0m\u001b[0;34m(\u001b[0m\u001b[0;34m)\u001b[0m\u001b[0;34m\u001b[0m\u001b[0;34m\u001b[0m\u001b[0m\n\u001b[0m\u001b[1;32m      5\u001b[0m \u001b[0mpredC_counts_ng\u001b[0m \u001b[0;34m=\u001b[0m \u001b[0msamples_C\u001b[0m\u001b[0;34m[\u001b[0m\u001b[0;34m\"counts\"\u001b[0m\u001b[0;34m]\u001b[0m\u001b[0;34m[\u001b[0m\u001b[0;36m0\u001b[0m\u001b[0;34m]\u001b[0m\u001b[0;34m.\u001b[0m\u001b[0msqueeze\u001b[0m\u001b[0;34m(\u001b[0m\u001b[0;34m)\u001b[0m\u001b[0;34m\u001b[0m\u001b[0;34m\u001b[0m\u001b[0m\n\u001b[1;32m      6\u001b[0m \u001b[0;34m\u001b[0m\u001b[0m\n",
      "\u001b[0;31mNameError\u001b[0m: name 'samples_B' is not defined"
     ]
    }
   ],
   "source": [
    "cell_types_n = fake_dataset[\"cell_type_codes\"]\n",
    "true_counts_ng = fake_dataset['counts']\n",
    "predA_counts_ng = samples_A[\"counts\"][0].squeeze()\n",
    "predB_counts_ng = samples_B[\"counts\"][0].squeeze()\n",
    "predC_counts_ng = samples_C[\"counts\"][0].squeeze()\n",
    "\n",
    "print(cell_types_n.shape, true_counts_ng.shape, predA_counts_ng.shape, predB_counts_ng.shape, predC_counts_ng.shape)"
   ]
  },
  {
   "cell_type": "code",
   "execution_count": 25,
   "id": "7484389c",
   "metadata": {},
   "outputs": [
    {
     "ename": "NameError",
     "evalue": "name 'predB_counts_ng' is not defined",
     "output_type": "error",
     "traceback": [
      "\u001b[0;31m---------------------------------------------------------------------------\u001b[0m",
      "\u001b[0;31mNameError\u001b[0m                                 Traceback (most recent call last)",
      "\u001b[0;32m<ipython-input-25-23c437d3e4e5>\u001b[0m in \u001b[0;36m<module>\u001b[0;34m\u001b[0m\n\u001b[1;32m      1\u001b[0m \u001b[0mfig_A\u001b[0m \u001b[0;34m=\u001b[0m \u001b[0mplot_few_gene_hist\u001b[0m\u001b[0;34m(\u001b[0m\u001b[0mcell_types_n\u001b[0m\u001b[0;34m,\u001b[0m \u001b[0mtrue_counts_ng\u001b[0m\u001b[0;34m[\u001b[0m\u001b[0;34m:\u001b[0m\u001b[0;34m,\u001b[0m\u001b[0;34m:\u001b[0m\u001b[0;36m2\u001b[0m\u001b[0;34m]\u001b[0m\u001b[0;34m,\u001b[0m \u001b[0mpredA_counts_ng\u001b[0m\u001b[0;34m[\u001b[0m\u001b[0;34m:\u001b[0m\u001b[0;34m,\u001b[0m\u001b[0;34m:\u001b[0m\u001b[0;36m2\u001b[0m\u001b[0;34m]\u001b[0m\u001b[0;34m.\u001b[0m\u001b[0mint\u001b[0m\u001b[0;34m(\u001b[0m\u001b[0;34m)\u001b[0m\u001b[0;34m,\u001b[0m \u001b[0mncols\u001b[0m\u001b[0;34m=\u001b[0m\u001b[0;36m3\u001b[0m\u001b[0;34m)\u001b[0m\u001b[0;34m\u001b[0m\u001b[0;34m\u001b[0m\u001b[0m\n\u001b[0;32m----> 2\u001b[0;31m \u001b[0mfig_B\u001b[0m \u001b[0;34m=\u001b[0m \u001b[0mplot_few_gene_hist\u001b[0m\u001b[0;34m(\u001b[0m\u001b[0mcell_types_n\u001b[0m\u001b[0;34m,\u001b[0m \u001b[0mtrue_counts_ng\u001b[0m\u001b[0;34m[\u001b[0m\u001b[0;34m:\u001b[0m\u001b[0;34m,\u001b[0m\u001b[0;34m:\u001b[0m\u001b[0;36m2\u001b[0m\u001b[0;34m]\u001b[0m\u001b[0;34m,\u001b[0m \u001b[0mpredB_counts_ng\u001b[0m\u001b[0;34m[\u001b[0m\u001b[0;34m:\u001b[0m\u001b[0;34m,\u001b[0m\u001b[0;34m:\u001b[0m\u001b[0;36m2\u001b[0m\u001b[0;34m]\u001b[0m\u001b[0;34m.\u001b[0m\u001b[0mint\u001b[0m\u001b[0;34m(\u001b[0m\u001b[0;34m)\u001b[0m\u001b[0;34m,\u001b[0m \u001b[0mncols\u001b[0m\u001b[0;34m=\u001b[0m\u001b[0;36m3\u001b[0m\u001b[0;34m)\u001b[0m\u001b[0;34m\u001b[0m\u001b[0;34m\u001b[0m\u001b[0m\n\u001b[0m\u001b[1;32m      3\u001b[0m \u001b[0mfig_C\u001b[0m \u001b[0;34m=\u001b[0m \u001b[0mplot_few_gene_hist\u001b[0m\u001b[0;34m(\u001b[0m\u001b[0mcell_types_n\u001b[0m\u001b[0;34m,\u001b[0m \u001b[0mtrue_counts_ng\u001b[0m\u001b[0;34m[\u001b[0m\u001b[0;34m:\u001b[0m\u001b[0;34m,\u001b[0m\u001b[0;34m:\u001b[0m\u001b[0;36m2\u001b[0m\u001b[0;34m]\u001b[0m\u001b[0;34m,\u001b[0m \u001b[0mpredC_counts_ng\u001b[0m\u001b[0;34m[\u001b[0m\u001b[0;34m:\u001b[0m\u001b[0;34m,\u001b[0m\u001b[0;34m:\u001b[0m\u001b[0;36m2\u001b[0m\u001b[0;34m]\u001b[0m\u001b[0;34m.\u001b[0m\u001b[0mint\u001b[0m\u001b[0;34m(\u001b[0m\u001b[0;34m)\u001b[0m\u001b[0;34m,\u001b[0m \u001b[0mncols\u001b[0m\u001b[0;34m=\u001b[0m\u001b[0;36m3\u001b[0m\u001b[0;34m)\u001b[0m\u001b[0;34m\u001b[0m\u001b[0;34m\u001b[0m\u001b[0m\n",
      "\u001b[0;31mNameError\u001b[0m: name 'predB_counts_ng' is not defined"
     ]
    }
   ],
   "source": [
    "fig_A = plot_few_gene_hist(cell_types_n, true_counts_ng[:,:2], predA_counts_ng[:,:2].int(), ncols=3)\n",
    "fig_B = plot_few_gene_hist(cell_types_n, true_counts_ng[:,:2], predB_counts_ng[:,:2].int(), ncols=3)\n",
    "fig_C = plot_few_gene_hist(cell_types_n, true_counts_ng[:,:2], predC_counts_ng[:,:2].int(), ncols=3)"
   ]
  },
  {
   "cell_type": "code",
   "execution_count": 26,
   "id": "4ff395b6",
   "metadata": {},
   "outputs": [
    {
     "data": {
      "image/png": "[encoded data removed]",
      "text/plain": [
       "<Figure size 2592x576 with 18 Axes>"
      ]
     },
     "execution_count": 26,
     "metadata": {},
     "output_type": "execute_result"
    }
   ],
   "source": [
    "_ = fig_A.suptitle(\"MLE estimates\")\n",
    "fig_A"
   ]
  },
  {
   "cell_type": "code",
   "execution_count": 27,
   "id": "80524f59",
   "metadata": {},
   "outputs": [
    {
     "ename": "NameError",
     "evalue": "name 'fig_B' is not defined",
     "output_type": "error",
     "traceback": [
      "\u001b[0;31m---------------------------------------------------------------------------\u001b[0m",
      "\u001b[0;31mNameError\u001b[0m                                 Traceback (most recent call last)",
      "\u001b[0;32m<ipython-input-27-15c016082564>\u001b[0m in \u001b[0;36m<module>\u001b[0;34m\u001b[0m\n\u001b[0;32m----> 1\u001b[0;31m \u001b[0m_\u001b[0m \u001b[0;34m=\u001b[0m \u001b[0mfig_B\u001b[0m\u001b[0;34m.\u001b[0m\u001b[0msuptitle\u001b[0m\u001b[0;34m(\u001b[0m\u001b[0;34m\"MAP estimates\"\u001b[0m\u001b[0;34m)\u001b[0m\u001b[0;34m\u001b[0m\u001b[0;34m\u001b[0m\u001b[0m\n\u001b[0m\u001b[1;32m      2\u001b[0m \u001b[0mfig_B\u001b[0m\u001b[0;34m\u001b[0m\u001b[0;34m\u001b[0m\u001b[0m\n",
      "\u001b[0;31mNameError\u001b[0m: name 'fig_B' is not defined"
     ]
    }
   ],
   "source": [
    "_ = fig_B.suptitle(\"MAP estimates\")\n",
    "fig_B"
   ]
  },
  {
   "cell_type": "code",
   "execution_count": null,
   "id": "6e9552fc-5e30-4a21-825d-1ce80d65af95",
   "metadata": {},
   "outputs": [],
   "source": [
    "_ = fig_C.suptitle(\"MAP estimates. No priors on alpha0\")\n",
    "fig_C"
   ]
  },
  {
   "cell_type": "code",
   "execution_count": null,
   "id": "f013f647-2eca-4547-9a36-acf53adeea79",
   "metadata": {},
   "outputs": [],
   "source": [
    "pyro.clear_param_store()\n",
    "pyro.get_param_store().load(filename=\"params_model_A.pt\")\n",
    "for k,v in pyro.get_param_store().items():\n",
    "    print(k, v.shape)\n",
    "eps_g_A = pyro.get_param_store().get_param(\"eps_g\").detach().cpu().numpy()\n",
    "alpha0_A = pyro.get_param_store().get_param(\"alpha0\").detach().cpu().numpy()\n",
    "alpha_A = pyro.get_param_store().get_param(\"alpha\").detach().cpu().numpy()\n",
    "    \n",
    "print(\"======================\")\n",
    "\n",
    "pyro.clear_param_store()\n",
    "pyro.get_param_store().load(filename=\"params_model_B.pt\")\n",
    "for k,v in pyro.get_param_store().items():\n",
    "    print(k, v.shape)\n",
    "eps_g_B = pyro.get_param_store().get_param(\"AutoDelta.eps_g\").detach().cpu().numpy()\n",
    "alpha0_B = pyro.get_param_store().get_param(\"AutoDelta.alpha0\").detach().cpu().numpy()\n",
    "alpha_B = pyro.get_param_store().get_param(\"AutoDelta.alpha\").detach().cpu().numpy()\n",
    "    \n",
    "print(\"======================\")\n",
    "    \n",
    "pyro.clear_param_store()\n",
    "pyro.get_param_store().load(filename=\"params_model_C.pt\")\n",
    "for k,v in pyro.get_param_store().items():\n",
    "    print(k, v.shape)\n",
    "eps_g_C = pyro.get_param_store().get_param(\"AutoDelta.eps_g\").detach().cpu().numpy()\n",
    "alpha0_C = pyro.get_param_store().get_param(\"alpha0\").detach().cpu().numpy()\n",
    "alpha_C = pyro.get_param_store().get_param(\"AutoDelta.alpha\").detach().cpu().numpy()\n"
   ]
  },
  {
   "cell_type": "code",
   "execution_count": null,
   "id": "4e518743-a3ac-4e5b-89e1-2394e2d335ac",
   "metadata": {},
   "outputs": [],
   "source": [
    "# _ = seaborn.jointplot(x=eps_g_B.flatten(), y=eps_g_C.flatten())"
   ]
  },
  {
   "cell_type": "code",
   "execution_count": 28,
   "id": "f104c87b-78fb-4eed-887c-1980fda24d23",
   "metadata": {},
   "outputs": [],
   "source": [
    "# _ = seaborn.jointplot(x=eps_g_B.flatten(), y=eps_g_A.flatten())"
   ]
  },
  {
   "cell_type": "code",
   "execution_count": 29,
   "id": "04ca4b37-f744-437c-96b3-ea77bbe4ab36",
   "metadata": {},
   "outputs": [],
   "source": [
    "# _ = seaborn.jointplot(x=eps_g_C.flatten(), y=eps_g_A.flatten())"
   ]
  },
  {
   "cell_type": "markdown",
   "id": "137c7fd0-180e-490f-9f7a-095d5772e6e8",
   "metadata": {},
   "source": [
    "## Quantify the variance \n",
    "1. at the level of distributions\n",
    "2. at the level of single predictions"
   ]
  },
  {
   "cell_type": "markdown",
   "id": "939e7599-0dea-42ea-a3f1-9cb9a49fe383",
   "metadata": {},
   "source": [
    "### at the level of distributions"
   ]
  },
  {
   "cell_type": "code",
   "execution_count": 30,
   "id": "ba7d1f2a-17e9-4d97-aa72-5d9dee17372e",
   "metadata": {},
   "outputs": [
    {
     "ename": "NameError",
     "evalue": "name 'predB_counts_ng' is not defined",
     "output_type": "error",
     "traceback": [
      "\u001b[0;31m---------------------------------------------------------------------------\u001b[0m",
      "\u001b[0;31mNameError\u001b[0m                                 Traceback (most recent call last)",
      "\u001b[0;32m<ipython-input-30-97b354a3a852>\u001b[0m in \u001b[0;36m<module>\u001b[0;34m\u001b[0m\n\u001b[1;32m      1\u001b[0m \u001b[0mtrue_dist_kgi\u001b[0m \u001b[0;34m=\u001b[0m \u001b[0mcompute_per_cell_type_distributions\u001b[0m\u001b[0;34m(\u001b[0m\u001b[0mcell_types_n\u001b[0m\u001b[0;34m,\u001b[0m \u001b[0mtrue_counts_ng\u001b[0m\u001b[0;34m)\u001b[0m\u001b[0;34m\u001b[0m\u001b[0;34m\u001b[0m\u001b[0m\n\u001b[1;32m      2\u001b[0m \u001b[0mpredA_dist_kgi\u001b[0m \u001b[0;34m=\u001b[0m \u001b[0mcompute_per_cell_type_distributions\u001b[0m\u001b[0;34m(\u001b[0m\u001b[0mcell_types_n\u001b[0m\u001b[0;34m,\u001b[0m \u001b[0mpredA_counts_ng\u001b[0m\u001b[0;34m)\u001b[0m\u001b[0;34m\u001b[0m\u001b[0;34m\u001b[0m\u001b[0m\n\u001b[0;32m----> 3\u001b[0;31m \u001b[0mpredB_dist_kgi\u001b[0m \u001b[0;34m=\u001b[0m \u001b[0mcompute_per_cell_type_distributions\u001b[0m\u001b[0;34m(\u001b[0m\u001b[0mcell_types_n\u001b[0m\u001b[0;34m,\u001b[0m \u001b[0mpredB_counts_ng\u001b[0m\u001b[0;34m)\u001b[0m\u001b[0;34m\u001b[0m\u001b[0;34m\u001b[0m\u001b[0m\n\u001b[0m\u001b[1;32m      4\u001b[0m \u001b[0mpredC_dist_kgi\u001b[0m \u001b[0;34m=\u001b[0m \u001b[0mcompute_per_cell_type_distributions\u001b[0m\u001b[0;34m(\u001b[0m\u001b[0mcell_types_n\u001b[0m\u001b[0;34m,\u001b[0m \u001b[0mpredC_counts_ng\u001b[0m\u001b[0;34m)\u001b[0m\u001b[0;34m\u001b[0m\u001b[0;34m\u001b[0m\u001b[0m\n",
      "\u001b[0;31mNameError\u001b[0m: name 'predB_counts_ng' is not defined"
     ]
    }
   ],
   "source": [
    "true_dist_kgi = compute_per_cell_type_distributions(cell_types_n, true_counts_ng)\n",
    "predA_dist_kgi = compute_per_cell_type_distributions(cell_types_n, predA_counts_ng)\n",
    "predB_dist_kgi = compute_per_cell_type_distributions(cell_types_n, predB_counts_ng)\n",
    "predC_dist_kgi = compute_per_cell_type_distributions(cell_types_n, predC_counts_ng)"
   ]
  },
  {
   "cell_type": "code",
   "execution_count": 31,
   "id": "16940a98-8417-42f2-a471-d048fe1ee76d",
   "metadata": {},
   "outputs": [
    {
     "ename": "NameError",
     "evalue": "name 'predB_dist_kgi' is not defined",
     "output_type": "error",
     "traceback": [
      "\u001b[0;31m---------------------------------------------------------------------------\u001b[0m",
      "\u001b[0;31mNameError\u001b[0m                                 Traceback (most recent call last)",
      "\u001b[0;32m<ipython-input-31-0006eaadc8c1>\u001b[0m in \u001b[0;36m<module>\u001b[0;34m\u001b[0m\n\u001b[1;32m      1\u001b[0m \u001b[0mL1_norm_A\u001b[0m \u001b[0;34m=\u001b[0m \u001b[0mL1_between_distributions\u001b[0m\u001b[0;34m(\u001b[0m\u001b[0mtrue_dist_kgi\u001b[0m\u001b[0;34m,\u001b[0m \u001b[0mpredA_dist_kgi\u001b[0m\u001b[0;34m,\u001b[0m \u001b[0mnormalize\u001b[0m\u001b[0;34m=\u001b[0m\u001b[0;32mTrue\u001b[0m\u001b[0;34m)\u001b[0m\u001b[0;34m\u001b[0m\u001b[0;34m\u001b[0m\u001b[0m\n\u001b[0;32m----> 2\u001b[0;31m \u001b[0mL1_norm_B\u001b[0m \u001b[0;34m=\u001b[0m \u001b[0mL1_between_distributions\u001b[0m\u001b[0;34m(\u001b[0m\u001b[0mtrue_dist_kgi\u001b[0m\u001b[0;34m,\u001b[0m \u001b[0mpredB_dist_kgi\u001b[0m\u001b[0;34m,\u001b[0m \u001b[0mnormalize\u001b[0m\u001b[0;34m=\u001b[0m\u001b[0;32mTrue\u001b[0m\u001b[0;34m)\u001b[0m\u001b[0;34m\u001b[0m\u001b[0;34m\u001b[0m\u001b[0m\n\u001b[0m\u001b[1;32m      3\u001b[0m \u001b[0mL1_norm_C\u001b[0m \u001b[0;34m=\u001b[0m \u001b[0mL1_between_distributions\u001b[0m\u001b[0;34m(\u001b[0m\u001b[0mtrue_dist_kgi\u001b[0m\u001b[0;34m,\u001b[0m \u001b[0mpredC_dist_kgi\u001b[0m\u001b[0;34m,\u001b[0m \u001b[0mnormalize\u001b[0m\u001b[0;34m=\u001b[0m\u001b[0;32mTrue\u001b[0m\u001b[0;34m)\u001b[0m\u001b[0;34m\u001b[0m\u001b[0;34m\u001b[0m\u001b[0m\n\u001b[1;32m      4\u001b[0m \u001b[0;34m\u001b[0m\u001b[0m\n\u001b[1;32m      5\u001b[0m \u001b[0mEMD_norm_A\u001b[0m \u001b[0;34m=\u001b[0m \u001b[0mEMD_between_distributions\u001b[0m\u001b[0;34m(\u001b[0m\u001b[0mtrue_dist_kgi\u001b[0m\u001b[0;34m,\u001b[0m \u001b[0mpredA_dist_kgi\u001b[0m\u001b[0;34m,\u001b[0m \u001b[0mnormalize\u001b[0m\u001b[0;34m=\u001b[0m\u001b[0;32mTrue\u001b[0m\u001b[0;34m)\u001b[0m\u001b[0;34m\u001b[0m\u001b[0;34m\u001b[0m\u001b[0m\n",
      "\u001b[0;31mNameError\u001b[0m: name 'predB_dist_kgi' is not defined"
     ]
    }
   ],
   "source": [
    "L1_norm_A = L1_between_distributions(true_dist_kgi, predA_dist_kgi, normalize=True)\n",
    "L1_norm_B = L1_between_distributions(true_dist_kgi, predB_dist_kgi, normalize=True)\n",
    "L1_norm_C = L1_between_distributions(true_dist_kgi, predC_dist_kgi, normalize=True)\n",
    "\n",
    "EMD_norm_A = EMD_between_distributions(true_dist_kgi, predA_dist_kgi, normalize=True)\n",
    "EMD_norm_B = EMD_between_distributions(true_dist_kgi, predB_dist_kgi, normalize=True)\n",
    "EMD_norm_C = EMD_between_distributions(true_dist_kgi, predC_dist_kgi, normalize=True)"
   ]
  },
  {
   "cell_type": "code",
   "execution_count": 32,
   "id": "379f204a-aaa7-415e-a39f-0699ce0b44c4",
   "metadata": {},
   "outputs": [
    {
     "ename": "NameError",
     "evalue": "name 'L1_norm_B' is not defined",
     "output_type": "error",
     "traceback": [
      "\u001b[0;31m---------------------------------------------------------------------------\u001b[0m",
      "\u001b[0;31mNameError\u001b[0m                                 Traceback (most recent call last)",
      "\u001b[0;32m<ipython-input-32-4e45b09d2a27>\u001b[0m in \u001b[0;36m<module>\u001b[0;34m\u001b[0m\n\u001b[1;32m      3\u001b[0m \u001b[0;34m\u001b[0m\u001b[0m\n\u001b[1;32m      4\u001b[0m \u001b[0m_\u001b[0m \u001b[0;34m=\u001b[0m \u001b[0mseaborn\u001b[0m\u001b[0;34m.\u001b[0m\u001b[0mheatmap\u001b[0m\u001b[0;34m(\u001b[0m\u001b[0mL1_norm_A\u001b[0m\u001b[0;34m,\u001b[0m \u001b[0mcmap\u001b[0m\u001b[0;34m=\u001b[0m\u001b[0;34m\"inferno\"\u001b[0m\u001b[0;34m,\u001b[0m \u001b[0mrobust\u001b[0m\u001b[0;34m=\u001b[0m\u001b[0;32mTrue\u001b[0m\u001b[0;34m,\u001b[0m \u001b[0max\u001b[0m\u001b[0;34m=\u001b[0m\u001b[0maxes\u001b[0m\u001b[0;34m[\u001b[0m\u001b[0;36m0\u001b[0m\u001b[0;34m,\u001b[0m\u001b[0;36m0\u001b[0m\u001b[0;34m]\u001b[0m\u001b[0;34m)\u001b[0m\u001b[0;34m\u001b[0m\u001b[0;34m\u001b[0m\u001b[0m\n\u001b[0;32m----> 5\u001b[0;31m \u001b[0m_\u001b[0m \u001b[0;34m=\u001b[0m \u001b[0mseaborn\u001b[0m\u001b[0;34m.\u001b[0m\u001b[0mheatmap\u001b[0m\u001b[0;34m(\u001b[0m\u001b[0mL1_norm_B\u001b[0m\u001b[0;34m,\u001b[0m \u001b[0mcmap\u001b[0m\u001b[0;34m=\u001b[0m\u001b[0;34m\"inferno\"\u001b[0m\u001b[0;34m,\u001b[0m \u001b[0mrobust\u001b[0m\u001b[0;34m=\u001b[0m\u001b[0;32mTrue\u001b[0m\u001b[0;34m,\u001b[0m \u001b[0max\u001b[0m\u001b[0;34m=\u001b[0m\u001b[0maxes\u001b[0m\u001b[0;34m[\u001b[0m\u001b[0;36m0\u001b[0m\u001b[0;34m,\u001b[0m\u001b[0;36m1\u001b[0m\u001b[0;34m]\u001b[0m\u001b[0;34m)\u001b[0m\u001b[0;34m\u001b[0m\u001b[0;34m\u001b[0m\u001b[0m\n\u001b[0m\u001b[1;32m      6\u001b[0m \u001b[0m_\u001b[0m \u001b[0;34m=\u001b[0m \u001b[0mseaborn\u001b[0m\u001b[0;34m.\u001b[0m\u001b[0mheatmap\u001b[0m\u001b[0;34m(\u001b[0m\u001b[0mL1_norm_C\u001b[0m\u001b[0;34m,\u001b[0m \u001b[0mcmap\u001b[0m\u001b[0;34m=\u001b[0m\u001b[0;34m\"inferno\"\u001b[0m\u001b[0;34m,\u001b[0m \u001b[0mrobust\u001b[0m\u001b[0;34m=\u001b[0m\u001b[0;32mTrue\u001b[0m\u001b[0;34m,\u001b[0m \u001b[0max\u001b[0m\u001b[0;34m=\u001b[0m\u001b[0maxes\u001b[0m\u001b[0;34m[\u001b[0m\u001b[0;36m0\u001b[0m\u001b[0;34m,\u001b[0m\u001b[0;36m2\u001b[0m\u001b[0;34m]\u001b[0m\u001b[0;34m)\u001b[0m\u001b[0;34m\u001b[0m\u001b[0;34m\u001b[0m\u001b[0m\n\u001b[1;32m      7\u001b[0m \u001b[0m_\u001b[0m \u001b[0;34m=\u001b[0m \u001b[0maxes\u001b[0m\u001b[0;34m[\u001b[0m\u001b[0;36m0\u001b[0m\u001b[0;34m,\u001b[0m\u001b[0;36m0\u001b[0m\u001b[0;34m]\u001b[0m\u001b[0;34m.\u001b[0m\u001b[0mset_title\u001b[0m\u001b[0;34m(\u001b[0m\u001b[0;34m\"L1 wrt MLE estimates\"\u001b[0m\u001b[0;34m)\u001b[0m\u001b[0;34m\u001b[0m\u001b[0;34m\u001b[0m\u001b[0m\n",
      "\u001b[0;31mNameError\u001b[0m: name 'L1_norm_B' is not defined"
     ]
    },
    {
     "data": {
      "image/png": "[encoded data removed]",
      "text/plain": [
       "<Figure size 1440x720 with 7 Axes>"
      ]
     },
     "metadata": {
      "needs_background": "light"
     },
     "output_type": "display_data"
    }
   ],
   "source": [
    "fig, axes = plt.subplots(nrows=2, ncols=3, figsize=(20,10))\n",
    "_ = fig.suptitle(\"Distance between true counts distribution and estimates\")\n",
    "\n",
    "_ = seaborn.heatmap(L1_norm_A, cmap=\"inferno\", robust=True, ax=axes[0,0])\n",
    "_ = seaborn.heatmap(L1_norm_B, cmap=\"inferno\", robust=True, ax=axes[0,1])\n",
    "_ = seaborn.heatmap(L1_norm_C, cmap=\"inferno\", robust=True, ax=axes[0,2])\n",
    "_ = axes[0,0].set_title(\"L1 wrt MLE estimates\")\n",
    "_ = axes[0,1].set_title(\"L1 wrt MAP estimates\")\n",
    "_ = axes[0,2].set_title(\"L1 wrt MAP estimates, alpha0 no prior\")\n",
    "\n",
    "_ = seaborn.heatmap(EMD_norm_A, cmap=\"inferno\", robust=True, ax=axes[1,0])\n",
    "_ = seaborn.heatmap(EMD_norm_B, cmap=\"inferno\", robust=True, ax=axes[1,1])\n",
    "_ = seaborn.heatmap(EMD_norm_C, cmap=\"inferno\", robust=True, ax=axes[1,2])\n",
    "_ = axes[1,0].set_title(\"EMD wrt MLE estimates\")\n",
    "_ = axes[1,1].set_title(\"EMD wrt MAP estimates\")\n",
    "_ = axes[1,2].set_title(\"EMD wrt MAP estimates, alpha0 no prior\")"
   ]
  },
  {
   "cell_type": "code",
   "execution_count": 33,
   "id": "15ef7bd3-576a-44eb-9438-7136c83cb1ef",
   "metadata": {},
   "outputs": [
    {
     "ename": "NameError",
     "evalue": "name 'L1_norm_B' is not defined",
     "output_type": "error",
     "traceback": [
      "\u001b[0;31m---------------------------------------------------------------------------\u001b[0m",
      "\u001b[0;31mNameError\u001b[0m                                 Traceback (most recent call last)",
      "\u001b[0;32m<ipython-input-33-5e144d9baa4c>\u001b[0m in \u001b[0;36m<module>\u001b[0;34m\u001b[0m\n\u001b[0;32m----> 1\u001b[0;31m \u001b[0mprint\u001b[0m\u001b[0;34m(\u001b[0m\u001b[0mL1_norm_A\u001b[0m\u001b[0;34m.\u001b[0m\u001b[0mmedian\u001b[0m\u001b[0;34m(\u001b[0m\u001b[0;34m)\u001b[0m\u001b[0;34m,\u001b[0m \u001b[0mL1_norm_B\u001b[0m\u001b[0;34m.\u001b[0m\u001b[0mmedian\u001b[0m\u001b[0;34m(\u001b[0m\u001b[0;34m)\u001b[0m\u001b[0;34m,\u001b[0m \u001b[0mL1_norm_C\u001b[0m\u001b[0;34m.\u001b[0m\u001b[0mmedian\u001b[0m\u001b[0;34m(\u001b[0m\u001b[0;34m)\u001b[0m\u001b[0;34m)\u001b[0m\u001b[0;34m\u001b[0m\u001b[0;34m\u001b[0m\u001b[0m\n\u001b[0m\u001b[1;32m      2\u001b[0m \u001b[0mprint\u001b[0m\u001b[0;34m(\u001b[0m\u001b[0mEMD_norm_A\u001b[0m\u001b[0;34m.\u001b[0m\u001b[0mmedian\u001b[0m\u001b[0;34m(\u001b[0m\u001b[0;34m)\u001b[0m\u001b[0;34m,\u001b[0m \u001b[0mEMD_norm_B\u001b[0m\u001b[0;34m.\u001b[0m\u001b[0mmedian\u001b[0m\u001b[0;34m(\u001b[0m\u001b[0;34m)\u001b[0m\u001b[0;34m,\u001b[0m \u001b[0mEMD_norm_C\u001b[0m\u001b[0;34m.\u001b[0m\u001b[0mmedian\u001b[0m\u001b[0;34m(\u001b[0m\u001b[0;34m)\u001b[0m\u001b[0;34m)\u001b[0m\u001b[0;34m\u001b[0m\u001b[0;34m\u001b[0m\u001b[0m\n",
      "\u001b[0;31mNameError\u001b[0m: name 'L1_norm_B' is not defined"
     ]
    }
   ],
   "source": [
    "print(L1_norm_A.median(), L1_norm_B.median(), L1_norm_C.median())\n",
    "print(EMD_norm_A.median(), EMD_norm_B.median(), EMD_norm_C.median())"
   ]
  },
  {
   "cell_type": "markdown",
   "id": "0209133b-d117-4507-bb87-47c8bc70e744",
   "metadata": {},
   "source": [
    "## At the level of single predictions"
   ]
  },
  {
   "cell_type": "code",
   "execution_count": null,
   "id": "63ea83bb-2eb3-4042-92fb-39dfc852f23f",
   "metadata": {},
   "outputs": [],
   "source": [
    "from tissue_purifier.misc_utils.validation import (\n",
    "    create_null_distribution,\n",
    "    create_heldout_distribution\n",
    ")\n",
    "\n",
    "null_dist = create_null_distribution(\n",
    "    cell_types_n=cell_types_n, \n",
    "    counts_ng=counts_ng[:,:10], \n",
    "    similarity_measure=\"L1\",\n",
    "    boundaries=torch.linspace(start=0, end=30, steps=31),\n",
    ")   \n",
    "\n",
    "\n",
    "heldout_dist = create_heldout_distribution(\n",
    "    cell_types_n=cell_types_n, \n",
    "    true_counts_ng=counts_ng[:,:10], \n",
    "    pred_counts_ng=counts_ng[:,:10]+1,\n",
    "    similarity_measure=\"L1\",\n",
    "    boundaries=torch.linspace(start=0, end=30, steps=31),\n",
    ")   "
   ]
  },
  {
   "cell_type": "markdown",
   "id": "9ae455da",
   "metadata": {},
   "source": [
    "### test the procedure by creating two fake distributions"
   ]
  },
  {
   "cell_type": "code",
   "execution_count": null,
   "id": "22ed0557",
   "metadata": {},
   "outputs": [],
   "source": [
    "null_dist = create_null_distribution(\n",
    "    cell_types_n=cell_types_n[-1000:], \n",
    "    counts_ng=counts_ng[-1000:,:10], \n",
    "    similarity_measure=\"L1\",\n",
    "    boundaries=torch.linspace(start=0, end=30, steps=31),\n",
    ")     \n",
    "\n",
    "heldout_dist = create_null_distribution(\n",
    "    cell_types_n=cell_types_n[:1000], \n",
    "    counts_ng=counts_ng[:1000,:10], \n",
    "    similarity_measure=\"L1\",\n",
    "    boundaries=torch.linspace(start=0, end=30, steps=31),\n",
    ")     "
   ]
  },
  {
   "cell_type": "code",
   "execution_count": null,
   "id": "5721ddad",
   "metadata": {},
   "outputs": [],
   "source": [
    "gene_id = 1\n",
    "\n",
    "x_null = null_dist[\"cell_type_0\"][gene_id,:] / numpy.sum(null_dist[\"cell_type_0\"][gene_id,:], axis=-1, keepdims=True)\n",
    "x_heldout = heldout_dist[\"cell_type_0\"][gene_id,:] / numpy.sum(heldout_dist[\"cell_type_0\"][gene_id,:], axis=-1, keepdims=True)\n",
    "\n",
    "barWidth=0.4\n",
    "plt.bar(null_dist[\"boundaries\"], \n",
    "        x_null, \n",
    "        width = barWidth,\n",
    "       label=\"null\")\n",
    "plt.bar(heldout_dist[\"boundaries\"]+barWidth, \n",
    "        x_heldout,\n",
    "        width = barWidth,\n",
    "       label=\"Heldout\")\n",
    "_ = plt.xlim([-1,20])\n",
    "_ = plt.legend()\n",
    "_ = plt.title(\"Distribution of Chi = |counts - counts|\")"
   ]
  },
  {
   "cell_type": "code",
   "execution_count": null,
   "id": "ab4a7961",
   "metadata": {},
   "outputs": [],
   "source": [
    "gene_id = 6\n",
    "\n",
    "x_null = null_dist[\"cell_type_0\"][gene_id,:] / numpy.sum(null_dist[\"cell_type_0\"][gene_id,:], axis=-1, keepdims=True)\n",
    "x_heldout = heldout_dist[\"cell_type_0\"][gene_id,:] / numpy.sum(heldout_dist[\"cell_type_0\"][gene_id,:], axis=-1, keepdims=True)\n",
    "\n",
    "barWidth=0.4\n",
    "plt.bar(null_dist[\"boundaries\"], \n",
    "        x_null, \n",
    "        width = barWidth,\n",
    "       label=\"null\")\n",
    "plt.bar(heldout_dist[\"boundaries\"]+barWidth, \n",
    "        x_heldout,\n",
    "        width = barWidth,\n",
    "       label=\"Heldout\")\n",
    "_ = plt.xlim([-1,20])\n",
    "_ = plt.legend()\n",
    "_ = plt.title(\"Distribution of Chi = |counts - counts|\")"
   ]
  },
  {
   "cell_type": "markdown",
   "id": "02084b26",
   "metadata": {},
   "source": [
    "### Two-sample Kolmogorov–Smirnov test\n",
    "I am asking the question if the two distribution are the same\n"
   ]
  },
  {
   "cell_type": "code",
   "execution_count": null,
   "id": "afec1e15",
   "metadata": {},
   "outputs": [],
   "source": [
    "from scipy.interpolate import interp1d\n",
    "from typing import NamedTuple, Union\n",
    "    \n",
    "class KS_test(NamedTuple):\n",
    "    \"\"\" \n",
    "    Result of the KS test between two empirical distributions.\n",
    "    \"\"\"\n",
    "    x: numpy.ndarray\n",
    "    f1: numpy.ndarray\n",
    "    f2: numpy.ndarray\n",
    "    gap: numpy.ndarray\n",
    "    ks: Union[float, numpy.ndarray]\n",
    "    n1: Union[int, numpy.array]\n",
    "    n2: Union[int, numpy.array]\n",
    "        \n",
    "\n",
    "def compute_pvalue_from_ks(ks_test: KS_test) -> numpy.ndarray:\n",
    "    \"\"\"\n",
    "    Compute the p-value using the asymptotic formula \n",
    "    see. https://en.wikipedia.org/wiki/Kolmogorov%E2%80%93Smirnov_test\n",
    "    \"\"\"\n",
    "    n1 = ks_test.n1\n",
    "    n2 = ks_test.n2\n",
    "    D = ks_test.ks\n",
    "    tmp = (2 * D * D * n1 * n2) / (n1 + n2)\n",
    "    p = 2 * numpy.exp(-tmp)\n",
    "    return p\n",
    "\n",
    "    \n",
    "def compute_KS_test(x1, histo1, x2, histo2) -> KS_test:\n",
    "    \n",
    "    # (empirical) cumulative distribution and size of sample\n",
    "    F1_tmp = histo1.cumsum(axis=-1) # shape (genes, bins)\n",
    "    n1 = F1_tmp[...,-1:]            # shape (genes, 1)\n",
    "    F1 = F1_tmp / n1                # shape (genes, bins)\n",
    "    \n",
    "    # (empirical) cumulative distribution and size of sample\n",
    "    F2_tmp = histo2.cumsum(axis=-1) \n",
    "    n2 = F2_tmp[..., -1:]\n",
    "    F2 = F2_tmp / n2\n",
    "    \n",
    "    # Interpolate sample 1 on the spacing of sample 2 \n",
    "    f_interp = interp1d(x1, F1, axis=-1, fill_value=(0.0, 1.0))\n",
    "    F1_new = f_interp(x2)\n",
    "    \n",
    "    # Comute the maximum gap between empirical cumulative distributions\n",
    "    gap = numpy.abs(F1_new - F2)\n",
    "    ks = numpy.max(gap, axis=-1, keepdims=True)\n",
    "    \n",
    "    return KS_test(x=x2, f1=F1_new, f2=F2, n1=n1, n2=n2, gap=gap, ks=ks)\n",
    "\n",
    "\n",
    "key_cell_types = []\n",
    "for key in null_dist.keys():\n",
    "    if key.startswith(\"cell_type_\"):\n",
    "        key_cell_types.append(key)\n",
    "    \n",
    "\n",
    "#df = pandas.DataFrame()\n",
    "for k in key_cell_types:        \n",
    "    \n",
    "    ks_test_tmp = compute_KS_test(\n",
    "        x1=null_dist[\"boundaries\"], \n",
    "        histo1=null_dist[\"cell_type_0\"], \n",
    "        x2=heldout_dist[\"boundaries\"], \n",
    "        histo2=heldout_dist[\"cell_type_0\"])\n",
    "    \n",
    "    p_values_tmp = compute_pvalue_from_ks(ks_test_tmp)\n",
    "    \n",
    "    \n",
    "    \n",
    "#    dfdf = pd.DataFrame(columns=[\"firstname\", \"lastname\"])\n",
    "#df = df.append({\n",
    "#     \"firstname\": \"John\",\n",
    "#     \"lastname\":  \"Johny\"\n",
    "#      }, ignore_index=True)\n",
    "    \n",
    "    dict_tmp = {'ks' : ks_test_tmp.ks, 'p_value': p_values_tmp, 'cell_type': [k]*len(p_values_tmp)}"
   ]
  },
  {
   "cell_type": "code",
   "execution_count": null,
   "id": "d93b2208",
   "metadata": {},
   "outputs": [],
   "source": [
    "dict_tmp"
   ]
  },
  {
   "cell_type": "code",
   "execution_count": null,
   "id": "5795c075",
   "metadata": {},
   "outputs": [],
   "source": [
    "null_dist.keys()"
   ]
  },
  {
   "cell_type": "code",
   "execution_count": null,
   "id": "cbf7755a",
   "metadata": {},
   "outputs": [],
   "source": [
    "ncol = 4\n",
    "nmax = len(ks_test.ks)\n",
    "nrow = int(numpy.ceil(float(nmax) / ncol))\n",
    "\n",
    "fig, axes = plt.subplots(ncols=ncol, nrows=nrow, figsize=(4*ncol, 4*nrow))\n",
    "for n in range(nmax):\n",
    "    r,c = n // ncol, n % ncol\n",
    "    axes[r,c].plot(ks_test.x, ks_test.f1[n,:])\n",
    "    axes[r,c].plot(ks_test.x, ks_test.f2[n,:])\n",
    "    axes[r,c].plot(ks_test.x, ks_test.gap[n,:])\n",
    "    axes[r,c].set_xlim([0,20])\n",
    "    axes[r,c].set_title(\"ks={0:.3} -> pvalue={1:.3}\".format(ks_test.ks[n].item(), p_values[n].item()))"
   ]
  },
  {
   "cell_type": "markdown",
   "id": "db27ca7b",
   "metadata": {},
   "source": [
    "# FROM HERE\n",
    "1. Get a p-value.\n",
    "2. make a summary plot for all genes"
   ]
  },
  {
   "cell_type": "code",
   "execution_count": null,
   "id": "c97591ff",
   "metadata": {},
   "outputs": [],
   "source": []
  },
  {
   "cell_type": "code",
   "execution_count": null,
   "id": "affa90a6-848b-4f98-95e6-0837ab431f17",
   "metadata": {},
   "outputs": [],
   "source": [
    "# plt.bar(numpy.arange(norm_true_dist_kgi[0,4].shape[-1]), norm_true_dist_kgi[0,4])    \n",
    "# plt.bar(numpy.arange(norm_predA_dist_kgi[0,4].shape[-1]), norm_predA_dist_kgi[0,4])    \n",
    "# plt.bar(numpy.arange(norm_predB_dist_kgi[0,4].shape[-1]), norm_predB_dist_kgi[0,4])    "
   ]
  },
  {
   "cell_type": "code",
   "execution_count": null,
   "id": "8c35cd62-b1c2-4a1b-a7ff-d73851a672c6",
   "metadata": {},
   "outputs": [],
   "source": [
    "# print(cell_types_n.shape, true_counts_ng.shape, predA_counts_ng.shape, predB_counts_ng.shape)"
   ]
  },
  {
   "cell_type": "code",
   "execution_count": null,
   "id": "fb381668",
   "metadata": {},
   "outputs": [],
   "source": []
  },
  {
   "cell_type": "code",
   "execution_count": null,
   "id": "2bfbeb27-5bb6-47b7-8de1-239c7906763d",
   "metadata": {},
   "outputs": [],
   "source": []
  }
 ],
 "metadata": {
  "environment": {
   "kernel": "python3",
   "name": "common-cu113.m84",
   "type": "gcloud",
   "uri": "gcr.io/deeplearning-platform-release/base-cu113:m84"
  },
  "kernelspec": {
   "display_name": "Python 3",
   "language": "python",
   "name": "python3"
  },
  "language_info": {
   "codemirror_mode": {
    "name": "ipython",
    "version": 3
   },
   "file_extension": ".py",
   "mimetype": "text/x-python",
   "name": "python",
   "nbconvert_exporter": "python",
   "pygments_lexer": "ipython3",
   "version": "3.8.8"
  }
 },
 "nbformat": 4,
 "nbformat_minor": 5
}
