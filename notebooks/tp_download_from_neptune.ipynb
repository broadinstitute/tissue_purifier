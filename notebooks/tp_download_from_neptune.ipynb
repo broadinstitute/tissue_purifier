{
 "cells": [
  {
   "cell_type": "markdown",
   "id": "governing-archive",
   "metadata": {},
   "source": [
    "# Download Checkpoint"
   ]
  },
  {
   "cell_type": "code",
   "execution_count": 9,
   "id": "capital-block",
   "metadata": {},
   "outputs": [],
   "source": [
    "NEPTUNE_TOKEN = \"eyJhcGlfYWRkcmVzcyI6Imh0dHBzOi8vYXBwLm5lcHR1bmUuYWkiLCJhcGlfdXJsIjoiaHR0cHM6Ly9hcHAubmVwdHVuZS5haSIsImFwaV9rZXkiOiJjZTkyYmJiYi0wN2E1LTRkY2YtOWU3Ny1kNjhjYmM3ZTVkNWEifQ==\""
   ]
  },
  {
   "cell_type": "code",
   "execution_count": 10,
   "id": "fa64a1f7-554a-4533-a553-7f28195bcabd",
   "metadata": {},
   "outputs": [],
   "source": [
    "import neptune.new as neptune"
   ]
  },
  {
   "cell_type": "code",
   "execution_count": 15,
   "id": "4cf57a55-c3e1-4297-a536-a16502604693",
   "metadata": {},
   "outputs": [
    {
     "name": "stdout",
     "output_type": "stream",
     "text": [
      "https://app.neptune.ai/cellarium/tissue-purifier/e/TIS-1860\n",
      "Remember to stop your run once you’ve finished logging your metadata (https://docs.neptune.ai/api-reference/run#.stop). It will be stopped automatically only when the notebook kernel/interactive console is terminated.\n",
      "Shutting down background jobs, please wait a moment...\n",
      "Done!\n",
      "Shutting down background jobs, please wait a moment...\n",
      "Done!\n"
     ]
    }
   ],
   "source": [
    "run = neptune.init(\n",
    "    project='cellarium/tissue-purifier',\n",
    "    api_token=NEPTUNE_TOKEN,\n",
    "    run='TIS-1860',\n",
    "    mode=\"read-only\")\n",
    "\n",
    "#username = run['sys/owner'].fetch()\n",
    "#loss = run['training/train_loss'].fetch_last()\n",
    "\n",
    "run['training/model/checkpoints/best_checkpoint-epoch=1999'].download(\"TIS-1860_barlow.ckpt\")\n",
    "run.stop()"
   ]
  },
  {
   "cell_type": "code",
   "execution_count": 12,
   "id": "ccd80832-903b-4e2c-bd49-f56d7c55ee84",
   "metadata": {},
   "outputs": [
    {
     "name": "stdout",
     "output_type": "stream",
     "text": [
      "https://app.neptune.ai/cellarium/tissue-purifier/e/TIS-1856\n",
      "Remember to stop your run once you’ve finished logging your metadata (https://docs.neptune.ai/api-reference/run#.stop). It will be stopped automatically only when the notebook kernel/interactive console is terminated.\n",
      "Shutting down background jobs, please wait a moment...\n",
      "Done!\n"
     ]
    }
   ],
   "source": [
    "run = neptune.init(\n",
    "    project='cellarium/tissue-purifier',\n",
    "    api_token=NEPTUNE_TOKEN,\n",
    "    run='TIS-1856',\n",
    "    mode=\"read-only\")\n",
    "\n",
    "#username = run['sys/owner'].fetch()\n",
    "#loss = run['training/train_loss'].fetch_last()\n",
    "\n",
    "run['training/model/checkpoints/periodic_checkpoint-epoch=999'].download(\"TIS-1856_vae.ckpt\")\n",
    "run.stop()"
   ]
  },
  {
   "cell_type": "code",
   "execution_count": 13,
   "id": "1d629850-ebb6-4083-bcfa-454069f679eb",
   "metadata": {},
   "outputs": [
    {
     "name": "stdout",
     "output_type": "stream",
     "text": [
      "https://app.neptune.ai/cellarium/tissue-purifier/e/TIS-1854\n",
      "Remember to stop your run once you’ve finished logging your metadata (https://docs.neptune.ai/api-reference/run#.stop). It will be stopped automatically only when the notebook kernel/interactive console is terminated.\n",
      "Shutting down background jobs, please wait a moment...\n",
      "Done!\n"
     ]
    }
   ],
   "source": [
    "run = neptune.init(\n",
    "    project='cellarium/tissue-purifier',\n",
    "    api_token=NEPTUNE_TOKEN,\n",
    "    run='TIS-1854',\n",
    "    mode=\"read-only\")\n",
    "\n",
    "#username = run['sys/owner'].fetch()\n",
    "#loss = run['training/train_loss'].fetch_last()\n",
    "\n",
    "run['training/model/checkpoints/best_checkpoint-epoch=999'].download(\"TIS-1854_simclr.ckpt\")\n",
    "run.stop()"
   ]
  },
  {
   "cell_type": "code",
   "execution_count": 14,
   "id": "1f520977-2ffe-480f-b45c-9cf2d532e5f8",
   "metadata": {},
   "outputs": [
    {
     "name": "stdout",
     "output_type": "stream",
     "text": [
      "https://app.neptune.ai/cellarium/tissue-purifier/e/TIS-1852\n",
      "Remember to stop your run once you’ve finished logging your metadata (https://docs.neptune.ai/api-reference/run#.stop). It will be stopped automatically only when the notebook kernel/interactive console is terminated.\n",
      "Shutting down background jobs, please wait a moment...\n",
      "Done!\n"
     ]
    }
   ],
   "source": [
    "run = neptune.init(\n",
    "    project='cellarium/tissue-purifier',\n",
    "    api_token=NEPTUNE_TOKEN,\n",
    "    run='TIS-1852',\n",
    "    mode=\"read-only\")\n",
    "\n",
    "#username = run['sys/owner'].fetch()\n",
    "#loss = run['training/train_loss'].fetch_last()\n",
    "\n",
    "run['training/model/checkpoints/best_checkpoint-epoch=999'].download(\"TIS-1852_dino.ckpt\")\n",
    "run.stop()"
   ]
  },
  {
   "cell_type": "code",
   "execution_count": null,
   "id": "fda4d6bb-1f1c-4a7f-becb-e426f71de7f0",
   "metadata": {},
   "outputs": [],
   "source": []
  }
 ],
 "metadata": {
  "environment": {
   "kernel": "python3",
   "name": "common-cu113.m84",
   "type": "gcloud",
   "uri": "gcr.io/deeplearning-platform-release/base-cu113:m84"
  },
  "kernelspec": {
   "display_name": "Python 3",
   "language": "python",
   "name": "python3"
  },
  "language_info": {
   "codemirror_mode": {
    "name": "ipython",
    "version": 3
   },
   "file_extension": ".py",
   "mimetype": "text/x-python",
   "name": "python",
   "nbconvert_exporter": "python",
   "pygments_lexer": "ipython3",
   "version": "3.7.12"
  }
 },
 "nbformat": 4,
 "nbformat_minor": 5
}
