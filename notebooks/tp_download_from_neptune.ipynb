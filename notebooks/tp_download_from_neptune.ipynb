{
 "cells": [
  {
   "cell_type": "markdown",
   "metadata": {},
   "source": [
    "# Download Checkpoint"
   ]
  },
  {
   "cell_type": "code",
   "execution_count": 9,
   "metadata": {},
   "outputs": [],
   "source": [
    "NEPTUNE_TOKEN = \"YOUR_NEPTUNE_TOKEN\""
   ]
  },
  {
   "cell_type": "code",
   "execution_count": 10,
   "metadata": {},
   "outputs": [],
   "source": [
    "import neptune.new as neptune"
   ]
  },
  {
   "cell_type": "code",
   "execution_count": 15,
   "metadata": {},
   "outputs": [
    {
     "name": "stdout",
     "output_type": "stream",
     "text": [
      "https://app.neptune.ai/cellarium/tissue-purifier/e/TIS-1860\n",
      "Remember to stop your run once you’ve finished logging your metadata (https://docs.neptune.ai/api-reference/run#.stop). It will be stopped automatically only when the notebook kernel/interactive console is terminated.\n",
      "Shutting down background jobs, please wait a moment...\n",
      "Done!\n",
      "Shutting down background jobs, please wait a moment...\n",
      "Done!\n"
     ]
    }
   ],
   "source": [
    "run = neptune.init(\n",
    "    project='cellarium/tissue-purifier',\n",
    "    api_token=NEPTUNE_TOKEN,\n",
    "    run='TIS-1860',\n",
    "    mode=\"read-only\")\n",
    "\n",
    "#username = run['sys/owner'].fetch()\n",
    "#loss = run['training/train_loss'].fetch_last()\n",
    "\n",
    "run['training/model/checkpoints/best_checkpoint-epoch=1999'].download(\"TIS-1860_barlow.ckpt\")\n",
    "run.stop()"
   ]
  },
  {
   "cell_type": "code",
   "execution_count": 12,
   "metadata": {},
   "outputs": [
    {
     "name": "stdout",
     "output_type": "stream",
     "text": [
      "https://app.neptune.ai/cellarium/tissue-purifier/e/TIS-1856\n",
      "Remember to stop your run once you’ve finished logging your metadata (https://docs.neptune.ai/api-reference/run#.stop). It will be stopped automatically only when the notebook kernel/interactive console is terminated.\n",
      "Shutting down background jobs, please wait a moment...\n",
      "Done!\n"
     ]
    }
   ],
   "source": [
    "run = neptune.init(\n",
    "    project='cellarium/tissue-purifier',\n",
    "    api_token=NEPTUNE_TOKEN,\n",
    "    run='TIS-1856',\n",
    "    mode=\"read-only\")\n",
    "\n",
    "#username = run['sys/owner'].fetch()\n",
    "#loss = run['training/train_loss'].fetch_last()\n",
    "\n",
    "run['training/model/checkpoints/periodic_checkpoint-epoch=999'].download(\"TIS-1856_vae.ckpt\")\n",
    "run.stop()"
   ]
  },
  {
   "cell_type": "code",
   "execution_count": 13,
   "metadata": {},
   "outputs": [
    {
     "name": "stdout",
     "output_type": "stream",
     "text": [
      "https://app.neptune.ai/cellarium/tissue-purifier/e/TIS-1854\n",
      "Remember to stop your run once you’ve finished logging your metadata (https://docs.neptune.ai/api-reference/run#.stop). It will be stopped automatically only when the notebook kernel/interactive console is terminated.\n",
      "Shutting down background jobs, please wait a moment...\n",
      "Done!\n"
     ]
    }
   ],
   "source": [
    "run = neptune.init(\n",
    "    project='cellarium/tissue-purifier',\n",
    "    api_token=NEPTUNE_TOKEN,\n",
    "    run='TIS-1854',\n",
    "    mode=\"read-only\")\n",
    "\n",
    "#username = run['sys/owner'].fetch()\n",
    "#loss = run['training/train_loss'].fetch_last()\n",
    "\n",
    "run['training/model/checkpoints/best_checkpoint-epoch=999'].download(\"TIS-1854_simclr.ckpt\")\n",
    "run.stop()"
   ]
  },
  {
   "cell_type": "code",
   "execution_count": 14,
   "metadata": {},
   "outputs": [
    {
     "name": "stdout",
     "output_type": "stream",
     "text": [
      "https://app.neptune.ai/cellarium/tissue-purifier/e/TIS-1852\n",
      "Remember to stop your run once you’ve finished logging your metadata (https://docs.neptune.ai/api-reference/run#.stop). It will be stopped automatically only when the notebook kernel/interactive console is terminated.\n",
      "Shutting down background jobs, please wait a moment...\n",
      "Done!\n"
     ]
    }
   ],
   "source": [
    "run = neptune.init(\n",
    "    project='cellarium/tissue-purifier',\n",
    "    api_token=NEPTUNE_TOKEN,\n",
    "    run='TIS-1852',\n",
    "    mode=\"read-only\")\n",
    "\n",
    "#username = run['sys/owner'].fetch()\n",
    "#loss = run['training/train_loss'].fetch_last()\n",
    "\n",
    "run['training/model/checkpoints/best_checkpoint-epoch=999'].download(\"TIS-1852_dino.ckpt\")\n",
    "run.stop()"
   ]
  },
  {
   "cell_type": "code",
   "execution_count": null,
   "metadata": {},
   "outputs": [],
   "source": []
  }
 ],
 "metadata": {
  "environment": {
   "kernel": "python3",
   "name": "common-cu113.m84",
   "type": "gcloud",
   "uri": "gcr.io/deeplearning-platform-release/base-cu113:m84"
  },
  "kernelspec": {
   "display_name": "Python 3",
   "language": "python",
   "name": "python3"
  },
  "language_info": {
   "codemirror_mode": {
    "name": "ipython",
    "version": 3
   },
   "file_extension": ".py",
   "mimetype": "text/x-python",
   "name": "python",
   "nbconvert_exporter": "python",
   "pygments_lexer": "ipython3",
   "version": "3.8.5"
  }
 },
 "nbformat": 4,
 "nbformat_minor": 5
}
