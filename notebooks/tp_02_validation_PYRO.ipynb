{
 "cells": [
  {
   "cell_type": "markdown",
   "id": "b50a730d",
   "metadata": {},
   "source": [
    "### Reload and subset the genes"
   ]
  },
  {
   "cell_type": "markdown",
   "id": "742c6f6f",
   "metadata": {},
   "source": [
    "Model for the counts in cell n for gene g.\n",
    "1. Y_ng ~ Poisson(N_n * mu_ng)   # the counts for cell 'n' for gene 'g'. N_n is the total counts in cell n\n",
    "2. eps_ng ~ Normal(eps_g)  # eps_g is the for gene overdispersion parameter\n",
    "\n",
    "Assuming that I have few cell-types and that each cell 'n' is assigned to a cell_type 'k'. The poisson rate is a liner function of the covariate X_nl\n",
    "3. mu_ng = alpha0_kg + sum_l (X_nl * alpha_klg) + eps_ng\n",
    "\n",
    "\n",
    "The parameters I want to (point-)estimate are:\n",
    "- alpha0_kg\n",
    "- alpha_klg\n",
    "- and to a much lower extent eps_ng"
   ]
  },
  {
   "cell_type": "code",
   "execution_count": 1,
   "id": "9818fa2d",
   "metadata": {},
   "outputs": [],
   "source": [
    "import torch\n",
    "import numpy \n",
    "import matplotlib.pyplot as plt\n",
    "import seaborn"
   ]
  },
  {
   "cell_type": "code",
   "execution_count": 66,
   "id": "4a4a7934",
   "metadata": {},
   "outputs": [],
   "source": [
    "def generate_fake_data(X_nl, g, k=1, alpha_scale=1E-2, alpha0_loc=-6.0, alpha0_scale=0.5, noise_scale=1E-2):\n",
    "    n, l = X_nl.shape[:2]\n",
    "    cell_ids_n = torch.randint(low=0, high=k, size=[n])\n",
    "    total_umi_n1 = torch.randint(low=250, high=3000, size=[n,1])\n",
    "    alpha_klg = alpha_scale * torch.randn((k,l,g))\n",
    "    alpha0_kg = alpha0_loc + alpha0_scale * torch.randn((k,g))\n",
    "    eps_g = torch.randn(g) * noise_scale  # std per gene\n",
    "    eps_ng = torch.randn(n,g) * eps_g\n",
    "    \n",
    "    log_mu_ng = alpha0_kg[cell_ids_n] + (X_nl[...,None] * alpha_klg[cell_ids_n]).sum(dim=-2) \n",
    "    mu_ng = (log_mu_ng + eps_ng).exp()\n",
    "    rate_ng = total_umi_n1 * mu_ng\n",
    "    counts_ng = torch.poisson(rate_ng).long()\n",
    "    \n",
    "    results = {\n",
    "        \"cell_type_ids_n\": cell_ids_n,\n",
    "        \"counts_ng\": counts_ng,\n",
    "        \"alpha0_kg\": alpha0_kg,\n",
    "        \"alpha_klg\": alpha_klg,\n",
    "        \"X_nl\": X_nl\n",
    "    }\n",
    "    return results\n",
    "\n",
    "\n",
    "X_nl = torch.randn((20000,10))\n",
    "fake_data = generate_fake_data(X_nl, g=200, k=9)"
   ]
  },
  {
   "cell_type": "code",
   "execution_count": 67,
   "id": "b9872bf7",
   "metadata": {},
   "outputs": [
    {
     "data": {
      "image/png": "[encoded data removed]",
      "text/plain": [
       "<Figure size 2592x576 with 18 Axes>"
      ]
     },
     "execution_count": 67,
     "metadata": {},
     "output_type": "execute_result"
    }
   ],
   "source": [
    "def plot_few_gene_hist(counts_ng, cell_types_n, ncols=4):\n",
    "    assert counts_ng.shape[0] == cell_types_n.shape[0]\n",
    "    ctypes = torch.unique(cell_types_n)\n",
    "    genes = counts_ng.shape[-1]\n",
    "    \n",
    "    nrows = genes\n",
    "    ncols = len(ctypes)\n",
    "    fig, axes = plt.subplots(ncols=ncols, nrows=nrows, figsize=(4*ncols, 4*nrows))\n",
    "\n",
    "    for r in range(genes):\n",
    "        tmp = counts_ng[:,r]\n",
    "        for c, c_type in enumerate(ctypes):\n",
    "            tmp2 = tmp[cell_types_n == c_type]\n",
    "            _ = axes[r,c].hist(tmp2, bins=50, density=False, log=True)\n",
    "    plt.close()\n",
    "    return fig\n",
    "\n",
    "counts_ng = fake_data[\"counts_ng\"]\n",
    "cell_types_n = fake_data[\"cell_type_ids_n\"]\n",
    "fig = plot_few_gene_hist(counts_ng[:,:2], cell_types_n, ncols=3)\n",
    "fig"
   ]
  },
  {
   "cell_type": "code",
   "execution_count": 68,
   "id": "500af0e9",
   "metadata": {},
   "outputs": [],
   "source": [
    "fake_dataset = {\n",
    "    \"cell_type_codes\" : fake_data[\"cell_type_ids_n\"],\n",
    "    \"counts\": fake_data[\"counts_ng\"], \n",
    "    \"covariates\" : fake_data[\"X_nl\"],\n",
    "}                               "
   ]
  },
  {
   "cell_type": "markdown",
   "id": "3bc3626a",
   "metadata": {},
   "source": [
    "### Pyro model to fit the counts with a poisson_log_normal model"
   ]
  },
  {
   "cell_type": "code",
   "execution_count": 73,
   "id": "25458117",
   "metadata": {},
   "outputs": [],
   "source": [
    "import pyro\n",
    "import pyro.poutine as poutine\n",
    "import pyro.distributions as dist\n",
    "from pyro.infer import SVI, Trace_ELBO\n",
    "from pyro.infer.autoguide import AutoDelta\n",
    "from torch.distributions import constraints\n",
    "\n",
    "\n",
    "def model_poisson_log_normal(dataset):\n",
    "    \n",
    "    counts_ng = dataset['counts'].long()\n",
    "    covariates_nl = dataset['covariates'].float()  \n",
    "    cell_type_ids_n = dataset['cell_type_codes'].long()  # ids: 0,1,...,K-1\n",
    "    k = cell_type_ids_n.max().item()+1\n",
    "    \n",
    "    if torch.cuda.is_available(): \n",
    "        counts_ng = counts_ng.cuda()\n",
    "        covariates_nl = covariates_nl.cuda()\n",
    "        cell_type_ids_n = cell_type_ids_n.cuda()\n",
    "    device = counts_ng.device\n",
    "    \n",
    "    n, g = counts_ng.shape[:2]\n",
    "    n, l = covariates_nl.shape[:2]\n",
    "    n = cell_type_ids_n.shape[0]  \n",
    "    assert isinstance(k, int) and k>0\n",
    "    assert isinstance(l, int) and l>0\n",
    "    assert isinstance(n, int) and n>0\n",
    "    assert isinstance(g, int) and g>0\n",
    "    \n",
    "    # Initialize the parameters\n",
    "    eps_init = 0.001\n",
    "    alpha0_init = -6.0\n",
    "    alpha_init = 0.01\n",
    "    eps_g = pyro.param(\"eps_g\", eps_init * torch.ones(g),\n",
    "                       constraint=constraints.interval(1E-4, 1E-1)) # shape g\n",
    "    alpha0_kg = pyro.param(\"alpha0\", alpha0_init * torch.ones((k,g))) # shape k,g\n",
    "    alpha_klg = pyro.param(\"alpha\", alpha_init * torch.ones((k,l,g))) # shape k,l,g\n",
    "    \n",
    "    # print(eps_g.shape, alpha0_kg.shape, alpha_klg.shape)\n",
    "    \n",
    "    with pyro.plate(\"cells\", size=n, dim=-2, device=None, subsample_size=n) as ind_n:\n",
    "        cell_ids_sub_n = cell_type_ids_n[ind_n]\n",
    "        alpha0_ng = alpha0_kg[cell_ids_sub_n]\n",
    "        alpha_nlg = alpha_klg[cell_ids_sub_n]\n",
    "        covariate_sub_nl1 = covariates_nl[cell_ids_sub_n].unsqueeze(dim=-1)\n",
    "        log_mu_ng = alpha0_ng + torch.sum(covariate_sub_nl1 * alpha_nlg, dim=-2)\n",
    "        total_umi_n1 = counts_ng[ind_n].sum(dim=-1, keepdim=True) \n",
    "    \n",
    "        with pyro.plate(\"genes\", g, dim=-1, device=None, subsample_size=g) as ind_g:\n",
    "            eps_ng = pyro.sample(\"eps_ng\", dist.Normal(loc=0, scale=eps_g[ind_g]))\n",
    "            mu_ng = (log_mu_ng[:,ind_g] + eps_ng).exp()\n",
    "            rate_ng = mu_ng * total_umi_n1 \n",
    "            assert torch.all(torch.isfinite(rate_ng))\n",
    "            pyro.sample(\"counts\", dist.Poisson(rate_ng), obs=counts_ng[ind_n][:,ind_g])\n",
    "    \n",
    "guide_poisson_log_normal = AutoDelta(model_poisson_log_normal)\n",
    "\n",
    "\n",
    "def train(model, guide, dataset, lr=0.005, n_steps=2500, print_frequency=50, clear_param_store=True):\n",
    "    if clear_param_store:\n",
    "        pyro.clear_param_store()\n",
    "    \n",
    "    adam = pyro.optim.Adam({\"lr\": lr})\n",
    "    svi = SVI(model, guide, adam, loss=Trace_ELBO())\n",
    "    for i in range(n_steps):\n",
    "        loss = svi.step(dataset)\n",
    "        if i % print_frequency == 0:\n",
    "            print('[iter {}]  loss: {:.4f}'.format(i, loss))"
   ]
  },
  {
   "cell_type": "code",
   "execution_count": 74,
   "id": "c81776a5",
   "metadata": {},
   "outputs": [
    {
     "name": "stdout",
     "output_type": "stream",
     "text": [
      "Trace Shapes:                \n",
      " Param Sites:                \n",
      "        eps_g             200\n",
      "       alpha0           9 200\n",
      "        alpha     9    10 200\n",
      "Sample Sites:                \n",
      "   cells dist               |\n",
      "        value       20000   |\n",
      "     log_prob               |\n",
      "   genes dist               |\n",
      "        value         200   |\n",
      "     log_prob               |\n",
      "  eps_ng dist 20000   200   |\n",
      "        value 20000   200   |\n",
      "     log_prob 20000   200   |\n",
      "  counts dist 20000   200   |\n",
      "        value 20000   200   |\n",
      "     log_prob 20000   200   |\n"
     ]
    }
   ],
   "source": [
    "trace = poutine.trace(model_poisson_log_normal).get_trace(fake_dataset)\n",
    "trace.compute_log_prob()  # optional, but allows printing of log_prob shapes\n",
    "print(trace.format_shapes())"
   ]
  },
  {
   "cell_type": "code",
   "execution_count": 75,
   "id": "4902b3b2",
   "metadata": {},
   "outputs": [
    {
     "name": "stdout",
     "output_type": "stream",
     "text": [
      "[iter 0]  loss: -9738870.0000\n",
      "[iter 50]  loss: -15673597.0000\n"
     ]
    },
    {
     "ename": "KeyboardInterrupt",
     "evalue": "",
     "output_type": "error",
     "traceback": [
      "\u001b[0;31m---------------------------------------------------------------------------\u001b[0m",
      "\u001b[0;31mKeyboardInterrupt\u001b[0m                         Traceback (most recent call last)",
      "\u001b[0;32m<ipython-input-75-8eef5b30d7aa>\u001b[0m in \u001b[0;36m<module>\u001b[0;34m\u001b[0m\n\u001b[1;32m      1\u001b[0m \u001b[0;31m# train(model_mle, guide_mle, dataset)\u001b[0m\u001b[0;34m\u001b[0m\u001b[0;34m\u001b[0m\u001b[0;34m\u001b[0m\u001b[0m\n\u001b[0;32m----> 2\u001b[0;31m train(model_poisson_log_normal, guide_poisson_log_normal, fake_dataset, \n\u001b[0m\u001b[1;32m      3\u001b[0m       \u001b[0mn_steps\u001b[0m\u001b[0;34m=\u001b[0m\u001b[0;36m500\u001b[0m\u001b[0;34m,\u001b[0m \u001b[0mprint_frequency\u001b[0m\u001b[0;34m=\u001b[0m\u001b[0;36m50\u001b[0m\u001b[0;34m,\u001b[0m\u001b[0;34m\u001b[0m\u001b[0;34m\u001b[0m\u001b[0m\n\u001b[1;32m      4\u001b[0m      clear_param_store=True)\n\u001b[1;32m      5\u001b[0m \u001b[0;34m\u001b[0m\u001b[0m\n",
      "\u001b[0;32m<ipython-input-73-72c99d4c3f42>\u001b[0m in \u001b[0;36mtrain\u001b[0;34m(model, guide, dataset, lr, n_steps, print_frequency, clear_param_store)\u001b[0m\n\u001b[1;32m     64\u001b[0m     \u001b[0msvi\u001b[0m \u001b[0;34m=\u001b[0m \u001b[0mSVI\u001b[0m\u001b[0;34m(\u001b[0m\u001b[0mmodel\u001b[0m\u001b[0;34m,\u001b[0m \u001b[0mguide\u001b[0m\u001b[0;34m,\u001b[0m \u001b[0madam\u001b[0m\u001b[0;34m,\u001b[0m \u001b[0mloss\u001b[0m\u001b[0;34m=\u001b[0m\u001b[0mTrace_ELBO\u001b[0m\u001b[0;34m(\u001b[0m\u001b[0;34m)\u001b[0m\u001b[0;34m)\u001b[0m\u001b[0;34m\u001b[0m\u001b[0;34m\u001b[0m\u001b[0m\n\u001b[1;32m     65\u001b[0m     \u001b[0;32mfor\u001b[0m \u001b[0mi\u001b[0m \u001b[0;32min\u001b[0m \u001b[0mrange\u001b[0m\u001b[0;34m(\u001b[0m\u001b[0mn_steps\u001b[0m\u001b[0;34m)\u001b[0m\u001b[0;34m:\u001b[0m\u001b[0;34m\u001b[0m\u001b[0;34m\u001b[0m\u001b[0m\n\u001b[0;32m---> 66\u001b[0;31m         \u001b[0mloss\u001b[0m \u001b[0;34m=\u001b[0m \u001b[0msvi\u001b[0m\u001b[0;34m.\u001b[0m\u001b[0mstep\u001b[0m\u001b[0;34m(\u001b[0m\u001b[0mdataset\u001b[0m\u001b[0;34m)\u001b[0m\u001b[0;34m\u001b[0m\u001b[0;34m\u001b[0m\u001b[0m\n\u001b[0m\u001b[1;32m     67\u001b[0m         \u001b[0;32mif\u001b[0m \u001b[0mi\u001b[0m \u001b[0;34m%\u001b[0m \u001b[0mprint_frequency\u001b[0m \u001b[0;34m==\u001b[0m \u001b[0;36m0\u001b[0m\u001b[0;34m:\u001b[0m\u001b[0;34m\u001b[0m\u001b[0;34m\u001b[0m\u001b[0m\n\u001b[1;32m     68\u001b[0m             \u001b[0mprint\u001b[0m\u001b[0;34m(\u001b[0m\u001b[0;34m'[iter {}]  loss: {:.4f}'\u001b[0m\u001b[0;34m.\u001b[0m\u001b[0mformat\u001b[0m\u001b[0;34m(\u001b[0m\u001b[0mi\u001b[0m\u001b[0;34m,\u001b[0m \u001b[0mloss\u001b[0m\u001b[0;34m)\u001b[0m\u001b[0;34m)\u001b[0m\u001b[0;34m\u001b[0m\u001b[0;34m\u001b[0m\u001b[0m\n",
      "\u001b[0;32m~/anaconda3/envs/pyro/lib/python3.8/site-packages/pyro/infer/svi.py\u001b[0m in \u001b[0;36mstep\u001b[0;34m(self, *args, **kwargs)\u001b[0m\n\u001b[1;32m    126\u001b[0m         \u001b[0;31m# get loss and compute gradients\u001b[0m\u001b[0;34m\u001b[0m\u001b[0;34m\u001b[0m\u001b[0;34m\u001b[0m\u001b[0m\n\u001b[1;32m    127\u001b[0m         \u001b[0;32mwith\u001b[0m \u001b[0mpoutine\u001b[0m\u001b[0;34m.\u001b[0m\u001b[0mtrace\u001b[0m\u001b[0;34m(\u001b[0m\u001b[0mparam_only\u001b[0m\u001b[0;34m=\u001b[0m\u001b[0;32mTrue\u001b[0m\u001b[0;34m)\u001b[0m \u001b[0;32mas\u001b[0m \u001b[0mparam_capture\u001b[0m\u001b[0;34m:\u001b[0m\u001b[0;34m\u001b[0m\u001b[0;34m\u001b[0m\u001b[0m\n\u001b[0;32m--> 128\u001b[0;31m             \u001b[0mloss\u001b[0m \u001b[0;34m=\u001b[0m \u001b[0mself\u001b[0m\u001b[0;34m.\u001b[0m\u001b[0mloss_and_grads\u001b[0m\u001b[0;34m(\u001b[0m\u001b[0mself\u001b[0m\u001b[0;34m.\u001b[0m\u001b[0mmodel\u001b[0m\u001b[0;34m,\u001b[0m \u001b[0mself\u001b[0m\u001b[0;34m.\u001b[0m\u001b[0mguide\u001b[0m\u001b[0;34m,\u001b[0m \u001b[0;34m*\u001b[0m\u001b[0margs\u001b[0m\u001b[0;34m,\u001b[0m \u001b[0;34m**\u001b[0m\u001b[0mkwargs\u001b[0m\u001b[0;34m)\u001b[0m\u001b[0;34m\u001b[0m\u001b[0;34m\u001b[0m\u001b[0m\n\u001b[0m\u001b[1;32m    129\u001b[0m \u001b[0;34m\u001b[0m\u001b[0m\n\u001b[1;32m    130\u001b[0m         params = set(site[\"value\"].unconstrained()\n",
      "\u001b[0;32m~/anaconda3/envs/pyro/lib/python3.8/site-packages/pyro/infer/trace_elbo.py\u001b[0m in \u001b[0;36mloss_and_grads\u001b[0;34m(self, model, guide, *args, **kwargs)\u001b[0m\n\u001b[1;32m    140\u001b[0m             \u001b[0;32mif\u001b[0m \u001b[0mtrainable_params\u001b[0m \u001b[0;32mand\u001b[0m \u001b[0mgetattr\u001b[0m\u001b[0;34m(\u001b[0m\u001b[0msurrogate_loss_particle\u001b[0m\u001b[0;34m,\u001b[0m \u001b[0;34m'requires_grad'\u001b[0m\u001b[0;34m,\u001b[0m \u001b[0;32mFalse\u001b[0m\u001b[0;34m)\u001b[0m\u001b[0;34m:\u001b[0m\u001b[0;34m\u001b[0m\u001b[0;34m\u001b[0m\u001b[0m\n\u001b[1;32m    141\u001b[0m                 \u001b[0msurrogate_loss_particle\u001b[0m \u001b[0;34m=\u001b[0m \u001b[0msurrogate_loss_particle\u001b[0m \u001b[0;34m/\u001b[0m \u001b[0mself\u001b[0m\u001b[0;34m.\u001b[0m\u001b[0mnum_particles\u001b[0m\u001b[0;34m\u001b[0m\u001b[0;34m\u001b[0m\u001b[0m\n\u001b[0;32m--> 142\u001b[0;31m                 \u001b[0msurrogate_loss_particle\u001b[0m\u001b[0;34m.\u001b[0m\u001b[0mbackward\u001b[0m\u001b[0;34m(\u001b[0m\u001b[0mretain_graph\u001b[0m\u001b[0;34m=\u001b[0m\u001b[0mself\u001b[0m\u001b[0;34m.\u001b[0m\u001b[0mretain_graph\u001b[0m\u001b[0;34m)\u001b[0m\u001b[0;34m\u001b[0m\u001b[0;34m\u001b[0m\u001b[0m\n\u001b[0m\u001b[1;32m    143\u001b[0m         \u001b[0mwarn_if_nan\u001b[0m\u001b[0;34m(\u001b[0m\u001b[0mloss\u001b[0m\u001b[0;34m,\u001b[0m \u001b[0;34m\"loss\"\u001b[0m\u001b[0;34m)\u001b[0m\u001b[0;34m\u001b[0m\u001b[0;34m\u001b[0m\u001b[0m\n\u001b[1;32m    144\u001b[0m         \u001b[0;32mreturn\u001b[0m \u001b[0mloss\u001b[0m\u001b[0;34m\u001b[0m\u001b[0;34m\u001b[0m\u001b[0m\n",
      "\u001b[0;32m~/anaconda3/envs/pyro/lib/python3.8/site-packages/torch/_tensor.py\u001b[0m in \u001b[0;36mbackward\u001b[0;34m(self, gradient, retain_graph, create_graph, inputs)\u001b[0m\n\u001b[1;32m    253\u001b[0m                 \u001b[0mcreate_graph\u001b[0m\u001b[0;34m=\u001b[0m\u001b[0mcreate_graph\u001b[0m\u001b[0;34m,\u001b[0m\u001b[0;34m\u001b[0m\u001b[0;34m\u001b[0m\u001b[0m\n\u001b[1;32m    254\u001b[0m                 inputs=inputs)\n\u001b[0;32m--> 255\u001b[0;31m         \u001b[0mtorch\u001b[0m\u001b[0;34m.\u001b[0m\u001b[0mautograd\u001b[0m\u001b[0;34m.\u001b[0m\u001b[0mbackward\u001b[0m\u001b[0;34m(\u001b[0m\u001b[0mself\u001b[0m\u001b[0;34m,\u001b[0m \u001b[0mgradient\u001b[0m\u001b[0;34m,\u001b[0m \u001b[0mretain_graph\u001b[0m\u001b[0;34m,\u001b[0m \u001b[0mcreate_graph\u001b[0m\u001b[0;34m,\u001b[0m \u001b[0minputs\u001b[0m\u001b[0;34m=\u001b[0m\u001b[0minputs\u001b[0m\u001b[0;34m)\u001b[0m\u001b[0;34m\u001b[0m\u001b[0;34m\u001b[0m\u001b[0m\n\u001b[0m\u001b[1;32m    256\u001b[0m \u001b[0;34m\u001b[0m\u001b[0m\n\u001b[1;32m    257\u001b[0m     \u001b[0;32mdef\u001b[0m \u001b[0mregister_hook\u001b[0m\u001b[0;34m(\u001b[0m\u001b[0mself\u001b[0m\u001b[0;34m,\u001b[0m \u001b[0mhook\u001b[0m\u001b[0;34m)\u001b[0m\u001b[0;34m:\u001b[0m\u001b[0;34m\u001b[0m\u001b[0;34m\u001b[0m\u001b[0m\n",
      "\u001b[0;32m~/anaconda3/envs/pyro/lib/python3.8/site-packages/torch/autograd/__init__.py\u001b[0m in \u001b[0;36mbackward\u001b[0;34m(tensors, grad_tensors, retain_graph, create_graph, grad_variables, inputs)\u001b[0m\n\u001b[1;32m    145\u001b[0m         \u001b[0mretain_graph\u001b[0m \u001b[0;34m=\u001b[0m \u001b[0mcreate_graph\u001b[0m\u001b[0;34m\u001b[0m\u001b[0;34m\u001b[0m\u001b[0m\n\u001b[1;32m    146\u001b[0m \u001b[0;34m\u001b[0m\u001b[0m\n\u001b[0;32m--> 147\u001b[0;31m     Variable._execution_engine.run_backward(\n\u001b[0m\u001b[1;32m    148\u001b[0m         \u001b[0mtensors\u001b[0m\u001b[0;34m,\u001b[0m \u001b[0mgrad_tensors_\u001b[0m\u001b[0;34m,\u001b[0m \u001b[0mretain_graph\u001b[0m\u001b[0;34m,\u001b[0m \u001b[0mcreate_graph\u001b[0m\u001b[0;34m,\u001b[0m \u001b[0minputs\u001b[0m\u001b[0;34m,\u001b[0m\u001b[0;34m\u001b[0m\u001b[0;34m\u001b[0m\u001b[0m\n\u001b[1;32m    149\u001b[0m         allow_unreachable=True, accumulate_grad=True)  # allow_unreachable flag\n",
      "\u001b[0;31mKeyboardInterrupt\u001b[0m: "
     ]
    }
   ],
   "source": [
    "# train(model_mle, guide_mle, dataset)\n",
    "train(model_poisson_log_normal, guide_poisson_log_normal, fake_dataset, \n",
    "      n_steps=500, print_frequency=50,\n",
    "     clear_param_store=True)\n",
    "\n",
    "#for name, value in pyro.get_param_store().items():\n",
    "#    print(name, pyro.param(name))"
   ]
  },
  {
   "cell_type": "code",
   "execution_count": null,
   "id": "85775b01",
   "metadata": {},
   "outputs": [],
   "source": [
    "#for name, value in pyro.get_param_store().items():\n",
    "#    print(name, pyro.param(name))"
   ]
  },
  {
   "cell_type": "code",
   "execution_count": 76,
   "id": "cf88c1d7",
   "metadata": {},
   "outputs": [
    {
     "data": {
      "text/plain": [
       "tensor([[-6.3685, -6.5687, -6.1897,  ..., -6.4527, -4.8089, -6.2822],\n",
       "        [-6.3223, -5.1669, -6.5367,  ..., -6.0705, -5.8935, -5.8306],\n",
       "        [-6.7435, -5.7823, -6.2361,  ..., -6.4339, -5.5787, -6.0284],\n",
       "        ...,\n",
       "        [-5.8788, -6.4437, -7.3363,  ..., -5.8214, -5.8527, -7.1212],\n",
       "        [-5.9900, -5.4035, -5.8550,  ..., -6.8088, -5.5399, -5.9072],\n",
       "        [-5.9578, -5.1692, -6.0447,  ..., -6.2425, -6.6826, -7.3549]])"
      ]
     },
     "execution_count": 76,
     "metadata": {},
     "output_type": "execute_result"
    }
   ],
   "source": [
    "fake_data[\"alpha0_kg\"]"
   ]
  },
  {
   "cell_type": "code",
   "execution_count": 77,
   "id": "b631d35e",
   "metadata": {},
   "outputs": [
    {
     "data": {
      "text/plain": [
       "tensor([[-5.9728, -6.0016, -5.9509,  ..., -5.9875, -5.7510, -5.9652],\n",
       "        [-5.9662, -5.8315, -5.9880,  ..., -5.9347, -5.9159, -5.9089],\n",
       "        [-6.0237, -5.9289, -5.9724,  ..., -5.9954, -5.9115, -5.9557],\n",
       "        ...,\n",
       "        [-5.9194, -5.9801, -6.0793,  ..., -5.9113, -5.9131, -6.0564],\n",
       "        [-5.9329, -5.8712, -5.9200,  ..., -6.0195, -5.8849, -5.9249],\n",
       "        [-5.9430, -5.8719, -5.9502,  ..., -5.9692, -6.0056, -6.0657]],\n",
       "       requires_grad=True)"
      ]
     },
     "execution_count": 77,
     "metadata": {},
     "output_type": "execute_result"
    }
   ],
   "source": [
    "pyro.param(\"alpha0\")"
   ]
  },
  {
   "cell_type": "markdown",
   "id": "5477823c",
   "metadata": {},
   "source": [
    "# PLOT THE REDICTION VS THE REAL"
   ]
  }
 ],
 "metadata": {
  "environment": {
   "kernel": "python3",
   "name": "common-cu113.m84",
   "type": "gcloud",
   "uri": "gcr.io/deeplearning-platform-release/base-cu113:m84"
  },
  "kernelspec": {
   "display_name": "pyro",
   "language": "python",
   "name": "pyro"
  },
  "language_info": {
   "codemirror_mode": {
    "name": "ipython",
    "version": 3
   },
   "file_extension": ".py",
   "mimetype": "text/x-python",
   "name": "python",
   "nbconvert_exporter": "python",
   "pygments_lexer": "ipython3",
   "version": "3.8.8"
  }
 },
 "nbformat": 4,
 "nbformat_minor": 5
}
