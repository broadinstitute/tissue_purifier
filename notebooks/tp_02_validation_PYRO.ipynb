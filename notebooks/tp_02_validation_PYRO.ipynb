{
 "cells": [
  {
   "cell_type": "markdown",
   "id": "b50a730d",
   "metadata": {},
   "source": [
    "# Synthetic Data (Poisson-Log-Normal)"
   ]
  },
  {
   "cell_type": "code",
   "execution_count": 1,
   "id": "f7979b29",
   "metadata": {},
   "outputs": [],
   "source": [
    "%load_ext autoreload\n",
    "%autoreload 2"
   ]
  },
  {
   "cell_type": "code",
   "execution_count": 2,
   "id": "60d1ef27",
   "metadata": {},
   "outputs": [],
   "source": [
    "import torch\n",
    "import numpy \n",
    "import matplotlib.pyplot as plt\n",
    "import seaborn\n",
    "\n",
    "import time\n",
    "import pyro\n",
    "import pyro.poutine as poutine\n",
    "import pyro.distributions as dist\n",
    "\n",
    "from pyro.infer.autoguide import AutoDelta, AutoDiagonalNormal, AutoGuideList\n",
    "from torch.distributions import constraints\n",
    "from pyro.infer import Predictive"
   ]
  },
  {
   "cell_type": "markdown",
   "id": "6c7c7210",
   "metadata": {},
   "source": [
    "### Helper functions"
   ]
  },
  {
   "cell_type": "code",
   "execution_count": 3,
   "id": "4a4a7934",
   "metadata": {},
   "outputs": [],
   "source": [
    "def plot_few_gene_hist(cell_types_n, counts_ng, other_counts_ng=None, ncols=4):\n",
    "    assert len(cell_types_n.shape) == 1 \n",
    "    assert len(counts_ng.shape) == 2\n",
    "    assert other_counts_ng is None or counts_ng.shape == other_counts_ng.shape\n",
    "    assert counts_ng.shape[0] == cell_types_n.shape[0]\n",
    "    \n",
    "    def _to_torch(_x):\n",
    "        if isinstance(_x, torch.Tensor):\n",
    "            return _x\n",
    "        elif isinstance(_x, numpy.ndarray):\n",
    "            return torch.tensor(_x)\n",
    "        else:\n",
    "            raise Exception(\"Expected torch.tensor or numpy.ndarray. Received {0}\".format(type(_x)))\n",
    "    \n",
    "    counts_ng = _to_torch(counts_ng)\n",
    "    other_counts_ng = None if other_counts_ng is None else _to_torch(other_counts_ng)\n",
    "    \n",
    "    ctypes = torch.unique(cell_types_n)\n",
    "    genes = counts_ng.shape[-1]\n",
    "    \n",
    "    \n",
    "    nrows = genes\n",
    "    ncols = len(ctypes)\n",
    "    fig, axes = plt.subplots(ncols=ncols, nrows=nrows, figsize=(4*ncols, 4*nrows))\n",
    "\n",
    "    for r in range(genes):\n",
    "        tmp = counts_ng[:,r]\n",
    "        other_tmp = None if other_counts_ng is None else other_counts_ng[:,r]\n",
    "        for c, c_type in enumerate(ctypes):\n",
    "            tmp2 = tmp[cell_types_n == c_type]\n",
    "            other_tmp2 = None if other_counts_ng is None else other_tmp[cell_types_n == c_type]\n",
    "            if other_counts_ng is not None:\n",
    "                barWidth=0.4\n",
    "                \n",
    "                y = torch.bincount(tmp2)\n",
    "                x = torch.arange(y.shape[0]).cpu().numpy()\n",
    "                other_y = torch.bincount(other_tmp2)\n",
    "                other_x = torch.arange(other_y.shape[0]).cpu().numpy() + barWidth\n",
    "                \n",
    "                _ = axes[r,c].bar(x, y.cpu().numpy(), width = barWidth)\n",
    "                _ = axes[r,c].bar(other_x, other_y.cpu().numpy(), width = barWidth)\n",
    "            else:\n",
    "                y = torch.bincount(tmp2)\n",
    "                x = numpy.arange(y.shape[0])\n",
    "                barWidth=0.9\n",
    "                _ = axes[r,c].bar(x, y, width = barWidth)\n",
    "    plt.close()\n",
    "    return fig\n",
    "\n",
    "\n",
    "def EMD_between_distributions(distA, distB, normalize: bool=False):\n",
    "    \"\"\"\n",
    "    Eearth mover's distance (aka  Wasserstein distance) has a close form solution in 1D.\n",
    "    See https://en.wikipedia.org/wiki/Wasserstein_metric)\n",
    "    \"\"\"\n",
    "\n",
    "    sizeA = distA.shape[-1]\n",
    "    sizeB = distB.shape[-1]\n",
    "    max_size = max(sizeA, sizeB)\n",
    "    min_size = min(sizeA, sizeB)\n",
    "    delta_size = max_size - min_size\n",
    "    \n",
    "    padder = torch.nn.ConstantPad1d(padding=(0, delta_size), value=0)\n",
    "    _distA = padder(distA)[...,:max_size]\n",
    "    _distB = padder(distB)[...,:max_size]\n",
    "    \n",
    "    if normalize:\n",
    "        normA = _distA.sum(dim=-1, keepdim=True)\n",
    "        normB = _distB.sum(dim=-1, keepdim=True)\n",
    "        _distA /= normA\n",
    "        _distB /= normB\n",
    "    \n",
    "    # Actual caltulation \n",
    "    _distA_cum = torch.cumsum(_distA, axis=-1)\n",
    "    _distB_cum = torch.cumsum(_distB, axis=-1)    \n",
    "    EMD = (_distA_cum - _distB_cum).abs().sum(axis=-1)\n",
    "    return EMD\n",
    "\n",
    "\n",
    "def L1_between_distributions(distA, distB, normalize: bool=False):\n",
    "    \"\"\" Simple L1 distance between two distributions. \"\"\"\n",
    "    sizeA = distA.shape[-1]\n",
    "    sizeB = distB.shape[-1]\n",
    "    max_size = max(sizeA, sizeB)\n",
    "    min_size = min(sizeA, sizeB)\n",
    "    delta_size = max_size - min_size\n",
    "    \n",
    "    padder = torch.nn.ConstantPad1d(padding=(0, delta_size), value=0)\n",
    "    _distA = padder(distA)[...,:max_size]\n",
    "    _distB = padder(distB)[...,:max_size]\n",
    "    \n",
    "    if normalize:\n",
    "        normA = _distA.sum(dim=-1, keepdim=True)\n",
    "        normB = _distB.sum(dim=-1, keepdim=True)\n",
    "        _distA /= normA\n",
    "        _distB /= normB\n",
    "    \n",
    "    # Actual calculation\n",
    "    L1_norm = (_distA - _distB).abs().sum(axis=-1)\n",
    "    return L1_norm\n",
    "\n",
    "\n",
    "def compute_median_logprob_per_gene_and_cell_type(cell_types_n, log_prob_ng):\n",
    "    assert len(log_prob_ng.shape) >= 2\n",
    "    \n",
    "    unique_cell_types = torch.unique(cell_types_n)\n",
    "    k = len(unique_cell_types)\n",
    "    g = log_prob_ng.shape[-1]\n",
    "    \n",
    "    median_kg = torch.zeros((k,g))\n",
    "    for ik, ctype in enumerate(unique_cell_types):\n",
    "        log_prob_kg = log_prob_ng[..., cell_types_n == ctype, :].flatten(end_dim=-2)\n",
    "        assert len(log_prob_kg.shape) == 2\n",
    "        median_kg[ik] = torch.median(log_prob_kg, axis=-2)[0] \n",
    "    return median_kg\n",
    "\n",
    "\n",
    "\n",
    "def compute_per_cell_type_distributions(cell_types_n, counts_ng):\n",
    "    \"\"\"\n",
    "    Computes the per-cell-type distribution of all the genes\n",
    "    \n",
    "    Args:\n",
    "        cell_types_n: \n",
    "        counts_ng:\n",
    "    \n",
    "    Returns:\n",
    "        dist_kgi a tensor of shape (cell_types, genes, max_counts) whose entry represent the number of cells \n",
    "        of type k with i counts for gene g.  \n",
    "    \"\"\"\n",
    "    counts_ng = counts_ng.int()\n",
    "    \n",
    "    unique_cell_types = torch.unique(cell_types_n)\n",
    "    i_max = torch.max(counts_ng).item() + 1\n",
    "    k = len(unique_cell_types)\n",
    "    g = counts_ng.shape[-1]\n",
    "    \n",
    "    dist_kgi = torch.zeros((k,g,i_max))\n",
    "\n",
    "    for ik, ctype in enumerate(unique_cell_types):\n",
    "        counts_kg = counts_ng[cell_types_n == ctype]\n",
    "        for ig in range(g):\n",
    "            dist_kgi[ik,ig, :] = torch.bincount(counts_kg[:,ig], minlength=i_max) \n",
    "    return dist_kgi\n",
    "\n",
    "\n",
    "def plot_log_prob(cell_types_n, log_prob_ng, other_log_prob_ng=None, ncols=4, bins=20):\n",
    "    assert len(cell_types_n.shape) == 1 \n",
    "    assert len(log_prob_ng.shape) >= 2\n",
    "    assert cell_types_n.shape[0] == log_prob_ng.shape[-2]\n",
    "    assert other_log_prob_ng is None or (log_prob_ng.shape == other_log_prob_ng.shape)\n",
    "    \n",
    "    def _to_torch(_x):\n",
    "        if isinstance(_x, torch.Tensor):\n",
    "            return _x\n",
    "        elif isinstance(_x, numpy.ndarray):\n",
    "            return torch.tensor(_x)\n",
    "        else:\n",
    "            raise Exception(\"Expected torch.tensor or numpy.ndarray. Received {0}\".format(type(_x)))\n",
    "    \n",
    "    other_log_prob_ng = None if other_log_prob_ng is None else _to_torch(other_log_prob_ng)\n",
    "    log_prob_ng = _to_torch(log_prob_ng)\n",
    "    ctypes = torch.unique(cell_types_n)\n",
    "    genes = log_prob_ng.shape[-1]\n",
    "    \n",
    "    nrows = genes\n",
    "    ncols = len(ctypes)\n",
    "    fig, axes = plt.subplots(ncols=ncols, nrows=nrows, figsize=(4*ncols, 4*nrows))\n",
    "\n",
    "    for r in range(genes):\n",
    "        tmp = log_prob_ng[...,r]\n",
    "        other_tmp = None if other_log_prob_ng is None else other_log_prob_ng[..., r]\n",
    "        for c, c_type in enumerate(ctypes):\n",
    "            if other_log_prob_ng is None:\n",
    "                tmp2 = tmp[..., cell_types_n == c_type]\n",
    "                y, x = numpy.histogram(tmp2, bins=bins, density=True)\n",
    "                barWidth = 0.9 * (x[1]-x[0]) \n",
    "                _ = axes[r,c].bar(x[:-1], y, width = barWidth)\n",
    "            else:\n",
    "                tmp2 = tmp[..., cell_types_n == c_type].flatten()\n",
    "                other_tmp2 = other_tmp[..., cell_types_n == c_type].flatten()\n",
    "                myrange = (min(min(tmp2), min(other_tmp2)).item(), max(max(tmp2), max(other_tmp2)).item())\n",
    "                y, x = numpy.histogram(tmp2, range=myrange, bins=bins, density=True)\n",
    "                other_y, other_x = numpy.histogram(other_tmp2, range=myrange, bins=bins, density=True)\n",
    "                barWidth = 0.4 * (x[1]-x[0]) \n",
    "                _ = axes[r,c].bar(x[:-1], y, width = barWidth)\n",
    "                _ = axes[r,c].bar(other_x[:-1]+barWidth, other_y, width = barWidth)\n",
    "       \n",
    "    plt.close()\n",
    "    return fig"
   ]
  },
  {
   "cell_type": "markdown",
   "id": "486d2af7-4f62-4b3b-933e-99e5f2eb8ac2",
   "metadata": {},
   "source": [
    "### Generate fake data and visualize"
   ]
  },
  {
   "cell_type": "code",
   "execution_count": 4,
   "id": "b9872bf7",
   "metadata": {},
   "outputs": [
    {
     "data": {
      "image/png": "[encoded data removed]",
      "text/plain": [
       "<Figure size 2592x576 with 18 Axes>"
      ]
     },
     "execution_count": 4,
     "metadata": {},
     "output_type": "execute_result"
    }
   ],
   "source": [
    "from tissue_purifier.model_utils.gene_regression import (\n",
    "    generate_fake_data, \n",
    "    GeneDataset, \n",
    "    model_poisson_log_normal, \n",
    "    guide_poisson_log_normal,\n",
    "    train_helper,\n",
    "    train_test_val_split\n",
    ")\n",
    "\n",
    "fake_dataset: GeneDataset = generate_fake_data(\n",
    "    cells=20000,\n",
    "    genes=500,\n",
    "    covariates=20,\n",
    "    cell_types=9,\n",
    "    alpha_scale=0.01,\n",
    "    alpha0_loc=-5.0,\n",
    "    alpha0_scale=0.5,\n",
    "    noise_scale= 0.1)\n",
    "    \n",
    "    \n",
    "counts_ng = fake_dataset.counts\n",
    "cell_types_n = fake_dataset.cell_type_ids\n",
    "fig = plot_few_gene_hist(cell_types_n, counts_ng[:,:2])\n",
    "fig"
   ]
  },
  {
   "cell_type": "markdown",
   "id": "8f75fdb1-b171-4009-8d5b-c18a43850324",
   "metadata": {},
   "source": [
    "# Model"
   ]
  },
  {
   "cell_type": "code",
   "execution_count": 5,
   "id": "419096d8-ac24-4581-93c0-d120a59cf044",
   "metadata": {},
   "outputs": [
    {
     "name": "stdout",
     "output_type": "stream",
     "text": [
      "  Trace Shapes:                   \n",
      "   Param Sites:                   \n",
      "          eps_g                500\n",
      "         alpha0        9     1 500\n",
      "  Sample Sites:                   \n",
      "     cells dist                  |\n",
      "          value          20000   |\n",
      "       log_prob                  |\n",
      "cell_types dist                  |\n",
      "          value              9   |\n",
      "       log_prob                  |\n",
      " covariate dist                  |\n",
      "          value             20   |\n",
      "       log_prob                  |\n",
      "     genes dist                  |\n",
      "          value            500   |\n",
      "       log_prob                  |\n",
      "     alpha dist     9 20   500   |\n",
      "          value     9 20   500   |\n",
      "       log_prob     9 20   500   |\n",
      "    counts dist 20000  1   500   |\n",
      "          value 20000  1   500   |\n",
      "       log_prob 20000  1   500   |\n"
     ]
    },
    {
     "data": {
      "image/svg+xml": [
       "<?xml version=\"1.0\" encoding=\"UTF-8\" standalone=\"no\"?>\n",
       "<!DOCTYPE svg PUBLIC \"-//W3C//DTD SVG 1.1//EN\"\n",
       " \"http://www.w3.org/Graphics/SVG/1.1/DTD/svg11.dtd\">\n",
       "<!-- Generated by graphviz version 2.50.0 (20211204.2007)\n",
       " -->\n",
       "<!-- Pages: 1 -->\n",
       "<svg width=\"132pt\" height=\"260pt\"\n",
       " viewBox=\"0.00 0.00 132.00 260.00\" xmlns=\"http://www.w3.org/2000/svg\" xmlns:xlink=\"http://www.w3.org/1999/xlink\">\n",
       "<g id=\"graph0\" class=\"graph\" transform=\"scale(1 1) rotate(0) translate(4 256)\">\n",
       "<polygon fill=\"white\" stroke=\"transparent\" points=\"-4,4 -4,-256 128,-256 128,4 -4,4\"/>\n",
       "<g id=\"clust1\" class=\"cluster\">\n",
       "<title>cluster_genes</title>\n",
       "<polygon fill=\"none\" stroke=\"black\" points=\"8,-8 8,-244 116,-244 116,-8 8,-8\"/>\n",
       "<text text-anchor=\"middle\" x=\"92.5\" y=\"-15.8\" font-family=\"Times,serif\" font-size=\"14.00\">genes</text>\n",
       "</g>\n",
       "<g id=\"clust2\" class=\"cluster\">\n",
       "<title>cluster_cell_types</title>\n",
       "<polygon fill=\"none\" stroke=\"black\" points=\"16,-122 16,-236 108,-236 108,-122 16,-122\"/>\n",
       "<text text-anchor=\"middle\" x=\"72.5\" y=\"-129.8\" font-family=\"Times,serif\" font-size=\"14.00\">cell_types</text>\n",
       "</g>\n",
       "<g id=\"clust3\" class=\"cluster\">\n",
       "<title>cluster_covariate</title>\n",
       "<polygon fill=\"none\" stroke=\"black\" points=\"24,-153 24,-228 100,-228 100,-153 24,-153\"/>\n",
       "<text text-anchor=\"middle\" x=\"67\" y=\"-160.8\" font-family=\"Times,serif\" font-size=\"14.00\">covariate</text>\n",
       "</g>\n",
       "<g id=\"clust4\" class=\"cluster\">\n",
       "<title>cluster_cells</title>\n",
       "<polygon fill=\"none\" stroke=\"black\" points=\"20,-39 20,-114 104,-114 104,-39 20,-39\"/>\n",
       "<text text-anchor=\"middle\" x=\"83.5\" y=\"-46.8\" font-family=\"Times,serif\" font-size=\"14.00\">cells</text>\n",
       "</g>\n",
       "<!-- alpha -->\n",
       "<g id=\"node1\" class=\"node\">\n",
       "<title>alpha</title>\n",
       "<ellipse fill=\"white\" stroke=\"black\" cx=\"62\" cy=\"-202\" rx=\"29.8\" ry=\"18\"/>\n",
       "<text text-anchor=\"middle\" x=\"62\" y=\"-198.3\" font-family=\"Times,serif\" font-size=\"14.00\">alpha</text>\n",
       "</g>\n",
       "<!-- counts -->\n",
       "<g id=\"node2\" class=\"node\">\n",
       "<title>counts</title>\n",
       "<ellipse fill=\"grey\" stroke=\"black\" cx=\"62\" cy=\"-88\" rx=\"33.6\" ry=\"18\"/>\n",
       "<text text-anchor=\"middle\" x=\"62\" y=\"-84.3\" font-family=\"Times,serif\" font-size=\"14.00\">counts</text>\n",
       "</g>\n",
       "<!-- alpha&#45;&gt;counts -->\n",
       "<g id=\"edge1\" class=\"edge\">\n",
       "<title>alpha&#45;&gt;counts</title>\n",
       "<path fill=\"none\" stroke=\"black\" d=\"M62,-183.99C62,-166.06 62,-137.56 62,-116.44\"/>\n",
       "<polygon fill=\"black\" stroke=\"black\" points=\"65.5,-116.17 62,-106.17 58.5,-116.17 65.5,-116.17\"/>\n",
       "</g>\n",
       "</g>\n",
       "</svg>\n"
      ],
      "text/plain": [
       "<graphviz.graphs.Digraph at 0x7fa3fd268880>"
      ]
     },
     "execution_count": 5,
     "metadata": {},
     "output_type": "execute_result"
    }
   ],
   "source": [
    "trace = poutine.trace(model_poisson_log_normal).get_trace(fake_dataset)\n",
    "trace.compute_log_prob()  # optional, but allows printing of log_prob shapes\n",
    "print(trace.format_shapes())\n",
    "\n",
    "pyro.render_model(model_poisson_log_normal, model_kwargs={\"dataset\": fake_dataset})            "
   ]
  },
  {
   "cell_type": "markdown",
   "id": "7c0c9def",
   "metadata": {},
   "source": [
    "# Train/Test/Val split"
   ]
  },
  {
   "cell_type": "code",
   "execution_count": 17,
   "id": "8c0c7c12",
   "metadata": {},
   "outputs": [],
   "source": [
    "train_list, test_list, val_list = train_test_val_split(fake_dataset.counts, \n",
    "                                                       fake_dataset.cell_type_ids, \n",
    "                                                       fake_dataset.covariates,\n",
    "                                                       stratify=True)"
   ]
  },
  {
   "cell_type": "markdown",
   "id": "5cbcae86",
   "metadata": {},
   "source": [
    "# from here\n",
    "train, cross_validation, test on \n",
    "read scoring metrics:\n",
    "    \n",
    "https://citeseerx.ist.psu.edu/viewdoc/download?doi=10.1.1.67.3696&rep=rep1&type=pdf"
   ]
  },
  {
   "cell_type": "markdown",
   "id": "60055bfd",
   "metadata": {},
   "source": [
    "# Train all versions "
   ]
  },
  {
   "cell_type": "code",
   "execution_count": null,
   "id": "276999e0",
   "metadata": {},
   "outputs": [],
   "source": [
    "filename_list, guide_list, use_covariates_list = [], [], []\n",
    "for n, guide in enumerate([guide_MAP, guide_eps, guide_eps_alpha]):\n",
    "    for use_cov in [True, False]:\n",
    "\n",
    "        filename = \"params_model_\"+str(n)+\"_COV.pt\" if use_cov else \"params_model_\"+str(n)+\"_NO_COV.pt\"\n",
    "        filename_list.append(filename)\n",
    "        guide_list.append(guide)\n",
    "        use_covariates_list.append(use_cov)\n",
    "                \n",
    "        print()\n",
    "        print()\n",
    "        print(\"=================\")\n",
    "        print(\"Starting training:\", filename)\n",
    "        start_time = time.time()\n",
    "        train(model, guide, \n",
    "              model_kargs = {\"dataset\": fake_dataset, \n",
    "                             \"observed\": True, \n",
    "                             \"use_covariates\": use_cov}, \n",
    "              n_steps=1, #2001, \n",
    "              print_frequency=50,\n",
    "              clear_param_store=True)\n",
    "        delta_time = time.time()-start_time\n",
    "        print(\"Traning time was {0:.3f} seconds\".format(delta_time))\n",
    "    \n",
    "        print(\"Params\")\n",
    "        for name, value in pyro.get_param_store().items():\n",
    "            print(name, pyro.param(name).shape)\n",
    "        print(\"Alpha0 is zero? -->\", torch.all(pyro.param(\"alpha0\") == 0.0).item())\n",
    "        print(\"Alpha  is zero? -->\", torch.all(pyro.param(\"alpha_loc\") == 0.0).item())\n",
    "            \n",
    "        pyro.get_param_store().save(filename=filename)"
   ]
  },
  {
   "cell_type": "markdown",
   "id": "129aa564",
   "metadata": {},
   "source": [
    "# Evaluate the models (i.e. compute log_prob)"
   ]
  },
  {
   "cell_type": "code",
   "execution_count": null,
   "id": "ba7f7a22",
   "metadata": {},
   "outputs": [],
   "source": [
    "true_counts_ng = fake_dataset[\"counts\"]\n",
    "num_samples = 2\n",
    "\n",
    "log_prob_list = []\n",
    "for n, (file, guide, use_cov) in enumerate(zip(filename_list, guide_list, use_covariates_list)):\n",
    "    print()\n",
    "    print()\n",
    "    print(\"{0} --> {1}\".format(n, file))\n",
    "    \n",
    "    # Load the trained model\n",
    "    pyro.clear_param_store()\n",
    "    pyro.get_param_store().load(filename=file)\n",
    "        \n",
    "    # compute the predictions\n",
    "    predictive = Predictive(model, guide=guide, num_samples=num_samples,)\n",
    "    samples = predictive.get_samples(fake_dataset, observed=False, use_covariates=use_cov)\n",
    "    print(samples.keys())\n",
    "    \n",
    "    print(\"Q/A\")\n",
    "    print(\"Is eps_g deterministic? --->\", torch.all(samples[\"eps_g\"][0] == samples[\"eps_g\"][1]))\n",
    "    print(\"Is alpha deterministic? --->\", torch.all(samples[\"alpha\"][0] == samples[\"alpha\"][1]))\n",
    "    print(\"Is eps_n1g deterministic? ->\", torch.all(samples[\"eps_n1g\"][0] == samples[\"eps_n1g\"][1]))\n",
    "    print(\"Is counts deterministic? -->\", torch.all(samples[\"counts\"][0] == samples[\"counts\"][1]))\n",
    "    \n",
    "    rates_ng = samples[\"rate_n1g\"].squeeze(dim=-2)\n",
    "    log_prob_ng = dist.Poisson(rate=rates_ng).log_prob(true_counts_ng)    \n",
    "    log_prob_list.append(log_prob_ng)  "
   ]
  },
  {
   "cell_type": "markdown",
   "id": "59124d2e",
   "metadata": {},
   "source": [
    "### Plot the log prob distribution for one model"
   ]
  },
  {
   "cell_type": "code",
   "execution_count": null,
   "id": "8915341f",
   "metadata": {},
   "outputs": [],
   "source": [
    "tmp_log_prob = log_prob_list[0]\n",
    "print(\"log_prob_shape -> (n_samples, n_cells, n_genes)\", tmp_log_prob.shape)\n",
    "\n",
    "# fig = plot_log_prob(cell_types_n, tmp_log_prob[...,:2], ncols=4)\n",
    "fig = plot_log_prob(cell_types_n, tmp_log_prob[...,:2], tmp_log_prob[...,:2]+1, ncols=4) \n",
    "fig"
   ]
  },
  {
   "cell_type": "markdown",
   "id": "db9f729c",
   "metadata": {},
   "source": [
    "### Heatmap with the median log_prob for gene and cell_type"
   ]
  },
  {
   "cell_type": "code",
   "execution_count": null,
   "id": "aedd0abb",
   "metadata": {},
   "outputs": [],
   "source": [
    "nmax = len(log_prob_list)\n",
    "ncol = 3\n",
    "nrow = int(numpy.ceil(float(nmax)/ncol))\n",
    "fig, axes = plt.subplots(ncols=ncol, nrows=nrow, figsize=(4*ncol, 4*nrow))\n",
    "\n",
    "for n, log_prob in enumerate(log_prob_list):\n",
    "    r,c = int(n / ncol), n % ncol\n",
    "    median_kg = compute_median_logprob_per_gene_and_cell_type(cell_types_n, tmp_log_prob)\n",
    "    mean_log_prob = median_kg.mean()\n",
    "    _ = seaborn.heatmap(median_kg, cmap=\"inferno\", robust=True, ax=axes[r,c])\n",
    "    _ = axes[r,c].set_title(\"mean_log_prob = {0:.3f}\".format(mean_log_prob))"
   ]
  },
  {
   "cell_type": "markdown",
   "id": "17ab3972",
   "metadata": {},
   "source": [
    "### Connect log_prob to p-value\n",
    "\n",
    "my_lambda = -2 (log_prob_0 - log_prob)  -> lambda should be positive\n",
    "\n",
    "If Null Hypothesis is True my_lambda ~ ChiSquaredDistribution"
   ]
  },
  {
   "cell_type": "code",
   "execution_count": null,
   "id": "08e1709f",
   "metadata": {},
   "outputs": [],
   "source": [
    "def convert_log_prob_to_pvalues(\n",
    "    log_prob_full: torch.Tensor, \n",
    "    log_prob_null: torch.Tensor, \n",
    "    cell_types_n: torch.Tensor,\n",
    "    l: int):\n",
    "    \n",
    "    assert log_prob_full.shape == log_prob_null.shape \n",
    "    assert len(log_prob_full.shape) >= 2\n",
    "    assert len(cell_types_n.shape) == 1 and cell_types_n.shape[0] == log_prob_full.shape[-2]\n",
    "    \n",
    "    if log_prob_full >= 2:\n",
    "        log_prob_full = log_prob_full.meadian(dim=-3)[0]\n",
    "        log_prob_null = log_prob_null.meadian(dim=-3)[0]\n",
    "    \n",
    "    unique_cell_types = torch.unique(cell_types_n)\n",
    "    for c, ctype in enumerate(unique_cell_types):\n",
    "        mask_k = (cell_types_n == ctype)\n",
    "        log_prob_full_kg = log_prob_full[...,mask_k,:]\n",
    "        log_prob_null_kg = log_prob_null[...,mask_k,:]\n",
    "        \n",
    "        my_lambda_kg = (log_prob_full_kg - log_prob_full_kg).flatten(end_dim=-2).sum(dim=0)\n",
    "        \n",
    "        \n",
    "        "
   ]
  },
  {
   "cell_type": "code",
   "execution_count": null,
   "id": "4861b425",
   "metadata": {},
   "outputs": [],
   "source": [
    "fake_dataset.other_covariates"
   ]
  },
  {
   "cell_type": "code",
   "execution_count": null,
   "id": "d3dfb132",
   "metadata": {},
   "outputs": [],
   "source": [
    "log_prob_list[0].sum() - log_prob_list[1].sum()"
   ]
  },
  {
   "cell_type": "code",
   "execution_count": null,
   "id": "47200429",
   "metadata": {},
   "outputs": [],
   "source": [
    "my_lambda = -2 * (log_prob_list[0].sum() - log_prob_list[1].sum())\n",
    "\n",
    "# If "
   ]
  },
  {
   "cell_type": "code",
   "execution_count": null,
   "id": "6a30ef8f",
   "metadata": {},
   "outputs": [],
   "source": [
    "plt.plot"
   ]
  },
  {
   "cell_type": "code",
   "execution_count": null,
   "id": "5e41c88b",
   "metadata": {},
   "outputs": [],
   "source": [
    "compute_log_ratio, use cki_square to translate to p-value"
   ]
  },
  {
   "cell_type": "markdown",
   "id": "306adbd1",
   "metadata": {},
   "source": [
    "### Show the log_prob heat map"
   ]
  },
  {
   "cell_type": "code",
   "execution_count": null,
   "id": "6e770e15",
   "metadata": {},
   "outputs": [],
   "source": [
    "assert 1==2"
   ]
  },
  {
   "cell_type": "markdown",
   "id": "353ad11e",
   "metadata": {},
   "source": [
    "# FROM HERE. DO THE SUMMARY PLOT"
   ]
  },
  {
   "cell_type": "code",
   "execution_count": null,
   "id": "a8c2c3eb",
   "metadata": {},
   "outputs": [],
   "source": [
    "median_kg = compute_median_logprob_per_gene_and_cell_type(cell_types_n, tmp_log_prob)"
   ]
  },
  {
   "cell_type": "code",
   "execution_count": null,
   "id": "435d4f24",
   "metadata": {},
   "outputs": [],
   "source": [
    "fig, axes = plt.subplots(nrows=2, ncols=3, figsize=(20,10))\n",
    "_ = fig.suptitle(\"Distance between true counts distribution and estimates\")\n",
    "\n",
    "_ = seaborn.heatmap(median_kg, cmap=\"inferno\", robust=True, ax=axes[0,0])\n",
    "_ = axes[0,0].set_title(\"log_prob model 1\")"
   ]
  },
  {
   "cell_type": "code",
   "execution_count": null,
   "id": "d41585dc",
   "metadata": {},
   "outputs": [],
   "source": []
  },
  {
   "cell_type": "markdown",
   "id": "aa696ffb",
   "metadata": {},
   "source": [
    "# FROM HERE"
   ]
  },
  {
   "cell_type": "markdown",
   "id": "39bf5184",
   "metadata": {},
   "source": [
    "### Just for visualization: Plot the predicted_counts vs the real_counts"
   ]
  },
  {
   "cell_type": "code",
   "execution_count": null,
   "id": "07b76c29",
   "metadata": {},
   "outputs": [],
   "source": [
    "pyro.get_param_store().load(filename=\"params_model_C.pt\")\n",
    "predictive_C = Predictive(model_poisson_log_normal_C, guide=guide_poisson_log_normal_C, num_samples=2,)\n",
    "                        #return_sites={\"counts\"})\n",
    "samples_C = predictive_C.get_samples(fake_dataset, observed=False)\n",
    "for k, v in samples_C.items():\n",
    "    print(f\"{k}: {tuple(v.shape)}\")"
   ]
  },
  {
   "cell_type": "code",
   "execution_count": null,
   "id": "3eb88a40",
   "metadata": {},
   "outputs": [],
   "source": [
    "assert torch.any(samples_A[\"counts\"][0] != samples_A[\"counts\"][1])\n",
    "assert torch.any(samples_B[\"counts\"][0] != samples_B[\"counts\"][1])\n",
    "assert torch.any(samples_C[\"counts\"][0] != samples_C[\"counts\"][1])"
   ]
  },
  {
   "cell_type": "code",
   "execution_count": null,
   "id": "32776a32",
   "metadata": {},
   "outputs": [],
   "source": [
    "cell_types_n = fake_dataset[\"cell_type_codes\"]\n",
    "true_counts_ng = fake_dataset['counts']\n",
    "predA_counts_ng = samples_A[\"counts\"][0].squeeze()\n",
    "predB_counts_ng = samples_B[\"counts\"][0].squeeze()\n",
    "predC_counts_ng = samples_C[\"counts\"][0].squeeze()\n",
    "\n",
    "print(cell_types_n.shape, true_counts_ng.shape, predA_counts_ng.shape, predB_counts_ng.shape, predC_counts_ng.shape)"
   ]
  },
  {
   "cell_type": "code",
   "execution_count": null,
   "id": "7484389c",
   "metadata": {},
   "outputs": [],
   "source": [
    "fig_A = plot_few_gene_hist(cell_types_n, true_counts_ng[:,:2], predA_counts_ng[:,:2].int(), ncols=3)\n",
    "fig_B = plot_few_gene_hist(cell_types_n, true_counts_ng[:,:2], predB_counts_ng[:,:2].int(), ncols=3)\n",
    "fig_C = plot_few_gene_hist(cell_types_n, true_counts_ng[:,:2], predC_counts_ng[:,:2].int(), ncols=3)"
   ]
  },
  {
   "cell_type": "code",
   "execution_count": null,
   "id": "4ff395b6",
   "metadata": {},
   "outputs": [],
   "source": [
    "_ = fig_A.suptitle(\"MLE estimates\")\n",
    "fig_A"
   ]
  },
  {
   "cell_type": "code",
   "execution_count": null,
   "id": "80524f59",
   "metadata": {},
   "outputs": [],
   "source": [
    "_ = fig_B.suptitle(\"MAP estimates\")\n",
    "fig_B"
   ]
  },
  {
   "cell_type": "code",
   "execution_count": null,
   "id": "6e9552fc-5e30-4a21-825d-1ce80d65af95",
   "metadata": {},
   "outputs": [],
   "source": [
    "_ = fig_C.suptitle(\"MAP estimates. No priors on alpha0\")\n",
    "fig_C"
   ]
  },
  {
   "cell_type": "markdown",
   "id": "137c7fd0-180e-490f-9f7a-095d5772e6e8",
   "metadata": {},
   "source": [
    "## Quantify the variance \n",
    "1. at the level of distributions\n",
    "2. at the level of single predictions"
   ]
  },
  {
   "cell_type": "markdown",
   "id": "939e7599-0dea-42ea-a3f1-9cb9a49fe383",
   "metadata": {},
   "source": [
    "### at the level of distributions"
   ]
  },
  {
   "cell_type": "code",
   "execution_count": null,
   "id": "ba7d1f2a-17e9-4d97-aa72-5d9dee17372e",
   "metadata": {},
   "outputs": [],
   "source": [
    "true_dist_kgi = compute_per_cell_type_distributions(cell_types_n, true_counts_ng)\n",
    "predA_dist_kgi = compute_per_cell_type_distributions(cell_types_n, predA_counts_ng)\n",
    "predB_dist_kgi = compute_per_cell_type_distributions(cell_types_n, predB_counts_ng)\n",
    "predC_dist_kgi = compute_per_cell_type_distributions(cell_types_n, predC_counts_ng)"
   ]
  },
  {
   "cell_type": "code",
   "execution_count": null,
   "id": "16940a98-8417-42f2-a471-d048fe1ee76d",
   "metadata": {},
   "outputs": [],
   "source": [
    "L1_norm_A = L1_between_distributions(true_dist_kgi, predA_dist_kgi, normalize=True)\n",
    "L1_norm_B = L1_between_distributions(true_dist_kgi, predB_dist_kgi, normalize=True)\n",
    "L1_norm_C = L1_between_distributions(true_dist_kgi, predC_dist_kgi, normalize=True)\n",
    "\n",
    "EMD_norm_A = EMD_between_distributions(true_dist_kgi, predA_dist_kgi, normalize=True)\n",
    "EMD_norm_B = EMD_between_distributions(true_dist_kgi, predB_dist_kgi, normalize=True)\n",
    "EMD_norm_C = EMD_between_distributions(true_dist_kgi, predC_dist_kgi, normalize=True)"
   ]
  },
  {
   "cell_type": "code",
   "execution_count": null,
   "id": "379f204a-aaa7-415e-a39f-0699ce0b44c4",
   "metadata": {},
   "outputs": [],
   "source": [
    "fig, axes = plt.subplots(nrows=2, ncols=3, figsize=(20,10))\n",
    "_ = fig.suptitle(\"Distance between true counts distribution and estimates\")\n",
    "\n",
    "_ = seaborn.heatmap(L1_norm_A, cmap=\"inferno\", robust=True, ax=axes[0,0])\n",
    "_ = seaborn.heatmap(L1_norm_B, cmap=\"inferno\", robust=True, ax=axes[0,1])\n",
    "_ = seaborn.heatmap(L1_norm_C, cmap=\"inferno\", robust=True, ax=axes[0,2])\n",
    "_ = axes[0,0].set_title(\"L1 wrt MLE estimates\")\n",
    "_ = axes[0,1].set_title(\"L1 wrt MAP estimates\")\n",
    "_ = axes[0,2].set_title(\"L1 wrt MAP estimates, alpha0 no prior\")\n",
    "\n",
    "_ = seaborn.heatmap(EMD_norm_A, cmap=\"inferno\", robust=True, ax=axes[1,0])\n",
    "_ = seaborn.heatmap(EMD_norm_B, cmap=\"inferno\", robust=True, ax=axes[1,1])\n",
    "_ = seaborn.heatmap(EMD_norm_C, cmap=\"inferno\", robust=True, ax=axes[1,2])\n",
    "_ = axes[1,0].set_title(\"EMD wrt MLE estimates\")\n",
    "_ = axes[1,1].set_title(\"EMD wrt MAP estimates\")\n",
    "_ = axes[1,2].set_title(\"EMD wrt MAP estimates, alpha0 no prior\")"
   ]
  },
  {
   "cell_type": "code",
   "execution_count": null,
   "id": "15ef7bd3-576a-44eb-9438-7136c83cb1ef",
   "metadata": {},
   "outputs": [],
   "source": [
    "print(L1_norm_A.median(), L1_norm_B.median(), L1_norm_C.median())\n",
    "print(EMD_norm_A.median(), EMD_norm_B.median(), EMD_norm_C.median())"
   ]
  },
  {
   "cell_type": "markdown",
   "id": "0209133b-d117-4507-bb87-47c8bc70e744",
   "metadata": {},
   "source": [
    "## At the level of single predictions"
   ]
  },
  {
   "cell_type": "code",
   "execution_count": null,
   "id": "63ea83bb-2eb3-4042-92fb-39dfc852f23f",
   "metadata": {},
   "outputs": [],
   "source": [
    "from tissue_purifier.misc_utils.validation import (\n",
    "    create_null_distribution,\n",
    "    create_heldout_distribution\n",
    ")\n",
    "\n",
    "null_dist = create_null_distribution(\n",
    "    cell_types_n=cell_types_n, \n",
    "    counts_ng=counts_ng[:,:10], \n",
    "    similarity_measure=\"L1\",\n",
    "    boundaries=torch.linspace(start=0, end=30, steps=31),\n",
    ")   \n",
    "\n",
    "\n",
    "heldout_dist = create_heldout_distribution(\n",
    "    cell_types_n=cell_types_n, \n",
    "    true_counts_ng=counts_ng[:,:10], \n",
    "    pred_counts_ng=counts_ng[:,:10]+1,\n",
    "    similarity_measure=\"L1\",\n",
    "    boundaries=torch.linspace(start=0, end=30, steps=31),\n",
    ")   "
   ]
  },
  {
   "cell_type": "markdown",
   "id": "aaa6bcd5",
   "metadata": {},
   "source": [
    "### test the procedure by creating two fake distributions"
   ]
  },
  {
   "cell_type": "code",
   "execution_count": null,
   "id": "2a4d83fe",
   "metadata": {},
   "outputs": [],
   "source": [
    "null_dist = create_null_distribution(\n",
    "    cell_types_n=cell_types_n[-1000:], \n",
    "    counts_ng=counts_ng[-1000:,:10], \n",
    "    similarity_measure=\"L1\",\n",
    "    boundaries=torch.linspace(start=0, end=30, steps=31),\n",
    ")     \n",
    "\n",
    "heldout_dist = create_null_distribution(\n",
    "    cell_types_n=cell_types_n[:1000], \n",
    "    counts_ng=counts_ng[:1000,:10], \n",
    "    similarity_measure=\"L1\",\n",
    "    boundaries=torch.linspace(start=0, end=30, steps=31),\n",
    ")     "
   ]
  },
  {
   "cell_type": "code",
   "execution_count": null,
   "id": "c787a9d1",
   "metadata": {},
   "outputs": [],
   "source": [
    "gene_id = 1\n",
    "\n",
    "x_null = null_dist[\"cell_type_0\"][gene_id,:] / numpy.sum(null_dist[\"cell_type_0\"][gene_id,:], axis=-1, keepdims=True)\n",
    "x_heldout = heldout_dist[\"cell_type_0\"][gene_id,:] / numpy.sum(heldout_dist[\"cell_type_0\"][gene_id,:], axis=-1, keepdims=True)\n",
    "\n",
    "barWidth=0.4\n",
    "plt.bar(null_dist[\"boundaries\"], \n",
    "        x_null, \n",
    "        width = barWidth,\n",
    "       label=\"null\")\n",
    "plt.bar(heldout_dist[\"boundaries\"]+barWidth, \n",
    "        x_heldout,\n",
    "        width = barWidth,\n",
    "       label=\"Heldout\")\n",
    "_ = plt.xlim([-1,20])\n",
    "_ = plt.legend()\n",
    "_ = plt.title(\"Distribution of Chi = |counts - counts|\")"
   ]
  },
  {
   "cell_type": "code",
   "execution_count": null,
   "id": "3299a381",
   "metadata": {},
   "outputs": [],
   "source": [
    "gene_id = 6\n",
    "\n",
    "x_null = null_dist[\"cell_type_0\"][gene_id,:] / numpy.sum(null_dist[\"cell_type_0\"][gene_id,:], axis=-1, keepdims=True)\n",
    "x_heldout = heldout_dist[\"cell_type_0\"][gene_id,:] / numpy.sum(heldout_dist[\"cell_type_0\"][gene_id,:], axis=-1, keepdims=True)\n",
    "\n",
    "barWidth=0.4\n",
    "plt.bar(null_dist[\"boundaries\"], \n",
    "        x_null, \n",
    "        width = barWidth,\n",
    "       label=\"null\")\n",
    "plt.bar(heldout_dist[\"boundaries\"]+barWidth, \n",
    "        x_heldout,\n",
    "        width = barWidth,\n",
    "       label=\"Heldout\")\n",
    "_ = plt.xlim([-1,20])\n",
    "_ = plt.legend()\n",
    "_ = plt.title(\"Distribution of Chi = |counts - counts|\")"
   ]
  },
  {
   "cell_type": "markdown",
   "id": "2ecb94b7",
   "metadata": {},
   "source": [
    "### Two-sample Kolmogorov–Smirnov test\n",
    "I am asking the question if the two distribution are the same\n"
   ]
  },
  {
   "cell_type": "code",
   "execution_count": null,
   "id": "a6241a71",
   "metadata": {},
   "outputs": [],
   "source": [
    "from scipy.interpolate import interp1d\n",
    "from typing import NamedTuple, Union\n",
    "    \n",
    "class KS_test(NamedTuple):\n",
    "    \"\"\" \n",
    "    Result of the KS test between two empirical distributions.\n",
    "    \"\"\"\n",
    "    x: numpy.ndarray\n",
    "    f1: numpy.ndarray\n",
    "    f2: numpy.ndarray\n",
    "    gap: numpy.ndarray\n",
    "    ks: Union[float, numpy.ndarray]\n",
    "    n1: Union[int, numpy.array]\n",
    "    n2: Union[int, numpy.array]\n",
    "        \n",
    "\n",
    "def compute_pvalue_from_ks(ks_test: KS_test) -> numpy.ndarray:\n",
    "    \"\"\"\n",
    "    Compute the p-value using the asymptotic formula \n",
    "    see. https://en.wikipedia.org/wiki/Kolmogorov%E2%80%93Smirnov_test\n",
    "    \"\"\"\n",
    "    n1 = ks_test.n1\n",
    "    n2 = ks_test.n2\n",
    "    D = ks_test.ks\n",
    "    tmp = (2 * D * D * n1 * n2) / (n1 + n2)\n",
    "    p = 2 * numpy.exp(-tmp)\n",
    "    return p\n",
    "\n",
    "    \n",
    "def compute_KS_test(x1, histo1, x2, histo2) -> KS_test:\n",
    "    \n",
    "    # (empirical) cumulative distribution and size of sample\n",
    "    F1_tmp = histo1.cumsum(axis=-1) # shape (genes, bins)\n",
    "    n1 = F1_tmp[...,-1:]            # shape (genes, 1)\n",
    "    F1 = F1_tmp / n1                # shape (genes, bins)\n",
    "    \n",
    "    # (empirical) cumulative distribution and size of sample\n",
    "    F2_tmp = histo2.cumsum(axis=-1) \n",
    "    n2 = F2_tmp[..., -1:]\n",
    "    F2 = F2_tmp / n2\n",
    "    \n",
    "    # Interpolate sample 1 on the spacing of sample 2 \n",
    "    f_interp = interp1d(x1, F1, axis=-1, fill_value=(0.0, 1.0))\n",
    "    F1_new = f_interp(x2)\n",
    "    \n",
    "    # Comute the maximum gap between empirical cumulative distributions\n",
    "    gap = numpy.abs(F1_new - F2)\n",
    "    ks = numpy.max(gap, axis=-1, keepdims=True)\n",
    "    \n",
    "    return KS_test(x=x2, f1=F1_new, f2=F2, n1=n1, n2=n2, gap=gap, ks=ks)\n",
    "\n",
    "\n",
    "key_cell_types = []\n",
    "for key in null_dist.keys():\n",
    "    if key.startswith(\"cell_type_\"):\n",
    "        key_cell_types.append(key)\n",
    "    \n",
    "\n",
    "#df = pandas.DataFrame()\n",
    "for k in key_cell_types:        \n",
    "    \n",
    "    ks_test_tmp = compute_KS_test(\n",
    "        x1=null_dist[\"boundaries\"], \n",
    "        histo1=null_dist[\"cell_type_0\"], \n",
    "        x2=heldout_dist[\"boundaries\"], \n",
    "        histo2=heldout_dist[\"cell_type_0\"])\n",
    "    \n",
    "    p_values_tmp = compute_pvalue_from_ks(ks_test_tmp)\n",
    "    \n",
    "    \n",
    "    \n",
    "#    dfdf = pd.DataFrame(columns=[\"firstname\", \"lastname\"])\n",
    "#df = df.append({\n",
    "#     \"firstname\": \"John\",\n",
    "#     \"lastname\":  \"Johny\"\n",
    "#      }, ignore_index=True)\n",
    "    \n",
    "    dict_tmp = {'ks' : ks_test_tmp.ks, 'p_value': p_values_tmp, 'cell_type': [k]*len(p_values_tmp)}"
   ]
  },
  {
   "cell_type": "code",
   "execution_count": null,
   "id": "77a0dcf8",
   "metadata": {},
   "outputs": [],
   "source": [
    "ncol = 4\n",
    "nmax = len(ks_test.ks)\n",
    "nrow = int(numpy.ceil(float(nmax) / ncol))\n",
    "\n",
    "fig, axes = plt.subplots(ncols=ncol, nrows=nrow, figsize=(4*ncol, 4*nrow))\n",
    "for n in range(nmax):\n",
    "    r,c = n // ncol, n % ncol\n",
    "    axes[r,c].plot(ks_test.x, ks_test.f1[n,:])\n",
    "    axes[r,c].plot(ks_test.x, ks_test.f2[n,:])\n",
    "    axes[r,c].plot(ks_test.x, ks_test.gap[n,:])\n",
    "    axes[r,c].set_xlim([0,20])\n",
    "    axes[r,c].set_title(\"ks={0:.3} -> pvalue={1:.3}\".format(ks_test.ks[n].item(), p_values[n].item()))"
   ]
  }
 ],
 "metadata": {
  "environment": {
   "kernel": "python3",
   "name": "common-cu113.m84",
   "type": "gcloud",
   "uri": "gcr.io/deeplearning-platform-release/base-cu113:m84"
  },
  "kernelspec": {
   "display_name": "Python 3",
   "language": "python",
   "name": "python3"
  },
  "language_info": {
   "codemirror_mode": {
    "name": "ipython",
    "version": 3
   },
   "file_extension": ".py",
   "mimetype": "text/x-python",
   "name": "python",
   "nbconvert_exporter": "python",
   "pygments_lexer": "ipython3",
   "version": "3.8.8"
  }
 },
 "nbformat": 4,
 "nbformat_minor": 5
}
