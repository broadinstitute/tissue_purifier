{
 "cells": [
  {
   "cell_type": "markdown",
   "id": "crude-preservation",
   "metadata": {},
   "source": [
    "# Validations"
   ]
  },
  {
   "cell_type": "markdown",
   "id": "available-aquatic",
   "metadata": {},
   "source": [
    "### Common Imports"
   ]
  },
  {
   "cell_type": "code",
   "execution_count": 1,
   "id": "endangered-jacksonville",
   "metadata": {},
   "outputs": [],
   "source": [
    "import sys\n",
    "import os\n",
    "\n",
    "root_path = os.path.dirname(os.getcwd())\n",
    "src_path = os.path.join(root_path, \"src\")\n",
    "sys.path.insert(0, src_path)\n",
    "\n",
    "%load_ext autoreload\n",
    "%autoreload 2"
   ]
  },
  {
   "cell_type": "code",
   "execution_count": 2,
   "id": "sorted-ribbon",
   "metadata": {},
   "outputs": [],
   "source": [
    "%matplotlib inline\n",
    "import torch\n",
    "import numpy\n",
    "import matplotlib.pyplot as plt\n",
    "from tissue_purifier.data_utils.datamodule import SlideSeqKidneyDM, SlideSeqTestisDM\n",
    "from tissue_purifier.plot_utils.plot_images import show_raw_all_channels, show_raw_one_channel\n",
    "from tissue_purifier.plot_utils.plot_misc import plot_composition"
   ]
  },
  {
   "cell_type": "code",
   "execution_count": 3,
   "id": "acoustic-starter",
   "metadata": {},
   "outputs": [
    {
     "name": "stdout",
     "output_type": "stream",
     "text": [
      "https://app.neptune.ai/cellarium/tissue-purifier/e/TIS-909\n",
      "Remember to stop your run once you’ve finished logging your metadata (https://docs.neptune.ai/api-reference/run#stop). It will be stopped automatically only when the notebook kernel/interactive console is terminated.\n"
     ]
    }
   ],
   "source": [
    "import neptune.new as neptune\n",
    "NEPTUNE_TOKEN = \"eyJhcGlfYWRkcmVzcyI6Imh0dHBzOi8vYXBwLm5lcHR1bmUuYWkiLCJhcGlfdXJsIjoiaHR0cHM6Ly9hcHAubmVwdHVuZS5haSIsImFwaV9rZXkiOiJjZTkyYmJiYi0wN2E1LTRkY2YtOWU3Ny1kNjhjYmM3ZTVkNWEifQ==\"\n",
    "NEPTUNE_PROJECT = \"cellarium/tissue-purifier\"\n",
    "\n",
    "logging_mode = 'async'\n",
    "\n",
    "exp: neptune.run.Run = neptune.init(project=NEPTUNE_PROJECT,\n",
    "                                    api_token=NEPTUNE_TOKEN,\n",
    "                                    mode=logging_mode,\n",
    "                                    tags=[\"evaluate_embeddings\"])"
   ]
  },
  {
   "cell_type": "markdown",
   "id": "governing-zealand",
   "metadata": {},
   "source": [
    "# Load and evaluate the emebeddings"
   ]
  },
  {
   "cell_type": "code",
   "execution_count": 4,
   "id": "obvious-excerpt",
   "metadata": {},
   "outputs": [],
   "source": [
    "all_features_dict = torch.load(\"all_features_dist.pt\")"
   ]
  },
  {
   "cell_type": "code",
   "execution_count": 6,
   "id": "modular-homework",
   "metadata": {},
   "outputs": [
    {
     "ename": "NameError",
     "evalue": "name 'inspect_dict' is not defined",
     "output_type": "error",
     "traceback": [
      "\u001b[0;31m---------------------------------------------------------------------------\u001b[0m",
      "\u001b[0;31mNameError\u001b[0m                                 Traceback (most recent call last)",
      "\u001b[0;32m<ipython-input-6-05a403a79bbd>\u001b[0m in \u001b[0;36m<module>\u001b[0;34m\u001b[0m\n\u001b[0;32m----> 1\u001b[0;31m \u001b[0minspect_dict\u001b[0m\u001b[0;34m(\u001b[0m\u001b[0mall_features_dict\u001b[0m\u001b[0;34m)\u001b[0m\u001b[0;34m\u001b[0m\u001b[0;34m\u001b[0m\u001b[0m\n\u001b[0m",
      "\u001b[0;31mNameError\u001b[0m: name 'inspect_dict' is not defined"
     ]
    }
   ],
   "source": [
    "inspect_dict(all_features_dict)"
   ]
  },
  {
   "cell_type": "markdown",
   "id": "perfect-departure",
   "metadata": {},
   "source": [
    "# TODO\n",
    "\n",
    "1. Evaluate the embeddings\n",
    "can the patch embeddings predict: \n",
    "- tissue_label, \n",
    "- tissue_condition, \n",
    "- moran_score\n",
    "\n",
    "Compare features_composition vs dino_features\n",
    "\n",
    "2. Classification with noisy labels\n",
    "3. annotate the clusters in terms of cell composition (use scCODA)\n",
    "4. do DE based on those clusters"
   ]
  },
  {
   "cell_type": "code",
   "execution_count": null,
   "id": "understood-plenty",
   "metadata": {},
   "outputs": [],
   "source": [
    "from tissue_purifier.misc_utils.spatial_util import SpatialAutocorrelation\n",
    "from tissue_purifier.misc_utils.misc import inspect_dict\n",
    "from tissue_purifier.misc_utils.misc import SmartPca, SmartUmap, SmartLeiden\n",
    "from tissue_purifier.plot_utils.plot_embeddings import plot_embeddings"
   ]
  },
  {
   "cell_type": "code",
   "execution_count": null,
   "id": "serial-masters",
   "metadata": {},
   "outputs": [],
   "source": [
    "smartpca = SmartPca(preprocess_strategy='raw')\n",
    "embeddings = smartpca.fit_transform(data_compositions, n_components=2)\n",
    "\n",
    "fig_composition = plot_embeddings(\n",
    "        embeddings,\n",
    "        x_label='pca1',\n",
    "        y_label='pca2',\n",
    "        title='tissue composition pca',\n",
    "        size=20,\n",
    "        cmap=plt.cm.viridis,\n",
    "        labels=list_f_names,\n",
    "        figsize=(6,6),\n",
    "        legend=True,)\n",
    "\n",
    "umap = SmartUmap(preprocess_strategy='raw', metric='cosine')\n",
    "embeddings = umap.fit_transform(data_compositions)\n",
    "\n",
    "graph = umap.get_graph()\n",
    "leiden = SmartLeiden(graph, directed=True)\n",
    "labels = leiden.cluster(resolution= 1.0)\n",
    "\n",
    "plt.scatter(embeddings[:,0], embeddings[:, 1], c=labels)\n",
    "\n",
    "torch.save(data, \"cell_counters.pt\")"
   ]
  },
  {
   "cell_type": "markdown",
   "id": "adopted-norwegian",
   "metadata": {},
   "source": [
    "### Read from file and re-create the model and datamodule"
   ]
  },
  {
   "cell_type": "code",
   "execution_count": null,
   "id": "clean-niger",
   "metadata": {},
   "outputs": [],
   "source": [
    "\n",
    "ckpt_file = 'ckpt_TIS_723.pt'  # do 723 after\n",
    "\n",
    "# Get the model from checkpoint\n",
    "dino = DinoModel.load_from_checkpoint(ckpt_file, strict=False)\n",
    "config = dino._hparams\n",
    "config[\"gpus\"] = min(1, torch.cuda.device_count())\n",
    "config[\"n_crops_for_tissue_test\"] = 20 "
   ]
  },
  {
   "cell_type": "code",
   "execution_count": null,
   "id": "every-horizontal",
   "metadata": {},
   "outputs": [],
   "source": [
    "from tissue_purifier.model_utils.classify_regress import classify_and_regress\n",
    "from sklearn.neighbors import KNeighborsClassifier, KNeighborsRegressor\n",
    "from sklearn.neural_network import MLPRegressor, MLPClassifier\n",
    "\n",
    "mlp_kargs = {\n",
    "    \"hidden_layer_sizes\" : [],\n",
    "    \"solver\": 'adam',\n",
    "    \"alpha\" : 0.0001,\n",
    "    \"batch_size\" : 'auto',\n",
    "    \"learning_rate\" : 'constant',\n",
    "    \"learning_rate_init\" : 0.0003,\n",
    "    \"max_iter\" : 50000,\n",
    "    \"shuffle\" : True,\n",
    "    \"random_state\" : 1,\n",
    "    \"tol\" : 1E-6,\n",
    "    \"verbose\" : False,\n",
    "    \"n_iter_no_change\" : 10,\n",
    "    \"early_stopping\" :False,\n",
    "}\n",
    "\n",
    "kn_kargs = {\n",
    "    \"n_neighbors\": 5,\n",
    "}\n",
    "\n",
    "feature_keys, regress_keys, classify_keys = [], [], []\n",
    "for key in embeddings_dict.keys():\n",
    "    #if key.startswith(\"pca\") or key.startswith(\"umap\") or key in ['features_teacher_bbone', 'features_composition']:\n",
    "    if key in ['features_teacher_bbone', 'features_composition']:\n",
    "        feature_keys.append(key)\n",
    "    elif key.startswith(\"regress\"):\n",
    "        regress_keys.append(key)\n",
    "    elif key.startswith(\"classify\"):\n",
    "        classify_keys.append(key)\n",
    "\n",
    "#result_dict_mlp = classify_and_regress(\n",
    "#    input_dict=embeddings_dict, \n",
    "#    feature_keys=feature_keys, \n",
    "#    regress_keys=regress_keys,\n",
    "#    classify_keys=classify_keys,\n",
    "#    regressor=MLPRegressor(**mlp_kargs),\n",
    "#    classifier=MLPClassifier(**mlp_kargs),\n",
    "#    add_prediction=False, \n",
    "#    verbose=True)\n",
    "\n",
    "result_dict_kn = classify_and_regress(\n",
    "    input_dict=embeddings_dict, \n",
    "    feature_keys=feature_keys, \n",
    "    regress_keys=regress_keys,\n",
    "    classify_keys=classify_keys,\n",
    "    regressor=KNeighborsRegressor(**kn_kargs),\n",
    "    classifier=KNeighborsClassifier(**kn_kargs),\n",
    "    add_prediction=False, \n",
    "    verbose=True)"
   ]
  },
  {
   "cell_type": "code",
   "execution_count": null,
   "id": "skilled-memorabilia",
   "metadata": {},
   "outputs": [],
   "source": [
    "from tissue_purifier.plot_utils.plot_misc import plot_bars\n",
    "\n",
    "result_dict = result_dict_kn\n",
    "\n",
    "keys_metric = set()\n",
    "for kf, d_tmp in result_dict.items(): \n",
    "    for key in d_tmp.keys():\n",
    "        if key.endswith(\"accuracy_test\") or key.endswith(\"r2_test\"):\n",
    "            keys_metric.add(key)\n",
    "            \n",
    "print(keys_metric)\n",
    "\n",
    "def compare_features_according_to_metric(dict_result, key_metric):\n",
    "    x_labels = []\n",
    "    metric_values = []\n",
    "    for kf, kf_dict in dict_result.items():\n",
    "        if key_metric in kf_dict.keys():\n",
    "            x_labels.append(kf)\n",
    "            metric_values.append(kf_dict[key_metric])\n",
    "    return x_labels, metric_values\n",
    "\n",
    "figs = []\n",
    "for key_metric in keys_metric:\n",
    "    x_labels, y_values = compare_features_according_to_metric(result_dict, key_metric)\n",
    "    fig = plot_bars(y_values, x_labels=x_labels, title=key_metric)\n",
    "    figs.append(fig)\n",
    "    exp[\"feature_comparison\"].log(neptune.types.File.as_image(fig))"
   ]
  },
  {
   "cell_type": "code",
   "execution_count": null,
   "id": "military-arthritis",
   "metadata": {},
   "outputs": [],
   "source": [
    "result_dict_kn"
   ]
  },
  {
   "cell_type": "code",
   "execution_count": null,
   "id": "aware-testing",
   "metadata": {},
   "outputs": [],
   "source": [
    "figs[2]"
   ]
  },
  {
   "cell_type": "code",
   "execution_count": null,
   "id": "changing-mattress",
   "metadata": {},
   "outputs": [],
   "source": [
    "exp.stop()"
   ]
  },
  {
   "cell_type": "code",
   "execution_count": null,
   "id": "processed-patch",
   "metadata": {},
   "outputs": [],
   "source": []
  }
 ],
 "metadata": {
  "environment": {
   "name": "pytorch-gpu.1-7.m65",
   "type": "gcloud",
   "uri": "gcr.io/deeplearning-platform-release/pytorch-gpu.1-7:m65"
  },
  "kernelspec": {
   "display_name": "Python 3",
   "language": "python",
   "name": "python3"
  },
  "language_info": {
   "codemirror_mode": {
    "name": "ipython",
    "version": 3
   },
   "file_extension": ".py",
   "mimetype": "text/x-python",
   "name": "python",
   "nbconvert_exporter": "python",
   "pygments_lexer": "ipython3",
   "version": "3.8.8"
  }
 },
 "nbformat": 4,
 "nbformat_minor": 5
}
