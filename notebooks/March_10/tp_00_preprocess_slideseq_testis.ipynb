{
 "cells": [
  {
   "cell_type": "markdown",
   "id": "casual-might",
   "metadata": {},
   "source": [
    "# PROCESS TESTIS_DATA"
   ]
  },
  {
   "cell_type": "markdown",
   "id": "31b6efa8-4581-42e4-8465-fa578cabd1c7",
   "metadata": {},
   "source": [
    "Read in csv file and create anndata object which are then saved to disk"
   ]
  },
  {
   "cell_type": "markdown",
   "id": "outstanding-momentum",
   "metadata": {},
   "source": [
    "### Common Imports"
   ]
  },
  {
   "cell_type": "code",
   "execution_count": 2,
   "id": "therapeutic-punch",
   "metadata": {},
   "outputs": [
    {
     "name": "stdout",
     "output_type": "stream",
     "text": [
      "The autoreload extension is already loaded. To reload it, use:\n",
      "  %reload_ext autoreload\n"
     ]
    }
   ],
   "source": [
    "import sys\n",
    "import os\n",
    "\n",
    "root_path = os.path.dirname(os.getcwd())\n",
    "src_path = os.path.join(root_path, \"src\")\n",
    "sys.path.insert(0, src_path)\n",
    "\n",
    "%load_ext autoreload\n",
    "%autoreload 2"
   ]
  },
  {
   "cell_type": "markdown",
   "id": "mobile-maker",
   "metadata": {},
   "source": [
    "# Read csv files into anndata objects"
   ]
  },
  {
   "cell_type": "code",
   "execution_count": 6,
   "id": "drawn-switzerland",
   "metadata": {},
   "outputs": [],
   "source": [
    "from tissue_purifier.io_utils.read import anndata_from_expression_csv\n",
    "import pandas as pd"
   ]
  },
  {
   "cell_type": "code",
   "execution_count": 57,
   "id": "incident-settle",
   "metadata": {},
   "outputs": [
    {
     "name": "stdout",
     "output_type": "stream",
     "text": [
      "---\n",
      "---\n",
      "---\n",
      "---\n",
      "sick1\n",
      "location_file ---> /Users/ldalessi/REPOS/ML_for_slideseq/TESTIS_data/PROCESSED/sick1/BeadLocationsForR_T4_Trimmed.csv\n",
      "cell_type_file --> /Users/ldalessi/REPOS/ML_for_slideseq/TESTIS_data/PROCESSED/sick1/sick_1.csv\n",
      "expression_file -> /Users/ldalessi/REPOS/ML_for_slideseq/TESTIS_data/PROCESSED/sick1/MappedDGEForR_T4_Trimmed.csv\n",
      "creating anndata object with the counts\n"
     ]
    },
    {
     "name": "stderr",
     "output_type": "stream",
     "text": [
      "... storing 'cell_type' as categorical\n"
     ]
    },
    {
     "name": "stdout",
     "output_type": "stream",
     "text": [
      "saving anndata to file ./anndata_sick1.h5ad\n",
      "---\n",
      "---\n",
      "---\n",
      "---\n",
      "wt2\n",
      "location_file ---> /Users/ldalessi/REPOS/ML_for_slideseq/TESTIS_data/PROCESSED/wt2/BeadLocationsForR_Puck24_Trimmed_cleaned.csv\n",
      "cell_type_file --> /Users/ldalessi/REPOS/ML_for_slideseq/TESTIS_data/PROCESSED/wt2/wt_2.csv\n",
      "expression_file -> /Users/ldalessi/REPOS/ML_for_slideseq/TESTIS_data/PROCESSED/wt2/MappedDGEForR_Puck24_Trimmed.csv\n",
      "creating anndata object with the counts\n"
     ]
    },
    {
     "name": "stderr",
     "output_type": "stream",
     "text": [
      "... storing 'cell_type' as categorical\n"
     ]
    },
    {
     "name": "stdout",
     "output_type": "stream",
     "text": [
      "saving anndata to file ./anndata_wt2.h5ad\n",
      "---\n",
      "---\n",
      "---\n",
      "---\n",
      "wt3\n",
      "location_file ---> /Users/ldalessi/REPOS/ML_for_slideseq/TESTIS_data/PROCESSED/wt3/BeadLocationsForR_Normal_Puck7_Trimmed.csv\n",
      "cell_type_file --> /Users/ldalessi/REPOS/ML_for_slideseq/TESTIS_data/PROCESSED/wt3/wt_3.csv\n",
      "expression_file -> /Users/ldalessi/REPOS/ML_for_slideseq/TESTIS_data/PROCESSED/wt3/MappedDGEForR_Normal_Puck7_Trimmed.csv\n",
      "creating anndata object with the counts\n"
     ]
    },
    {
     "name": "stderr",
     "output_type": "stream",
     "text": [
      "... storing 'cell_type' as categorical\n"
     ]
    },
    {
     "name": "stdout",
     "output_type": "stream",
     "text": [
      "saving anndata to file ./anndata_wt3.h5ad\n",
      "---\n",
      "---\n",
      "---\n",
      "---\n",
      "sick2\n",
      "location_file ---> /Users/ldalessi/REPOS/ML_for_slideseq/TESTIS_data/PROCESSED/sick2/BeadLocationsForR_Diabetes_Puck10_Trimmed.csv\n",
      "cell_type_file --> /Users/ldalessi/REPOS/ML_for_slideseq/TESTIS_data/PROCESSED/sick2/sick_2.csv\n",
      "expression_file -> /Users/ldalessi/REPOS/ML_for_slideseq/TESTIS_data/PROCESSED/sick2/MappedDGEForR_Diabetes_Puck10_Trimmed.csv\n",
      "creating anndata object with the counts\n"
     ]
    },
    {
     "name": "stderr",
     "output_type": "stream",
     "text": [
      "... storing 'cell_type' as categorical\n"
     ]
    },
    {
     "name": "stdout",
     "output_type": "stream",
     "text": [
      "saving anndata to file ./anndata_sick2.h5ad\n",
      "---\n",
      "---\n",
      "---\n",
      "---\n",
      "sick3\n",
      "location_file ---> /Users/ldalessi/REPOS/ML_for_slideseq/TESTIS_data/PROCESSED/sick3/BeadLocationsForR_Diabetes_Puck11_Trimmed.csv\n",
      "cell_type_file --> /Users/ldalessi/REPOS/ML_for_slideseq/TESTIS_data/PROCESSED/sick3/sick_3.csv\n",
      "expression_file -> /Users/ldalessi/REPOS/ML_for_slideseq/TESTIS_data/PROCESSED/sick3/MappedDGEForR_Diabetes_Puck11_Trimmed.csv\n",
      "creating anndata object with the counts\n"
     ]
    },
    {
     "name": "stderr",
     "output_type": "stream",
     "text": [
      "... storing 'cell_type' as categorical\n"
     ]
    },
    {
     "name": "stdout",
     "output_type": "stream",
     "text": [
      "saving anndata to file ./anndata_sick3.h5ad\n",
      "---\n",
      "---\n",
      "---\n",
      "---\n",
      "wt1\n",
      "location_file ---> /Users/ldalessi/REPOS/ML_for_slideseq/TESTIS_data/PROCESSED/wt1/BeadLocationsForR_T3_Trimmed.csv\n",
      "cell_type_file --> /Users/ldalessi/REPOS/ML_for_slideseq/TESTIS_data/PROCESSED/wt1/wt_1.csv\n",
      "expression_file -> /Users/ldalessi/REPOS/ML_for_slideseq/TESTIS_data/PROCESSED/wt1/MappedDGEForR_T3_Trimmed.csv\n",
      "creating anndata object with the counts\n"
     ]
    },
    {
     "name": "stderr",
     "output_type": "stream",
     "text": [
      "... storing 'cell_type' as categorical\n"
     ]
    },
    {
     "name": "stdout",
     "output_type": "stream",
     "text": [
      "saving anndata to file ./anndata_wt1.h5ad\n"
     ]
    }
   ],
   "source": [
    "root_data_dir = '/Users/ldalessi/REPOS/ML_for_slideseq/TESTIS_data/PROCESSED'\n",
    "\n",
    "dir_tmp = os.listdir(root_data_dir)\n",
    "anndata_fnames = []\n",
    "n_rows = None\n",
    "\n",
    "for my_dir in dir_tmp:\n",
    "    \n",
    "    path = os.path.join(root_data_dir, my_dir)\n",
    "    files = os.listdir(path)\n",
    "       \n",
    "    for file in files:\n",
    "        if file.startswith(\"sick_\"):\n",
    "            cell_type_file = os.path.join(root_data_dir, my_dir, file)\n",
    "        elif file.startswith(\"wt_\"):\n",
    "            cell_type_file = os.path.join(root_data_dir, my_dir, file)\n",
    "        elif file.startswith(\"Mapped\"):\n",
    "            expression_file = os.path.join(root_data_dir, my_dir, file)\n",
    "        elif file.startswith(\"BeadLocation\"):\n",
    "            location_file = os.path.join(root_data_dir, my_dir, file)\n",
    "    \n",
    "    print(\"---\")\n",
    "    print(\"---\")\n",
    "    print(\"---\")\n",
    "    print(\"---\")\n",
    "    print(my_dir)\n",
    "    print(\"location_file --->\", location_file)\n",
    "    print(\"cell_type_file -->\", cell_type_file)\n",
    "    print(\"expression_file ->\", expression_file)\n",
    "    \n",
    "    # create the anndata object\n",
    "    print(\"creating anndata object with the counts\")\n",
    "    anndata = anndata_from_expression_csv(expression_file, observation_key='barcode', top_n_rows=n_rows)\n",
    "    \n",
    "    # get the metadata and add to the obs dataframe\n",
    "    locations_df = pd.read_csv(location_file, usecols=[\"barcode\", \"x\", \"y\"])\n",
    "    cell_types_df = pd.read_csv(cell_type_file, usecols=[\"barcode\", \"cell_type\"])\n",
    "    metadata_df = locations_df.merge(cell_types_df).set_index(\"barcode\")\n",
    "    \n",
    "    # add the metadata into the anndata.obs padaframe. Note that I do not change the order of the entries.\n",
    "    anndata.obs = anndata.obs.join(metadata_df)\n",
    "\n",
    "    # save the anndata object to disk\n",
    "    filename = \"./anndata_\"+my_dir+\".h5ad\"\n",
    "    print(\"saving anndata to file\", filename)\n",
    "    anndata.write(filename=filename, compression=None)\n",
    "    anndata_fnames.append(filename)"
   ]
  }
 ],
 "metadata": {
  "environment": {
   "kernel": "python3",
   "name": "common-cu113.m84",
   "type": "gcloud",
   "uri": "gcr.io/deeplearning-platform-release/base-cu113:m84"
  },
  "kernelspec": {
   "display_name": "Python 3",
   "language": "python",
   "name": "python3"
  },
  "language_info": {
   "codemirror_mode": {
    "name": "ipython",
    "version": 3
   },
   "file_extension": ".py",
   "mimetype": "text/x-python",
   "name": "python",
   "nbconvert_exporter": "python",
   "pygments_lexer": "ipython3",
   "version": "3.7.12"
  }
 },
 "nbformat": 4,
 "nbformat_minor": 5
}
