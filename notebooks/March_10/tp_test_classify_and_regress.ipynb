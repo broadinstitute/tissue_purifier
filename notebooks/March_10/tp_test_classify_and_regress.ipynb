{
 "cells": [
  {
   "cell_type": "markdown",
   "id": "cognitive-trade",
   "metadata": {},
   "source": [
    "# Validations"
   ]
  },
  {
   "cell_type": "markdown",
   "id": "after-egyptian",
   "metadata": {},
   "source": [
    "### Common Imports"
   ]
  },
  {
   "cell_type": "code",
   "execution_count": 8,
   "id": "declared-advice",
   "metadata": {},
   "outputs": [],
   "source": [
    "import sys\n",
    "import os\n",
    "\n",
    "root_path = os.path.dirname(os.getcwd())\n",
    "src_path = os.path.join(root_path, \"src\")\n",
    "sys.path.insert(0, src_path)\n",
    "\n",
    "%load_ext autoreload\n",
    "%autoreload 2"
   ]
  },
  {
   "cell_type": "markdown",
   "id": "sharing-judgment",
   "metadata": {},
   "source": [
    "# Evaluate the embeddings"
   ]
  },
  {
   "cell_type": "code",
   "execution_count": 19,
   "id": "accompanied-works",
   "metadata": {},
   "outputs": [],
   "source": [
    "import torch\n",
    "batch_size, latent_dim = 500, 128\n",
    "\n",
    "all_features_dict = {\n",
    "    \"feature_fake\" : torch.randn(batch_size, latent_dim),\n",
    "    \"regress_moran\" : torch.randn(batch_size),\n",
    "    \"classify\" : torch.randint(low=0, high=5, size=[batch_size]).tolist(),\n",
    "    \"tissue\" : torch.randint(low=0, high=5, size=[batch_size]).tolist()\n",
    "}"
   ]
  },
  {
   "cell_type": "code",
   "execution_count": 20,
   "id": "55bd2a6a-bca7-40a3-a9d1-476277f17201",
   "metadata": {},
   "outputs": [
    {
     "name": "stdout",
     "output_type": "stream",
     "text": [
      "['feature_fake']\n",
      "['regress_moran']\n",
      "['classify']\n"
     ]
    }
   ],
   "source": [
    "feature_keys, regress_keys, classify_keys = [], [], []\n",
    "for key in all_features_dict.keys():\n",
    "    if key.startswith(\"feature\"):\n",
    "        feature_keys.append(key)\n",
    "    elif key.startswith(\"regress\"):\n",
    "        regress_keys.append(key)\n",
    "    elif key.startswith(\"classify\"):\n",
    "        classify_keys.append(key)\n",
    "\n",
    "print(feature_keys)\n",
    "print(regress_keys)\n",
    "print(classify_keys)"
   ]
  },
  {
   "cell_type": "code",
   "execution_count": 32,
   "id": "civic-binary",
   "metadata": {},
   "outputs": [
    {
     "name": "stdout",
     "output_type": "stream",
     "text": [
      "tensor([ 0,  0,  0,  0, 31,  4,  1,  2,  1,  5,  1,  2,  0,  2,  0,  1])\n",
      "tensor([ 0,  0,  0,  0, 31,  4,  1,  2,  1,  5,  1,  2,  0,  2,  0,  1])\n",
      "tensor([ 0,  0,  0,  0,  0,  0,  0,  0,  0, 31,  4,  1,  2,  1,  5,  1,  2,  0,\n",
      "         2,  0,  1])\n",
      "tensor([ 0,  0,  0,  0,  0,  0, 31,  4,  1,  2,  1,  5,  1,  2,  0,  2,  0,  1])\n",
      "tensor([ 0,  0,  0,  0,  0,  0,  0,  0,  0, 31,  4,  1,  2,  1,  5,  1,  2,  0,\n",
      "         2,  0,  1])\n"
     ]
    },
    {
     "data": {
      "text/plain": [
       "torch.return_types.mode(\n",
       "values=tensor([4, 4, 9, 6, 9]),\n",
       "indices=tensor([33, 33, 33, 33, 33]))"
      ]
     },
     "execution_count": 32,
     "metadata": {},
     "output_type": "execute_result"
    }
   ],
   "source": [
    "a = torch.randint(10, (5,))\n",
    "b = a + (torch.randn(50, 1) * 5).long().clamp(min=0)\n",
    "print(torch.bincount(b[:, 0]))\n",
    "print(torch.bincount(b[:, 1]))\n",
    "print(torch.bincount(b[:, 2]))\n",
    "print(torch.bincount(b[:, 3]))\n",
    "print(torch.bincount(b[:, 4]))\n",
    "torch.mode(b, 0)"
   ]
  },
  {
   "cell_type": "code",
   "execution_count": 24,
   "id": "ceb087f4-261f-4210-a00f-4a051522c5dd",
   "metadata": {},
   "outputs": [
    {
     "ename": "AssertionError",
     "evalue": "Patches_xywh_key = patch_xywh is not present in input dictionary.",
     "output_type": "error",
     "traceback": [
      "\u001b[0;31m---------------------------------------------------------------------------\u001b[0m",
      "\u001b[0;31mAssertionError\u001b[0m                            Traceback (most recent call last)",
      "\u001b[0;32m<ipython-input-24-074d259dfac0>\u001b[0m in \u001b[0;36m<module>\u001b[0;34m\u001b[0m\n\u001b[1;32m     37\u001b[0m \u001b[0;31m#    verbose=True)\u001b[0m\u001b[0;34m\u001b[0m\u001b[0;34m\u001b[0m\u001b[0;34m\u001b[0m\u001b[0m\n\u001b[1;32m     38\u001b[0m \u001b[0;34m\u001b[0m\u001b[0m\n\u001b[0;32m---> 39\u001b[0;31m result_dict_kn = classify_and_regress(\n\u001b[0m\u001b[1;32m     40\u001b[0m     \u001b[0minput_dict\u001b[0m\u001b[0;34m=\u001b[0m\u001b[0mall_features_dict\u001b[0m\u001b[0;34m,\u001b[0m\u001b[0;34m\u001b[0m\u001b[0;34m\u001b[0m\u001b[0m\n\u001b[1;32m     41\u001b[0m     \u001b[0mfeature_keys\u001b[0m\u001b[0;34m=\u001b[0m\u001b[0mfeature_keys\u001b[0m\u001b[0;34m,\u001b[0m\u001b[0;34m\u001b[0m\u001b[0;34m\u001b[0m\u001b[0m\n",
      "\u001b[0;32m~/REPOS/ML_for_slideseq/src/tissue_purifier/model_utils/classify_regress.py\u001b[0m in \u001b[0;36mclassify_and_regress\u001b[0;34m(input_dict, feature_keys, regress_keys, classify_keys, regressor, classifier, iou_threshold, tissue_key, patches_xywh_key, add_prediction, verbose)\u001b[0m\n\u001b[1;32m    863\u001b[0m         \u001b[0;32massert\u001b[0m \u001b[0mtissue_key\u001b[0m \u001b[0;32min\u001b[0m \u001b[0mset\u001b[0m\u001b[0;34m(\u001b[0m\u001b[0minput_dict\u001b[0m\u001b[0;34m.\u001b[0m\u001b[0mkeys\u001b[0m\u001b[0;34m(\u001b[0m\u001b[0;34m)\u001b[0m\u001b[0;34m)\u001b[0m\u001b[0;34m,\u001b[0m\u001b[0;31m \u001b[0m\u001b[0;31m\\\u001b[0m\u001b[0;34m\u001b[0m\u001b[0;34m\u001b[0m\u001b[0m\n\u001b[1;32m    864\u001b[0m             \u001b[0;34m\"Tissue_key = {0} is not present in input dictionary.\"\u001b[0m\u001b[0;34m.\u001b[0m\u001b[0mformat\u001b[0m\u001b[0;34m(\u001b[0m\u001b[0mtissue_key\u001b[0m\u001b[0;34m)\u001b[0m\u001b[0;34m\u001b[0m\u001b[0;34m\u001b[0m\u001b[0m\n\u001b[0;32m--> 865\u001b[0;31m         \u001b[0;32massert\u001b[0m \u001b[0mpatches_xywh_key\u001b[0m \u001b[0;32min\u001b[0m \u001b[0mset\u001b[0m\u001b[0;34m(\u001b[0m\u001b[0minput_dict\u001b[0m\u001b[0;34m.\u001b[0m\u001b[0mkeys\u001b[0m\u001b[0;34m(\u001b[0m\u001b[0;34m)\u001b[0m\u001b[0;34m)\u001b[0m\u001b[0;34m,\u001b[0m\u001b[0;31m \u001b[0m\u001b[0;31m\\\u001b[0m\u001b[0;34m\u001b[0m\u001b[0;34m\u001b[0m\u001b[0m\n\u001b[0m\u001b[1;32m    866\u001b[0m             \u001b[0;34m\"Patches_xywh_key = {0} is not present in input dictionary.\"\u001b[0m\u001b[0;34m.\u001b[0m\u001b[0mformat\u001b[0m\u001b[0;34m(\u001b[0m\u001b[0mpatches_xywh_key\u001b[0m\u001b[0;34m)\u001b[0m\u001b[0;34m\u001b[0m\u001b[0;34m\u001b[0m\u001b[0m\n\u001b[1;32m    867\u001b[0m         \u001b[0mavoid_overlap\u001b[0m \u001b[0;34m=\u001b[0m \u001b[0;32mTrue\u001b[0m\u001b[0;34m\u001b[0m\u001b[0;34m\u001b[0m\u001b[0m\n",
      "\u001b[0;31mAssertionError\u001b[0m: Patches_xywh_key = patch_xywh is not present in input dictionary."
     ]
    }
   ],
   "source": [
    "from tissue_purifier.model_utils.classify_regress import (\n",
    "    classify_and_regress, \n",
    "    PlRegressor, \n",
    "    PlClassifier,  \n",
    "    KNeighborsClassifier, \n",
    "    KNeighborsRegressor)\n",
    "\n",
    "mlp_kargs = {\n",
    "    \"hidden_layer_sizes\" : [],\n",
    "    \"solver\": 'adam',\n",
    "    \"alpha\" : 0.0001,\n",
    "    \"batch_size\" : 'auto',\n",
    "    \"learning_rate\" : 'constant',\n",
    "    \"learning_rate_init\" : 0.0003,\n",
    "    \"max_iter\" : 50000,\n",
    "    \"shuffle\" : True,\n",
    "    \"random_state\" : 1,\n",
    "    \"tol\" : 1E-6,\n",
    "    \"verbose\" : False,\n",
    "    \"n_iter_no_change\" : 10,\n",
    "    \"early_stopping\" :False,\n",
    "}\n",
    "\n",
    "\n",
    "kn_kargs = {\n",
    "    \"n_neighbors\": 5,\n",
    "}\n",
    "\n",
    "#result_dict_mlp = classify_and_regress(\n",
    "#    input_dict=all_features_dict, \n",
    "#    feature_keys=feature_keys, \n",
    "#    regress_keys=regress_keys,\n",
    "#    classify_keys=classify_keys,\n",
    "#    regressor=MLPRegressor(**mlp_kargs),\n",
    "#    classifier=MLPClassifier(**mlp_kargs),\n",
    "#    add_prediction=False, \n",
    "#    verbose=True)\n",
    "\n",
    "result_dict_kn = classify_and_regress(\n",
    "    input_dict=all_features_dict, \n",
    "    feature_keys=feature_keys, \n",
    "    regress_keys=regress_keys,\n",
    "    classify_keys=classify_keys,\n",
    "    regressor=KNeighborsRegressor(**kn_kargs),\n",
    "    classifier=KNeighborsClassifier(**kn_kargs),\n",
    "    iou_threshold=0.5,\n",
    "    tissue_key='tissue',\n",
    "    patches_xywh_key='patch_xywh',\n",
    "    add_prediction=False, \n",
    "    verbose=True)"
   ]
  },
  {
   "cell_type": "code",
   "execution_count": 14,
   "id": "short-pottery",
   "metadata": {},
   "outputs": [
    {
     "data": {
      "text/plain": [
       "{'feature_fake': {'classify_accuracy_test': 0.2,\n",
       "  'classify_accuracy_train': 0.5425,\n",
       "  'regress_moran_r2_test': -0.2305165949728618,\n",
       "  'regress_moran_r2_train': 0.21627907412764258}}"
      ]
     },
     "execution_count": 14,
     "metadata": {},
     "output_type": "execute_result"
    }
   ],
   "source": [
    "result_dict_kn"
   ]
  },
  {
   "cell_type": "code",
   "execution_count": 57,
   "id": "c71405b6-f83d-4bf2-98e1-adbc0ac04589",
   "metadata": {},
   "outputs": [
    {
     "data": {
      "text/plain": [
       "{'feature_vae': {'classify_tissue_label_accuracy_test': 0.25,\n",
       "  'classify_tissue_label_accuracy_train': 0.5041666666666667,\n",
       "  'classify_condition_accuracy_test': 0.53,\n",
       "  'classify_condition_accuracy_train': 0.71625,\n",
       "  'regress_moran_r2_test': -0.028646665293065254,\n",
       "  'regress_moran_r2_train': 0.3049986830592607},\n",
       " 'feature_dino': {'classify_tissue_label_accuracy_test': 0.30666666666666664,\n",
       "  'classify_tissue_label_accuracy_train': 0.5604166666666667,\n",
       "  'classify_condition_accuracy_test': 0.5433333333333333,\n",
       "  'classify_condition_accuracy_train': 0.7475,\n",
       "  'regress_moran_r2_test': 0.2512770816868789,\n",
       "  'regress_moran_r2_train': 0.4835245559272132},\n",
       " 'feature_composition': {'classify_tissue_label_accuracy_test': 0.5083333333333333,\n",
       "  'classify_tissue_label_accuracy_train': 0.715,\n",
       "  'classify_condition_accuracy_test': 0.7266666666666667,\n",
       "  'classify_condition_accuracy_train': 0.8225,\n",
       "  'regress_moran_r2_test': 0.21808701350175141,\n",
       "  'regress_moran_r2_train': 0.5258288020494915}}"
      ]
     },
     "execution_count": 57,
     "metadata": {},
     "output_type": "execute_result"
    }
   ],
   "source": [
    "result_dict_kn"
   ]
  },
  {
   "cell_type": "code",
   "execution_count": 58,
   "id": "36540854-1ac6-4e02-ab4d-3137f1f95375",
   "metadata": {},
   "outputs": [
    {
     "data": {
      "text/plain": [
       "{'feature_vae': {'classify_tissue_label_accuracy_test': 0.4766666666666667,\n",
       "  'classify_tissue_label_accuracy_train': 0.8,\n",
       "  'classify_condition_accuracy_test': 0.6333333333333333,\n",
       "  'classify_condition_accuracy_train': 0.75375,\n",
       "  'regress_moran_r2_test': 0.2219732763826625,\n",
       "  'regress_moran_r2_train': 0.47977656156757964},\n",
       " 'feature_dino': {'classify_tissue_label_accuracy_test': 0.18333333333333332,\n",
       "  'classify_tissue_label_accuracy_train': 0.20125,\n",
       "  'classify_condition_accuracy_test': 0.48333333333333334,\n",
       "  'classify_condition_accuracy_train': 0.51875,\n",
       "  'regress_moran_r2_test': 0.21346775857812939,\n",
       "  'regress_moran_r2_train': 0.21407430996952503},\n",
       " 'feature_composition': {'classify_tissue_label_accuracy_test': 0.5783333333333334,\n",
       "  'classify_tissue_label_accuracy_train': 0.5725,\n",
       "  'classify_condition_accuracy_test': 0.69,\n",
       "  'classify_condition_accuracy_train': 0.6641666666666667,\n",
       "  'regress_moran_r2_test': 0.22715731268771777,\n",
       "  'regress_moran_r2_train': 0.19737322985093242}}"
      ]
     },
     "execution_count": 58,
     "metadata": {},
     "output_type": "execute_result"
    }
   ],
   "source": [
    "result_dict_mlp"
   ]
  },
  {
   "cell_type": "code",
   "execution_count": 56,
   "id": "63abbfd2-c8bc-4b0d-91c2-d9d1d0d8c68a",
   "metadata": {},
   "outputs": [
    {
     "name": "stdout",
     "output_type": "stream",
     "text": [
      "ciao\n"
     ]
    }
   ],
   "source": [
    "print(\"ciao\")"
   ]
  },
  {
   "cell_type": "code",
   "execution_count": 24,
   "id": "67e72763-1782-45ce-a8d1-da7bf3403e92",
   "metadata": {},
   "outputs": [
    {
     "data": {
      "text/plain": [
       "{'features_teacher_bbone': {'classify_tissue_label_accuracy_test': 0.9383333333333334,\n",
       "  'classify_tissue_label_accuracy_train': 0.9708333333333333,\n",
       "  'classify_condition_accuracy_test': 0.9583333333333334,\n",
       "  'classify_condition_accuracy_train': 0.9879166666666667,\n",
       "  'regress_moran_r2_test': 0.8763070972006142,\n",
       "  'regress_moran_r2_train': 0.9152835370328142},\n",
       " 'features_composition': {'classify_tissue_label_accuracy_test': 0.7866666666666666,\n",
       "  'classify_tissue_label_accuracy_train': 0.8645833333333334,\n",
       "  'classify_condition_accuracy_test': 0.875,\n",
       "  'classify_condition_accuracy_train': 0.915,\n",
       "  'regress_moran_r2_test': 0.6133730545831113,\n",
       "  'regress_moran_r2_train': 0.710666576001998}}"
      ]
     },
     "execution_count": 24,
     "metadata": {},
     "output_type": "execute_result"
    }
   ],
   "source": [
    "result_dict_kn"
   ]
  },
  {
   "cell_type": "code",
   "execution_count": 28,
   "id": "c27e2771-3786-46e7-9e2c-7464023a5c22",
   "metadata": {},
   "outputs": [],
   "source": [
    "exp[\"regress_and_classify_kn\"] = result_dict_kn"
   ]
  },
  {
   "cell_type": "code",
   "execution_count": 29,
   "id": "6dc78d6d-fb77-464d-8e88-b48605fb9a23",
   "metadata": {},
   "outputs": [],
   "source": [
    "#for kf, kf_dict in result_dict_kn.items():\n",
    "#    for k, metric in kf_dict.items():\n",
    "#        exp[\"regress\"].log\n",
    "#        #exp[\"regress_and_classify/kn/\"+kf+\"/\"+k].log(metric)"
   ]
  },
  {
   "cell_type": "code",
   "execution_count": 25,
   "id": "769701b5-6bec-4a31-b62d-d37bf24b962c",
   "metadata": {},
   "outputs": [],
   "source": [
    "#result_dict_mlp"
   ]
  },
  {
   "cell_type": "code",
   "execution_count": null,
   "id": "c7a64a0d-5e02-4766-9fc3-d81e2f39aa9b",
   "metadata": {},
   "outputs": [],
   "source": [
    "#for kf, kf_dict in result_dict_mlp.items():\n",
    "#    for k, metric in kf_dict.items():\n",
    "#        exp[\"regress_and_classify/mlp/\"+kf+\"/\"+k].log(metric)\n",
    "#    "
   ]
  },
  {
   "cell_type": "code",
   "execution_count": 64,
   "id": "072e41a8-5c56-45c8-8d18-1269f81d3b03",
   "metadata": {},
   "outputs": [
    {
     "name": "stdout",
     "output_type": "stream",
     "text": [
      "{'regress_moran_r2_test', 'classify_tissue_label_accuracy_test', 'classify_condition_accuracy_test'}\n"
     ]
    }
   ],
   "source": [
    "from tissue_purifier.plot_utils.plot_misc import plot_bars\n",
    "\n",
    "result_dict = result_dict_kn\n",
    "\n",
    "keys_metric = set()\n",
    "for kf, d_tmp in result_dict.items(): \n",
    "    for key in d_tmp.keys():\n",
    "        if key.endswith(\"accuracy_test\") or key.endswith(\"r2_test\"):\n",
    "            keys_metric.add(key)\n",
    "            \n",
    "print(keys_metric)\n",
    "\n",
    "def compare_features_according_to_metric(dict_result, key_metric):\n",
    "    x_labels = []\n",
    "    metric_values = []\n",
    "    for kf, kf_dict in dict_result.items():\n",
    "        if key_metric in kf_dict.keys():\n",
    "            x_labels.append(kf)\n",
    "            metric_values.append(kf_dict[key_metric])\n",
    "    return x_labels, metric_values\n",
    "\n",
    "figs = []\n",
    "for key_metric in keys_metric:\n",
    "    x_labels, y_values = compare_features_according_to_metric(result_dict, key_metric)\n",
    "    fig = plot_bars(y_values, x_labels=x_labels, title=key_metric)\n",
    "    figs.append(fig)\n",
    "    exp[\"feature_comparison\"].log(neptune.types.File.as_image(fig))"
   ]
  },
  {
   "cell_type": "code",
   "execution_count": 65,
   "id": "8c17d489-851e-42cb-ac7d-c3e697456521",
   "metadata": {},
   "outputs": [
    {
     "data": {
      "text/plain": [
       "{'features_teacher_bbone': {'classify_tissue_label_accuracy_test': 0.9383333333333334,\n",
       "  'classify_tissue_label_accuracy_train': 0.9708333333333333,\n",
       "  'classify_condition_accuracy_test': 0.9583333333333334,\n",
       "  'classify_condition_accuracy_train': 0.9879166666666667,\n",
       "  'regress_moran_r2_test': 0.8763070972006142,\n",
       "  'regress_moran_r2_train': 0.9152835370328142},\n",
       " 'features_composition': {'classify_tissue_label_accuracy_test': 0.7866666666666666,\n",
       "  'classify_tissue_label_accuracy_train': 0.8645833333333334,\n",
       "  'classify_condition_accuracy_test': 0.875,\n",
       "  'classify_condition_accuracy_train': 0.915,\n",
       "  'regress_moran_r2_test': 0.6133730545831113,\n",
       "  'regress_moran_r2_train': 0.710666576001998}}"
      ]
     },
     "execution_count": 65,
     "metadata": {},
     "output_type": "execute_result"
    }
   ],
   "source": [
    "result_dict_kn"
   ]
  },
  {
   "cell_type": "code",
   "execution_count": 34,
   "id": "a5b49325-4c79-49c4-a723-03d0919b05ba",
   "metadata": {},
   "outputs": [
    {
     "data": {
      "image/png": "[encoded data removed]",
      "text/plain": [
       "<Figure size 900x900 with 1 Axes>"
      ]
     },
     "execution_count": 34,
     "metadata": {},
     "output_type": "execute_result"
    }
   ],
   "source": [
    "figs[2]"
   ]
  },
  {
   "cell_type": "markdown",
   "id": "fc137584-1aec-430f-a12e-3b7078448155",
   "metadata": {},
   "source": [
    "# Transfer annotation to the sp_img._image_properties dict"
   ]
  },
  {
   "cell_type": "code",
   "execution_count": 35,
   "id": "5d2afcda-f419-4903-9fa4-6e010787561b",
   "metadata": {},
   "outputs": [
    {
     "name": "stdout",
     "output_type": "stream",
     "text": [
      "['spatial_score', 'pca_features_teacher_bbone', 'umap_features_teacher_bbone', 'leiden_res_0.01_features_teacher_bbone', 'leiden_res_0.1_features_teacher_bbone', 'leiden_res_0.3_features_teacher_bbone', 'leiden_res_0.5_features_teacher_bbone', 'leiden_res_1.0_features_teacher_bbone', 'pca_features_composition', 'umap_features_composition', 'leiden_res_0.01_features_composition', 'leiden_res_0.1_features_composition', 'leiden_res_0.3_features_composition', 'leiden_res_0.5_features_composition', 'leiden_res_1.0_features_composition']\n",
      "features_student_bbone <class 'torch.Tensor'> torch.Size([500, 128]) cpu\n",
      "features_teacher_bbone <class 'torch.Tensor'> torch.Size([500, 128]) cpu\n",
      "features_student_head <class 'torch.Tensor'> torch.Size([500, 128]) cpu\n",
      "features_teacher_head <class 'torch.Tensor'> torch.Size([500, 128]) cpu\n",
      "features_composition <class 'torch.Tensor'> torch.Size([500, 9]) cpu\n",
      "patch_xywh <class 'torch.Tensor'> torch.Size([500, 4]) cpu\n",
      "spatial_score <class 'torch.Tensor'> torch.Size([500, 9]) cpu\n",
      "pca_features_teacher_bbone <class 'torch.Tensor'> torch.Size([500, 24]) cpu\n",
      "umap_features_teacher_bbone <class 'torch.Tensor'> torch.Size([500, 2]) cpu\n",
      "leiden_res_0.01_features_teacher_bbone <class 'torch.Tensor'> torch.Size([500, 1]) cpu\n",
      "leiden_res_0.1_features_teacher_bbone <class 'torch.Tensor'> torch.Size([500, 1]) cpu\n",
      "leiden_res_0.3_features_teacher_bbone <class 'torch.Tensor'> torch.Size([500, 5]) cpu\n",
      "leiden_res_0.5_features_teacher_bbone <class 'torch.Tensor'> torch.Size([500, 8]) cpu\n",
      "leiden_res_1.0_features_teacher_bbone <class 'torch.Tensor'> torch.Size([500, 20]) cpu\n",
      "pca_features_composition <class 'torch.Tensor'> torch.Size([500, 6]) cpu\n",
      "umap_features_composition <class 'torch.Tensor'> torch.Size([500, 2]) cpu\n",
      "leiden_res_0.01_features_composition <class 'torch.Tensor'> torch.Size([500, 1]) cpu\n",
      "leiden_res_0.1_features_composition <class 'torch.Tensor'> torch.Size([500, 3]) cpu\n",
      "leiden_res_0.3_features_composition <class 'torch.Tensor'> torch.Size([500, 6]) cpu\n",
      "leiden_res_0.5_features_composition <class 'torch.Tensor'> torch.Size([500, 10]) cpu\n",
      "leiden_res_1.0_features_composition <class 'torch.Tensor'> torch.Size([500, 16]) cpu\n"
     ]
    }
   ],
   "source": [
    "from tissue_purifier.misc_utils.misc import transfer_annotations_between_dict\n",
    "     \n",
    "annotation_keys = []\n",
    "for key in embeddings_dict.keys():\n",
    "    if key.startswith(\"pca\") or key.startswith(\"umap\") or key.startswith(\"leiden\") or key.startswith(\"spatial_score\"):\n",
    "        annotation_keys.append(key)\n",
    "print(annotation_keys)\n",
    "    \n",
    "for sp_img in sp_images:    \n",
    "    transfer_annotations_between_dict(\n",
    "        source_dict=embeddings_dict,\n",
    "        dest_dict=sp_img.patch_properties_dict,\n",
    "        annotation_keys=annotation_keys,\n",
    "        anchor_key=\"features_student_bbone\",\n",
    "    )\n",
    "\n",
    "inspect_dict(sp_images[0].patch_properties_dict)"
   ]
  },
  {
   "cell_type": "code",
   "execution_count": null,
   "id": "66257ba2-6fe2-4fa0-be70-4b94ab98ae65",
   "metadata": {},
   "outputs": [],
   "source": []
  },
  {
   "cell_type": "code",
   "execution_count": null,
   "id": "e99e9026-ae04-4132-ab1c-de3142cbcd71",
   "metadata": {},
   "outputs": [],
   "source": [
    "_spot_properties_dict"
   ]
  },
  {
   "cell_type": "markdown",
   "id": "connected-scholar",
   "metadata": {},
   "source": [
    "# 3. Transfer the annotations to the sparse_images.patch_properties_dict"
   ]
  },
  {
   "cell_type": "code",
   "execution_count": null,
   "id": "black-waterproof",
   "metadata": {},
   "outputs": [],
   "source": [
    "from tissue_purifier.misc_utils.dict_util import transfer_annotations_between_dict\n",
    "    \n",
    "anchor_key = 'patch_xywh'\n",
    "annotation_keys = list(all_features_dict.keys())\n",
    "annotation_keys.remove('patch_xywh')\n",
    "    \n",
    "for sp_img in sp_images:    \n",
    "    transfer_annotations_between_dict(\n",
    "        source_dict=all_features_dict,\n",
    "        dest_dict=sp_img.patch_properties_dict,\n",
    "        annotation_keys=annotation_keys,\n",
    "        anchor_key=anchor_key,\n",
    "    )\n",
    "\n",
    "#inspect_dict(sp_images[0].patch_properties_dict)"
   ]
  },
  {
   "cell_type": "markdown",
   "id": "complimentary-hardwood",
   "metadata": {},
   "source": [
    "### 2. From path property to image property"
   ]
  },
  {
   "cell_type": "code",
   "execution_count": null,
   "id": "adaptive-classics",
   "metadata": {},
   "outputs": [],
   "source": [
    "annotation_keys = list(sp_images[0].patch_properties_dict.keys())\n",
    "annotation_keys.remove('classify_condition')\n",
    "annotation_keys.remove('classify_tissue_label')\n",
    "annotation_keys.remove('patch_xywh')\n",
    "print(annotation_keys)\n",
    "\n",
    "for sp_img in sp_images:\n",
    "    sp_img.path_property_to_image_property(\n",
    "        keys=annotation_keys,\n",
    "        overwrite=True,\n",
    "        verbose=False)\n",
    "\n",
    "#inspect_dict(image_dict)"
   ]
  },
  {
   "cell_type": "markdown",
   "id": "clear-forum",
   "metadata": {},
   "source": [
    "### 3. Visualize the Image Properties"
   ]
  },
  {
   "cell_type": "code",
   "execution_count": null,
   "id": "pretty-storage",
   "metadata": {},
   "outputs": [],
   "source": [
    "from tissue_purifier.plot_utils.plot_images import show_raw_all_channels, show_raw_one_channel"
   ]
  },
  {
   "cell_type": "markdown",
   "id": "pleased-bathroom",
   "metadata": {},
   "source": [
    "Plot the cell composition"
   ]
  },
  {
   "cell_type": "code",
   "execution_count": null,
   "id": "living-jacksonville",
   "metadata": {},
   "outputs": [],
   "source": [
    "cell_names = list(cell_to_code_dict.keys())\n",
    "\n",
    "for sp_img, f_name in zip(sp_images, f_names):\n",
    "    fig = show_raw_one_channel(sp_img.image_properties_dict[\"feature_composition\"], n_col=3, in_range=(0.0, 1.0),\n",
    "                    titles=list(cell_to_code_dict.keys()), sup_title=\"Cell Composition of {0}\".format(f_name), cmap=\"magma\")\n",
    "    exp[\"masks/cell_composition\"].log(neptune.types.File.as_image(fig))\n",
    "#fig "
   ]
  },
  {
   "cell_type": "code",
   "execution_count": null,
   "id": "engaging-sociology",
   "metadata": {},
   "outputs": [],
   "source": [
    "for cell_type, code in cell_to_code_dict.items():\n",
    "    # print(cell_type, code)\n",
    "    fig = show_raw_one_channel([sp_img.image_properties_dict[\"feature_composition\"][code] for sp_img in sp_images], n_col=3, \n",
    "                               in_range=(0.0, 1.0),\n",
    "                               titles=f_names, sup_title=\"Cell Composition of {0}\".format(cell_type), cmap=\"magma\")\n",
    "    exp[\"masks/cell_composition\"].log(neptune.types.File.as_image(fig))\n",
    "\n",
    "#fig"
   ]
  },
  {
   "cell_type": "markdown",
   "id": "meaningful-offset",
   "metadata": {},
   "source": [
    "Plot the moran score"
   ]
  },
  {
   "cell_type": "code",
   "execution_count": null,
   "id": "commercial-enemy",
   "metadata": {},
   "outputs": [],
   "source": [
    "fig = show_raw_one_channel([sp_img.image_properties_dict[\"regress_moran\"][0] for sp_img in sp_images], n_col=3, \n",
    "                            scale_each=False, in_range='image', \n",
    "                            titles=f_names, sup_title=\"Moran score\", cmap=\"magma\")\n",
    "exp[\"masks/moran\"].log(neptune.types.File.as_image(fig))\n",
    "#fig"
   ]
  },
  {
   "cell_type": "markdown",
   "id": "focal-lewis",
   "metadata": {},
   "source": [
    "Plot the Lieden cluster"
   ]
  },
  {
   "cell_type": "code",
   "execution_count": null,
   "id": "lucky-accessory",
   "metadata": {},
   "outputs": [],
   "source": [
    "image_keys = sp_images[0].image_properties_dict.keys()\n",
    "for key in image_keys:\n",
    "    if key.startswith(\"leiden\"):\n",
    "        print(key)\n",
    "        fig = show_raw_all_channels([sp_img.image_properties_dict[key] for sp_img in sp_images], n_col=3, titles=f_names, sup_title=key, cmap=plt.cm.tab10, show_colorbar=False)\n",
    "        exp[\"masks/leiden/all_chs\"].log(neptune.types.File.as_image(fig))\n",
    "#fig"
   ]
  },
  {
   "cell_type": "code",
   "execution_count": null,
   "id": "macro-channels",
   "metadata": {},
   "outputs": [],
   "source": [
    "image_keys = sp_images[0].image_properties_dict.keys()\n",
    "for key in image_keys:\n",
    "    if key.startswith(\"leiden\"):\n",
    "        for sp_img, f_name in zip(sp_images, f_names):\n",
    "            n_clusters = sp_img.image_properties_dict[key].shape[-3]\n",
    "            titles = [\"leiden cluster: \"+str(n) for n in range(n_clusters)]\n",
    "            fig = show_raw_one_channel(sp_img.image_properties_dict[key], sup_title=\"{0} by {1}\".format(f_name,key),\n",
    "                                      titles=titles)\n",
    "            exp[\"masks/leiden/\"+key].log(neptune.types.File.as_image(fig))\n",
    "# fig"
   ]
  },
  {
   "cell_type": "markdown",
   "id": "mechanical-flower",
   "metadata": {},
   "source": [
    "Plot the PCA components"
   ]
  },
  {
   "cell_type": "code",
   "execution_count": null,
   "id": "amazing-advance",
   "metadata": {},
   "outputs": [],
   "source": [
    "for key in image_keys:\n",
    "    if key.startswith(\"pca\"):\n",
    "        print(key)\n",
    "        fig = show_raw_one_channel([sp_img.image_properties_dict[key][0] for sp_img in sp_images], n_col=3, titles=f_names, sup_title=\"PCA1 by \"+key, cmap=\"seismic\")\n",
    "        exp[\"masks/pca\"].log(neptune.types.File.as_image(fig))\n",
    "        fig = show_raw_one_channel([sp_img.image_properties_dict[key][1] for sp_img in sp_images], n_col=3, titles=f_names, sup_title=\"PCA2 by \"+key, cmap=\"seismic\")\n",
    "        exp[\"masks/pca\"].log(neptune.types.File.as_image(fig))\n",
    "# fig"
   ]
  },
  {
   "cell_type": "markdown",
   "id": "respected-mills",
   "metadata": {},
   "source": [
    "Plot the UMAP components"
   ]
  },
  {
   "cell_type": "code",
   "execution_count": null,
   "id": "starting-detection",
   "metadata": {},
   "outputs": [],
   "source": [
    "for key in image_keys:\n",
    "    if key.startswith(\"umap\"):\n",
    "        print(key)\n",
    "        fig = show_raw_one_channel([sp_img.image_properties_dict[key][0] for sp_img in sp_images], n_col=3, titles=f_names, sup_title=\"UMAP1 by \"+key, cmap=\"seismic\")\n",
    "        exp[\"masks/umap\"].log(neptune.types.File.as_image(fig))\n",
    "        fig = show_raw_one_channel([sp_img.image_properties_dict[key][1] for sp_img in sp_images], n_col=3, titles=f_names, sup_title=\"UMAP2 by \"+key, cmap=\"seismic\")\n",
    "        exp[\"masks/umap\"].log(neptune.types.File.as_image(fig))\n",
    "        \n",
    "# fig"
   ]
  },
  {
   "cell_type": "markdown",
   "id": "consolidated-polish",
   "metadata": {},
   "source": [
    "### 4. Transfer annotation on spot"
   ]
  },
  {
   "cell_type": "code",
   "execution_count": null,
   "id": "outdoor-bunny",
   "metadata": {},
   "outputs": [],
   "source": [
    "# inspect_dict(sp_images[0].image_properties_dict)\n",
    "\n",
    "keys_image = list(sp_images[0].image_properties_dict.keys())\n",
    "keys_image.remove(\"umap_feature_composition\")\n",
    "keys_image.remove(\"pca_feature_composition\")\n",
    "keys_image.remove(\"moran_I\")\n",
    "\n",
    "for sp_img in sp_images:\n",
    "    sp_img.image_property_to_spot_property(\n",
    "        keys=keys_image,\n",
    "        overwrite=True)\n",
    "    \n",
    "# inspect_dict(sp_images[0].spot_properties_dict)"
   ]
  },
  {
   "cell_type": "markdown",
   "id": "orange-aircraft",
   "metadata": {},
   "source": [
    "# Usage statistics of clusters"
   ]
  },
  {
   "cell_type": "code",
   "execution_count": null,
   "id": "material-effects",
   "metadata": {},
   "outputs": [],
   "source": [
    "\n",
    "TODO"
   ]
  },
  {
   "cell_type": "code",
   "execution_count": null,
   "id": "original-disabled",
   "metadata": {},
   "outputs": [],
   "source": [
    "from tissue_purifier.plot_utils.plot_misc import plot_counters\n",
    "from tissue_purifier.misc_utils.misc import channel_counter_in_window"
   ]
  },
  {
   "cell_type": "code",
   "execution_count": null,
   "id": "adverse-inquiry",
   "metadata": {},
   "outputs": [],
   "source": [
    "for key in image_keys:\n",
    "    if key.startswith(\"leiden\"):\n",
    "        print(key)\n",
    "        leiden_counters = [channel_counter_in_window(sp_img.image_properties_dict[key]) for sp_img in sp_images]\n",
    "        fig = plot_counters(leiden_counters, dataset_labels=f_names, title=\"normalized utilization of clusters by {0}\".format(key))\n",
    "        exp[\"usage\"].log(neptune.types.File.as_image(fig))"
   ]
  },
  {
   "cell_type": "code",
   "execution_count": null,
   "id": "adaptive-advocacy",
   "metadata": {},
   "outputs": [],
   "source": [
    "cell_types = list(sp_images[0]._categories_to_codes.keys())\n",
    "\n",
    "cell_counters = [channel_counter_in_window(sp_img) for sp_img in sp_images]\n",
    "fig = plot_counters(cell_counters, dataset_labels=f_names, title=\"normalized utilization of cells\", x_labels=cell_types)\n",
    "exp[\"usage\"].log(neptune.types.File.as_image(fig))"
   ]
  },
  {
   "cell_type": "markdown",
   "id": "expanded-conditioning",
   "metadata": {},
   "source": []
  },
  {
   "cell_type": "code",
   "execution_count": null,
   "id": "healthy-opinion",
   "metadata": {},
   "outputs": [],
   "source": []
  },
  {
   "cell_type": "markdown",
   "id": "twenty-israel",
   "metadata": {},
   "source": [
    "# Now you can do DE"
   ]
  },
  {
   "cell_type": "code",
   "execution_count": null,
   "id": "typical-being",
   "metadata": {},
   "outputs": [],
   "source": [
    "TO DO"
   ]
  },
  {
   "cell_type": "code",
   "execution_count": null,
   "id": "scenic-gamma",
   "metadata": {},
   "outputs": [],
   "source": [
    "gather all spot dict from the sparse images.... do DE..."
   ]
  },
  {
   "cell_type": "code",
   "execution_count": null,
   "id": "musical-tissue",
   "metadata": {},
   "outputs": [],
   "source": [
    "exp.stop()"
   ]
  },
  {
   "cell_type": "code",
   "execution_count": null,
   "id": "empirical-spray",
   "metadata": {},
   "outputs": [],
   "source": [
    "%matplotlib inline\n",
    "import torch\n",
    "import numpy\n",
    "import matplotlib.pyplot as plt\n",
    "from tissue_purifier.data_utils.datamodule import SlideSeqKidneyDM, SlideSeqTestisDM\n",
    "from tissue_purifier.plot_utils.plot_images import show_raw_all_channels, show_raw_one_channel\n",
    "from tissue_purifier.plot_utils.plot_misc import plot_composition"
   ]
  }
 ],
 "metadata": {
  "environment": {
   "kernel": "python3",
   "name": "common-cu113.m84",
   "type": "gcloud",
   "uri": "gcr.io/deeplearning-platform-release/base-cu113:m84"
  },
  "kernelspec": {
   "display_name": "Python 3",
   "language": "python",
   "name": "python3"
  },
  "language_info": {
   "codemirror_mode": {
    "name": "ipython",
    "version": 3
   },
   "file_extension": ".py",
   "mimetype": "text/x-python",
   "name": "python",
   "nbconvert_exporter": "python",
   "pygments_lexer": "ipython3",
   "version": "3.7.12"
  }
 },
 "nbformat": 4,
 "nbformat_minor": 5
}
