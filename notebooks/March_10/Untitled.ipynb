{
 "cells": [
  {
   "cell_type": "code",
   "execution_count": 7,
   "metadata": {},
   "outputs": [],
   "source": [
    "import numpy\n",
    "\n",
    "d = numpy.random.randn(10, 5)\n",
    "\n",
    "\n",
    "\n",
    "w = exclude_self(d)"
   ]
  },
  {
   "cell_type": "code",
   "execution_count": 26,
   "metadata": {},
   "outputs": [],
   "source": [
    "from sklearn.neighbors import KNeighborsRegressor\n",
    "\n",
    "n_samples, n_features = 10, 12\n",
    "x = numpy.random.randn(n_samples, n_features)\n",
    "y = numpy.random.randn(n_samples)\n",
    "\n",
    "def exclude_self(d):\n",
    "    # This has shape: d.shape = (n_points, n_neighbours) \n",
    "    print(d)\n",
    "    tmp = numpy.min(d, axis=-1)[0] \n",
    "    assert numpy.all(tmp == d[:,0]), \"tmp={0}, d={1}\".format(tmp, d[:,0]) \n",
    "    w = numpy.ones_like(d)\n",
    "    w[:,0]=0.0\n",
    "    return w\n",
    "\n",
    "kn_kargs = {\n",
    "    \"n_neighbors\": 5,\n",
    "    \"weights\": exclude_self\n",
    "}\n",
    "\n",
    "regressor = KNeighborsRegressor(**kn_kargs)"
   ]
  },
  {
   "cell_type": "code",
   "execution_count": 60,
   "metadata": {},
   "outputs": [
    {
     "name": "stdout",
     "output_type": "stream",
     "text": [
      "tensor(75) tensor(2) tensor(10) tensor(10)\n",
      "tensor(18) tensor(39) tensor(10) tensor(10)\n",
      "tensor(25) tensor(66) tensor(10) tensor(10)\n",
      "tensor(34) tensor(30) tensor(10) tensor(10)\n",
      "tensor(2) tensor(64) tensor(10) tensor(10)\n",
      "tensor(30) tensor(56) tensor(10) tensor(10)\n",
      "tensor(54) tensor(37) tensor(10) tensor(10)\n",
      "tensor(0) tensor(81) tensor(10) tensor(10)\n",
      "tensor(27) tensor(2) tensor(10) tensor(10)\n",
      "tensor(31) tensor(43) tensor(10) tensor(10)\n"
     ]
    }
   ],
   "source": [
    "w_all, h_all = 100, 100\n",
    "w_patch, h_patch = 10, 10\n",
    "n_max = 10\n",
    "patch_xywh = torch.randint(low=0, high=w_all-w_patch, size=[n_max, 4])\n",
    "patch_xywh[:, -2] = w_patch\n",
    "patch_xywh[:, -1] = h_patch\n",
    "\n",
    "patch_quantity = torch.randn((n_max, 5, w_patch, h_patch))\n",
    "tmp_distance = torch.ones((w_all, h_all), device=patch_quantity.device, dtype=torch.float) * 20\n",
    "tmp_result = torch.zeros((5, w_all, h_all), device=patch_quantity.device, dtype=torch.float)\n",
    "\n",
    "\n",
    "for n, xywh in enumerate(patch_xywh):\n",
    "    x, y, w, h = xywh.unbind(dim=0)\n",
    "    print(x,y,w,h)\n",
    "\n",
    "    dw_from_center = torch.linspace(start=-0.5*(w-1), end=0.5*(w-1), steps=w)\n",
    "    dh_from_center = torch.linspace(start=-0.5*(h-1), end=0.5*(h-1), steps=h)\n",
    "    d2_from_center = dw_from_center[:, None].pow(2) + dh_from_center[None, :].pow(2)\n",
    "\n",
    "    mask = (d2_from_center < tmp_distance[x:x+w, y:y+h])  # shape (w, h)\n",
    "    tmp_result[:, x:x+w, y:y+h] = torch.where(mask[None], patch_quantity[n], tmp_result[:, x:x+w, y:y+h])\n",
    "    tmp_distance[x:x+w, y:y+h] = torch.min(d2_from_center, tmp_distance[x:x+w, y:y+h])"
   ]
  },
  {
   "cell_type": "code",
   "execution_count": 61,
   "metadata": {},
   "outputs": [
    {
     "data": {
      "text/plain": [
       "<matplotlib.image.AxesImage at 0x7fd05bc813a0>"
      ]
     },
     "execution_count": 61,
     "metadata": {},
     "output_type": "execute_result"
    },
    {
     "data": {
      "image/png": "[encoded data removed]",
      "text/plain": [
       "<Figure size 432x288 with 1 Axes>"
      ]
     },
     "metadata": {
      "needs_background": "light"
     },
     "output_type": "display_data"
    }
   ],
   "source": [
    "plt.imshow(tmp_result[0])"
   ]
  },
  {
   "cell_type": "code",
   "execution_count": 62,
   "metadata": {},
   "outputs": [
    {
     "data": {
      "text/plain": [
       "<matplotlib.image.AxesImage at 0x7fd05bd5bd90>"
      ]
     },
     "execution_count": 62,
     "metadata": {},
     "output_type": "execute_result"
    },
    {
     "data": {
      "image/png": "[encoded data removed]",
      "text/plain": [
       "<Figure size 432x288 with 1 Axes>"
      ]
     },
     "metadata": {
      "needs_background": "light"
     },
     "output_type": "display_data"
    }
   ],
   "source": [
    "plt.imshow(tmp_distance)"
   ]
  },
  {
   "cell_type": "code",
   "execution_count": null,
   "metadata": {},
   "outputs": [],
   "source": [
    "tmp_result = torch.randn((5, 100, 100))\n",
    "\n",
    "tmp_result[:, x:x+w, y:y+h].flatten(start_dim=-2)[:, mask] = \\\n",
    "                        patch_quantity[n].flatten(start_dim=-2)[:,mask]"
   ]
  },
  {
   "cell_type": "code",
   "execution_count": 35,
   "metadata": {},
   "outputs": [
    {
     "data": {
      "text/plain": [
       "tensor([-3.0000, -2.3333, -1.6667, -1.0000, -0.3333,  0.3333,  1.0000,  1.6667,\n",
       "         2.3333,  3.0000])"
      ]
     },
     "execution_count": 35,
     "metadata": {},
     "output_type": "execute_result"
    }
   ],
   "source": [
    "torch.linspace(-3,3,10)\n"
   ]
  },
  {
   "cell_type": "code",
   "execution_count": 27,
   "metadata": {},
   "outputs": [
    {
     "data": {
      "text/plain": [
       "KNeighborsRegressor(weights=<function exclude_self at 0x7fd07a4ae3a0>)"
      ]
     },
     "execution_count": 27,
     "metadata": {},
     "output_type": "execute_result"
    }
   ],
   "source": [
    "regressor.fit(x,y)"
   ]
  },
  {
   "cell_type": "code",
   "execution_count": 34,
   "metadata": {},
   "outputs": [
    {
     "name": "stdout",
     "output_type": "stream",
     "text": [
      "tensor([[inf, inf, inf],\n",
      "        [inf, inf, inf],\n",
      "        [inf, inf, inf]])\n"
     ]
    },
    {
     "data": {
      "text/plain": [
       "tensor([[True, True, True],\n",
       "        [True, True, True],\n",
       "        [True, True, True]])"
      ]
     },
     "execution_count": 34,
     "metadata": {},
     "output_type": "execute_result"
    }
   ],
   "source": [
    "a = torch.ones((3,3)) * numpy.inf\n",
    "print(a)\n",
    "\n",
    "10000 < a\n"
   ]
  },
  {
   "cell_type": "code",
   "execution_count": 28,
   "metadata": {},
   "outputs": [
    {
     "name": "stdout",
     "output_type": "stream",
     "text": [
      "[[0.         4.28752887 4.41932297 4.65329916 4.80185778]\n",
      " [0.         3.54611138 3.5531324  4.61624805 4.80185778]\n",
      " [0.         4.22604413 4.91770288 4.98789605 5.13930451]\n",
      " [0.         3.50518923 3.5531324  3.9182447  4.16480538]\n",
      " [0.         4.20100774 4.77197032 5.20147306 5.23403244]\n",
      " [0.         3.54611138 3.9182447  4.15882571 4.41932297]\n",
      " [0.         3.50518923 4.28752887 4.3297504  4.61624805]\n",
      " [0.         4.20100774 4.3297504  5.22956589 5.5252451 ]\n",
      " [0.         4.94861078 5.16496873 5.66677126 5.8213438 ]\n",
      " [0.         4.15882571 4.16480538 4.22604413 4.77197032]]\n"
     ]
    },
    {
     "data": {
      "text/plain": [
       "array([-0.55025631, -0.3687872 , -0.35773011, -0.53919922, -0.20452013,\n",
       "       -0.63260911, -0.5119    , -0.65138387, -1.21035279, -0.37689243])"
      ]
     },
     "execution_count": 28,
     "metadata": {},
     "output_type": "execute_result"
    }
   ],
   "source": [
    "regressor.predict(x)"
   ]
  },
  {
   "cell_type": "code",
   "execution_count": 11,
   "metadata": {},
   "outputs": [
    {
     "data": {
      "text/plain": [
       "array([[0., 1., 1., 1., 1.],\n",
       "       [0., 1., 1., 1., 1.],\n",
       "       [0., 1., 1., 1., 1.],\n",
       "       [0., 1., 1., 1., 1.],\n",
       "       [0., 1., 1., 1., 1.],\n",
       "       [0., 1., 1., 1., 1.],\n",
       "       [0., 1., 1., 1., 1.],\n",
       "       [0., 1., 1., 1., 1.],\n",
       "       [0., 1., 1., 1., 1.],\n",
       "       [0., 1., 1., 1., 1.]])"
      ]
     },
     "execution_count": 11,
     "metadata": {},
     "output_type": "execute_result"
    }
   ],
   "source": [
    "w"
   ]
  },
  {
   "cell_type": "code",
   "execution_count": null,
   "metadata": {},
   "outputs": [],
   "source": []
  }
 ],
 "metadata": {
  "kernelspec": {
   "display_name": "pyro",
   "language": "python",
   "name": "pyro"
  },
  "language_info": {
   "codemirror_mode": {
    "name": "ipython",
    "version": 3
   },
   "file_extension": ".py",
   "mimetype": "text/x-python",
   "name": "python",
   "nbconvert_exporter": "python",
   "pygments_lexer": "ipython3",
   "version": "3.8.8"
  }
 },
 "nbformat": 4,
 "nbformat_minor": 4
}
