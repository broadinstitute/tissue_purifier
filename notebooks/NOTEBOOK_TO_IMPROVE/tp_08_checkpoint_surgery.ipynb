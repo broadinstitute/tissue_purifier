{
 "cells": [
  {
   "cell_type": "markdown",
   "id": "operating-fight",
   "metadata": {},
   "source": [
    "# Checkpoint surgery"
   ]
  },
  {
   "cell_type": "code",
   "execution_count": 1,
   "id": "detected-ferry",
   "metadata": {},
   "outputs": [],
   "source": [
    "import sys\n",
    "import os\n",
    "\n",
    "root_path = os.path.dirname(os.getcwd())\n",
    "src_path = os.path.join(root_path, \"src\")\n",
    "sys.path.insert(0, src_path)"
   ]
  },
  {
   "cell_type": "code",
   "execution_count": 2,
   "id": "theoretical-papua",
   "metadata": {},
   "outputs": [],
   "source": [
    "import torch\n",
    "new_ckpt = torch.load(\"ckpt-403.pt\", map_location=torch.device('cpu'))"
   ]
  },
  {
   "cell_type": "code",
   "execution_count": 3,
   "id": "speaking-baghdad",
   "metadata": {},
   "outputs": [],
   "source": [
    "state_dict_old = torch.load(\"OLD_model_NEW_transform_2000EPOCH.pth\")"
   ]
  },
  {
   "cell_type": "code",
   "execution_count": 12,
   "id": "changed-month",
   "metadata": {},
   "outputs": [],
   "source": [
    "#state_dict_new = new_ckpt[\"state_dict\"]\n",
    "#torch.save(state_dict_old,\"state_dict_old.pt\")\n",
    "#torch.save(state_dict_new,\"state_dict_new.pt\")"
   ]
  },
  {
   "cell_type": "code",
   "execution_count": 5,
   "id": "equivalent-joyce",
   "metadata": {},
   "outputs": [],
   "source": [
    "old_keys = state_dict_old.keys()\n",
    "new_keys = new_ckpt[\"state_dict\"].keys()"
   ]
  },
  {
   "cell_type": "code",
   "execution_count": 6,
   "id": "dressed-revision",
   "metadata": {},
   "outputs": [
    {
     "name": "stdout",
     "output_type": "stream",
     "text": [
      "{'backbone.7.0.bn2.running_mean', 'backbone.4.0.conv2.weight', 'backbone.5.1.bn1.running_var', 'backbone.4.0.bn2.bias', 'backbone.4.0.bn1.running_var', 'backbone.6.0.bn1.num_batches_tracked', 'backbone.7.0.downsample.1.running_mean', 'backbone.6.1.bn2.num_batches_tracked', 'backbone.1.running_var', 'backbone.7.1.bn2.running_var', 'backbone.7.1.bn1.weight', 'backbone.5.0.downsample.1.bias', 'backbone.5.0.bn2.running_var', 'backbone.4.0.bn1.num_batches_tracked', 'backbone.5.0.bn2.num_batches_tracked', 'backbone.4.1.bn1.weight', 'backbone.7.1.conv2.weight', 'backbone.7.0.bn2.running_var', 'backbone.5.0.bn1.bias', 'backbone.6.1.bn1.num_batches_tracked', 'backbone.7.0.bn2.weight', 'backbone.7.0.bn1.bias', 'backbone.7.1.bn1.bias', 'backbone.5.1.conv2.weight', 'backbone.6.1.bn1.bias', 'backbone.4.0.bn2.num_batches_tracked', 'backbone.5.0.conv1.weight', 'backbone.6.0.bn2.num_batches_tracked', 'backbone.6.0.downsample.1.running_mean', 'backbone.7.1.bn1.num_batches_tracked', 'backbone.5.0.bn1.running_var', 'backbone.9.weight', 'backbone.4.1.conv2.weight', 'backbone.5.1.bn2.running_var', 'backbone.7.1.conv1.weight', 'backbone.7.0.bn1.num_batches_tracked', 'backbone.9.bias', 'backbone.7.1.bn2.bias', 'backbone.5.0.bn2.running_mean', 'backbone.6.1.conv1.weight', 'backbone.7.1.bn2.weight', 'backbone.5.0.conv2.weight', 'backbone.4.1.bn2.weight', 'backbone.6.0.conv1.weight', 'backbone.6.0.downsample.1.num_batches_tracked', 'backbone.5.1.bn1.weight', 'backbone.4.1.bn1.num_batches_tracked', 'backbone.6.0.bn2.running_var', 'backbone.6.1.bn2.running_mean', 'backbone.1.running_mean', 'backbone.7.0.conv2.weight', 'backbone.1.weight', 'backbone.6.1.bn1.running_var', 'backbone.7.0.downsample.0.weight', 'backbone.1.bias', 'backbone.6.0.bn2.running_mean', 'backbone.4.1.conv1.weight', 'backbone.5.0.downsample.0.weight', 'backbone.5.0.downsample.1.num_batches_tracked', 'backbone.7.0.bn2.bias', 'backbone.5.1.bn1.bias', 'backbone.6.0.bn2.weight', 'backbone.6.1.bn1.weight', 'backbone.4.1.bn2.running_var', 'backbone.5.0.bn1.num_batches_tracked', 'backbone.5.0.downsample.1.running_mean', 'backbone.6.0.downsample.1.weight', 'backbone.6.0.bn2.bias', 'backbone.7.0.downsample.1.running_var', 'backbone.4.1.bn1.running_var', 'backbone.5.1.bn2.bias', 'backbone.5.0.bn2.bias', 'backbone.4.1.bn1.bias', 'backbone.5.0.bn1.weight', 'backbone.4.0.bn1.weight', 'backbone.6.0.bn1.bias', 'backbone.7.0.downsample.1.bias', 'backbone.0.weight', 'backbone.5.1.bn2.num_batches_tracked', 'backbone.4.0.bn1.running_mean', 'backbone.1.num_batches_tracked', 'backbone.7.0.bn1.running_mean', 'backbone.7.1.bn1.running_var', 'backbone.4.1.bn2.bias', 'backbone.6.1.bn2.running_var', 'backbone.4.1.bn2.num_batches_tracked', 'backbone.6.1.bn2.bias', 'backbone.6.0.downsample.1.bias', 'backbone.5.1.bn1.num_batches_tracked', 'backbone.7.1.bn1.running_mean', 'backbone.4.1.bn1.running_mean', 'backbone.6.1.bn2.weight', 'backbone.6.0.bn1.running_var', 'backbone.5.1.bn2.running_mean', 'backbone.7.0.bn1.running_var', 'backbone.6.0.bn1.weight', 'backbone.4.1.bn2.running_mean', 'backbone.6.0.bn1.running_mean', 'backbone.7.0.conv1.weight', 'backbone.5.1.bn2.weight', 'backbone.5.1.bn1.running_mean', 'backbone.6.1.bn1.running_mean', 'backbone.5.0.downsample.1.weight', 'backbone.7.0.downsample.1.num_batches_tracked', 'backbone.6.0.downsample.1.running_var', 'backbone.7.0.bn1.weight', 'backbone.4.0.conv1.weight', 'backbone.6.0.downsample.0.weight', 'backbone.7.1.bn2.num_batches_tracked', 'backbone.4.0.bn2.running_mean', 'backbone.4.0.bn2.running_var', 'backbone.4.0.bn2.weight', 'backbone.7.1.bn2.running_mean', 'backbone.5.0.downsample.1.running_var', 'backbone.7.0.bn2.num_batches_tracked', 'backbone.4.0.bn1.bias', 'backbone.5.0.bn2.weight', 'backbone.5.1.conv1.weight', 'backbone.5.0.bn1.running_mean', 'backbone.6.1.conv2.weight', 'backbone.6.0.conv2.weight', 'backbone.7.0.downsample.1.weight'}\n"
     ]
    }
   ],
   "source": [
    "key_intersection = set(old_keys) & set(new_keys)\n",
    "print(key_intersection)"
   ]
  },
  {
   "cell_type": "code",
   "execution_count": 7,
   "id": "bottom-franchise",
   "metadata": {},
   "outputs": [
    {
     "name": "stdout",
     "output_type": "stream",
     "text": [
      "{'projection_head.0.bias', 'projection_head.2.bias', 'projection_head.0.weight', 'projection_head.2.weight'}\n",
      "{'projection.head.0.bias', 'projection.head.2.weight', 'projection.head.0.weight', 'projection.head.2.bias'}\n"
     ]
    }
   ],
   "source": [
    "key_not_matching_old = set(old_keys) - key_intersection\n",
    "key_not_matching_new = set(new_keys) - key_intersection\n",
    "\n",
    "print(key_not_matching_old)\n",
    "print(key_not_matching_new)"
   ]
  },
  {
   "cell_type": "code",
   "execution_count": 8,
   "id": "solar-emphasis",
   "metadata": {},
   "outputs": [],
   "source": [
    "import copy\n",
    "\n",
    "conversion_new2old = {\n",
    "    'projection.head.0.weight': 'projection_head.0.weight',\n",
    "    'projection.head.2.weight': 'projection_head.2.weight',\n",
    "    'projection.head.0.bias': 'projection_head.0.bias',\n",
    "    'projection.head.2.bias': 'projection_head.2.bias',\n",
    "}\n",
    "\n",
    "surgery_ckpt = copy.deepcopy(new_ckpt)\n",
    "surgery_ckpt['neptune_experiment_id'] = 'TIS-405'"
   ]
  },
  {
   "cell_type": "code",
   "execution_count": 10,
   "id": "instant-amateur",
   "metadata": {},
   "outputs": [],
   "source": [
    "for key,v in surgery_ckpt[\"state_dict\"].items():\n",
    "    try:\n",
    "        surgery_ckpt[\"state_dict\"][key] = state_dict_old[key]\n",
    "    except KeyError:\n",
    "        surgery_ckpt[\"state_dict\"][key] = state_dict_old[conversion_new2old[key]]\n"
   ]
  },
  {
   "cell_type": "code",
   "execution_count": 11,
   "id": "extraordinary-portsmouth",
   "metadata": {},
   "outputs": [],
   "source": [
    "torch.save(surgery_ckpt,\"ckpt-TIS-405.pt\")"
   ]
  }
 ],
 "metadata": {
  "environment": {
   "name": "pytorch-gpu.1-7.m65",
   "type": "gcloud",
   "uri": "gcr.io/deeplearning-platform-release/pytorch-gpu.1-7:m65"
  },
  "kernelspec": {
   "display_name": "Python 3",
   "language": "python",
   "name": "python3"
  },
  "language_info": {
   "codemirror_mode": {
    "name": "ipython",
    "version": 3
   },
   "file_extension": ".py",
   "mimetype": "text/x-python",
   "name": "python",
   "nbconvert_exporter": "python",
   "pygments_lexer": "ipython3",
   "version": "3.7.10"
  }
 },
 "nbformat": 4,
 "nbformat_minor": 5
}
