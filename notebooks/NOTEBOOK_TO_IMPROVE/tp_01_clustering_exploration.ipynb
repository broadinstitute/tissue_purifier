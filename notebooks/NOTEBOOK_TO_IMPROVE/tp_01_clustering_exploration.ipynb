{
 "cells": [
  {
   "cell_type": "markdown",
   "id": "conservative-career",
   "metadata": {},
   "source": [
    "# Unsupervised Clustering "
   ]
  },
  {
   "cell_type": "markdown",
   "id": "polyphonic-bahrain",
   "metadata": {},
   "source": [
    "### Add the src folder to the path"
   ]
  },
  {
   "cell_type": "code",
   "execution_count": 1,
   "id": "ceramic-cinema",
   "metadata": {},
   "outputs": [],
   "source": [
    "import sys\n",
    "import os\n",
    "\n",
    "root_path = os.path.dirname(os.getcwd())\n",
    "src_path = os.path.join(root_path, \"src\")\n",
    "sys.path.insert(0, src_path)"
   ]
  },
  {
   "cell_type": "code",
   "execution_count": 2,
   "id": "armed-closing",
   "metadata": {},
   "outputs": [],
   "source": [
    "%load_ext autoreload\n",
    "%autoreload 2"
   ]
  },
  {
   "cell_type": "markdown",
   "id": "chronic-jacksonville",
   "metadata": {},
   "source": [
    "## Common imports"
   ]
  },
  {
   "cell_type": "code",
   "execution_count": 3,
   "id": "cathedral-texas",
   "metadata": {},
   "outputs": [],
   "source": [
    "%matplotlib inline\n",
    "from matplotlib import pyplot as plt\n",
    "import torch\n",
    "import numpy\n",
    "from tissue_purifier.plot_utils.plot_results import plot_all_maps, plot_embeddings\n",
    "from tissue_purifier.evaluation_utils.embeddings import get_z_score, get_pca, get_umap\n",
    "from torch.nn import functional as F\n",
    "\n",
    "from sklearn.model_selection import train_test_split\n",
    "from sklearn.neural_network import MLPRegressor, MLPClassifier\n",
    "from sklearn.metrics import confusion_matrix, ConfusionMatrixDisplay"
   ]
  },
  {
   "cell_type": "markdown",
   "id": "czech-jenny",
   "metadata": {},
   "source": [
    "### Read prediction from file"
   ]
  },
  {
   "cell_type": "code",
   "execution_count": 9,
   "id": "objective-tuesday",
   "metadata": {},
   "outputs": [
    {
     "name": "stdout",
     "output_type": "stream",
     "text": [
      "metadata <class 'list'> 2400\n",
      "features_student_bbone <class 'torch.Tensor'> torch.Size([2400, 32])\n",
      "features_teacher_bbone <class 'torch.Tensor'> torch.Size([2400, 32])\n",
      "features_student_head <class 'torch.Tensor'> torch.Size([2400, 32])\n",
      "features_teacher_head <class 'torch.Tensor'> torch.Size([2400, 32])\n",
      "classify_tissue_label <class 'torch.Tensor'> torch.Size([2400])\n",
      "classify_healthy_sick <class 'torch.Tensor'> torch.Size([2400])\n",
      "regress_moran <class 'torch.Tensor'> torch.Size([2400])\n",
      "regress_loc_x <class 'torch.Tensor'> torch.Size([2400])\n"
     ]
    }
   ],
   "source": [
    "prediction_file = 'prediction_dict_loader0_TIS_728.pt'\n",
    "\n",
    "predictions = torch.load(prediction_file)\n",
    "\n",
    "for k,v in predictions.items():\n",
    "    if isinstance(v, torch.Tensor):\n",
    "        print(k, type(v), v.shape)\n",
    "    elif isinstance(v, list):\n",
    "        print(k, type(v), len(v))\n",
    "    else:\n",
    "        print(k, type(v))"
   ]
  },
  {
   "cell_type": "code",
   "execution_count": 10,
   "id": "express-palmer",
   "metadata": {},
   "outputs": [],
   "source": [
    "f_names = [metadata.f_name for metadata in predictions['metadata']]\n",
    "morans = [metadata.moran for metadata in predictions['metadata']]"
   ]
  },
  {
   "cell_type": "markdown",
   "id": "bored-playing",
   "metadata": {},
   "source": [
    "### UMAP and CLUSTERING"
   ]
  },
  {
   "cell_type": "code",
   "execution_count": 53,
   "id": "prescribed-characteristic",
   "metadata": {},
   "outputs": [],
   "source": [
    "import igraph as ig\n",
    "import leidenalg\n",
    "import umap \n",
    "from sklearn.neighbors import kneighbors_graph\n",
    "import scipy\n",
    "\n",
    "f_names.append(f_names[-1])\n",
    "morans.append(morans[-1])\n",
    "tmp = torch.cat((predictions['features_student_bbone'], predictions['features_student_bbone'][-1:]), dim=0)\n",
    "\n",
    "features = get_pca(tmp, n_components=50, z_score=True)\n",
    "embeddings_pca = get_pca(tmp, n_components=2, z_score=True)\n",
    "\n",
    "UMAP = umap.UMAP(\n",
    "     spread=2.0,\n",
    "     n_components=2,\n",
    "     n_neighbors=15,\n",
    "     metric=\"euclidean\",\n",
    "     random_state=0)\n",
    "embeddings_umap = UMAP.fit_transform(features)\n",
    "umap_graph = UMAP.graph_  # this is a symmetric matrix\n",
    "\n",
    "def make_graph(umap_graph, normalized: bool = False):\n",
    "    g = ig.Graph(directed=False)\n",
    "    g.add_vertices(umap_graph.shape[0])  # each observation is a node\n",
    "    row_index, col_index = umap_graph.nonzero()\n",
    "    if normalized:\n",
    "        degree = umap_graph.sum(axis=-1).getA().flatten()\n",
    "        degree_sqrt = numpy.sqrt(degree)\n",
    "        weights = umap_graph.data / (degree_sqrt[row_index] * degree_sqrt[col_index])\n",
    "    else:\n",
    "        weights = umap_graph.data\n",
    "    edges = list(zip(row_index, col_index))\n",
    "    g.add_edges(edges)\n",
    "    g.es['weight'] = weights\n",
    "    return g\n",
    "\n",
    "def find_partition(g, partition_type, resolution_parameter):\n",
    "    partition_kwargs = dict(resolution_parameter=resolution_parameter)\n",
    "    part = leidenalg.find_partition(g, partition_type, n_iterations=-1, **partition_kwargs)\n",
    "    cluster_labels = numpy.array(part.membership)\n",
    "    return cluster_labels\n",
    "\n",
    "def make_graph_merhtash(features, n_neighbors):\n",
    "    # build the k-NN connecitivity graph\n",
    "    a_nn = kneighbors_graph(\n",
    "        features,\n",
    "        n_neighbors,\n",
    "        mode='connectivity',\n",
    "        include_self=False)\n",
    "\n",
    "    # calculate similarity weights\n",
    "    sources_e, targets_e = a_nn.nonzero()\n",
    "    dist_mat_e = numpy.linalg.norm(features[sources_e] - features[targets_e], axis=-1)\n",
    "    weights_e = 1. - dist_mat_e / numpy.max(dist_mat_e)\n",
    "    \n",
    "    # make graph\n",
    "    w_nn = scipy.sparse.coo_matrix((weights_e, (sources_e, targets_e)), shape=a_nn.shape)\n",
    "    degree_n = numpy.asarray(w_nn.sum(-1)).flatten()\n",
    "    normed_weights_e = weights_e / numpy.sqrt(degree_n[sources_e] * degree_n[targets_e])\n",
    "\n",
    "    # build a graph object\n",
    "    g = ig.Graph(directed=False)\n",
    "    g.add_vertices(a_nn.shape[0])  # each observation is a node\n",
    "    edges = list(zip(sources_e, targets_e))\n",
    "    g.add_edges(edges)\n",
    "    g.es['weight'] = normed_weights_e\n",
    "    return g\n",
    "\n",
    "def similarity_graph_to_distance_graph(sim_graph):\n",
    "    sources, targets = sim_graph.nonzero()\n",
    "    similarity = sim_graph.data\n",
    "    distance = numpy.exp(1.0-similarity) - 1.0\n",
    "    return scipy.sparse.coo_matrix((distance, (sources, targets)), shape=sim_graph.shape)"
   ]
  },
  {
   "cell_type": "code",
   "execution_count": 58,
   "id": "aging-auction",
   "metadata": {},
   "outputs": [
    {
     "name": "stderr",
     "output_type": "stream",
     "text": [
      "/Users/ldalessi/anaconda3/envs/pyro/lib/python3.8/site-packages/sklearn/neighbors/_base.py:175: EfficiencyWarning: Precomputed sparse input was not sorted by data.\n",
      "  warnings.warn('Precomputed sparse input was not sorted by data.',\n"
     ]
    }
   ],
   "source": [
    "dist_graph = similarity_graph_to_distance_graph(umap_graph)\n",
    "\n",
    "from sklearn.cluster import DBSCAN\n",
    "dbscan = DBSCAN(eps=0.65, min_samples=5, metric='precomputed')\n",
    "clusters = dbscan.fit_predict(dist_graph)"
   ]
  },
  {
   "cell_type": "code",
   "execution_count": 60,
   "id": "warming-richmond",
   "metadata": {},
   "outputs": [
    {
     "data": {
      "image/png": "[encoded data removed]",
      "text/plain": [
       "<Figure size 1000x1000 with 1 Axes>"
      ]
     },
     "execution_count": 60,
     "metadata": {},
     "output_type": "execute_result"
    }
   ],
   "source": [
    "clusters_fig = plot_embeddings(\n",
    "                embeddings_umap,\n",
    "                x_label=\"umap1\",\n",
    "                y_label=\"umap2\",\n",
    "                title=\"DBSCAN\",\n",
    "                labels=clusters,\n",
    "                size=10,\n",
    "                figsize=(10,10),\n",
    "                cmap=plt.cm.tab10,\n",
    "                legend=True,\n",
    "            )\n",
    "clusters_fig"
   ]
  },
  {
   "cell_type": "code",
   "execution_count": 38,
   "id": "fewer-broadway",
   "metadata": {},
   "outputs": [
    {
     "data": {
      "image/png": "[encoded data removed]",
      "text/plain": [
       "<Figure size 800x550 with 1 Axes>"
      ]
     },
     "metadata": {},
     "output_type": "display_data"
    }
   ],
   "source": [
    "_ = plt.hist(dist_graph.data, bins=50)"
   ]
  },
  {
   "cell_type": "code",
   "execution_count": 39,
   "id": "scenic-messaging",
   "metadata": {},
   "outputs": [
    {
     "data": {
      "image/png": "[encoded data removed]",
      "text/plain": [
       "<Figure size 800x550 with 1 Axes>"
      ]
     },
     "metadata": {},
     "output_type": "display_data"
    }
   ],
   "source": [
    "_ = plt.hist(umap_graph.data, bins=50)"
   ]
  },
  {
   "cell_type": "code",
   "execution_count": null,
   "id": "dimensional-replica",
   "metadata": {},
   "outputs": [],
   "source": [
    "sources_s, targets_s = umap_graph.nonzero()\n",
    "\n",
    "\n",
    "distance =  scipy.sparse.coo_matrix((weights_e, (sources_e, targets_e)), shape=a_nn.shape)"
   ]
  },
  {
   "cell_type": "code",
   "execution_count": null,
   "id": "incoming-touch",
   "metadata": {},
   "outputs": [],
   "source": [
    "distances = numpy.exp(-umap_graph)"
   ]
  },
  {
   "cell_type": "code",
   "execution_count": 18,
   "id": "driven-thanks",
   "metadata": {},
   "outputs": [
    {
     "data": {
      "text/plain": [
       "array([0.16976678, 0.16992868, 0.9908673 , 0.16567463, 0.12475271,\n",
       "       0.10893857, 0.43478936, 0.16967313, 0.28849345, 1.        ,\n",
       "       0.1302837 , 0.11207185, 0.12580977, 0.17106268], dtype=float32)"
      ]
     },
     "execution_count": 18,
     "metadata": {},
     "output_type": "execute_result"
    }
   ],
   "source": [
    "umap_graph[0].data"
   ]
  },
  {
   "cell_type": "code",
   "execution_count": 19,
   "id": "returning-painting",
   "metadata": {},
   "outputs": [
    {
     "data": {
      "text/plain": [
       "(array([ 414.,  882., 1462., 1866., 2394., 2848., 2842., 2664., 2442.,\n",
       "        2062., 1646., 1510., 1326., 1224., 1150., 1176., 1008.,  900.,\n",
       "         888.,  796.,  686.,  674.,  638.,  592.,  518.,  506.,  404.,\n",
       "         452.,  360.,  334.,  318.,  280.,  332.,  264.,  252.,  224.,\n",
       "         242.,  248.,  220.,  182.,  188.,  170.,  152.,  136.,  138.,\n",
       "         144.,  134.,  148.,  138., 3770.]),\n",
       " array([1.73048818e-06, 2.00016964e-02, 4.00016606e-02, 6.00016266e-02,\n",
       "        8.00015926e-02, 1.00001559e-01, 1.20001525e-01, 1.40001491e-01,\n",
       "        1.60001457e-01, 1.80001423e-01, 2.00001389e-01, 2.20001355e-01,\n",
       "        2.40001321e-01, 2.60001272e-01, 2.80001253e-01, 3.00001204e-01,\n",
       "        3.20001185e-01, 3.40001136e-01, 3.60001117e-01, 3.80001068e-01,\n",
       "        4.00001049e-01, 4.20001000e-01, 4.40000981e-01, 4.60000932e-01,\n",
       "        4.80000913e-01, 5.00000894e-01, 5.20000815e-01, 5.40000796e-01,\n",
       "        5.60000777e-01, 5.80000699e-01, 6.00000679e-01, 6.20000660e-01,\n",
       "        6.40000641e-01, 6.60000563e-01, 6.80000544e-01, 7.00000525e-01,\n",
       "        7.20000505e-01, 7.40000427e-01, 7.60000408e-01, 7.80000389e-01,\n",
       "        8.00000370e-01, 8.20000291e-01, 8.40000272e-01, 8.60000253e-01,\n",
       "        8.80000234e-01, 9.00000155e-01, 9.20000136e-01, 9.40000117e-01,\n",
       "        9.60000098e-01, 9.80000019e-01, 1.00000000e+00], dtype=float32),\n",
       " <a list of 50 Patch objects>)"
      ]
     },
     "execution_count": 19,
     "metadata": {},
     "output_type": "execute_result"
    },
    {
     "data": {
      "image/png": "[encoded data removed]",
      "text/plain": [
       "<Figure size 800x550 with 1 Axes>"
      ]
     },
     "metadata": {},
     "output_type": "display_data"
    }
   ],
   "source": [
    "plt.hist(umap_graph.data.flatten(), bins=50)"
   ]
  },
  {
   "cell_type": "code",
   "execution_count": 20,
   "id": "charged-phoenix",
   "metadata": {},
   "outputs": [
    {
     "name": "stderr",
     "output_type": "stream",
     "text": [
      "/Users/ldalessi/anaconda3/envs/pyro/lib/python3.8/site-packages/sklearn/neighbors/_base.py:175: EfficiencyWarning: Precomputed sparse input was not sorted by data.\n",
      "  warnings.warn('Precomputed sparse input was not sorted by data.',\n"
     ]
    },
    {
     "data": {
      "text/plain": [
       "(array([   0.,    0.,    0.,    0.,    0.,    0.,    0.,    0.,    0.,\n",
       "           0., 2400.,    0.,    0.,    0.,    0.,    0.,    0.,    0.,\n",
       "           0.,    0.]),\n",
       " array([-0.5 , -0.45, -0.4 , -0.35, -0.3 , -0.25, -0.2 , -0.15, -0.1 ,\n",
       "        -0.05,  0.  ,  0.05,  0.1 ,  0.15,  0.2 ,  0.25,  0.3 ,  0.35,\n",
       "         0.4 ,  0.45,  0.5 ]),\n",
       " <a list of 20 Patch objects>)"
      ]
     },
     "execution_count": 20,
     "metadata": {},
     "output_type": "execute_result"
    },
    {
     "data": {
      "image/png": "[encoded data removed]",
      "text/plain": [
       "<Figure size 800x550 with 1 Axes>"
      ]
     },
     "metadata": {},
     "output_type": "display_data"
    }
   ],
   "source": []
  },
  {
   "cell_type": "code",
   "execution_count": null,
   "id": "verbal-zoning",
   "metadata": {},
   "outputs": [],
   "source": [
    "clustering"
   ]
  },
  {
   "cell_type": "code",
   "execution_count": null,
   "id": "cheap-johns",
   "metadata": {},
   "outputs": [],
   "source": [
    "umap_graph"
   ]
  },
  {
   "cell_type": "markdown",
   "id": "bronze-bottom",
   "metadata": {},
   "source": [
    "# Logger"
   ]
  },
  {
   "cell_type": "code",
   "execution_count": null,
   "id": "opened-thickness",
   "metadata": {},
   "outputs": [],
   "source": [
    "env_vars = !cat ~/.bash_profile | grep NEPTUNE_API_TOKEN \n",
    "NEPTUNE_API_TOKEN = str(env_vars[0].split('\\\"')[1])"
   ]
  },
  {
   "cell_type": "code",
   "execution_count": null,
   "id": "artificial-peoples",
   "metadata": {},
   "outputs": [],
   "source": [
    "import neptune.new as neptune\n",
    "NEPTUNE_PROJECT = \"cellarium/tissue-purifier\"\n",
    "\n",
    "exp: neptune.run.Run = neptune.init(project=NEPTUNE_PROJECT,\n",
    "                                    api_token=NEPTUNE_API_TOKEN,\n",
    "                                    mode=\"async\",\n",
    "                                    tags=[\"clustering\"])"
   ]
  },
  {
   "cell_type": "code",
   "execution_count": null,
   "id": "preliminary-lighter",
   "metadata": {},
   "outputs": [],
   "source": [
    "partitions = [leidenalg.CPMVertexPartition, leidenalg.RBConfigurationVertexPartition]\n",
    "normalizations = [True, False]\n",
    "resolution_parameters = [0.1, 1.0, 10.0]\n",
    "\n",
    "for p_type in partitions:\n",
    "    for norm in normalizations:\n",
    "        for r in resolution_parameters:\n",
    "            graph = make_graph(umap_graph, normalized=norm)\n",
    "            clusters = find_partition(graph, partition_type = p_type, resolution_parameter = r)\n",
    "\n",
    "            clusters_fig = plot_embeddings(\n",
    "                embeddings_umap,\n",
    "                x_label=\"umap1\",\n",
    "                y_label=\"umap2\",\n",
    "                title=str(p_type)+\"_\"+str(norm)+\"_\"+str(r),\n",
    "                labels=clusters,\n",
    "                size=10,\n",
    "                figsize=(10,10),\n",
    "                cmap=plt.cm.tab10,\n",
    "                legend=False,\n",
    "            )\n",
    "            exp[\"clusters\"].log(neptune.types.File.as_image(clusters_fig))\n",
    "        "
   ]
  },
  {
   "cell_type": "code",
   "execution_count": null,
   "id": "tested-german",
   "metadata": {},
   "outputs": [],
   "source": [
    "exp.stop()"
   ]
  },
  {
   "cell_type": "markdown",
   "id": "independent-territory",
   "metadata": {},
   "source": [
    "## Compare anndata"
   ]
  },
  {
   "cell_type": "code",
   "execution_count": 61,
   "id": "infectious-chassis",
   "metadata": {},
   "outputs": [
    {
     "name": "stderr",
     "output_type": "stream",
     "text": [
      "/Users/ldalessi/anaconda3/envs/pyro/lib/python3.8/site-packages/anndata/_core/anndata.py:120: ImplicitModificationWarning: Transforming to str index.\n",
      "  warnings.warn(\"Transforming to str index.\", ImplicitModificationWarning)\n"
     ]
    },
    {
     "ename": "ValueError",
     "evalue": "Observations annot. `obs` must have number of rows of `X` (2401), but has 2402 rows.",
     "output_type": "error",
     "traceback": [
      "\u001b[0;31m---------------------------------------------------------------------------\u001b[0m",
      "\u001b[0;31mValueError\u001b[0m                                Traceback (most recent call last)",
      "\u001b[0;32m<ipython-input-61-b9c1aae4a6e5>\u001b[0m in \u001b[0;36m<module>\u001b[0;34m\u001b[0m\n\u001b[1;32m      9\u001b[0m \u001b[0mdf\u001b[0m \u001b[0;34m=\u001b[0m \u001b[0mpd\u001b[0m\u001b[0;34m.\u001b[0m\u001b[0mDataFrame\u001b[0m\u001b[0;34m(\u001b[0m\u001b[0mtmp_dict\u001b[0m\u001b[0;34m)\u001b[0m\u001b[0;34m\u001b[0m\u001b[0;34m\u001b[0m\u001b[0m\n\u001b[1;32m     10\u001b[0m \u001b[0;34m\u001b[0m\u001b[0m\n\u001b[0;32m---> 11\u001b[0;31m \u001b[0madata\u001b[0m \u001b[0;34m=\u001b[0m \u001b[0msc\u001b[0m\u001b[0;34m.\u001b[0m\u001b[0mAnnData\u001b[0m\u001b[0;34m(\u001b[0m\u001b[0mX\u001b[0m\u001b[0;34m=\u001b[0m\u001b[0mfeatures\u001b[0m\u001b[0;34m,\u001b[0m \u001b[0mobs\u001b[0m\u001b[0;34m=\u001b[0m\u001b[0mdf\u001b[0m\u001b[0;34m)\u001b[0m\u001b[0;34m\u001b[0m\u001b[0;34m\u001b[0m\u001b[0m\n\u001b[0m\u001b[1;32m     12\u001b[0m \u001b[0madata\u001b[0m\u001b[0;34m.\u001b[0m\u001b[0mobsm\u001b[0m\u001b[0;34m[\u001b[0m\u001b[0;34m'X_raw'\u001b[0m\u001b[0;34m]\u001b[0m \u001b[0;34m=\u001b[0m \u001b[0mfeatures\u001b[0m\u001b[0;34m\u001b[0m\u001b[0;34m\u001b[0m\u001b[0m\n",
      "\u001b[0;32m~/anaconda3/envs/pyro/lib/python3.8/site-packages/anndata/_core/anndata.py\u001b[0m in \u001b[0;36m__init__\u001b[0;34m(self, X, obs, var, uns, obsm, varm, layers, raw, dtype, shape, filename, filemode, asview, obsp, varp, oidx, vidx)\u001b[0m\n\u001b[1;32m    306\u001b[0m             \u001b[0mself\u001b[0m\u001b[0;34m.\u001b[0m\u001b[0m_init_as_view\u001b[0m\u001b[0;34m(\u001b[0m\u001b[0mX\u001b[0m\u001b[0;34m,\u001b[0m \u001b[0moidx\u001b[0m\u001b[0;34m,\u001b[0m \u001b[0mvidx\u001b[0m\u001b[0;34m)\u001b[0m\u001b[0;34m\u001b[0m\u001b[0;34m\u001b[0m\u001b[0m\n\u001b[1;32m    307\u001b[0m         \u001b[0;32melse\u001b[0m\u001b[0;34m:\u001b[0m\u001b[0;34m\u001b[0m\u001b[0;34m\u001b[0m\u001b[0m\n\u001b[0;32m--> 308\u001b[0;31m             self._init_as_actual(\n\u001b[0m\u001b[1;32m    309\u001b[0m                 \u001b[0mX\u001b[0m\u001b[0;34m=\u001b[0m\u001b[0mX\u001b[0m\u001b[0;34m,\u001b[0m\u001b[0;34m\u001b[0m\u001b[0;34m\u001b[0m\u001b[0m\n\u001b[1;32m    310\u001b[0m                 \u001b[0mobs\u001b[0m\u001b[0;34m=\u001b[0m\u001b[0mobs\u001b[0m\u001b[0;34m,\u001b[0m\u001b[0;34m\u001b[0m\u001b[0;34m\u001b[0m\u001b[0m\n",
      "\u001b[0;32m~/anaconda3/envs/pyro/lib/python3.8/site-packages/anndata/_core/anndata.py\u001b[0m in \u001b[0;36m_init_as_actual\u001b[0;34m(self, X, obs, var, uns, obsm, varm, varp, obsp, raw, layers, dtype, shape, filename, filemode)\u001b[0m\n\u001b[1;32m    517\u001b[0m         \u001b[0m_move_adj_mtx\u001b[0m\u001b[0;34m(\u001b[0m\u001b[0;34m{\u001b[0m\u001b[0;34m\"uns\"\u001b[0m\u001b[0;34m:\u001b[0m \u001b[0mself\u001b[0m\u001b[0;34m.\u001b[0m\u001b[0m_uns\u001b[0m\u001b[0;34m,\u001b[0m \u001b[0;34m\"obsp\"\u001b[0m\u001b[0;34m:\u001b[0m \u001b[0mself\u001b[0m\u001b[0;34m.\u001b[0m\u001b[0m_obsp\u001b[0m\u001b[0;34m}\u001b[0m\u001b[0;34m)\u001b[0m\u001b[0;34m\u001b[0m\u001b[0;34m\u001b[0m\u001b[0m\n\u001b[1;32m    518\u001b[0m \u001b[0;34m\u001b[0m\u001b[0m\n\u001b[0;32m--> 519\u001b[0;31m         \u001b[0mself\u001b[0m\u001b[0;34m.\u001b[0m\u001b[0m_check_dimensions\u001b[0m\u001b[0;34m(\u001b[0m\u001b[0;34m)\u001b[0m\u001b[0;34m\u001b[0m\u001b[0;34m\u001b[0m\u001b[0m\n\u001b[0m\u001b[1;32m    520\u001b[0m         \u001b[0mself\u001b[0m\u001b[0;34m.\u001b[0m\u001b[0m_check_uniqueness\u001b[0m\u001b[0;34m(\u001b[0m\u001b[0;34m)\u001b[0m\u001b[0;34m\u001b[0m\u001b[0;34m\u001b[0m\u001b[0m\n\u001b[1;32m    521\u001b[0m \u001b[0;34m\u001b[0m\u001b[0m\n",
      "\u001b[0;32m~/anaconda3/envs/pyro/lib/python3.8/site-packages/anndata/_core/anndata.py\u001b[0m in \u001b[0;36m_check_dimensions\u001b[0;34m(self, key)\u001b[0m\n\u001b[1;32m   1828\u001b[0m             \u001b[0mkey\u001b[0m \u001b[0;34m=\u001b[0m \u001b[0;34m{\u001b[0m\u001b[0mkey\u001b[0m\u001b[0;34m}\u001b[0m\u001b[0;34m\u001b[0m\u001b[0;34m\u001b[0m\u001b[0m\n\u001b[1;32m   1829\u001b[0m         \u001b[0;32mif\u001b[0m \u001b[0;34m\"obs\"\u001b[0m \u001b[0;32min\u001b[0m \u001b[0mkey\u001b[0m \u001b[0;32mand\u001b[0m \u001b[0mlen\u001b[0m\u001b[0;34m(\u001b[0m\u001b[0mself\u001b[0m\u001b[0;34m.\u001b[0m\u001b[0m_obs\u001b[0m\u001b[0;34m)\u001b[0m \u001b[0;34m!=\u001b[0m \u001b[0mself\u001b[0m\u001b[0;34m.\u001b[0m\u001b[0m_n_obs\u001b[0m\u001b[0;34m:\u001b[0m\u001b[0;34m\u001b[0m\u001b[0;34m\u001b[0m\u001b[0m\n\u001b[0;32m-> 1830\u001b[0;31m             raise ValueError(\n\u001b[0m\u001b[1;32m   1831\u001b[0m                 \u001b[0;34m\"Observations annot. `obs` must have number of rows of `X`\"\u001b[0m\u001b[0;34m\u001b[0m\u001b[0;34m\u001b[0m\u001b[0m\n\u001b[1;32m   1832\u001b[0m                 \u001b[0;34mf\" ({self._n_obs}), but has {self._obs.shape[0]} rows.\"\u001b[0m\u001b[0;34m\u001b[0m\u001b[0;34m\u001b[0m\u001b[0m\n",
      "\u001b[0;31mValueError\u001b[0m: Observations annot. `obs` must have number of rows of `X` (2401), but has 2402 rows."
     ]
    }
   ],
   "source": [
    "import scanpy as sc\n",
    "import pandas as pd\n",
    "\n",
    "tmp_dict = {\n",
    "    \"f_names\" : f_names,\n",
    "    \"morans\" : morans,\n",
    "}\n",
    "\n",
    "df = pd.DataFrame(tmp_dict)\n",
    "\n",
    "adata = sc.AnnData(X=features, obs=df)\n",
    "adata.obsm['X_raw'] = features"
   ]
  },
  {
   "cell_type": "code",
   "execution_count": 62,
   "id": "hybrid-messaging",
   "metadata": {},
   "outputs": [
    {
     "ename": "NameError",
     "evalue": "name 'adata' is not defined",
     "output_type": "error",
     "traceback": [
      "\u001b[0;31m---------------------------------------------------------------------------\u001b[0m",
      "\u001b[0;31mNameError\u001b[0m                                 Traceback (most recent call last)",
      "\u001b[0;32m<ipython-input-62-afdfabdedca0>\u001b[0m in \u001b[0;36m<module>\u001b[0;34m\u001b[0m\n\u001b[0;32m----> 1\u001b[0;31m \u001b[0msc\u001b[0m\u001b[0;34m.\u001b[0m\u001b[0mtl\u001b[0m\u001b[0;34m.\u001b[0m\u001b[0mpca\u001b[0m\u001b[0;34m(\u001b[0m\u001b[0madata\u001b[0m\u001b[0;34m,\u001b[0m \u001b[0msvd_solver\u001b[0m\u001b[0;34m=\u001b[0m\u001b[0;34m'arpack'\u001b[0m\u001b[0;34m,\u001b[0m \u001b[0mn_comps\u001b[0m\u001b[0;34m=\u001b[0m\u001b[0;36m50\u001b[0m\u001b[0;34m)\u001b[0m\u001b[0;34m\u001b[0m\u001b[0;34m\u001b[0m\u001b[0m\n\u001b[0m\u001b[1;32m      2\u001b[0m \u001b[0msc\u001b[0m\u001b[0;34m.\u001b[0m\u001b[0mpp\u001b[0m\u001b[0;34m.\u001b[0m\u001b[0mneighbors\u001b[0m\u001b[0;34m(\u001b[0m\u001b[0madata\u001b[0m\u001b[0;34m,\u001b[0m \u001b[0mn_neighbors\u001b[0m\u001b[0;34m=\u001b[0m\u001b[0;36m200\u001b[0m\u001b[0;34m,\u001b[0m \u001b[0muse_rep\u001b[0m\u001b[0;34m=\u001b[0m\u001b[0;34m'X_raw'\u001b[0m\u001b[0;34m,\u001b[0m \u001b[0mmethod\u001b[0m\u001b[0;34m=\u001b[0m\u001b[0;34m'umap'\u001b[0m\u001b[0;34m,\u001b[0m \u001b[0mmetric\u001b[0m\u001b[0;34m=\u001b[0m\u001b[0;34m'euclidean'\u001b[0m\u001b[0;34m)\u001b[0m\u001b[0;34m\u001b[0m\u001b[0;34m\u001b[0m\u001b[0m\n",
      "\u001b[0;31mNameError\u001b[0m: name 'adata' is not defined"
     ]
    }
   ],
   "source": [
    "sc.tl.pca(adata, svd_solver='arpack', n_comps=50)\n",
    "sc.pp.neighbors(adata, n_neighbors=200, use_rep='X_raw', method='umap', metric='euclidean')"
   ]
  },
  {
   "cell_type": "code",
   "execution_count": null,
   "id": "lyric-armstrong",
   "metadata": {},
   "outputs": [],
   "source": [
    "adata"
   ]
  },
  {
   "cell_type": "code",
   "execution_count": null,
   "id": "foreign-adapter",
   "metadata": {},
   "outputs": [],
   "source": [
    "sc.tl.leiden(adata, resolution=1.0)\n",
    "sc.tl.umap(adata)"
   ]
  },
  {
   "cell_type": "code",
   "execution_count": null,
   "id": "everyday-charter",
   "metadata": {},
   "outputs": [],
   "source": [
    "sc.pl.umap(adata, color=['leiden'])"
   ]
  },
  {
   "cell_type": "code",
   "execution_count": null,
   "id": "expired-steal",
   "metadata": {},
   "outputs": [],
   "source": []
  },
  {
   "cell_type": "code",
   "execution_count": null,
   "id": "resistant-banner",
   "metadata": {},
   "outputs": [],
   "source": []
  },
  {
   "cell_type": "code",
   "execution_count": null,
   "id": "demanding-positive",
   "metadata": {},
   "outputs": [],
   "source": []
  },
  {
   "cell_type": "code",
   "execution_count": null,
   "id": "configured-married",
   "metadata": {},
   "outputs": [],
   "source": []
  },
  {
   "cell_type": "code",
   "execution_count": null,
   "id": "turkish-trade",
   "metadata": {},
   "outputs": [],
   "source": []
  },
  {
   "cell_type": "code",
   "execution_count": null,
   "id": "bridal-humidity",
   "metadata": {},
   "outputs": [],
   "source": []
  },
  {
   "cell_type": "code",
   "execution_count": null,
   "id": "green-impossible",
   "metadata": {},
   "outputs": [],
   "source": []
  },
  {
   "cell_type": "code",
   "execution_count": null,
   "id": "impossible-episode",
   "metadata": {},
   "outputs": [],
   "source": []
  },
  {
   "cell_type": "code",
   "execution_count": null,
   "id": "friendly-soviet",
   "metadata": {},
   "outputs": [],
   "source": []
  },
  {
   "cell_type": "code",
   "execution_count": null,
   "id": "cutting-palace",
   "metadata": {},
   "outputs": [],
   "source": []
  },
  {
   "cell_type": "code",
   "execution_count": null,
   "id": "disabled-discretion",
   "metadata": {},
   "outputs": [],
   "source": []
  },
  {
   "cell_type": "markdown",
   "id": "competent-blood",
   "metadata": {},
   "source": [
    "### Can I predict moran?"
   ]
  },
  {
   "cell_type": "code",
   "execution_count": null,
   "id": "organizational-australian",
   "metadata": {},
   "outputs": [],
   "source": [
    "x_all = bbone_embeddings\n",
    "y_all = morans_all\n",
    "stratify_by = fnames_all\n",
    "\n",
    "x_train, x_test, y_train, y_test = train_test_split(\n",
    "    x_all,\n",
    "    y_all,\n",
    "    stratify=stratify_by,\n",
    "    test_size=0.2,\n",
    "    random_state=1)\n",
    "\n",
    "mlp_regression = MLPRegressor(\n",
    "    hidden_layer_sizes=[],\n",
    "    solver='adam',\n",
    "    alpha=0.0001,\n",
    "    batch_size='auto',\n",
    "    learning_rate='constant',\n",
    "    learning_rate_init=0.001,\n",
    "    max_iter=100000,\n",
    "    shuffle=True,\n",
    "    random_state=1,\n",
    "    tol=1E-6,\n",
    "    verbose=False,\n",
    "    n_iter_no_change=100,\n",
    "    early_stopping=False)\n",
    "mlp_regression.fit(x_train, y_train)\n",
    "\n",
    "r2_test = mlp_regression.score(x_test, y_test)\n",
    "r2_train = mlp_regression.score(x_train, y_train)\n",
    "\n",
    "y_test_predicted = mlp_regression.predict(x_test)\n",
    "y_train_predicted = mlp_regression.predict(x_train)\n",
    "\n",
    "\n",
    "fig, axs = plt.subplots(ncols=3, nrows=1, figsize=(24,8))\n",
    "\n",
    "axs[0].set_title(\"train dataset\")\n",
    "axs[0].scatter(y_train, y_train_predicted)\n",
    "axs[0].set_ylabel(\"predicted\")\n",
    "axs[0].set_xlabel(\"actual\")\n",
    "\n",
    "axs[1].set_title(\"test dataset\")\n",
    "axs[1].scatter(y_test, y_test_predicted)\n",
    "axs[1].set_ylabel(\"predicted\")\n",
    "axs[1].set_xlabel(\"actual\")\n",
    "\n",
    "axs[2].set_title(\"mlp loss\")\n",
    "axs[2].plot(mlp.loss_curve_)\n",
    "axs[2].set_ylabel(\"regressor loss\")\n",
    "axs[2].set_xlabel(\"iteration\")\n",
    "axs[2].set_yscale(\"log\")\n",
    "print(\"We can predict moran with good_accuracy\", r2_train, r2_test)"
   ]
  },
  {
   "cell_type": "markdown",
   "id": "accessible-president",
   "metadata": {},
   "source": [
    "### Can I predict the tissue labels?"
   ]
  },
  {
   "cell_type": "code",
   "execution_count": null,
   "id": "vulnerable-scientist",
   "metadata": {},
   "outputs": [],
   "source": [
    "\n",
    "\n",
    "x_all = bbone_embeddings\n",
    "y_all = fnames_all\n",
    "stratify_by = fnames_all\n",
    "\n",
    "x_train, x_test, y_train, y_test = train_test_split(\n",
    "    x_all,\n",
    "    y_all,\n",
    "    stratify=fnames_all,\n",
    "    test_size=0.2,\n",
    "    random_state=1)\n",
    "\n",
    "mlp_classification = MLPClassifier(\n",
    "    hidden_layer_sizes=[],\n",
    "    solver='adam',\n",
    "    alpha=0.0001,\n",
    "    batch_size='auto',\n",
    "    learning_rate='constant',\n",
    "    learning_rate_init=0.001,\n",
    "    max_iter=100000,\n",
    "    shuffle=True,\n",
    "    random_state=1,\n",
    "    tol=1E-6,\n",
    "    verbose=False,\n",
    "    n_iter_no_change=100,\n",
    "    early_stopping=False)\n",
    "\n",
    "mlp_classification.fit(x_train, y_train)\n",
    "\n",
    "mean_accuracy_test = mlp_classification.score(x_test, y_test)\n",
    "mean_accuracy_train = mlp_classification.score(x_train, y_train)\n",
    "\n",
    "y_test_predicted = mlp_classification.predict(x_test)\n",
    "y_train_predicted = mlp_classification.predict(x_train)\n",
    "\n",
    "cm_train = confusion_matrix(y_train, y_train_predicted, labels=mlp_classification.classes_)\n",
    "cm_test = confusion_matrix(y_test, y_test_predicted, labels=mlp_classification.classes_)\n",
    "\n",
    "cm_train_disp = ConfusionMatrixDisplay(confusion_matrix=cm_train,\n",
    "                                       display_labels=mlp_classification.classes_)\n",
    "cm_test_disp = ConfusionMatrixDisplay(confusion_matrix=cm_test,\n",
    "                                      display_labels=mlp_classification.classes_)\n",
    "\n",
    "fig, axs = plt.subplots(ncols=3, nrows=1, figsize=(24,8))\n",
    "\n",
    "axs[0].set_title(\"train dataset\")\n",
    "cm_train_disp.plot(ax=axs[0])\n",
    "\n",
    "axs[1].set_title(\"test dataset\")\n",
    "cm_test_disp.plot(ax=axs[1])\n",
    "\n",
    "axs[2].set_title(\"mlp loss\")\n",
    "axs[2].plot(mlp_classification.loss_curve_)\n",
    "axs[2].set_ylabel(\"regressor loss\")\n",
    "axs[2].set_xlabel(\"iteration\")\n",
    "axs[2].set_yscale(\"log\")\n",
    "print(\"We can predict tissue with excellent accuracy\", mean_accuracy_train, mean_accuracy_test)"
   ]
  },
  {
   "cell_type": "markdown",
   "id": "marked-method",
   "metadata": {},
   "source": [
    "## Plot"
   ]
  },
  {
   "cell_type": "code",
   "execution_count": null,
   "id": "accomplished-football",
   "metadata": {},
   "outputs": [],
   "source": [
    "file_embeddings = \"./output_prediction_random-413.pt\"\n",
    "\n",
    "output_prediction_tiling = torch.load(file_embeddings, map_location=torch.device('cpu'))\n",
    "print(\"output_prediction_tiling.keys() -->\", output_prediction_random.keys())\n",
    "\n",
    "bbone_embeddings = output_prediction_tiling[\"features_bbone_ref_trsfm\"]\n",
    "head_embeddings = output_prediction_tiling[\"features_head_ref_trsfm\"]\n",
    "\n",
    "metadatas = output_prediction_tiling[\"metadata\"]\n",
    "\n",
    "morans_all = numpy.array([metadata.moran for metadata in metadatas])\n",
    "fnames_all = numpy.array([metadata.f_name for metadata in metadatas])"
   ]
  },
  {
   "cell_type": "markdown",
   "id": "marked-balance",
   "metadata": {},
   "source": [
    "## Plot BackBone embeddings"
   ]
  },
  {
   "cell_type": "code",
   "execution_count": null,
   "id": "expensive-season",
   "metadata": {},
   "outputs": [],
   "source": [
    "bbone_embeddings_pca = get_pca(bbone_embeddings)\n",
    "\n",
    "bbone_embeddings_umap, distances_bbone_nn = get_umap(\n",
    "    bbone_embeddings, \n",
    "    n_neighbors=15, \n",
    "    metric='contrastive')\n",
    "\n",
    "bbone_umap_fig1 = plot_embeddings(\n",
    "    embeddings=bbone_embeddings_umap,\n",
    "    size=20,\n",
    "    x_label='UMAP 1',\n",
    "    y_label='UMAP 2',\n",
    "    title=\"Backbone UMAP by tissue\",\n",
    "    colors=None,\n",
    "    labels=fnames_all,\n",
    "    figsize=(8,8),\n",
    "    cmap=plt.cm.inferno\n",
    ")\n",
    "\n",
    "bbone_umap_fig2 = plot_embeddings(\n",
    "    embeddings=bbone_embeddings_umap,\n",
    "    size=20,\n",
    "    x_label='UMAP 1',\n",
    "    y_label='UMAP 2',\n",
    "    title=\"Backbone UMAP by Moran score\",\n",
    "    colors=morans_all,\n",
    "    labels=None,\n",
    "    figsize=(8,8),\n",
    "    cmap=plt.cm.inferno\n",
    ")\n",
    "\n",
    "bbone_pca_fig1 = plot_embeddings(\n",
    "    embeddings=bbone_embeddings_pca,\n",
    "    x_label='PCA 1',\n",
    "    y_label='PCA 2',\n",
    "    title=\"Backbone PCA by tissue\",\n",
    "    colors=None,\n",
    "    labels=fnames_all,\n",
    "    figsize=(8,8),\n",
    "    cmap=plt.cm.inferno\n",
    ")\n",
    "\n",
    "bbone_pca_fig2 = plot_embeddings(\n",
    "    embeddings=bbone_embeddings_pca,\n",
    "    x_label='PCA 1',\n",
    "    y_label='PCA 2',\n",
    "    title=\"Backbone PCA by Moran score\",\n",
    "    colors=morans_all,\n",
    "    labels=None,\n",
    "    figsize=(8,8),\n",
    "    cmap=plt.cm.inferno\n",
    ")"
   ]
  },
  {
   "cell_type": "code",
   "execution_count": null,
   "id": "round-excuse",
   "metadata": {},
   "outputs": [],
   "source": [
    "bbone_umap_fig1.savefig(\"./random_umap_tissue.png\")\n",
    "bbone_umap_fig2.savefig(\"./random_umap_moran.png\")"
   ]
  },
  {
   "cell_type": "code",
   "execution_count": null,
   "id": "undefined-ensemble",
   "metadata": {},
   "outputs": [],
   "source": [
    "paths = save_to_local_path([bbone_umap_fig1, bbone_umap_fig2, bbone_pca_fig1, bbone_pca_fig2])\n",
    "ipyplot.plot_images(paths, max_images=5, img_width=400)"
   ]
  },
  {
   "cell_type": "markdown",
   "id": "forward-burlington",
   "metadata": {},
   "source": [
    "## Plot Head embeddings"
   ]
  },
  {
   "cell_type": "code",
   "execution_count": null,
   "id": "checked-fault",
   "metadata": {},
   "outputs": [],
   "source": [
    "head_embeddings = output_prediction_random[\"features_head_ref_trsfm\"]\n",
    "\n",
    "head_embeddings_pca = get_pca(head_embeddings)\n",
    "\n",
    "head_embeddings_umap, distances_head_nn = get_umap(\n",
    "    bbone_embeddings, \n",
    "    n_neighbors=50, \n",
    "    metric='contrastive')\n",
    "\n",
    "head_umap_fig1 = plot_embeddings(\n",
    "    embeddings=head_embeddings_umap,\n",
    "    x_label='UMAP 1',\n",
    "    y_label='UMAP 2',\n",
    "    title=\"Head UMAP by tissue\",\n",
    "    colors=None,\n",
    "    labels=f_names,\n",
    "    figsize=(8,8),\n",
    "    cmap=plt.cm.inferno\n",
    ")\n",
    "\n",
    "head_umap_fig2 = plot_embeddings(\n",
    "    embeddings=head_embeddings_umap,\n",
    "    x_label='UMAP 1',\n",
    "    y_label='UMAP 2',\n",
    "    title=\"Head UMAP by Moran score\",\n",
    "    colors=moran,\n",
    "    labels=None,\n",
    "    figsize=(8,8),\n",
    "    cmap=plt.cm.inferno\n",
    ")\n",
    "\n",
    "head_pca_fig1 = plot_embeddings(\n",
    "    embeddings=head_embeddings_pca,\n",
    "    x_label='PCA 1',\n",
    "    y_label='PCA 2',\n",
    "    title=\"Head PCA by tissue\",\n",
    "    colors=None,\n",
    "    labels=f_names,\n",
    "    figsize=(8,8),\n",
    "    cmap=plt.cm.inferno\n",
    ")\n",
    "\n",
    "head_pca_fig2 = plot_embeddings(\n",
    "    embeddings=head_embeddings_pca,\n",
    "    x_label='PCA 1',\n",
    "    y_label='PCA 2',\n",
    "    title=\"Head PCA by Moran score\",\n",
    "    colors=moran,\n",
    "    labels=None,\n",
    "    figsize=(8,8),\n",
    "    cmap=plt.cm.inferno\n",
    ")"
   ]
  },
  {
   "cell_type": "code",
   "execution_count": null,
   "id": "scenic-rocket",
   "metadata": {},
   "outputs": [],
   "source": [
    "paths = save_to_local_path([head_umap_fig1, head_umap_fig2, head_pca_fig1, head_pca_fig2])\n",
    "ipyplot.plot_images(paths, max_images=5, img_width=400)"
   ]
  },
  {
   "cell_type": "markdown",
   "id": "incorrect-defense",
   "metadata": {},
   "source": [
    "# Unsupervised clustering of the Head embeddings"
   ]
  },
  {
   "cell_type": "code",
   "execution_count": null,
   "id": "european-posting",
   "metadata": {},
   "outputs": [],
   "source": [
    "distances_nn = distances_head_nn\n",
    "embeddings_umap = head_embeddings_umap\n",
    "\n",
    "graph_umap = make_graph(distances_nn=distances_head_nn,\n",
    "                        n_neighbors=50,\n",
    "                        metric='contrastive'\n",
    "                       )\n",
    "\n",
    "partition_umap = compute_partition(graph_umap, resolution_parameter=0.2)\n",
    " \n",
    "cluster_plot = plot_embeddings(\n",
    "    embeddings=embeddings_umap,\n",
    "    x_label='UMAP 1',\n",
    "    y_label='UMAP 2',\n",
    "    title=\"UMAP\",\n",
    "    colors=None,\n",
    "    labels=partition_umap.membership,\n",
    "    figsize=(8,8),\n",
    "    cmap=plt.cm.inferno\n",
    ")\n",
    "\n",
    "display(cluster_plot)"
   ]
  },
  {
   "cell_type": "markdown",
   "id": "possible-ribbon",
   "metadata": {},
   "source": [
    "# FROM HERE. MAKE A CLASSIFIER WHICH PREDICTS THE CLUSTERS AND THEN WORK ON TILING. SWITCH IN NEW EMBEDDINGS"
   ]
  },
  {
   "cell_type": "markdown",
   "id": "mediterranean-medicare",
   "metadata": {},
   "source": [
    "### Common import and set random seed"
   ]
  },
  {
   "cell_type": "code",
   "execution_count": null,
   "id": "governing-walter",
   "metadata": {},
   "outputs": [],
   "source": [
    "%matplotlib inline\n",
    "import numpy as np\n",
    "import pandas as pd\n",
    "import matplotlib\n",
    "import matplotlib.pyplot as plt\n",
    "import torchvision\n",
    "import torch\n",
    "import pytorch_lightning as pl\n",
    "import tissue_purifier as tp\n",
    "\n",
    "matplotlib.rcParams[\"figure.dpi\"] = 200\n",
    "torch.manual_seed(config['simulation']['RANDOM_SEED'])\n",
    "np.random.seed(config['simulation']['RANDOM_SEED'])"
   ]
  },
  {
   "cell_type": "markdown",
   "id": "pleased-anaheim",
   "metadata": {},
   "source": [
    "### Read in all the csv file"
   ]
  },
  {
   "cell_type": "code",
   "execution_count": null,
   "id": "interracial-laser",
   "metadata": {},
   "outputs": [],
   "source": [
    "#data_folder = \"/home/jupyter/data/slide-seq/original_data/\"\n",
    "data_folder = \"../slide-seq-data\"\n",
    "\n",
    "\n",
    "df_wt1 = pd.read_csv(os.path.join(data_folder, \"wt_1.csv\"))\n",
    "df_wt2 = pd.read_csv(os.path.join(data_folder, \"wt_2.csv\"))\n",
    "df_wt3 = pd.read_csv(os.path.join(data_folder, \"wt_3.csv\"))\n",
    "df_dis1 = pd.read_csv(os.path.join(data_folder, \"sick_1.csv\"))\n",
    "df_dis2 = pd.read_csv(os.path.join(data_folder, \"sick_2.csv\"))\n",
    "df_dis3 = pd.read_csv(os.path.join(data_folder, \"sick_3.csv\"))"
   ]
  },
  {
   "cell_type": "markdown",
   "id": "loose-statistics",
   "metadata": {},
   "source": [
    "## Cluster Embeddings"
   ]
  },
  {
   "cell_type": "code",
   "execution_count": null,
   "id": "stuffed-updating",
   "metadata": {},
   "outputs": [],
   "source": [
    "from tissue_purifier.model_utils import TrainedEmbedding\n",
    "\n",
    "model_folder = \"../trained_model\"\n",
    "model = tp.model_utils.helpers.define_model(\n",
    "    backbone_type=config[\"model_settings\"][\"BACKBONE_TYPE\"],\n",
    "    number_of_channels=config[\"model_settings\"][\"INPUT_CHANNELS\"],\n",
    "    num_of_filters=config[\"model_settings\"][\"BACKBONE_NUM_FTRS\"],\n",
    "    projection_out_dim=config[\"model_settings\"][\"PROJECTION_OUT_DIM\"],\n",
    ")\n",
    "model.backbone.load_state_dict(torch.load(f\"./model.pth\")[\"resnet18_parameters\"])\n",
    "# model.load_state_dict(torch.load(f\"{model_folder}/simclr_model_11.pt\"))\n",
    "model = model.cuda()\n",
    "encoder = TrainedEmbedding(model)"
   ]
  },
  {
   "cell_type": "code",
   "execution_count": null,
   "id": "noble-relative",
   "metadata": {},
   "outputs": [],
   "source": [
    "from sklearn.pipeline import make_pipeline, Pipeline\n",
    "from sklearn.cluster import AgglomerativeClustering, KMeans, SpectralClustering\n",
    "from sklearn.decomposition import PCA\n",
    "from sklearn.preprocessing import StandardScaler\n",
    "\n",
    "\n",
    "pca_aglomerative = Pipeline(\n",
    "    steps=[\n",
    "        (\"scaler\", StandardScaler()),\n",
    "        (\"pca\", PCA(n_components=15)), \n",
    "        (\"cluster\", AgglomerativeClustering(n_clusters=2))\n",
    "    ]\n",
    ")\n"
   ]
  },
  {
   "cell_type": "code",
   "execution_count": null,
   "id": "controlled-video",
   "metadata": {},
   "outputs": [],
   "source": [
    "%%capture\n",
    "mask_dis2 = tp.evaluation_utils.create_mask_for_sample(\n",
    "    df_dis2, encoder, pca_aglomerative, config, proba=True, n_crops=1000\n",
    ")"
   ]
  },
  {
   "cell_type": "code",
   "execution_count": null,
   "id": "differential-relevance",
   "metadata": {},
   "outputs": [],
   "source": [
    "df_dis2[\"nn_probas\"] = tp.evaluation_utils.spatialize_mask(df_dis2, mask_dis2, pixel_size=config[\"simulation\"][\"PIXEL_SIZE\"])\n",
    "df_dis2[\"condition\"] = df_dis2[\"nn_probas\"].map(lambda x: 0 if x < 0.5 else 1)"
   ]
  },
  {
   "cell_type": "code",
   "execution_count": null,
   "id": "above-footage",
   "metadata": {},
   "outputs": [],
   "source": [
    "tp.plot_utils.disease_mask(df_dis2, \"condition\", figsize=(8, 4), title=\"DIS 2 Clustered Mask\")"
   ]
  },
  {
   "cell_type": "code",
   "execution_count": null,
   "id": "fluid-coverage",
   "metadata": {},
   "outputs": [],
   "source": [
    "%%capture\n",
    "mask_wt2 = tp.evaluation_utils.create_mask_for_sample(df_wt2, encoder, pca_aglomerative, config, proba=True, n_crops=1000)"
   ]
  },
  {
   "cell_type": "code",
   "execution_count": null,
   "id": "stable-opportunity",
   "metadata": {},
   "outputs": [],
   "source": [
    "df_wt2[\"nn_probas\"] = tp.evaluation_utils.spatialize_mask(df_wt2, mask_wt2, pixel_size=config[\"simulation\"][\"PIXEL_SIZE\"])\n",
    "df_wt2[\"condition\"] = df_wt2[\"nn_probas\"].map(lambda x: 0 if x < 0.5 else 1)\n",
    "tp.plot_utils.disease_mask(df_wt2, \"condition\", figsize=(8, 3), title=\"WT 2 Clustered Mask\")"
   ]
  },
  {
   "cell_type": "code",
   "execution_count": null,
   "id": "standard-copper",
   "metadata": {},
   "outputs": [],
   "source": [
    "%%capture\n",
    "mask_dis1 = tp.evaluation_utils.create_mask_for_sample(df_dis1, encoder, pca_aglomerative, config, proba=True, n_crops=1000)"
   ]
  },
  {
   "cell_type": "code",
   "execution_count": null,
   "id": "institutional-grocery",
   "metadata": {},
   "outputs": [],
   "source": [
    "df_dis1[\"nn_probas\"] = tp.evaluation_utils.spatialize_mask(df_dis1, mask_dis1, pixel_size=config[\"simulation\"][\"PIXEL_SIZE\"])\n",
    "df_dis1[\"condition\"] = df_dis1[\"nn_probas\"].map(lambda x: 0 if x < 0.4 else 1)\n",
    "tp.plot_utils.disease_mask(df_dis1, \"condition\", figsize=(8, 4), title=\"DIS 1 Clustered Mask\")"
   ]
  },
  {
   "cell_type": "code",
   "execution_count": null,
   "id": "touched-highlight",
   "metadata": {},
   "outputs": [],
   "source": [
    "%%capture\n",
    "mask_wt1 = tp.evaluation_utils.create_mask_for_sample(df_wt1, encoder, pca_aglomerative, config, proba=True, n_crops=1000)"
   ]
  },
  {
   "cell_type": "code",
   "execution_count": null,
   "id": "brazilian-calculation",
   "metadata": {},
   "outputs": [],
   "source": [
    "df_wt1[\"nn_probas\"] = tp.evaluation_utils.spatialize_mask(df_wt1, mask_wt1, pixel_size=config[\"simulation\"][\"PIXEL_SIZE\"])\n",
    "df_wt1[\"condition\"] = df_wt1[\"nn_probas\"].map(lambda x: 0 if x < 0.4 else 1)\n",
    "tp.plot_utils.disease_mask(df_wt1, \"condition\", figsize=(8, 4), title=\"WT 1 Clustered Mask\")"
   ]
  },
  {
   "cell_type": "markdown",
   "id": "designing-share",
   "metadata": {},
   "source": [
    "## Moran's I Score Evaluation"
   ]
  },
  {
   "cell_type": "code",
   "execution_count": null,
   "id": "honest-coordination",
   "metadata": {},
   "outputs": [],
   "source": [
    "%%capture\n",
    "moran_averaged = tp.evaluation_utils.moran_score_averaged(\n",
    "    [df_wt1, df_wt2, df_dis1, df_dis2],\n",
    "    [\"WT1\", \"WT2\", \"DIS1\", \"DIS2\"]\n",
    ")"
   ]
  },
  {
   "cell_type": "code",
   "execution_count": null,
   "id": "hazardous-serve",
   "metadata": {},
   "outputs": [],
   "source": [
    "moran_averaged.columns = [\"total\", \"COND1\", \"COND2\"]\n",
    "moran_averaged"
   ]
  }
 ],
 "metadata": {
  "environment": {
   "name": "pytorch-gpu.1-7.m65",
   "type": "gcloud",
   "uri": "gcr.io/deeplearning-platform-release/pytorch-gpu.1-7:m65"
  },
  "kernelspec": {
   "display_name": "Python 3",
   "language": "python",
   "name": "python3"
  },
  "language_info": {
   "codemirror_mode": {
    "name": "ipython",
    "version": 3
   },
   "file_extension": ".py",
   "mimetype": "text/x-python",
   "name": "python",
   "nbconvert_exporter": "python",
   "pygments_lexer": "ipython3",
   "version": "3.8.8"
  }
 },
 "nbformat": 4,
 "nbformat_minor": 5
}
