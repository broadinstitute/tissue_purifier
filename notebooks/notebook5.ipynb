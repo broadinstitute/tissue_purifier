{
 "cells": [
  {
   "cell_type": "markdown",
   "id": "split-cleaner",
   "metadata": {},
   "source": [
    "# Classification with Noisy Labels"
   ]
  },
  {
   "cell_type": "markdown",
   "id": "cdaf6f2d-3a52-4123-bdbf-669dd9ae3af1",
   "metadata": {},
   "source": [
    "This notebook demonstrates binary classification with noisy labels on the simple data_banknote_authentication dataset.\n",
    "\n",
    "The apporach is more general and can handle multi-class setup (not just binary)."
   ]
  },
  {
   "cell_type": "markdown",
   "id": "concrete-logic",
   "metadata": {},
   "source": [
    "### Common Imports"
   ]
  },
  {
   "cell_type": "code",
   "execution_count": 1,
   "id": "living-firewall",
   "metadata": {},
   "outputs": [],
   "source": [
    "import sys\n",
    "import os\n",
    "\n",
    "root_path = os.path.dirname(os.getcwd())\n",
    "src_path = os.path.join(root_path, \"src\")\n",
    "sys.path.insert(0, src_path)\n",
    "\n",
    "%load_ext autoreload\n",
    "%autoreload 2\n",
    "\n",
    "%matplotlib inline\n",
    "import matplotlib.pyplot as plt"
   ]
  },
  {
   "cell_type": "markdown",
   "id": "08f1a53c-b9d3-4e37-a510-84611a87beca",
   "metadata": {},
   "source": [
    "### Helper functions"
   ]
  },
  {
   "cell_type": "code",
   "execution_count": 2,
   "id": "3e7ae20c-343b-44d4-97ab-718b84fe8d65",
   "metadata": {},
   "outputs": [],
   "source": [
    "def make_balanced(tmp_df, TARGET_LABEL):\n",
    "    \"\"\" Make the dataset balanced by downsampling the majority class \"\"\"\n",
    "    df_majority = tmp_df[tmp_df[TARGET_LABEL] == 0]\n",
    "    df_minority = tmp_df[tmp_df[TARGET_LABEL] == 1]\n",
    "\n",
    "    # Downsample majority class\n",
    "    df_majority_downsampled = resample(df_majority, \n",
    "                                       replace=False,              # sample without replacement\n",
    "                                       n_samples=len(df_minority), # to match minority class\n",
    "                                       random_state=None)        # reproducible results\n",
    "    # Combine minority class with downsampled majority class\n",
    "    df_downsampled = pd.concat([df_majority_downsampled, df_minority])\n",
    "    df_downsampled = df_downsampled.sample(frac=1) #Shuffle the data\n",
    "    df_downsampled = df_downsampled.reset_index() #Reset the index\n",
    "    df_downsampled = df_downsampled.drop(columns=['index']) # Drop original index col\n",
    "    return df_downsampled\n",
    "\n",
    "\n",
    "def get_X_y(tmp_df, TARGET_LABEL):\n",
    "    \"\"\" Extract X,y as torch.Tensor from dataframe \"\"\"\n",
    "    NON_LBL = [c for c in tmp_df.columns if c != TARGET_LABEL]\n",
    "    X = tmp_df[NON_LBL].to_numpy()\n",
    "    y = tmp_df['authentic'].to_numpy()\n",
    "    return torch.from_numpy(X), torch.from_numpy(y)\n",
    "\n",
    "\n",
    "def flip(y_tmp, p01, p10):\n",
    "    \"\"\" Flip the labels with a certain probability \"\"\"\n",
    "\n",
    "    index_with_y_eq_1 = torch.arange(y_tmp.shape[0])[y_tmp == 1]\n",
    "    index_with_y_eq_0 = torch.arange(y_tmp.shape[0])[y_tmp == 0]\n",
    "    \n",
    "    n_flips_10 = int(p10 * index_with_y_eq_1.shape[0])\n",
    "    n_flips_01 = int(p01 * index_with_y_eq_0.shape[0])\n",
    "    \n",
    "    index_with_y_eq_1_permuted = index_with_y_eq_1[torch.randperm(index_with_y_eq_1.shape[0])]\n",
    "    index_with_y_eq_0_permuted = index_with_y_eq_0[torch.randperm(index_with_y_eq_0.shape[0])]\n",
    "       \n",
    "    index_flips_10 = index_with_y_eq_1_permuted[:n_flips_10]   \n",
    "    index_flips_01 = index_with_y_eq_0_permuted[:n_flips_01]   \n",
    "\n",
    "    y_noisy = y_clean.clone()\n",
    "    y_noisy[index_flips_10] = 0\n",
    "    y_noisy[index_flips_01] = 1\n",
    "    return y_noisy\n",
    "\n",
    "def show_results(y_clean, y_noisy, y_pred, prob=None, title=None):\n",
    "    \"\"\" \n",
    "    Make some nice plots of the results. \n",
    "    It expect the clean, noisy and predicted labels (of shape N).\n",
    "    Optionally it can accept the predicted probabilities (of shape (N,2)) \n",
    "    \"\"\"\n",
    "    cm_pred_wrt_clean = sklearn.metrics.confusion_matrix(y_true=y_clean, y_pred=y_pred)\n",
    "    cm_pred_wrt_noisy = sklearn.metrics.confusion_matrix(y_true=y_noisy, y_pred=y_pred)\n",
    "    cm_flip = sklearn.metrics.confusion_matrix(y_true=y_clean, y_pred=y_noisy)\n",
    "    \n",
    "    accuracy_wrt_clean = sklearn.metrics.accuracy_score(y_true=y_clean, y_pred=y_pred)\n",
    "    accuracy_wrt_noisy = sklearn.metrics.accuracy_score(y_true=y_noisy, y_pred=y_pred)\n",
    "    noise_rate = 1.0 - sklearn.metrics.accuracy_score(y_true=y_noisy, y_pred=y_clean)\n",
    "    \n",
    "    n_classes = cm_flip.shape[0]\n",
    "    if prob is not None:\n",
    "        fig, axes = plt.subplots(ncols=4, figsize=(16,4))\n",
    "        _show_hist_internal(axes[3], y_clean, prob)\n",
    "    else:\n",
    "        fig, axes = plt.subplots(ncols=3, figsize=(12,4))\n",
    "    \n",
    "    # image \n",
    "    im0 = axes[0].imshow(cm_pred_wrt_clean)\n",
    "    im1 = axes[1].imshow(cm_pred_wrt_noisy)\n",
    "    im2 = axes[2].imshow(cm_flip)\n",
    "    \n",
    "    # colorbar\n",
    "    # _ = plt.colorbar(im0, ax=axes[0])\n",
    "    # _ = plt.colorbar(im1, ax=axes[1])\n",
    "    # _ = plt.colorbar(im2, ax=axes[2])\n",
    "    \n",
    "    # write numbers in the centers\n",
    "    for i in range(n_classes):\n",
    "        for j in range(n_classes):\n",
    "            _ = axes[0].text(j, i, cm_pred_wrt_clean[i, j], ha=\"center\", va=\"center\", color='red')\n",
    "            _ = axes[1].text(j, i, cm_pred_wrt_noisy[i, j], ha=\"center\", va=\"center\", color='red')    \n",
    "            _ = axes[2].text(j, i, cm_flip[i, j], ha=\"center\", va=\"center\", color='red')\n",
    "                \n",
    "    # titles\n",
    "    _ = axes[0].set_title(\"Acc = {0}\".format(accuracy_wrt_clean))\n",
    "    _ = axes[1].set_title(\"Acc = {0}\".format(accuracy_wrt_noisy))\n",
    "    _ = axes[2].set_title(\"Flip Matrix. Rate = {0}\".format(noise_rate))\n",
    "    \n",
    "    # axis labels\n",
    "    axes[0].set_xlabel(\"predicted labels\")\n",
    "    axes[0].set_ylabel(\"clean labels\")\n",
    "    \n",
    "    axes[1].set_xlabel(\"predicted labels\")\n",
    "    axes[1].set_ylabel(\"noisy labels\")\n",
    "    \n",
    "    axes[2].set_xlabel(\"noisy labels\")\n",
    "    axes[2].set_ylabel(\"clean labels\")\n",
    "    \n",
    "    # ticks\n",
    "    ix = [i for i in range(n_classes)]\n",
    "    axes[0].set_xticks(ticks=ix)\n",
    "    axes[0].set_yticks(ticks=ix)\n",
    "    axes[1].set_xticks(ticks=ix)\n",
    "    axes[1].set_yticks(ticks=ix)\n",
    "    axes[2].set_xticks(ticks=ix)\n",
    "    axes[2].set_yticks(ticks=ix)\n",
    "    \n",
    "    if title is not None:\n",
    "        fig.suptitle(title)\n",
    "    plt.close(fig)\n",
    "    return fig\n",
    "\n",
    "\n",
    "def _show_hist_internal(ax, y_clean, prob):\n",
    "    mask0 = (y_clean == 0)\n",
    "    plt.hist(prob[mask0,1], label='class0', alpha=.5, range=(0,1), bins=25, edgecolor='black')\n",
    "    plt.hist(prob[~mask0,1], label='class1', alpha=.5, range=(0,1), bins=25, edgecolor='black')\n",
    "    ax.set_xlabel(\"prob for class 1\")\n",
    "    ax.set_ylabel(\"pdf\")\n",
    "    plt.legend()\n",
    "\n",
    "\n",
    "def _show_auc_internal(ax, y_clean, prob):\n",
    "\n",
    "    fpr0, tpr0, thr0 = sklearn.metrics.roc_curve(1-y_clean, prob[:,0])\n",
    "    auc0 = sklearn.metrics.roc_auc_score(1-y_clean, prob[:, 0])\n",
    "    fpr1, tpr1, thr1 = sklearn.metrics.roc_curve(y_clean, prob[:,1])\n",
    "    auc1 = sklearn.metrics.roc_auc_score(y_clean, prob[:, 1])\n",
    "\n",
    "\n",
    "    ax.plot(fpr0, tpr0)\n",
    "    ax.plot(fpr1, tpr1)\n",
    "    ax.set_xlabel(\"fpr\")\n",
    "    ax.set_ylabel(\"tpr\")\n",
    "        \n",
    "    # ax.set_title(\"AUC = {0}\".format(auc_list))\n",
    "    ax.set_title(\"AUC = {:.2f},  {:.2f}\".format(auc0, auc1))\n",
    " \n",
    "    \n",
    "def show_AUC(y_clean, prob):\n",
    "    fig, axes = plt.subplots(ncols=1, figsize=(4,4))\n",
    "    _show_auc_internal(axes, y_clean, prob)\n",
    "    plt.close(fig)\n",
    "    return fig  \n",
    "\n",
    "def show_hist(y_clean, prob):\n",
    "    fig, axes = plt.subplots(ncols=1, figsize=(4,4))\n",
    "    _show_hist_internal(axes, y_clean, prob)\n",
    "    plt.close(fig)\n",
    "    return fig  "
   ]
  },
  {
   "cell_type": "code",
   "execution_count": 3,
   "id": "parliamentary-circus",
   "metadata": {},
   "outputs": [
    {
     "data": {
      "text/html": [
       "<div>\n",
       "<style scoped>\n",
       "    .dataframe tbody tr th:only-of-type {\n",
       "        vertical-align: middle;\n",
       "    }\n",
       "\n",
       "    .dataframe tbody tr th {\n",
       "        vertical-align: top;\n",
       "    }\n",
       "\n",
       "    .dataframe thead th {\n",
       "        text-align: right;\n",
       "    }\n",
       "</style>\n",
       "<table border=\"1\" class=\"dataframe\">\n",
       "  <thead>\n",
       "    <tr style=\"text-align: right;\">\n",
       "      <th></th>\n",
       "      <th>variance</th>\n",
       "      <th>skewness</th>\n",
       "      <th>kurtosis</th>\n",
       "      <th>entropy</th>\n",
       "      <th>authentic</th>\n",
       "    </tr>\n",
       "  </thead>\n",
       "  <tbody>\n",
       "    <tr>\n",
       "      <th>0</th>\n",
       "      <td>-2.180200</td>\n",
       "      <td>3.379100</td>\n",
       "      <td>-1.2256</td>\n",
       "      <td>-2.662100</td>\n",
       "      <td>1</td>\n",
       "    </tr>\n",
       "    <tr>\n",
       "      <th>1</th>\n",
       "      <td>-0.106480</td>\n",
       "      <td>-0.767710</td>\n",
       "      <td>7.7575</td>\n",
       "      <td>0.641790</td>\n",
       "      <td>0</td>\n",
       "    </tr>\n",
       "    <tr>\n",
       "      <th>2</th>\n",
       "      <td>-5.121600</td>\n",
       "      <td>-5.311800</td>\n",
       "      <td>10.3846</td>\n",
       "      <td>-1.061200</td>\n",
       "      <td>1</td>\n",
       "    </tr>\n",
       "    <tr>\n",
       "      <th>3</th>\n",
       "      <td>-0.071503</td>\n",
       "      <td>3.741200</td>\n",
       "      <td>-4.5415</td>\n",
       "      <td>-4.252600</td>\n",
       "      <td>1</td>\n",
       "    </tr>\n",
       "    <tr>\n",
       "      <th>4</th>\n",
       "      <td>1.131500</td>\n",
       "      <td>7.921200</td>\n",
       "      <td>1.0930</td>\n",
       "      <td>-2.844400</td>\n",
       "      <td>0</td>\n",
       "    </tr>\n",
       "    <tr>\n",
       "      <th>...</th>\n",
       "      <td>...</td>\n",
       "      <td>...</td>\n",
       "      <td>...</td>\n",
       "      <td>...</td>\n",
       "      <td>...</td>\n",
       "    </tr>\n",
       "    <tr>\n",
       "      <th>1215</th>\n",
       "      <td>0.570600</td>\n",
       "      <td>-0.024841</td>\n",
       "      <td>1.2421</td>\n",
       "      <td>-0.562080</td>\n",
       "      <td>0</td>\n",
       "    </tr>\n",
       "    <tr>\n",
       "      <th>1216</th>\n",
       "      <td>3.466700</td>\n",
       "      <td>-4.072400</td>\n",
       "      <td>4.2882</td>\n",
       "      <td>1.541800</td>\n",
       "      <td>0</td>\n",
       "    </tr>\n",
       "    <tr>\n",
       "      <th>1217</th>\n",
       "      <td>-2.336100</td>\n",
       "      <td>11.960400</td>\n",
       "      <td>3.0835</td>\n",
       "      <td>-5.443500</td>\n",
       "      <td>0</td>\n",
       "    </tr>\n",
       "    <tr>\n",
       "      <th>1218</th>\n",
       "      <td>-4.855400</td>\n",
       "      <td>-5.903700</td>\n",
       "      <td>10.9818</td>\n",
       "      <td>-0.821990</td>\n",
       "      <td>1</td>\n",
       "    </tr>\n",
       "    <tr>\n",
       "      <th>1219</th>\n",
       "      <td>-1.778100</td>\n",
       "      <td>0.854600</td>\n",
       "      <td>7.1303</td>\n",
       "      <td>0.027572</td>\n",
       "      <td>0</td>\n",
       "    </tr>\n",
       "  </tbody>\n",
       "</table>\n",
       "<p>1220 rows × 5 columns</p>\n",
       "</div>"
      ],
      "text/plain": [
       "      variance   skewness  kurtosis   entropy  authentic\n",
       "0    -2.180200   3.379100   -1.2256 -2.662100          1\n",
       "1    -0.106480  -0.767710    7.7575  0.641790          0\n",
       "2    -5.121600  -5.311800   10.3846 -1.061200          1\n",
       "3    -0.071503   3.741200   -4.5415 -4.252600          1\n",
       "4     1.131500   7.921200    1.0930 -2.844400          0\n",
       "...        ...        ...       ...       ...        ...\n",
       "1215  0.570600  -0.024841    1.2421 -0.562080          0\n",
       "1216  3.466700  -4.072400    4.2882  1.541800          0\n",
       "1217 -2.336100  11.960400    3.0835 -5.443500          0\n",
       "1218 -4.855400  -5.903700   10.9818 -0.821990          1\n",
       "1219 -1.778100   0.854600    7.1303  0.027572          0\n",
       "\n",
       "[1220 rows x 5 columns]"
      ]
     },
     "execution_count": 3,
     "metadata": {},
     "output_type": "execute_result"
    }
   ],
   "source": [
    "import numpy as np\n",
    "import pandas as pd\n",
    "import sklearn.metrics\n",
    "from sklearn.utils import shuffle\n",
    "from sklearn.utils import resample\n",
    "import torch\n",
    "\n",
    "df_raw = pd.read_csv('data_banknote_authentication.txt', \n",
    "                     names=['variance', 'skewness', 'kurtosis', 'entropy', 'authentic'])\n",
    "\n",
    "df_balanced = make_balanced(df_raw, 'authentic')\n",
    "X,y_clean = get_X_y(df_balanced, 'authentic')\n",
    "df_balanced['authentic'].value_counts()\n",
    "\n",
    "df_balanced"
   ]
  },
  {
   "cell_type": "markdown",
   "id": "f08b7ee4-17a9-496d-9f7a-6d4098243485",
   "metadata": {},
   "source": [
    "# Flip the labels and show the confusion matrix\n",
    "\n",
    "Note that we are using an asymmetric flipping. This is because we expect that the\n",
    "case-in-controll and controll-in-case error to appear with very different probabilities. "
   ]
  },
  {
   "cell_type": "code",
   "execution_count": 4,
   "id": "honest-enclosure",
   "metadata": {},
   "outputs": [
    {
     "data": {
      "text/plain": [
       "<sklearn.metrics._plot.confusion_matrix.ConfusionMatrixDisplay at 0x7f343e759290>"
      ]
     },
     "execution_count": 4,
     "metadata": {},
     "output_type": "execute_result"
    },
    {
     "data": {
      "image/png": "[encoded data removed]",
      "text/plain": [
       "<Figure size 432x288 with 2 Axes>"
      ]
     },
     "metadata": {
      "needs_background": "light"
     },
     "output_type": "display_data"
    }
   ],
   "source": [
    "y_noisy = flip(y_clean, p01=0.0, p10=0.5)\n",
    "cm = sklearn.metrics.confusion_matrix(y_true=y_clean, y_pred=y_noisy)\n",
    "disp = sklearn.metrics.ConfusionMatrixDisplay(cm)\n",
    "disp.plot()"
   ]
  },
  {
   "cell_type": "markdown",
   "id": "adjusted-father",
   "metadata": {},
   "source": [
    "# Compare different classifiers  classifiers"
   ]
  },
  {
   "cell_type": "markdown",
   "id": "honest-violin",
   "metadata": {},
   "source": [
    "### Scikit Learn KNN with K=1"
   ]
  },
  {
   "cell_type": "code",
   "execution_count": 6,
   "id": "seven-portuguese",
   "metadata": {},
   "outputs": [
    {
     "data": {
      "image/png": "[encoded data removed]",
      "text/plain": [
       "<Figure size 1152x288 with 4 Axes>"
      ]
     },
     "execution_count": 6,
     "metadata": {},
     "output_type": "execute_result"
    }
   ],
   "source": [
    "from sklearn.neighbors import KNeighborsClassifier\n",
    "\n",
    "clf1 = KNeighborsClassifier(n_neighbors=1)\n",
    "clf1.fit(X,y_noisy)\n",
    "y_pred = clf1.predict(X)\n",
    "prob = clf1.predict_proba(X)\n",
    "fig_knn1 = show_results(y_clean, y_noisy, y_pred, prob, title=\"knn_1\")\n",
    "fig_knn1"
   ]
  },
  {
   "cell_type": "markdown",
   "id": "particular-single",
   "metadata": {},
   "source": [
    "### Scikit Learn KNN classifier with K=20"
   ]
  },
  {
   "cell_type": "code",
   "execution_count": 8,
   "id": "abandoned-gross",
   "metadata": {},
   "outputs": [
    {
     "data": {
      "image/png": "[encoded data removed]",
      "text/plain": [
       "<Figure size 1152x288 with 4 Axes>"
      ]
     },
     "execution_count": 8,
     "metadata": {},
     "output_type": "execute_result"
    }
   ],
   "source": [
    "clf2 = KNeighborsClassifier(n_neighbors=20)\n",
    "clf2.fit(X,y_noisy)\n",
    "y_pred = clf2.predict(X)\n",
    "prob = clf2.predict_proba(X)\n",
    "fig_knn_20 = show_results(y_clean, y_noisy, y_pred, prob, title=\"knn_20\")\n",
    "fig_knn_20"
   ]
  },
  {
   "cell_type": "markdown",
   "id": "critical-bradley",
   "metadata": {},
   "source": [
    "### MLP classifier"
   ]
  },
  {
   "cell_type": "code",
   "execution_count": 18,
   "id": "advanced-ontario",
   "metadata": {},
   "outputs": [
    {
     "data": {
      "image/png": "[encoded data removed]",
      "text/plain": [
       "<Figure size 1152x288 with 4 Axes>"
      ]
     },
     "execution_count": 18,
     "metadata": {},
     "output_type": "execute_result"
    }
   ],
   "source": [
    "from sklearn.neural_network import MLPClassifier\n",
    "\n",
    "clf3 = MLPClassifier(hidden_layer_sizes=[], max_iter=20000)\n",
    "clf3.fit(X,y_noisy)\n",
    "y_pred = clf3.predict(X)\n",
    "prob = clf3.predict_proba(X)\n",
    "fig_mlp = show_results(y_clean, y_noisy, y_pred, prob)\n",
    "fig_mlp"
   ]
  },
  {
   "cell_type": "markdown",
   "id": "brown-generic",
   "metadata": {},
   "source": [
    "### Classifier with Noisy Labels"
   ]
  },
  {
   "cell_type": "code",
   "execution_count": 19,
   "id": "polish-joyce",
   "metadata": {},
   "outputs": [
    {
     "name": "stderr",
     "output_type": "stream",
     "text": [
      "GPU available: True, used: True\n",
      "TPU available: False, using: 0 TPU cores\n",
      "IPU available: False, using: 0 IPUs\n",
      "LOCAL_RANK: 0 - CUDA_VISIBLE_DEVICES: [0]\n",
      "\n",
      "  | Name | Type       | Params\n",
      "------------------------------------\n",
      "0 | net  | Sequential | 10    \n",
      "------------------------------------\n",
      "10        Trainable params\n",
      "0         Non-trainable params\n",
      "10        Total params\n",
      "0.000     Total estimated model params size (MB)\n",
      "/opt/conda/lib/python3.7/site-packages/pytorch_lightning/trainer/data_loading.py:133: UserWarning: The dataloader, train_dataloader, does not have many workers which may be a bottleneck. Consider increasing the value of the `num_workers` argument` (try 4 which is the number of cpus on this machine) in the `DataLoader` init to improve performance.\n",
      "  f\"The dataloader, {name}, does not have many workers which may be a bottleneck.\"\n"
     ]
    },
    {
     "data": {
      "application/vnd.jupyter.widget-view+json": {
       "model_id": "73006d541203463c9ca58a71b150a3a8",
       "version_major": 2,
       "version_minor": 0
      },
      "text/plain": [
       "Training: 0it [00:00, ?it/s]"
      ]
     },
     "metadata": {},
     "output_type": "display_data"
    },
    {
     "data": {
      "image/png": "[encoded data removed]",
      "text/plain": [
       "<Figure size 1152x288 with 4 Axes>"
      ]
     },
     "execution_count": 19,
     "metadata": {},
     "output_type": "execute_result"
    }
   ],
   "source": [
    "from tissue_purifier.models.classifier_regressor import MlpClassifier\n",
    "clf4 = MlpClassifier(noisy_labels=True, max_iter=2000, solver='sgd', bootstrap_epoch_start=100)\n",
    "clf4.fit(X,y_noisy)\n",
    "y_pred = clf4.predict(X)\n",
    "prob = clf4.predict_proba(X)\n",
    "show_results(y_clean, y_noisy, y_pred, prob)"
   ]
  },
  {
   "cell_type": "code",
   "execution_count": null,
   "id": "620a6e13-2947-493c-a0b9-e1169419fedc",
   "metadata": {},
   "outputs": [],
   "source": []
  }
 ],
 "metadata": {
  "environment": {
   "kernel": "python3",
   "name": "common-cu113.m84",
   "type": "gcloud",
   "uri": "gcr.io/deeplearning-platform-release/base-cu113:m84"
  },
  "kernelspec": {
   "display_name": "Python 3",
   "language": "python",
   "name": "python3"
  },
  "language_info": {
   "codemirror_mode": {
    "name": "ipython",
    "version": 3
   },
   "file_extension": ".py",
   "mimetype": "text/x-python",
   "name": "python",
   "nbconvert_exporter": "python",
   "pygments_lexer": "ipython3",
   "version": "3.7.12"
  }
 },
 "nbformat": 4,
 "nbformat_minor": 5
}
