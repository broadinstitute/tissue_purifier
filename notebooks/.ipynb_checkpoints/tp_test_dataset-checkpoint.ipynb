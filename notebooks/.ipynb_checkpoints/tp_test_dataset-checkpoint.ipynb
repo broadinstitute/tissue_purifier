{
 "cells": [
  {
   "cell_type": "markdown",
   "id": "industrial-puzzle",
   "metadata": {},
   "source": [
    "# Test detaset"
   ]
  },
  {
   "cell_type": "markdown",
   "id": "patent-champion",
   "metadata": {},
   "source": [
    "### Add the src folder to the path"
   ]
  },
  {
   "cell_type": "code",
   "execution_count": 29,
   "id": "downtown-mongolia",
   "metadata": {},
   "outputs": [
    {
     "name": "stdout",
     "output_type": "stream",
     "text": [
      "The autoreload extension is already loaded. To reload it, use:\n",
      "  %reload_ext autoreload\n"
     ]
    }
   ],
   "source": [
    "%load_ext autoreload\n",
    "%autoreload 2"
   ]
  },
  {
   "cell_type": "code",
   "execution_count": 30,
   "id": "searching-mistress",
   "metadata": {},
   "outputs": [
    {
     "name": "stdout",
     "output_type": "stream",
     "text": [
      "The autoreload extension is already loaded. To reload it, use:\n",
      "  %reload_ext autoreload\n"
     ]
    }
   ],
   "source": [
    "import sys\n",
    "import os\n",
    "\n",
    "root_path = os.path.dirname(os.getcwd())\n",
    "src_path = os.path.join(root_path, \"src\")\n",
    "sys.path.insert(0, src_path)\n",
    "\n",
    "%load_ext autoreload\n",
    "%autoreload 2"
   ]
  },
  {
   "cell_type": "code",
   "execution_count": 3,
   "id": "paperback-relation",
   "metadata": {},
   "outputs": [],
   "source": [
    "import torch\n",
    "from torch.utils.data import Dataset, DataLoader, TensorDataset"
   ]
  },
  {
   "cell_type": "code",
   "execution_count": null,
   "id": "premier-garden",
   "metadata": {},
   "outputs": [],
   "source": [
    "\n",
    "class EmbedOutput(NamedTuple):\n",
    "    embeddings_head: torch.Tensor\n",
    "    embeddings_bbone: torch.Tensor\n",
    "    labels: torch.Tensor\n",
    "    fnames: list\n",
    "    x_locs: list\n",
    "    y_locs: list\n",
    "    sparse_callback: list\n",
    "    sparse_callback2: list\n",
    "    dense_callback: list\n",
    "    dense_callback2: list\n",
    "    \n",
    "    \n",
    "mything = EmbedOutput(embeddings_head=a,\n",
    "                      embeddings_bbone=b,\n",
    "                      ....) \n",
    "\n",
    "mything.a "
   ]
  },
  {
   "cell_type": "code",
   "execution_count": 38,
   "id": "apart-hygiene",
   "metadata": {},
   "outputs": [
    {
     "name": "stdout",
     "output_type": "stream",
     "text": [
      "AAA ->\t<class 'tuple'>\t2\ttorch.Size([1, 80, 80])\ttorch.Size([])\n",
      "HERE\n",
      "<class 'list'>\t12\t<class 'tuple'>\t2\n"
     ]
    },
    {
     "ename": "TypeError",
     "evalue": "object of type 'NoneType' has no len()",
     "output_type": "error",
     "traceback": [
      "\u001b[0;31m---------------------------------------------------------------------------\u001b[0m",
      "\u001b[0;31mTypeError\u001b[0m                                 Traceback (most recent call last)",
      "\u001b[0;32m<ipython-input-38-5ff77fa1e252>\u001b[0m in \u001b[0;36m<module>\u001b[0;34m\u001b[0m\n\u001b[1;32m     23\u001b[0m \u001b[0;34m\u001b[0m\u001b[0m\n\u001b[1;32m     24\u001b[0m \u001b[0mbatch\u001b[0m \u001b[0;34m=\u001b[0m \u001b[0mnext\u001b[0m\u001b[0;34m(\u001b[0m\u001b[0miter\u001b[0m\u001b[0;34m(\u001b[0m\u001b[0mloader\u001b[0m\u001b[0;34m)\u001b[0m\u001b[0;34m)\u001b[0m\u001b[0;34m\u001b[0m\u001b[0;34m\u001b[0m\u001b[0m\n\u001b[0;32m---> 25\u001b[0;31m \u001b[0mprint\u001b[0m\u001b[0;34m(\u001b[0m\u001b[0;34m\"BBB ->\"\u001b[0m\u001b[0;34m,\u001b[0m \u001b[0mtype\u001b[0m\u001b[0;34m(\u001b[0m\u001b[0mbatch\u001b[0m\u001b[0;34m)\u001b[0m\u001b[0;34m,\u001b[0m \u001b[0mlen\u001b[0m\u001b[0;34m(\u001b[0m\u001b[0mbatch\u001b[0m\u001b[0;34m)\u001b[0m\u001b[0;34m,\u001b[0m \u001b[0mbatch\u001b[0m\u001b[0;34m[\u001b[0m\u001b[0;36m0\u001b[0m\u001b[0;34m]\u001b[0m\u001b[0;34m.\u001b[0m\u001b[0mshape\u001b[0m\u001b[0;34m,\u001b[0m \u001b[0mbatch\u001b[0m\u001b[0;34m[\u001b[0m\u001b[0;36m1\u001b[0m\u001b[0;34m]\u001b[0m\u001b[0;34m.\u001b[0m\u001b[0mshape\u001b[0m\u001b[0;34m,\u001b[0m \u001b[0msep\u001b[0m\u001b[0;34m=\u001b[0m\u001b[0;34m\"\\t\"\u001b[0m\u001b[0;34m)\u001b[0m\u001b[0;34m\u001b[0m\u001b[0;34m\u001b[0m\u001b[0m\n\u001b[0m",
      "\u001b[0;31mTypeError\u001b[0m: object of type 'NoneType' has no len()"
     ]
    }
   ],
   "source": [
    "x = torch.zeros((23,1,80,80))\n",
    "y = torch.arange(23)\n",
    "\n",
    "dataset = TensorDataset(x,y)\n",
    "data = dataset.__getitem__(6)\n",
    "# STANDARD: getitem retuns a tuple of n elements (in this case n=2)\n",
    "# OUR: getitem retuns a tuple of n elements (n=3: crop, label, namedtuple) where namedtuple has all metadata\n",
    "print(\"AAA ->\", type(data), len(data), data[0].shape, data[1].shape, sep=\"\\t\")\n",
    "\n",
    "\n",
    "class SpecialCollateFn(transform, paired_output: bool):\n",
    "    \n",
    "    # Takes a list of lenght batch_size, each element in the list is the tuple from __getitem__\n",
    "    # STANDARD: They need to be combined into tensor(s), in the default mode this is just a stask operation  \n",
    "    # OUR: the first two the same (stack), the last make a tuple_of_namedtuple\n",
    "    \n",
    "    # If paired_output == False return:\n",
    "    # transform(img), labels, tuple_of_namedtuple\n",
    "    # Else:\n",
    "    # (transform(img), transform(img)), labels, tuple_of_namedtuple\n",
    "    \n",
    "    # The transform should be applied before stacking so that each image has its own transform.\n",
    "    # GOAL: Write collate_fn so that user can pass a standard transform.\n",
    "    def __call__(self, data):\n",
    "        \n",
    "        print(\"HERE\")\n",
    "        print(type(data), len(data), type(data[0]), len(data[0]), sep=\"\\t\")\n",
    "\n",
    "# STANDARD: dataloader retuns a list of lenght 2, each elements is a tensor (imgs and labels)\n",
    "# OUR: dataloader retuns a list of lenght 3, (tensor_imgs and tensor_labels and tuple_of_namedtuple)  \n",
    "loader = DataLoader(\n",
    "    dataset,\n",
    "    batch_size=12,\n",
    "    collate_fn=SpecialCollateFn(),\n",
    "    num_workers=0,  # problem if this is larger than 0\n",
    "    shuffle=False)\n",
    "\n",
    "batch = next(iter(loader))\n",
    "print(\"BBB ->\", type(batch), len(batch), batch[0].shape, batch[1].shape, sep=\"\\t\")\n",
    "\n",
    "\n"
   ]
  }
 ],
 "metadata": {
  "environment": {
   "name": "pytorch-gpu.1-7.m65",
   "type": "gcloud",
   "uri": "gcr.io/deeplearning-platform-release/pytorch-gpu.1-7:m65"
  },
  "kernelspec": {
   "display_name": "Python 3",
   "language": "python",
   "name": "python3"
  },
  "language_info": {
   "codemirror_mode": {
    "name": "ipython",
    "version": 3
   },
   "file_extension": ".py",
   "mimetype": "text/x-python",
   "name": "python",
   "nbconvert_exporter": "python",
   "pygments_lexer": "ipython3",
   "version": "3.8.8"
  }
 },
 "nbformat": 4,
 "nbformat_minor": 5
}
