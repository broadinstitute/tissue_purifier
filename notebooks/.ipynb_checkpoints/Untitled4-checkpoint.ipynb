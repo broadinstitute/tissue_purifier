{
 "cells": [
  {
   "cell_type": "code",
   "execution_count": 45,
   "id": "stretch-choice",
   "metadata": {},
   "outputs": [],
   "source": [
    "import itertools\n",
    "import numpy as np\n",
    "from typing import Tuple\n",
    "\n",
    "    \n",
    "def find_MHD_codewords(\n",
    "    N_rounds: int=6, \n",
    "    Hamming_Weights: Tuple = (2,3,4,5), \n",
    "    minimum_distance: int = 4, \n",
    "    max_memory: int = 1000 ):\n",
    "    \n",
    "    def is_distance_gt_threshold(_word, _old_words, _min_distance):\n",
    "        \"\"\" \n",
    "        Compare one np.array with a list of np.arrays. \n",
    "        If the distances are all larger than the min_distance it return False. Otherwise it returns True\n",
    "        \"\"\"\n",
    "        for _old_word in _old_words:\n",
    "            hd = np.abs(_word - _old_word).sum() \n",
    "            if hd < _min_distance:\n",
    "                return False\n",
    "        return True\n",
    "    \n",
    "    found_codewords = []  \n",
    "    tried_codewords = []\n",
    "    for HW in Hamming_Weights:\n",
    "        for word in itertools.permutations([1]*HW + [0]*(N_rounds-HW), N_rounds):\n",
    "            new_word = list(word)\n",
    "            # print(new_word)\n",
    "            if new_word not in tried_codewords:\n",
    "                tried_codewords.append(new_word)\n",
    "                if len(tried_codewords) == max_memory:\n",
    "                    tried_codewords.pop(-max_memory)\n",
    "            \n",
    "                # At this point I have word without replacement\n",
    "            \n",
    "                np_word = np.array(new_word, dtype=int)\n",
    "                # print(\"Testing ->\", np_word)\n",
    "            \n",
    "                if is_distance_gt_threshold(word, found_codewords, minimum_distance):\n",
    "                    found_codewords.append(np_word)\n",
    "    return found_codewords\n",
    "            \n"
   ]
  },
  {
   "cell_type": "code",
   "execution_count": 50,
   "id": "minus-tribune",
   "metadata": {},
   "outputs": [
    {
     "name": "stdout",
     "output_type": "stream",
     "text": [
      "3\n",
      "12\n"
     ]
    }
   ],
   "source": [
    "MHD4_R6 = find_MHD_codewords(N_rounds=6, Hamming_Weights = (2,3,4), minimum_distance=4) \n",
    "print(len(MHD4_R6))\n",
    "\n",
    "MHD4_R8 = find_MHD_codewords(N_rounds=8, Hamming_Weights = (2,3,4), minimum_distance=4) \n",
    "print(len(MHD4_R8))"
   ]
  },
  {
   "cell_type": "code",
   "execution_count": null,
   "id": "determined-taiwan",
   "metadata": {},
   "outputs": [],
   "source": [
    "MHD4_R16 = find_MHD_codewords(N_rounds=16, Hamming_Weights = (4,), minimum_distance=4) \n",
    "print(len(MHD4_R16))"
   ]
  },
  {
   "cell_type": "code",
   "execution_count": null,
   "id": "conceptual-permission",
   "metadata": {},
   "outputs": [],
   "source": []
  }
 ],
 "metadata": {
  "kernelspec": {
   "display_name": "pyro",
   "language": "python",
   "name": "pyro"
  },
  "language_info": {
   "codemirror_mode": {
    "name": "ipython",
    "version": 3
   },
   "file_extension": ".py",
   "mimetype": "text/x-python",
   "name": "python",
   "nbconvert_exporter": "python",
   "pygments_lexer": "ipython3",
   "version": "3.8.8"
  }
 },
 "nbformat": 4,
 "nbformat_minor": 5
}
