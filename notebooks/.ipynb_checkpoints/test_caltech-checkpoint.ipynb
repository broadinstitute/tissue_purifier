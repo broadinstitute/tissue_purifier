{
 "cells": [
  {
   "cell_type": "markdown",
   "id": "split-cleaner",
   "metadata": {},
   "source": [
    "# Exploration of dataset"
   ]
  },
  {
   "cell_type": "markdown",
   "id": "concrete-logic",
   "metadata": {},
   "source": [
    "### Common Imports"
   ]
  },
  {
   "cell_type": "code",
   "execution_count": 1,
   "id": "living-firewall",
   "metadata": {},
   "outputs": [],
   "source": [
    "import sys\n",
    "import os\n",
    "\n",
    "root_path = os.path.dirname(os.getcwd())\n",
    "src_path = os.path.join(root_path, \"src\")\n",
    "sys.path.insert(0, src_path)\n",
    "\n",
    "%load_ext autoreload\n",
    "%autoreload 2"
   ]
  },
  {
   "cell_type": "code",
   "execution_count": 2,
   "id": "dramatic-brake",
   "metadata": {},
   "outputs": [],
   "source": [
    "%matplotlib inline\n",
    "import torch\n",
    "import numpy\n",
    "import matplotlib.pyplot as plt"
   ]
  },
  {
   "cell_type": "code",
   "execution_count": 6,
   "id": "distributed-decision",
   "metadata": {},
   "outputs": [
    {
     "name": "stdout",
     "output_type": "stream",
     "text": [
      "tensor([ 457,  458,  459,  ..., 9141, 9142, 9143])\n",
      "<tissue_purifier.data_utils.dataset.AddFakeMetadata object at 0x7fe7d30aa5b0>\n"
     ]
    }
   ],
   "source": [
    "import torchvision\n",
    "from os.path import join\n",
    "from tissue_purifier.data_utils.dataset import AddFakeMetadata\n",
    "data_dir = '/Users/ldalessi/REPOS/ML_for_slideseq/notebooks/caltech101_data'\n",
    "\n",
    "\n",
    "dataset_img_category = torchvision.datasets.ImageFolder(\n",
    "    root=join(data_dir, 'caltech101/101_ObjectCategories'),\n",
    "    transform=None)\n",
    "\n",
    "# prepare to split the data into train and test (test has 10 images for category)\n",
    "cat_id_for_each_img = torch.tensor([dataset_img_category.samples[n][1]\n",
    "                                    for n in range(dataset_img_category.__len__())])\n",
    "counts_for_category = torch.bincount(cat_id_for_each_img)\n",
    "end_of_each_category = torch.cumsum(counts_for_category, dim=0)\n",
    "mask_train = torch.ones_like(cat_id_for_each_img).bool()\n",
    "for n in end_of_each_category:\n",
    "    mask_train[n-10:n] = False\n",
    "indices_full = torch.arange(dataset_img_category.__len__())\n",
    "indices_train = indices_full[mask_train]\n",
    "indices_test = indices_full[~mask_train]\n",
    "\n",
    "# Add the fake metadata and spli into train and test dataset\n",
    "dataset_full = AddFakeMetadata(dataset_img_category)\n",
    "dataset_train = torch.utils.data.dataset.Subset(dataset=dataset_full, indices=indices_train)\n",
    "dataset_test = torch.utils.data.dataset.Subset(dataset=dataset_full, indices=indices_test)"
   ]
  },
  {
   "cell_type": "code",
   "execution_count": 10,
   "id": "underlying-spyware",
   "metadata": {},
   "outputs": [
    {
     "data": {
      "text/plain": [
       "1020"
      ]
     },
     "execution_count": 10,
     "metadata": {},
     "output_type": "execute_result"
    }
   ],
   "source": [
    "dataset_test.__len__()"
   ]
  },
  {
   "cell_type": "code",
   "execution_count": 4,
   "id": "forward-insert",
   "metadata": {},
   "outputs": [
    {
     "ename": "NameError",
     "evalue": "name 'detaset_full' is not defined",
     "output_type": "error",
     "traceback": [
      "\u001b[0;31m---------------------------------------------------------------------------\u001b[0m",
      "\u001b[0;31mNameError\u001b[0m                                 Traceback (most recent call last)",
      "\u001b[0;32m<ipython-input-4-50d735dd4f2e>\u001b[0m in \u001b[0;36m<module>\u001b[0;34m\u001b[0m\n\u001b[0;32m----> 1\u001b[0;31m \u001b[0mdetaset_full\u001b[0m\u001b[0;34m.\u001b[0m\u001b[0m__len__\u001b[0m\u001b[0;34m(\u001b[0m\u001b[0;34m)\u001b[0m\u001b[0;34m\u001b[0m\u001b[0;34m\u001b[0m\u001b[0m\n\u001b[0m",
      "\u001b[0;31mNameError\u001b[0m: name 'detaset_full' is not defined"
     ]
    }
   ],
   "source": [
    "detaset_full.__len__()"
   ]
  },
  {
   "cell_type": "code",
   "execution_count": 13,
   "id": "exciting-geology",
   "metadata": {},
   "outputs": [
    {
     "name": "stdout",
     "output_type": "stream",
     "text": [
      "{'gpus': 0, 'data_dir': './caltech101_data', 'num_workers': 4, 'global_size': 128, 'local_size': 64, 'global_scale': [0.7, 1.0], 'local_scale': [0.3, 0.5], 'n_local_crops': 6, 'n_global_crops': 2, 'batch_size_per_gpu': 8}\n"
     ]
    }
   ],
   "source": [
    "from tissue_purifier.data_utils.datamodule import CaltechDM\n",
    "\n",
    "DM = CaltechDM\n",
    "config_dict = DM.get_default_params()\n",
    "config_dict[\"batch_size_per_gpu\"]=8\n",
    "print(config_dict)"
   ]
  },
  {
   "cell_type": "code",
   "execution_count": 14,
   "id": "separated-finish",
   "metadata": {},
   "outputs": [
    {
     "name": "stdout",
     "output_type": "stream",
     "text": [
      "-----> running datamodule init\n",
      "-----> running datamodule prepare_data\n",
      "untar data\n",
      "untar already exists\n",
      "train dataset length --> 8124\n",
      "test dataset length --> 1020\n",
      "-----> running datamodule setup. stage ->None\n"
     ]
    }
   ],
   "source": [
    "dm = DM(**config_dict)\n",
    "dm.prepare_data()\n",
    "dm.setup(stage=None)"
   ]
  },
  {
   "cell_type": "code",
   "execution_count": 15,
   "id": "improved-admission",
   "metadata": {},
   "outputs": [
    {
     "data": {
      "text/plain": [
       "1020"
      ]
     },
     "execution_count": 15,
     "metadata": {},
     "output_type": "execute_result"
    }
   ],
   "source": [
    "loader = dm.val_dataloader()[0]\n",
    "loader.dataset.__len__()"
   ]
  },
  {
   "cell_type": "code",
   "execution_count": 16,
   "id": "chicken-mystery",
   "metadata": {},
   "outputs": [],
   "source": [
    "batch = next(iter(dm.train_dataloader()))"
   ]
  },
  {
   "cell_type": "code",
   "execution_count": null,
   "id": "union-pension",
   "metadata": {},
   "outputs": [],
   "source": [
    "list_imgs, list_labels, list_metadata = batch"
   ]
  },
  {
   "cell_type": "code",
   "execution_count": null,
   "id": "breathing-environment",
   "metadata": {},
   "outputs": [],
   "source": [
    "imgs = dm.trsfm_test(list_imgs)"
   ]
  },
  {
   "cell_type": "code",
   "execution_count": null,
   "id": "exciting-runner",
   "metadata": {},
   "outputs": [],
   "source": [
    "imgs.shape"
   ]
  },
  {
   "cell_type": "code",
   "execution_count": null,
   "id": "enabling-surface",
   "metadata": {},
   "outputs": [],
   "source": [
    "imgs"
   ]
  },
  {
   "cell_type": "code",
   "execution_count": null,
   "id": "documented-monster",
   "metadata": {},
   "outputs": [],
   "source": [
    "n = 7\n",
    "show_raw_all_channels(imgs[n])"
   ]
  },
  {
   "cell_type": "code",
   "execution_count": null,
   "id": "fundamental-string",
   "metadata": {},
   "outputs": [],
   "source": [
    "list_imgs"
   ]
  },
  {
   "cell_type": "code",
   "execution_count": null,
   "id": "weighted-degree",
   "metadata": {},
   "outputs": [],
   "source": [
    "list_metadata"
   ]
  },
  {
   "cell_type": "code",
   "execution_count": null,
   "id": "guilty-austin",
   "metadata": {},
   "outputs": [],
   "source": []
  },
  {
   "cell_type": "code",
   "execution_count": null,
   "id": "mediterranean-defense",
   "metadata": {},
   "outputs": [],
   "source": [
    "list_labels"
   ]
  },
  {
   "cell_type": "code",
   "execution_count": null,
   "id": "silver-airport",
   "metadata": {},
   "outputs": [],
   "source": []
  },
  {
   "cell_type": "code",
   "execution_count": null,
   "id": "genuine-ladder",
   "metadata": {},
   "outputs": [],
   "source": []
  },
  {
   "cell_type": "code",
   "execution_count": null,
   "id": "going-walter",
   "metadata": {},
   "outputs": [],
   "source": []
  },
  {
   "cell_type": "code",
   "execution_count": null,
   "id": "manufactured-excellence",
   "metadata": {},
   "outputs": [],
   "source": []
  },
  {
   "cell_type": "code",
   "execution_count": null,
   "id": "interior-migration",
   "metadata": {},
   "outputs": [],
   "source": [
    "import neptune.new as neptune\n",
    "NEPTUNE_TOKEN = \"eyJhcGlfYWRkcmVzcyI6Imh0dHBzOi8vYXBwLm5lcHR1bmUuYWkiLCJhcGlfdXJsIjoiaHR0cHM6Ly9hcHAubmVwdHVuZS5haSIsImFwaV9rZXkiOiJjZTkyYmJiYi0wN2E1LTRkY2YtOWU3Ny1kNjhjYmM3ZTVkNWEifQ==\"\n",
    "NEPTUNE_PROJECT = \"cellarium/tissue-purifier\"\n",
    "\n",
    "dataset = \"testis_dataset\" \n",
    "logging_mode = \"offline\" # or \"async\"\n",
    "\n",
    "if dataset == \"kidney_dataset\":\n",
    "    DM = SlideSeqKidneyDM\n",
    "elif dataset == \"testis_dataset\":\n",
    "    DM = SlideSeqTestisDM\n",
    "else:\n",
    "    raise Exception()\n",
    "\n",
    "exp: neptune.run.Run = neptune.init(project=NEPTUNE_PROJECT,\n",
    "                                    api_token=NEPTUNE_TOKEN,\n",
    "                                    mode=logging_mode,\n",
    "                                    tags=dataset)"
   ]
  },
  {
   "cell_type": "markdown",
   "id": "funny-tunisia",
   "metadata": {},
   "source": [
    "# Use default dictionary (or modify it)"
   ]
  },
  {
   "cell_type": "code",
   "execution_count": null,
   "id": "advance-variable",
   "metadata": {},
   "outputs": [],
   "source": [
    "config_dict = DM.get_default_params()\n",
    "    \n",
    "config_dict['n_crops_for_tissue_test'] = 20\n",
    "config_dict['dropout_range'] = [0.0, 0.2]\n",
    "config_dict['cohort'] = 'all'\n",
    "\n",
    "# print(config_dict)\n",
    "\n",
    "dm = DM(**config_dict)\n",
    "dm.prepare_data()\n",
    "dm.setup(stage=None)"
   ]
  },
  {
   "cell_type": "markdown",
   "id": "fifth-acoustic",
   "metadata": {},
   "source": [
    "## Log the transform"
   ]
  },
  {
   "cell_type": "code",
   "execution_count": null,
   "id": "lovely-chinese",
   "metadata": {},
   "outputs": [],
   "source": [
    "exp[\"transform/local\"] = dm.trsfm_train_local\n",
    "exp[\"transform/global\"] = dm.trsfm_train_global\n",
    "exp[\"transform/test\"] = dm.trsfm_test"
   ]
  },
  {
   "cell_type": "markdown",
   "id": "behavioral-consolidation",
   "metadata": {},
   "source": [
    "## check the dataloader"
   ]
  },
  {
   "cell_type": "code",
   "execution_count": null,
   "id": "overall-attraction",
   "metadata": {},
   "outputs": [],
   "source": [
    "from collections import Counter\n",
    "\n",
    "batch = next(iter(dm.train_dataloader()))\n",
    "list_imgs, list_labels, list_metadata = batch\n",
    "f_names = [metadata.f_name for metadata in list_metadata]\n",
    "print(\"composition of one minibatch\", Counter(f_names))"
   ]
  },
  {
   "cell_type": "markdown",
   "id": "white-pound",
   "metadata": {},
   "source": [
    "## get the dataset"
   ]
  },
  {
   "cell_type": "code",
   "execution_count": null,
   "id": "loaded-tournament",
   "metadata": {},
   "outputs": [],
   "source": [
    "train_dataset = dm.train_dataloader().dataset\n",
    "print(type(train_dataset))\n",
    "#vars(train_dataset)\n",
    "cat_to_codes = train_dataset.imgs[0]._categories_to_codes\n",
    "print(cat_to_codes)"
   ]
  },
  {
   "cell_type": "code",
   "execution_count": null,
   "id": "expanded-sunset",
   "metadata": {},
   "outputs": [],
   "source": [
    "#vars(train_dataset.imgs[0])"
   ]
  },
  {
   "cell_type": "markdown",
   "id": "several-thriller",
   "metadata": {},
   "source": [
    "## Measure the tissue composition"
   ]
  },
  {
   "cell_type": "code",
   "execution_count": null,
   "id": "graphic-marijuana",
   "metadata": {},
   "outputs": [],
   "source": [
    "from tissue_purifier.model_utils.analyzer import Composition\n",
    "\n",
    "composer = Composition(return_fraction=True)\n",
    "\n",
    "list_composition = composer(train_dataset.imgs)\n",
    "list_f_names = [metadata.f_name for metadata in  train_dataset.metadatas]\n",
    "cell_names = list(train_dataset.imgs[0]._categories_to_codes.keys())"
   ]
  },
  {
   "cell_type": "markdown",
   "id": "binary-blair",
   "metadata": {},
   "source": [
    "## Plot Cell composition at the tissue level"
   ]
  },
  {
   "cell_type": "code",
   "execution_count": null,
   "id": "international-influence",
   "metadata": {},
   "outputs": [],
   "source": [
    "fig_cell_count = plot_composition(\n",
    "    list_composition, \n",
    "    dataset_labels=None, #list_f_names, \n",
    "    x_labels=cell_names,\n",
    "    title=\"Tissue Compositions\",\n",
    "    figsize=(9,9),\n",
    ")\n",
    "exp[\"cell_counts\"].log(neptune.types.File.as_image(fig_cell_count))"
   ]
  },
  {
   "cell_type": "code",
   "execution_count": null,
   "id": "supposed-dietary",
   "metadata": {},
   "outputs": [],
   "source": [
    "fig_cell_count"
   ]
  },
  {
   "cell_type": "markdown",
   "id": "cross-grace",
   "metadata": {},
   "source": [
    "## Full Images"
   ]
  },
  {
   "cell_type": "code",
   "execution_count": null,
   "id": "official-industry",
   "metadata": {},
   "outputs": [],
   "source": [
    "from tissue_purifier.data_utils.transforms import *\n",
    "\n",
    "dense_and_raster =torchvision.transforms.Compose([SparseToDense(), Rasterize(sigma=dm.rasterize_sigma)])\n",
    "list_fig_all_channel = []\n",
    "list_fig_one_channel = []\n",
    "for n,(sp_image, f_name) in enumerate(zip(train_dataset.imgs, list_f_names)):\n",
    "    dense_img = dense_and_raster(sp_image.data)\n",
    "    \n",
    "    counters = dense_img.sum(dim=(-1,-2))\n",
    "    rounded_counts= str(numpy.around(counters.cpu().numpy(), decimals=2).tolist())\n",
    "    titles = [a+\" -> {0:.4}\".format(b.item()) for a,b in zip(list(cell_names),counters)]\n",
    "\n",
    "    fig_all_channel = show_raw_all_channels(dense_img, cmap=\"tab20\", n_col=3, figsize=(12,12), \n",
    "                                            sup_title=f_name + \"-->\" + rounded_counts, \n",
    "                                            legend_colorbar=list(cell_names))\n",
    "    fig_one_channel = show_raw_one_channel(dense_img, cmap='gray', n_col=3, figsize=(10,10), \n",
    "                                           sup_title=f_name, \n",
    "                                           titles=titles)\n",
    "    exp[\"full_sample/all_channels\"].log(neptune.types.File.as_image(fig_all_channel))\n",
    "    exp[\"full_sample/one_channel\"].log(neptune.types.File.as_image(fig_one_channel))\n",
    "    list_fig_one_channel.append(fig_one_channel)\n",
    "    list_fig_all_channel.append(fig_all_channel)"
   ]
  },
  {
   "cell_type": "code",
   "execution_count": null,
   "id": "oriented-recycling",
   "metadata": {},
   "outputs": [],
   "source": [
    "list_fig_one_channel[0]"
   ]
  },
  {
   "cell_type": "code",
   "execution_count": null,
   "id": "organizational-replication",
   "metadata": {},
   "outputs": [],
   "source": [
    "list_fig_all_channel[0]"
   ]
  },
  {
   "cell_type": "markdown",
   "id": "pregnant-agenda",
   "metadata": {},
   "source": [
    "# Crops"
   ]
  },
  {
   "cell_type": "code",
   "execution_count": null,
   "id": "regional-information",
   "metadata": {},
   "outputs": [],
   "source": [
    "n_iter = 4\n",
    "n_examples = 5"
   ]
  },
  {
   "cell_type": "markdown",
   "id": "settled-tracy",
   "metadata": {},
   "source": [
    "## Validation dataset"
   ]
  },
  {
   "cell_type": "code",
   "execution_count": null,
   "id": "successful-lodge",
   "metadata": {},
   "outputs": [],
   "source": [
    "val_dataloader = dm.val_dataloader()[0]\n",
    "list_img, list_label, list_meta = next(iter(val_dataloader))\n",
    "\n",
    "all_imgs = []\n",
    "for n in range(n_iter):\n",
    "    imgs_tmp = dm.trsfm_test(list_img[:n_examples])\n",
    "    all_imgs.append(imgs_tmp)\n",
    "    \n",
    "imgs_ref = torch.cat(all_imgs, dim=0)\n",
    "counters = imgs_ref.sum(dim=(-1,-2,-3))\n",
    "titles = [\"I_tot -> {0:.4}\".format(a.item()) for a in counters]\n",
    "\n",
    "ref_all_ch_fig = show_raw_all_channels(imgs_ref, cmap=\"tab10\", n_col=n_examples, figsize=(10,10), sup_title=\"Reference crops\", titles=titles)\n",
    "exp[\"crops/all_channels\"].log(neptune.types.File.as_image(ref_all_ch_fig))\n",
    "ref_all_ch_fig"
   ]
  },
  {
   "cell_type": "code",
   "execution_count": null,
   "id": "modern-disabled",
   "metadata": {},
   "outputs": [],
   "source": [
    "counters = imgs_ref[0].sum(dim=(-1,-2))\n",
    "titles = [a+\" -> {0:.4}\".format(b.item()) for a,b in zip(list(cell_names),counters)]\n",
    "\n",
    "ref_one_ch_fig = show_raw_one_channel(imgs_ref[0], cmap='gray', n_col=3, figsize=(10,10), sup_title=\"Reference crops\", titles=titles)\n",
    "exp[\"crops/one_channel\"].log(neptune.types.File.as_image(ref_one_ch_fig))\n",
    "ref_one_ch_fig"
   ]
  },
  {
   "cell_type": "markdown",
   "id": "gorgeous-fishing",
   "metadata": {},
   "source": [
    "## Local and global"
   ]
  },
  {
   "cell_type": "code",
   "execution_count": null,
   "id": "exposed-brown",
   "metadata": {},
   "outputs": [],
   "source": [
    "train_dataloader = dm.train_dataloader()\n",
    "list_img, list_label, list_meta = next(iter(train_dataloader))\n",
    "\n",
    "all_imgs_local, all_imgs_global = [], []\n",
    "for n in range(n_iter):\n",
    "    imgs_tmp_global = dm.trsfm_train_global(list_img[:n_examples])\n",
    "    imgs_tmp_local = dm.trsfm_train_local(list_img[:n_examples])   \n",
    "    \n",
    "    all_imgs_local.append(imgs_tmp_local)\n",
    "    all_imgs_global.append(imgs_tmp_global)\n",
    "    \n",
    "imgs_local = torch.cat(all_imgs_local, dim=0)\n",
    "imgs_global = torch.cat(all_imgs_global, dim=0)"
   ]
  },
  {
   "cell_type": "markdown",
   "id": "under-makeup",
   "metadata": {},
   "source": [
    "### Global"
   ]
  },
  {
   "cell_type": "code",
   "execution_count": null,
   "id": "documented-genome",
   "metadata": {},
   "outputs": [],
   "source": [
    "counters = imgs_global.sum(dim=(-1,-2,-3))\n",
    "titles = [\"I_tot -> {0:.4}\".format(a.item()) for a in counters]\n",
    "\n",
    "global_all_ch_fig = show_raw_all_channels(imgs_global, cmap=\"tab10\", n_col=n_examples, figsize=(10,10), sup_title=\"Global crops\", titles=titles)\n",
    "exp[\"crops/all_channels\"].log(neptune.types.File.as_image(global_all_ch_fig))\n",
    "global_all_ch_fig"
   ]
  },
  {
   "cell_type": "code",
   "execution_count": null,
   "id": "italic-fifth",
   "metadata": {},
   "outputs": [],
   "source": [
    "counters = imgs_global[0].sum(dim=(-1,-2))\n",
    "titles = [a+\" -> {0:.4}\".format(b.item()) for a,b in zip(list(cell_names),counters)]\n",
    "\n",
    "global_one_ch_fig = show_raw_one_channel(imgs_global[0], cmap='gray', n_col=3, figsize=(10,10), sup_title=\"Global crops\", titles=titles)\n",
    "exp[\"crops/one_channel\"].log(neptune.types.File.as_image(global_one_ch_fig))\n",
    "global_one_ch_fig"
   ]
  },
  {
   "cell_type": "markdown",
   "id": "wrong-trading",
   "metadata": {},
   "source": [
    "### Local"
   ]
  },
  {
   "cell_type": "code",
   "execution_count": null,
   "id": "crucial-password",
   "metadata": {},
   "outputs": [],
   "source": [
    "counters = imgs_local.sum(dim=(-1,-2,-3))\n",
    "titles = [\"I_tot -> {0:.4}\".format(a.item()) for a in counters]\n",
    "\n",
    "local_all_ch_fig = show_raw_all_channels(imgs_local, cmap=\"tab10\", n_col=n_examples, figsize=(10,10), sup_title=\"Local crops\", titles=titles)\n",
    "exp[\"crops/all_channels\"].log(neptune.types.File.as_image(local_all_ch_fig))\n",
    "local_all_ch_fig"
   ]
  },
  {
   "cell_type": "code",
   "execution_count": null,
   "id": "enabling-daniel",
   "metadata": {},
   "outputs": [],
   "source": [
    "counters = imgs_local[0].sum(dim=(-1,-2))\n",
    "titles = [a+\" -> {0:.4}\".format(b.item()) for a,b in zip(list(cell_names),counters)]\n",
    "\n",
    "local_one_ch_fig = show_raw_one_channel(imgs_local[0], cmap='gray', n_col=3, figsize=(10,10), sup_title=\"Local crops\", titles=titles)\n",
    "exp[\"crops/one_channel\"].log(neptune.types.File.as_image(local_one_ch_fig))\n",
    "local_one_ch_fig"
   ]
  },
  {
   "cell_type": "code",
   "execution_count": null,
   "id": "prescription-charity",
   "metadata": {},
   "outputs": [],
   "source": [
    "exp.stop()"
   ]
  },
  {
   "cell_type": "code",
   "execution_count": null,
   "id": "removed-reconstruction",
   "metadata": {},
   "outputs": [],
   "source": []
  },
  {
   "cell_type": "code",
   "execution_count": null,
   "id": "better-optimization",
   "metadata": {},
   "outputs": [],
   "source": []
  }
 ],
 "metadata": {
  "environment": {
   "name": "pytorch-gpu.1-7.m65",
   "type": "gcloud",
   "uri": "gcr.io/deeplearning-platform-release/pytorch-gpu.1-7:m65"
  },
  "kernelspec": {
   "display_name": "Python 3",
   "language": "python",
   "name": "python3"
  },
  "language_info": {
   "codemirror_mode": {
    "name": "ipython",
    "version": 3
   },
   "file_extension": ".py",
   "mimetype": "text/x-python",
   "name": "python",
   "nbconvert_exporter": "python",
   "pygments_lexer": "ipython3",
   "version": "3.8.8"
  }
 },
 "nbformat": 4,
 "nbformat_minor": 5
}
