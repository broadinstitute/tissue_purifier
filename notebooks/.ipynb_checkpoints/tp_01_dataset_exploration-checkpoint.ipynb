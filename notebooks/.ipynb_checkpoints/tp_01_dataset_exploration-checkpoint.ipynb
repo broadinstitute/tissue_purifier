{
 "cells": [
  {
   "cell_type": "markdown",
   "id": "split-cleaner",
   "metadata": {},
   "source": [
    "# Exploration of dataset"
   ]
  },
  {
   "cell_type": "markdown",
   "id": "concrete-logic",
   "metadata": {},
   "source": [
    "### Common Imports"
   ]
  },
  {
   "cell_type": "code",
   "execution_count": 1,
   "id": "living-firewall",
   "metadata": {},
   "outputs": [],
   "source": [
    "import sys\n",
    "import os\n",
    "\n",
    "root_path = os.path.dirname(os.getcwd())\n",
    "src_path = os.path.join(root_path, \"src\")\n",
    "sys.path.insert(0, src_path)\n",
    "\n",
    "%load_ext autoreload\n",
    "%autoreload 2"
   ]
  },
  {
   "cell_type": "code",
   "execution_count": 32,
   "id": "dramatic-brake",
   "metadata": {},
   "outputs": [],
   "source": [
    "%matplotlib inline\n",
    "import torch\n",
    "import numpy\n",
    "import matplotlib.pyplot as plt\n",
    "from tissue_purifier.data_utils.datamodule import SlideSeqKidneyDM, SlideSeqTestisDM\n",
    "from tissue_purifier.plot_utils.plot_images import show_raw_all_channels, show_raw_one_channel, show_batch\n",
    "from tissue_purifier.plot_utils.plot_misc import plot_composition"
   ]
  },
  {
   "cell_type": "code",
   "execution_count": 4,
   "id": "interior-migration",
   "metadata": {},
   "outputs": [
    {
     "name": "stderr",
     "output_type": "stream",
     "text": [
      "Info (NVML): NVML Shared Library Not Found. GPU usage metrics may not be reported. For more information, see https://docs-legacy.neptune.ai/logging-and-managing-experiment-results/logging-experiment-data.html#hardware-consumption \n"
     ]
    },
    {
     "name": "stdout",
     "output_type": "stream",
     "text": [
      "offline/e13c8018-2eae-4066-bedf-63aac257fe5f\n",
      "Remember to stop your run once you’ve finished logging your metadata (https://docs.neptune.ai/api-reference/run#stop). It will be stopped automatically only when the notebook kernel/interactive console is terminated.\n"
     ]
    }
   ],
   "source": [
    "import neptune.new as neptune\n",
    "NEPTUNE_TOKEN = \"eyJhcGlfYWRkcmVzcyI6Imh0dHBzOi8vYXBwLm5lcHR1bmUuYWkiLCJhcGlfdXJsIjoiaHR0cHM6Ly9hcHAubmVwdHVuZS5haSIsImFwaV9rZXkiOiJjZTkyYmJiYi0wN2E1LTRkY2YtOWU3Ny1kNjhjYmM3ZTVkNWEifQ==\"\n",
    "NEPTUNE_PROJECT = \"cellarium/tissue-purifier\"\n",
    "\n",
    "dataset = \"testis_dataset\" \n",
    "logging_mode = \"offline\" # or \"async\"\n",
    "\n",
    "if dataset == \"kidney_dataset\":\n",
    "    DM = SlideSeqKidneyDM\n",
    "elif dataset == \"testis_dataset\":\n",
    "    DM = SlideSeqTestisDM\n",
    "else:\n",
    "    raise Exception()\n",
    "\n",
    "exp: neptune.run.Run = neptune.init(project=NEPTUNE_PROJECT,\n",
    "                                    api_token=NEPTUNE_TOKEN,\n",
    "                                    mode=logging_mode,\n",
    "                                    tags=dataset)"
   ]
  },
  {
   "cell_type": "markdown",
   "id": "funny-tunisia",
   "metadata": {},
   "source": [
    "# Use default dictionary (or modify it)"
   ]
  },
  {
   "cell_type": "code",
   "execution_count": 56,
   "id": "recognized-haiti",
   "metadata": {},
   "outputs": [
    {
     "name": "stdout",
     "output_type": "stream",
     "text": [
      "(2, 5)\n"
     ]
    }
   ],
   "source": [
    "a = numpy.arange(5)\n",
    "b = numpy.arange(5)\n",
    "\n",
    "c = numpy.stack((a, b), axis=0)\n",
    "print(c.shape)"
   ]
  },
  {
   "cell_type": "code",
   "execution_count": 5,
   "id": "advance-variable",
   "metadata": {},
   "outputs": [
    {
     "name": "stdout",
     "output_type": "stream",
     "text": [
      "-----> running datamodule init\n",
      "-----> running datamodule prepare_data\n",
      "download and untar data\n",
      "Downloaded storage object tissue-purifier/slideseq_testis_anndata_h5ad.tar.gz from bucket ld-data-bucket to local file ./slide_seq_testis/slideseq_testis_anndata_h5ad.tar.gz.\n",
      "number of elements ---> 31659\n",
      "mean and median spacing 15.622264926052864, 15.420071793081707\n",
      "The dense shape of the image is -> torch.Size([9, 1178, 1178])\n",
      "Occupacy (zero, single, double, ...) of voxels in 3D sparse array -> [    0 31649     5]\n",
      "Occupacy (zero, single, double, ...) of voxels  in 2D sparse array (summed over category) -> [    0 31629    15]\n",
      "number of elements ---> 33059\n",
      "mean and median spacing 15.358030584634598, 15.508166323067783\n",
      "The dense shape of the image is -> torch.Size([9, 1180, 855])\n",
      "Occupacy (zero, single, double, ...) of voxels in 3D sparse array -> [    0 33033    13]\n",
      "Occupacy (zero, single, double, ...) of voxels  in 2D sparse array (summed over category) -> [    0 32973    43]\n",
      "number of elements ---> 39206\n",
      "mean and median spacing 15.535967840319682, 15.438280914030202\n",
      "The dense shape of the image is -> torch.Size([9, 1179, 1180])\n",
      "Occupacy (zero, single, double, ...) of voxels in 3D sparse array -> [    0 39204     1]\n",
      "Occupacy (zero, single, double, ...) of voxels  in 2D sparse array (summed over category) -> [    0 39202     2]\n",
      "number of elements ---> 27194\n",
      "mean and median spacing 16.12433160571037, 15.591954248205585\n",
      "The dense shape of the image is -> torch.Size([9, 1176, 1180])\n",
      "Occupacy (zero, single, double, ...) of voxels in 3D sparse array -> [    0 27190     2]\n",
      "Occupacy (zero, single, double, ...) of voxels  in 2D sparse array (summed over category) -> [    0 27174    10]\n",
      "number of elements ---> 42776\n",
      "mean and median spacing 15.424869146306138, 15.42998109176031\n",
      "The dense shape of the image is -> torch.Size([9, 1180, 1180])\n",
      "Occupacy (zero, single, double, ...) of voxels in 3D sparse array -> [    0 42772     2]\n",
      "Occupacy (zero, single, double, ...) of voxels  in 2D sparse array (summed over category) -> [    0 42764     6]\n",
      "number of elements ---> 33441\n",
      "mean and median spacing 15.479421424523398, 15.47439133436206\n",
      "The dense shape of the image is -> torch.Size([9, 1164, 1165])\n",
      "Occupacy (zero, single, double, ...) of voxels in 3D sparse array -> [    0 33433     4]\n",
      "Occupacy (zero, single, double, ...) of voxels  in 2D sparse array (summed over category) -> [    0 33423     9]\n",
      "-----> running datamodule setup. stage ->None\n",
      "All cat_to_codes dictionaries are idnetical {'ES': 0, 'Endothelial': 1, 'Leydig': 2, 'Macrophage': 3, 'Myoid': 4, 'RS': 5, 'SPC': 6, 'SPG': 7, 'Sertoli': 8}\n",
      "train dataset length 6\n",
      "train dataset device -> cpu\n",
      "test dataset length 120\n",
      "test dataset device -> cpu\n"
     ]
    }
   ],
   "source": [
    "config_dict = DM.get_default_params()\n",
    "    \n",
    "config_dict['n_crops_for_tissue_test'] = 20\n",
    "config_dict['dropout_range'] = [0.0, 0.2]\n",
    "config_dict['cohort'] = 'all'\n",
    "\n",
    "# print(config_dict)\n",
    "\n",
    "dm = DM(**config_dict)\n",
    "dm.prepare_data()\n",
    "dm.setup(stage=None)"
   ]
  },
  {
   "cell_type": "markdown",
   "id": "fifth-acoustic",
   "metadata": {},
   "source": [
    "## Log the transform"
   ]
  },
  {
   "cell_type": "code",
   "execution_count": 6,
   "id": "lovely-chinese",
   "metadata": {},
   "outputs": [],
   "source": [
    "exp[\"transform/local\"] = dm.trsfm_train_local\n",
    "exp[\"transform/global\"] = dm.trsfm_train_global\n",
    "exp[\"transform/test\"] = dm.trsfm_test"
   ]
  },
  {
   "cell_type": "markdown",
   "id": "behavioral-consolidation",
   "metadata": {},
   "source": [
    "## check the dataloader"
   ]
  },
  {
   "cell_type": "code",
   "execution_count": 7,
   "id": "overall-attraction",
   "metadata": {},
   "outputs": [
    {
     "name": "stdout",
     "output_type": "stream",
     "text": [
      "composition of one minibatch Counter({'dis2': 11, 'wt2': 11, 'dis1': 11, 'dis3': 11, 'wt1': 11, 'wt3': 11})\n"
     ]
    }
   ],
   "source": [
    "from collections import Counter\n",
    "\n",
    "batch = next(iter(dm.train_dataloader()))\n",
    "list_imgs, list_labels, list_metadata = batch\n",
    "f_names = [metadata.f_name for metadata in list_metadata]\n",
    "print(\"composition of one minibatch\", Counter(f_names))"
   ]
  },
  {
   "cell_type": "markdown",
   "id": "white-pound",
   "metadata": {},
   "source": [
    "## get the dataset"
   ]
  },
  {
   "cell_type": "code",
   "execution_count": 8,
   "id": "loaded-tournament",
   "metadata": {},
   "outputs": [
    {
     "name": "stdout",
     "output_type": "stream",
     "text": [
      "<class 'tissue_purifier.data_utils.dataset.CropperDataset'>\n",
      "{'ES': 0, 'Endothelial': 1, 'Leydig': 2, 'Macrophage': 3, 'Myoid': 4, 'RS': 5, 'SPC': 6, 'SPG': 7, 'Sertoli': 8}\n"
     ]
    }
   ],
   "source": [
    "train_dataset = dm.train_dataloader().dataset\n",
    "print(type(train_dataset))\n",
    "#vars(train_dataset)\n",
    "cat_to_codes = train_dataset.imgs[0]._categories_to_codes\n",
    "print(cat_to_codes)"
   ]
  },
  {
   "cell_type": "code",
   "execution_count": 9,
   "id": "expanded-sunset",
   "metadata": {},
   "outputs": [],
   "source": [
    "#vars(train_dataset.imgs[0])"
   ]
  },
  {
   "cell_type": "markdown",
   "id": "several-thriller",
   "metadata": {},
   "source": [
    "## Measure the tissue composition"
   ]
  },
  {
   "cell_type": "code",
   "execution_count": 10,
   "id": "graphic-marijuana",
   "metadata": {},
   "outputs": [],
   "source": [
    "from tissue_purifier.model_utils.analyzer import Composition\n",
    "\n",
    "composer = Composition(return_fraction=True)\n",
    "\n",
    "list_composition = composer(train_dataset.imgs)\n",
    "list_f_names = [metadata.f_name for metadata in  train_dataset.metadatas]\n",
    "cell_names = list(train_dataset.imgs[0]._categories_to_codes.keys())"
   ]
  },
  {
   "cell_type": "markdown",
   "id": "binary-blair",
   "metadata": {},
   "source": [
    "## Plot Cell composition at the tissue level"
   ]
  },
  {
   "cell_type": "code",
   "execution_count": 11,
   "id": "international-influence",
   "metadata": {},
   "outputs": [],
   "source": [
    "fig_cell_count = plot_composition(\n",
    "    list_composition, \n",
    "    dataset_labels=None, #list_f_names, \n",
    "    x_labels=cell_names,\n",
    "    title=\"Tissue Compositions\",\n",
    "    figsize=(9,9),\n",
    ")\n",
    "exp[\"cell_counts\"].log(neptune.types.File.as_image(fig_cell_count))"
   ]
  },
  {
   "cell_type": "code",
   "execution_count": 12,
   "id": "supposed-dietary",
   "metadata": {},
   "outputs": [
    {
     "data": {
      "image/png": "[encoded data removed]",
      "text/plain": [
       "<Figure size 648x648 with 1 Axes>"
      ]
     },
     "execution_count": 12,
     "metadata": {},
     "output_type": "execute_result"
    }
   ],
   "source": [
    "fig_cell_count"
   ]
  },
  {
   "cell_type": "markdown",
   "id": "cross-grace",
   "metadata": {},
   "source": [
    "## Full Images"
   ]
  },
  {
   "cell_type": "code",
   "execution_count": 54,
   "id": "official-industry",
   "metadata": {},
   "outputs": [
    {
     "ename": "InactiveRunException",
     "evalue": "\n\u001b[95m\n----InactiveRunException----------------------------------------\n\u001b[0m\nIt seems you are trying to log (or fetch) metadata to a run that was stopped (OFFLINE-1).\nWhat should I do?\n    - Resume the run to continue logging to it:\n    https://docs.neptune.ai/how-to-guides/neptune-api/resume-run#how-to-resume-run\n    - Don't invoke `stop()` on a run that you want to access. If you want to stop monitoring only, \n    you can resume a run in read-only mode:\n    https://docs.neptune.ai/you-should-know/connection-modes#read-only\nYou may also want to check the following docs pages:\n    - https://docs.neptune.ai/api-reference/run#stop\n    - https://docs.neptune.ai/how-to-guides/neptune-api/resume-run#how-to-resume-run\n    - https://docs.neptune.ai/you-should-know/connection-modes\n\u001b[92mNeed help?\u001b[0m-> https://docs.neptune.ai/getting-started/getting-help\n",
     "output_type": "error",
     "traceback": [
      "\u001b[0;31m---------------------------------------------------------------------------\u001b[0m",
      "\u001b[0;31mInactiveRunException\u001b[0m                      Traceback (most recent call last)",
      "\u001b[0;32m<ipython-input-54-1aaa44278abb>\u001b[0m in \u001b[0;36m<module>\u001b[0;34m\u001b[0m\n\u001b[1;32m     17\u001b[0m                                            \u001b[0msup_title\u001b[0m\u001b[0;34m=\u001b[0m\u001b[0mf_name\u001b[0m\u001b[0;34m,\u001b[0m\u001b[0;34m\u001b[0m\u001b[0;34m\u001b[0m\u001b[0m\n\u001b[1;32m     18\u001b[0m                                            titles=titles)\n\u001b[0;32m---> 19\u001b[0;31m     \u001b[0mexp\u001b[0m\u001b[0;34m[\u001b[0m\u001b[0;34m\"full_sample/all_channels\"\u001b[0m\u001b[0;34m]\u001b[0m\u001b[0;34m.\u001b[0m\u001b[0mlog\u001b[0m\u001b[0;34m(\u001b[0m\u001b[0mneptune\u001b[0m\u001b[0;34m.\u001b[0m\u001b[0mtypes\u001b[0m\u001b[0;34m.\u001b[0m\u001b[0mFile\u001b[0m\u001b[0;34m.\u001b[0m\u001b[0mas_image\u001b[0m\u001b[0;34m(\u001b[0m\u001b[0mfig_all_channel\u001b[0m\u001b[0;34m)\u001b[0m\u001b[0;34m)\u001b[0m\u001b[0;34m\u001b[0m\u001b[0;34m\u001b[0m\u001b[0m\n\u001b[0m\u001b[1;32m     20\u001b[0m     \u001b[0mexp\u001b[0m\u001b[0;34m[\u001b[0m\u001b[0;34m\"full_sample/one_channel\"\u001b[0m\u001b[0;34m]\u001b[0m\u001b[0;34m.\u001b[0m\u001b[0mlog\u001b[0m\u001b[0;34m(\u001b[0m\u001b[0mneptune\u001b[0m\u001b[0;34m.\u001b[0m\u001b[0mtypes\u001b[0m\u001b[0;34m.\u001b[0m\u001b[0mFile\u001b[0m\u001b[0;34m.\u001b[0m\u001b[0mas_image\u001b[0m\u001b[0;34m(\u001b[0m\u001b[0mfig_one_channel\u001b[0m\u001b[0;34m)\u001b[0m\u001b[0;34m)\u001b[0m\u001b[0;34m\u001b[0m\u001b[0;34m\u001b[0m\u001b[0m\n\u001b[1;32m     21\u001b[0m     \u001b[0mlist_fig_one_channel\u001b[0m\u001b[0;34m.\u001b[0m\u001b[0mappend\u001b[0m\u001b[0;34m(\u001b[0m\u001b[0mfig_one_channel\u001b[0m\u001b[0;34m)\u001b[0m\u001b[0;34m\u001b[0m\u001b[0;34m\u001b[0m\u001b[0m\n",
      "\u001b[0;32m~/anaconda3/envs/pyro/lib/python3.8/site-packages/neptune/new/run.py\u001b[0m in \u001b[0;36minner_fun\u001b[0;34m(self, *args, **kwargs)\u001b[0m\n\u001b[1;32m     64\u001b[0m         \u001b[0;31m# pylint: disable=protected-access\u001b[0m\u001b[0;34m\u001b[0m\u001b[0;34m\u001b[0m\u001b[0;34m\u001b[0m\u001b[0m\n\u001b[1;32m     65\u001b[0m         \u001b[0;32mif\u001b[0m \u001b[0mself\u001b[0m\u001b[0;34m.\u001b[0m\u001b[0m_state\u001b[0m \u001b[0;34m==\u001b[0m \u001b[0mRunState\u001b[0m\u001b[0;34m.\u001b[0m\u001b[0mSTOPPED\u001b[0m\u001b[0;34m:\u001b[0m\u001b[0;34m\u001b[0m\u001b[0;34m\u001b[0m\u001b[0m\n\u001b[0;32m---> 66\u001b[0;31m             \u001b[0;32mraise\u001b[0m \u001b[0mInactiveRunException\u001b[0m\u001b[0;34m(\u001b[0m\u001b[0mshort_id\u001b[0m\u001b[0;34m=\u001b[0m\u001b[0mself\u001b[0m\u001b[0;34m.\u001b[0m\u001b[0m_short_id\u001b[0m\u001b[0;34m)\u001b[0m\u001b[0;34m\u001b[0m\u001b[0;34m\u001b[0m\u001b[0m\n\u001b[0m\u001b[1;32m     67\u001b[0m         \u001b[0;32mreturn\u001b[0m \u001b[0mfun\u001b[0m\u001b[0;34m(\u001b[0m\u001b[0mself\u001b[0m\u001b[0;34m,\u001b[0m \u001b[0;34m*\u001b[0m\u001b[0margs\u001b[0m\u001b[0;34m,\u001b[0m \u001b[0;34m**\u001b[0m\u001b[0mkwargs\u001b[0m\u001b[0;34m)\u001b[0m\u001b[0;34m\u001b[0m\u001b[0;34m\u001b[0m\u001b[0m\n\u001b[1;32m     68\u001b[0m \u001b[0;34m\u001b[0m\u001b[0m\n",
      "\u001b[0;31mInactiveRunException\u001b[0m: \n\u001b[95m\n----InactiveRunException----------------------------------------\n\u001b[0m\nIt seems you are trying to log (or fetch) metadata to a run that was stopped (OFFLINE-1).\nWhat should I do?\n    - Resume the run to continue logging to it:\n    https://docs.neptune.ai/how-to-guides/neptune-api/resume-run#how-to-resume-run\n    - Don't invoke `stop()` on a run that you want to access. If you want to stop monitoring only, \n    you can resume a run in read-only mode:\n    https://docs.neptune.ai/you-should-know/connection-modes#read-only\nYou may also want to check the following docs pages:\n    - https://docs.neptune.ai/api-reference/run#stop\n    - https://docs.neptune.ai/how-to-guides/neptune-api/resume-run#how-to-resume-run\n    - https://docs.neptune.ai/you-should-know/connection-modes\n\u001b[92mNeed help?\u001b[0m-> https://docs.neptune.ai/getting-started/getting-help\n"
     ]
    }
   ],
   "source": [
    "from tissue_purifier.data_utils.transforms import *\n",
    "\n",
    "dense_and_raster =torchvision.transforms.Compose([SparseToDense(), Rasterize(sigma=dm.rasterize_sigma)])\n",
    "list_fig_all_channel = []\n",
    "list_fig_one_channel = []\n",
    "for n,(sp_image, f_name) in enumerate(zip(train_dataset.imgs, list_f_names)):\n",
    "    dense_img = dense_and_raster(sp_image.data)\n",
    "    \n",
    "    counters = dense_img.sum(dim=(-1,-2))\n",
    "    rounded_counts= str(numpy.around(counters.cpu().numpy(), decimals=2).tolist())\n",
    "    titles = [a+\" -> {0:.4}\".format(b.item()) for a,b in zip(list(cell_names),counters)]\n",
    "\n",
    "    fig_all_channel = show_raw_all_channels(dense_img, cmap=\"tab20\", n_col=3, figsize=(12,12), \n",
    "                                            sup_title=f_name + \"-->\" + rounded_counts, \n",
    "                                            legend_colorbar=list(cell_names))\n",
    "    fig_one_channel = show_raw_one_channel(dense_img, cmap='gray', n_col=3, figsize=(10,10), \n",
    "                                           sup_title=f_name, \n",
    "                                           titles=titles)\n",
    "    exp[\"full_sample/all_channels\"].log(neptune.types.File.as_image(fig_all_channel))\n",
    "    exp[\"full_sample/one_channel\"].log(neptune.types.File.as_image(fig_one_channel))\n",
    "    list_fig_one_channel.append(fig_one_channel)\n",
    "    list_fig_all_channel.append(fig_all_channel)"
   ]
  },
  {
   "cell_type": "code",
   "execution_count": null,
   "id": "oriented-recycling",
   "metadata": {},
   "outputs": [],
   "source": [
    "list_fig_one_channel[0]"
   ]
  },
  {
   "cell_type": "code",
   "execution_count": null,
   "id": "organizational-replication",
   "metadata": {},
   "outputs": [],
   "source": [
    "list_fig_all_channel[0]"
   ]
  },
  {
   "cell_type": "markdown",
   "id": "pregnant-agenda",
   "metadata": {},
   "source": [
    "# Crops"
   ]
  },
  {
   "cell_type": "code",
   "execution_count": null,
   "id": "regional-information",
   "metadata": {},
   "outputs": [],
   "source": [
    "n_iter = 4\n",
    "n_examples = 5"
   ]
  },
  {
   "cell_type": "markdown",
   "id": "settled-tracy",
   "metadata": {},
   "source": [
    "## Validation dataset"
   ]
  },
  {
   "cell_type": "code",
   "execution_count": null,
   "id": "successful-lodge",
   "metadata": {},
   "outputs": [],
   "source": [
    "val_dataloader = dm.val_dataloader()[0]\n",
    "list_img, list_label, list_meta = next(iter(val_dataloader))\n",
    "\n",
    "all_imgs = []\n",
    "for n in range(n_iter):\n",
    "    imgs_tmp = dm.trsfm_test(list_img[:n_examples])\n",
    "    all_imgs.append(imgs_tmp)\n",
    "    \n",
    "imgs_ref = torch.cat(all_imgs, dim=0)\n",
    "counters = imgs_ref.sum(dim=(-1,-2,-3))\n",
    "titles = [\"I_tot -> {0:.4}\".format(a.item()) for a in counters]\n",
    "\n",
    "ref_all_ch_fig = show_raw_all_channels(imgs_ref, cmap=\"tab10\", n_col=n_examples, figsize=(10,10), sup_title=\"Reference crops\", titles=titles)\n",
    "exp[\"crops/all_channels\"].log(neptune.types.File.as_image(ref_all_ch_fig))\n",
    "ref_all_ch_fig"
   ]
  },
  {
   "cell_type": "code",
   "execution_count": null,
   "id": "modern-disabled",
   "metadata": {},
   "outputs": [],
   "source": [
    "counters = imgs_ref[0].sum(dim=(-1,-2))\n",
    "titles = [a+\" -> {0:.4}\".format(b.item()) for a,b in zip(list(cell_names),counters)]\n",
    "\n",
    "ref_one_ch_fig = show_raw_one_channel(imgs_ref[0], cmap='gray', n_col=3, figsize=(10,10), sup_title=\"Reference crops\", titles=titles)\n",
    "exp[\"crops/one_channel\"].log(neptune.types.File.as_image(ref_one_ch_fig))\n",
    "ref_one_ch_fig"
   ]
  },
  {
   "cell_type": "markdown",
   "id": "gorgeous-fishing",
   "metadata": {},
   "source": [
    "## Local and global"
   ]
  },
  {
   "cell_type": "code",
   "execution_count": null,
   "id": "exposed-brown",
   "metadata": {},
   "outputs": [],
   "source": [
    "train_dataloader = dm.train_dataloader()\n",
    "list_img, list_label, list_meta = next(iter(train_dataloader))\n",
    "\n",
    "all_imgs_local, all_imgs_global = [], []\n",
    "for n in range(n_iter):\n",
    "    imgs_tmp_global = dm.trsfm_train_global(list_img[:n_examples])\n",
    "    imgs_tmp_local = dm.trsfm_train_local(list_img[:n_examples])   \n",
    "    \n",
    "    all_imgs_local.append(imgs_tmp_local)\n",
    "    all_imgs_global.append(imgs_tmp_global)\n",
    "    \n",
    "imgs_local = torch.cat(all_imgs_local, dim=0)\n",
    "imgs_global = torch.cat(all_imgs_global, dim=0)"
   ]
  },
  {
   "cell_type": "markdown",
   "id": "under-makeup",
   "metadata": {},
   "source": [
    "### Global"
   ]
  },
  {
   "cell_type": "code",
   "execution_count": null,
   "id": "documented-genome",
   "metadata": {},
   "outputs": [],
   "source": [
    "counters = imgs_global.sum(dim=(-1,-2,-3))\n",
    "titles = [\"I_tot -> {0:.4}\".format(a.item()) for a in counters]\n",
    "\n",
    "global_all_ch_fig = show_raw_all_channels(imgs_global, cmap=\"tab10\", n_col=n_examples, figsize=(10,10), sup_title=\"Global crops\", titles=titles)\n",
    "exp[\"crops/all_channels\"].log(neptune.types.File.as_image(global_all_ch_fig))\n",
    "global_all_ch_fig"
   ]
  },
  {
   "cell_type": "code",
   "execution_count": null,
   "id": "italic-fifth",
   "metadata": {},
   "outputs": [],
   "source": [
    "counters = imgs_global[0].sum(dim=(-1,-2))\n",
    "titles = [a+\" -> {0:.4}\".format(b.item()) for a,b in zip(list(cell_names),counters)]\n",
    "\n",
    "global_one_ch_fig = show_raw_one_channel(imgs_global[0], cmap='gray', n_col=3, figsize=(10,10), sup_title=\"Global crops\", titles=titles)\n",
    "exp[\"crops/one_channel\"].log(neptune.types.File.as_image(global_one_ch_fig))\n",
    "global_one_ch_fig"
   ]
  },
  {
   "cell_type": "markdown",
   "id": "wrong-trading",
   "metadata": {},
   "source": [
    "### Local"
   ]
  },
  {
   "cell_type": "code",
   "execution_count": null,
   "id": "crucial-password",
   "metadata": {},
   "outputs": [],
   "source": [
    "counters = imgs_local.sum(dim=(-1,-2,-3))\n",
    "titles = [\"I_tot -> {0:.4}\".format(a.item()) for a in counters]\n",
    "\n",
    "local_all_ch_fig = show_raw_all_channels(imgs_local, cmap=\"tab10\", n_col=n_examples, figsize=(10,10), sup_title=\"Local crops\", titles=titles)\n",
    "exp[\"crops/all_channels\"].log(neptune.types.File.as_image(local_all_ch_fig))\n",
    "local_all_ch_fig"
   ]
  },
  {
   "cell_type": "code",
   "execution_count": null,
   "id": "enabling-daniel",
   "metadata": {},
   "outputs": [],
   "source": [
    "counters = imgs_local[0].sum(dim=(-1,-2))\n",
    "titles = [a+\" -> {0:.4}\".format(b.item()) for a,b in zip(list(cell_names),counters)]\n",
    "\n",
    "local_one_ch_fig = show_raw_one_channel(imgs_local[0], cmap='gray', n_col=3, figsize=(10,10), sup_title=\"Local crops\", titles=titles)\n",
    "exp[\"crops/one_channel\"].log(neptune.types.File.as_image(local_one_ch_fig))\n",
    "local_one_ch_fig"
   ]
  },
  {
   "cell_type": "code",
   "execution_count": null,
   "id": "prescription-charity",
   "metadata": {},
   "outputs": [],
   "source": [
    "exp.stop()"
   ]
  },
  {
   "cell_type": "code",
   "execution_count": null,
   "id": "removed-reconstruction",
   "metadata": {},
   "outputs": [],
   "source": []
  },
  {
   "cell_type": "code",
   "execution_count": null,
   "id": "better-optimization",
   "metadata": {},
   "outputs": [],
   "source": []
  }
 ],
 "metadata": {
  "environment": {
   "name": "pytorch-gpu.1-7.m65",
   "type": "gcloud",
   "uri": "gcr.io/deeplearning-platform-release/pytorch-gpu.1-7:m65"
  },
  "kernelspec": {
   "display_name": "Python 3",
   "language": "python",
   "name": "python3"
  },
  "language_info": {
   "codemirror_mode": {
    "name": "ipython",
    "version": 3
   },
   "file_extension": ".py",
   "mimetype": "text/x-python",
   "name": "python",
   "nbconvert_exporter": "python",
   "pygments_lexer": "ipython3",
   "version": "3.8.8"
  }
 },
 "nbformat": 4,
 "nbformat_minor": 5
}
