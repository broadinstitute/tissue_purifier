{
 "cells": [
  {
   "cell_type": "markdown",
   "id": "endangered-split",
   "metadata": {},
   "source": [
    "# Download checkpoints from Neptune"
   ]
  },
  {
   "cell_type": "code",
   "execution_count": 2,
   "id": "republican-prior",
   "metadata": {},
   "outputs": [],
   "source": [
    "NEPTUNE_API_TOKEN=\"eyJhcGlfYWRkcmVzcyI6Imh0dHBzOi8vYXBwLm5lcHR1bmUuYWkiLCJhcGlfdXJsIjoiaHR0cHM6Ly9hcHAubmVwdHVuZS5haSIsImFwaV9rZXkiOiJjZTkyYmJiYi0wN2E1LTRkY2YtOWU3Ny1kNjhjYmM3ZTVkNWEifQ==\""
   ]
  },
  {
   "cell_type": "code",
   "execution_count": 15,
   "id": "ceramic-spider",
   "metadata": {},
   "outputs": [
    {
     "name": "stdout",
     "output_type": "stream",
     "text": [
      "https://app.neptune.ai/cellarium/tissue-purifier/e/TIS-380\n",
      "Remember to stop your run once you’ve finished logging your metadata (https://docs.neptune.ai/api-reference/run#stop). It will be stopped automatically only when the notebook kernel/interactive console is terminated.\n"
     ]
    },
    {
     "name": "stderr",
     "output_type": "stream",
     "text": [
      "Error occurred during asynchronous operation processing: Timestamp must be non-decreasing for series attribute: monitoring/stdout. Invalid point: 2021-08-12T10:04:13.874Z\n",
      "Error occurred during asynchronous operation processing: Timestamp must be non-decreasing for series attribute: monitoring/stdout. Invalid point: 2021-08-12T10:04:13.875Z\n"
     ]
    },
    {
     "name": "stdout",
     "output_type": "stream",
     "text": [
      "Shutting down background jobs, please wait a moment...\n",
      "Done!\n"
     ]
    },
    {
     "name": "stderr",
     "output_type": "stream",
     "text": [
      "Waiting for the remaining 3 operations to synchronize with Neptune. Do not kill this process.\n"
     ]
    },
    {
     "name": "stdout",
     "output_type": "stream",
     "text": [
      "All 3 operations synced, thanks for waiting!\n",
      "https://app.neptune.ai/cellarium/tissue-purifier/e/TIS-378\n",
      "Remember to stop your run once you’ve finished logging your metadata (https://docs.neptune.ai/api-reference/run#stop). It will be stopped automatically only when the notebook kernel/interactive console is terminated.\n"
     ]
    },
    {
     "name": "stderr",
     "output_type": "stream",
     "text": [
      "Error occurred during asynchronous operation processing: Timestamp must be non-decreasing for series attribute: monitoring/stdout. Invalid point: 2021-08-12T10:04:19.977Z\n",
      "Error occurred during asynchronous operation processing: Timestamp must be non-decreasing for series attribute: monitoring/stdout. Invalid point: 2021-08-12T10:04:20.136Z\n",
      "Error occurred during asynchronous operation processing: Timestamp must be non-decreasing for series attribute: monitoring/stderr. Invalid point: 2021-08-12T10:04:19.092Z\n",
      "Error occurred during asynchronous operation processing: Timestamp must be non-decreasing for series attribute: monitoring/stderr. Invalid point: 2021-08-12T10:04:19.094Z\n",
      "Error occurred during asynchronous operation processing: Timestamp must be non-decreasing for series attribute: monitoring/stdout. Invalid point: 2021-08-12T10:04:23.622Z\n",
      "Error occurred during asynchronous operation processing: Timestamp must be non-decreasing for series attribute: monitoring/stdout. Invalid point: 2021-08-12T10:04:23.623Z\n"
     ]
    },
    {
     "name": "stdout",
     "output_type": "stream",
     "text": [
      "Shutting down background jobs, please wait a moment...\n"
     ]
    },
    {
     "name": "stderr",
     "output_type": "stream",
     "text": [
      "Error occurred during asynchronous operation processing: Timestamp must be non-decreasing for series attribute: monitoring/stderr. Invalid point: 2021-08-12T10:04:24.377Z\n",
      "Error occurred during asynchronous operation processing: Timestamp must be non-decreasing for series attribute: monitoring/stderr. Invalid point: 2021-08-12T10:04:24.378Z\n",
      "Error occurred during asynchronous operation processing: Timestamp must be non-decreasing for series attribute: monitoring/stderr. Invalid point: 2021-08-12T10:04:24.379Z\n"
     ]
    },
    {
     "name": "stdout",
     "output_type": "stream",
     "text": [
      "Done!\n"
     ]
    },
    {
     "name": "stderr",
     "output_type": "stream",
     "text": [
      "Waiting for the remaining 1 operations to synchronize with Neptune. Do not kill this process.\n"
     ]
    },
    {
     "name": "stdout",
     "output_type": "stream",
     "text": [
      "All 1 operations synced, thanks for waiting!\n"
     ]
    },
    {
     "name": "stderr",
     "output_type": "stream",
     "text": [
      "Error occurred during asynchronous operation processing: Timestamp must be non-decreasing for series attribute: monitoring/stderr. Invalid point: 2021-08-12T10:04:27.661Z\n",
      "Error occurred during asynchronous operation processing: Timestamp must be non-decreasing for series attribute: monitoring/stderr. Invalid point: 2021-08-12T10:04:27.662Z\n",
      "Error occurred during asynchronous operation processing: Timestamp must be non-decreasing for series attribute: monitoring/stdout. Invalid point: 2021-08-12T10:04:29.633Z\n",
      "Error occurred during asynchronous operation processing: Timestamp must be non-decreasing for series attribute: monitoring/stdout. Invalid point: 2021-08-12T10:04:29.775Z\n",
      "Error occurred during asynchronous operation processing: Timestamp must be non-decreasing for series attribute: monitoring/stderr. Invalid point: 2021-08-12T10:04:29.690Z\n",
      "Error occurred during asynchronous operation processing: Timestamp must be non-decreasing for series attribute: monitoring/stderr. Invalid point: 2021-08-12T10:04:29.692Z\n",
      "Error occurred during asynchronous operation processing: Timestamp must be non-decreasing for series attribute: monitoring/stderr. Invalid point: 2021-08-12T10:04:29.693Z\n",
      "Error occurred during asynchronous operation processing: Timestamp must be non-decreasing for series attribute: monitoring/stderr. Invalid point: 2021-08-12T10:04:32.928Z\n",
      "Error occurred during asynchronous operation processing: Timestamp must be non-decreasing for series attribute: monitoring/stderr. Invalid point: 2021-08-12T10:04:35.006Z\n",
      "Error occurred during asynchronous operation processing: Timestamp must be non-decreasing for series attribute: monitoring/stderr. Invalid point: 2021-08-12T10:04:35.007Z\n",
      "Error occurred during asynchronous operation processing: Timestamp must be non-decreasing for series attribute: monitoring/stderr. Invalid point: 2021-08-12T10:04:35.008Z\n",
      "Error occurred during asynchronous operation processing: Timestamp must be non-decreasing for series attribute: monitoring/stderr. Invalid point: 2021-08-12T10:04:35.010Z\n",
      "Error occurred during asynchronous operation processing: Timestamp must be non-decreasing for series attribute: monitoring/stderr. Invalid point: 2021-08-12T10:04:40.349Z\n",
      "Error occurred during asynchronous operation processing: Timestamp must be non-decreasing for series attribute: monitoring/stderr. Invalid point: 2021-08-12T10:04:40.350Z\n",
      "Error occurred during asynchronous operation processing: Timestamp must be non-decreasing for series attribute: monitoring/stderr. Invalid point: 2021-08-12T10:04:45.619Z\n"
     ]
    }
   ],
   "source": [
    "import neptune.new as neptune\n",
    "\n",
    "#for run_id in [\"TIS-383\", \"TIS-382\", \"TIS-380\", \"TIS-378\"]: # \n",
    "#    run = neptune.init(\n",
    "#        project='cellarium/tissue-purifier',\n",
    "#        api_token=NEPTUNE_API_TOKEN,\n",
    "#        run=run_id\n",
    "#        )\n",
    "#    run[\"artifacts/best.ckpt\"].download(\"./ckpt-\"+run_id+\".pt\")  \n",
    "#    run.stop()"
   ]
  },
  {
   "cell_type": "markdown",
   "id": "powerful-implement",
   "metadata": {},
   "source": [
    "# Checkpoint surgery"
   ]
  },
  {
   "cell_type": "code",
   "execution_count": 21,
   "id": "wound-republic",
   "metadata": {},
   "outputs": [],
   "source": [
    "import sys\n",
    "import os\n",
    "\n",
    "root_path = os.path.dirname(os.getcwd())\n",
    "src_path = os.path.join(root_path, \"src\")\n",
    "sys.path.insert(0, src_path)"
   ]
  },
  {
   "cell_type": "code",
   "execution_count": 22,
   "id": "republican-cuisine",
   "metadata": {},
   "outputs": [],
   "source": [
    "import torch\n",
    "new_ckpt = torch.load(\"ckpt-TIS-383.pt\")"
   ]
  },
  {
   "cell_type": "code",
   "execution_count": 25,
   "id": "absent-housing",
   "metadata": {},
   "outputs": [],
   "source": [
    "old_ckpt = torch.load(\"OLD_model_2000EPOCH.pth\")"
   ]
  },
  {
   "cell_type": "code",
   "execution_count": 31,
   "id": "double-submission",
   "metadata": {},
   "outputs": [],
   "source": [
    "old_keys = old_ckpt.keys()\n",
    "new_keys = new_ckpt[\"state_dict\"].keys()"
   ]
  },
  {
   "cell_type": "code",
   "execution_count": 34,
   "id": "knowing-architecture",
   "metadata": {},
   "outputs": [],
   "source": [
    "key_intersection = set(old_keys) & set(new_keys)\n",
    "print(key_intersection)"
   ]
  },
  {
   "cell_type": "code",
   "execution_count": 36,
   "id": "crude-journey",
   "metadata": {},
   "outputs": [
    {
     "name": "stdout",
     "output_type": "stream",
     "text": [
      "{'projection_head.0.weight', 'projection_head.2.bias', 'projection_head.2.weight', 'projection_head.0.bias'}\n",
      "{'projection.head.0.weight', 'projection.head.0.bias', 'projection.head.2.weight'}\n"
     ]
    },
    {
     "name": "stderr",
     "output_type": "stream",
     "text": [
      "Error occurred during asynchronous operation processing: Timestamp must be non-decreasing for series attribute: monitoring/stdout. Invalid point: 2021-08-12T10:32:14.257Z\n",
      "Error occurred during asynchronous operation processing: Timestamp must be non-decreasing for series attribute: monitoring/stdout. Invalid point: 2021-08-12T10:32:14.258Z\n",
      "Error occurred during asynchronous operation processing: Timestamp must be non-decreasing for series attribute: monitoring/stdout. Invalid point: 2021-08-12T10:32:14.258Z\n",
      "Error occurred during asynchronous operation processing: Timestamp must be non-decreasing for series attribute: monitoring/stderr. Invalid point: 2021-08-12T10:32:18.673Z\n",
      "Error occurred during asynchronous operation processing: Timestamp must be non-decreasing for series attribute: monitoring/stderr. Invalid point: 2021-08-12T10:32:18.675Z\n",
      "Error occurred during asynchronous operation processing: Timestamp must be non-decreasing for series attribute: monitoring/stderr. Invalid point: 2021-08-12T10:32:24.113Z\n"
     ]
    }
   ],
   "source": [
    "key_not_matching_old = set(old_keys) - key_intersection\n",
    "key_not_matching_new = set(new_keys) - key_intersection\n",
    "\n",
    "print(key_not_matching_old)\n",
    "print(key_not_matching_new)"
   ]
  },
  {
   "cell_type": "code",
   "execution_count": 49,
   "id": "impressed-knight",
   "metadata": {},
   "outputs": [],
   "source": [
    "import copy\n",
    "\n",
    "conversion_new2old = {\n",
    "    'projection.head.0.weight': 'projection_head.0.weight',\n",
    "    'projection.head.2.weight': 'projection_head.2.weight',\n",
    "    'projection.head.0.bias': 'projection_head.0.bias',\n",
    "}\n",
    "\n",
    "surgery_ckpt = copy.deepcopy(new_ckpt)\n",
    "surgery_ckpt['neptune_experiment_id'] = 'TIS-381'"
   ]
  },
  {
   "cell_type": "code",
   "execution_count": 50,
   "id": "accepting-scott",
   "metadata": {},
   "outputs": [],
   "source": [
    "for key,v in surgery_ckpt[\"state_dict\"].items():\n",
    "    try:\n",
    "        surgery_ckpt[\"state_dict\"][key] = old_ckpt[key]\n",
    "    except KeyError:\n",
    "        surgery_ckpt[\"state_dict\"][key] = old_ckpt[conversion_new2old[key]]\n"
   ]
  },
  {
   "cell_type": "code",
   "execution_count": 51,
   "id": "alike-timer",
   "metadata": {},
   "outputs": [
    {
     "name": "stderr",
     "output_type": "stream",
     "text": [
      "Error occurred during asynchronous operation processing: Timestamp must be non-decreasing for series attribute: monitoring/gpu_memory. Invalid point: 2021-08-12T11:54:25.006Z\n",
      "Error occurred during asynchronous operation processing: Timestamp must be non-decreasing for series attribute: monitoring/memory. Invalid point: 2021-08-12T11:54:25.006Z\n",
      "Error occurred during asynchronous operation processing: Timestamp must be non-decreasing for series attribute: monitoring/stderr. Invalid point: 2021-08-12T11:54:31.354Z\n",
      "Run TIS-383 received stop signal. Exiting\n",
      "Run TIS-383 received stop signal. Exiting\n"
     ]
    },
    {
     "name": "stdout",
     "output_type": "stream",
     "text": [
      "Shutting down background jobs, please wait a moment...\n",
      "Shutting down background jobs, please wait a moment...\n",
      "Done!\n"
     ]
    },
    {
     "name": "stderr",
     "output_type": "stream",
     "text": [
      "Waiting for the remaining 9 operations to synchronize with Neptune. Do not kill this process.\n"
     ]
    },
    {
     "name": "stdout",
     "output_type": "stream",
     "text": [
      "Done!\n"
     ]
    },
    {
     "name": "stderr",
     "output_type": "stream",
     "text": [
      "Waiting for the remaining 9 operations to synchronize with Neptune. Do not kill this process.\n"
     ]
    },
    {
     "name": "stdout",
     "output_type": "stream",
     "text": [
      "All 9 operations synced, thanks for waiting!\n"
     ]
    },
    {
     "name": "stderr",
     "output_type": "stream",
     "text": [
      "Error occurred during asynchronous operation processing: Timestamp must be non-decreasing for series attribute: monitoring/stderr. Invalid point: 2021-08-12T12:19:10.633Z\n",
      "Still waiting for the remaining 1 operations (88.89% done). Please wait.\n",
      "Still waiting for the remaining 2 operations (77.78% done). Please wait.\n",
      "Still waiting for the remaining 3 operations (66.67% done). Please wait.\n",
      "Still waiting for the remaining 4 operations (55.56% done). Please wait.\n",
      "Still waiting for the remaining 5 operations (44.44% done). Please wait.\n",
      "Still waiting for the remaining 6 operations (33.33% done). Please wait.\n",
      "Still waiting for the remaining 7 operations (22.22% done). Please wait.\n",
      "Still waiting for the remaining 8 operations (11.11% done). Please wait.\n",
      "Still waiting for the remaining 9 operations (0.00% done). Please wait.\n"
     ]
    }
   ],
   "source": [
    "torch.save(surgery_ckpt,\"ckpt-TIS-381.pt\")"
   ]
  },
  {
   "cell_type": "code",
   "execution_count": null,
   "id": "ranking-pearl",
   "metadata": {},
   "outputs": [],
   "source": []
  }
 ],
 "metadata": {
  "environment": {
   "name": "pytorch-gpu.1-7.m65",
   "type": "gcloud",
   "uri": "gcr.io/deeplearning-platform-release/pytorch-gpu.1-7:m65"
  },
  "kernelspec": {
   "display_name": "Python 3",
   "language": "python",
   "name": "python3"
  },
  "language_info": {
   "codemirror_mode": {
    "name": "ipython",
    "version": 3
   },
   "file_extension": ".py",
   "mimetype": "text/x-python",
   "name": "python",
   "nbconvert_exporter": "python",
   "pygments_lexer": "ipython3",
   "version": "3.8.8"
  }
 },
 "nbformat": 4,
 "nbformat_minor": 5
}
