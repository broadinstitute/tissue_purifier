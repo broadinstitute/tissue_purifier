{
 "cells": [
  {
   "cell_type": "markdown",
   "id": "powerful-implement",
   "metadata": {},
   "source": [
    "# Checkpoint surgery"
   ]
  },
  {
   "cell_type": "code",
   "execution_count": null,
   "id": "wound-republic",
   "metadata": {},
   "outputs": [],
   "source": [
    "import sys\n",
    "import os\n",
    "\n",
    "root_path = os.path.dirname(os.getcwd())\n",
    "src_path = os.path.join(root_path, \"src\")\n",
    "sys.path.insert(0, src_path)"
   ]
  },
  {
   "cell_type": "code",
   "execution_count": null,
   "id": "republican-cuisine",
   "metadata": {},
   "outputs": [],
   "source": [
    "import torch\n",
    "new_ckpt = torch.load(\"ckpt-TIS-383.pt\")"
   ]
  },
  {
   "cell_type": "code",
   "execution_count": null,
   "id": "absent-housing",
   "metadata": {},
   "outputs": [],
   "source": [
    "old_ckpt = torch.load(\"OLD_model_2000EPOCH.pth\")"
   ]
  },
  {
   "cell_type": "code",
   "execution_count": null,
   "id": "double-submission",
   "metadata": {},
   "outputs": [],
   "source": [
    "old_keys = old_ckpt.keys()\n",
    "new_keys = new_ckpt[\"state_dict\"].keys()"
   ]
  },
  {
   "cell_type": "code",
   "execution_count": null,
   "id": "knowing-architecture",
   "metadata": {},
   "outputs": [],
   "source": [
    "key_intersection = set(old_keys) & set(new_keys)\n",
    "print(key_intersection)"
   ]
  },
  {
   "cell_type": "code",
   "execution_count": null,
   "id": "crude-journey",
   "metadata": {},
   "outputs": [],
   "source": [
    "key_not_matching_old = set(old_keys) - key_intersection\n",
    "key_not_matching_new = set(new_keys) - key_intersection\n",
    "\n",
    "print(key_not_matching_old)\n",
    "print(key_not_matching_new)"
   ]
  },
  {
   "cell_type": "code",
   "execution_count": null,
   "id": "impressed-knight",
   "metadata": {},
   "outputs": [],
   "source": [
    "import copy\n",
    "\n",
    "conversion_new2old = {\n",
    "    'projection.head.0.weight': 'projection_head.0.weight',\n",
    "    'projection.head.2.weight': 'projection_head.2.weight',\n",
    "    'projection.head.0.bias': 'projection_head.0.bias',\n",
    "}\n",
    "\n",
    "surgery_ckpt = copy.deepcopy(new_ckpt)\n",
    "surgery_ckpt['neptune_experiment_id'] = 'TIS-381'"
   ]
  },
  {
   "cell_type": "code",
   "execution_count": null,
   "id": "accepting-scott",
   "metadata": {},
   "outputs": [],
   "source": [
    "for key,v in surgery_ckpt[\"state_dict\"].items():\n",
    "    try:\n",
    "        surgery_ckpt[\"state_dict\"][key] = old_ckpt[key]\n",
    "    except KeyError:\n",
    "        surgery_ckpt[\"state_dict\"][key] = old_ckpt[conversion_new2old[key]]\n"
   ]
  },
  {
   "cell_type": "code",
   "execution_count": null,
   "id": "alike-timer",
   "metadata": {},
   "outputs": [],
   "source": [
    "torch.save(surgery_ckpt,\"ckpt-TIS-381.pt\")"
   ]
  },
  {
   "cell_type": "code",
   "execution_count": null,
   "id": "ranking-pearl",
   "metadata": {},
   "outputs": [],
   "source": []
  }
 ],
 "metadata": {
  "environment": {
   "name": "pytorch-gpu.1-7.m65",
   "type": "gcloud",
   "uri": "gcr.io/deeplearning-platform-release/pytorch-gpu.1-7:m65"
  },
  "kernelspec": {
   "display_name": "Python 3",
   "language": "python",
   "name": "python3"
  },
  "language_info": {
   "codemirror_mode": {
    "name": "ipython",
    "version": 3
   },
   "file_extension": ".py",
   "mimetype": "text/x-python",
   "name": "python",
   "nbconvert_exporter": "python",
   "pygments_lexer": "ipython3",
   "version": "3.8.8"
  }
 },
 "nbformat": 4,
 "nbformat_minor": 5
}
