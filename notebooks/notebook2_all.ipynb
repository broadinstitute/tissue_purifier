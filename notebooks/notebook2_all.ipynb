{
 "cells": [
  {
   "cell_type": "markdown",
   "id": "split-cleaner",
   "metadata": {},
   "source": [
    "# Extract all the features"
   ]
  },
  {
   "cell_type": "markdown",
   "id": "bbfd4690",
   "metadata": {},
   "source": [
    "Similar to notebook2 but we exctract all the features according to all pretrained models"
   ]
  },
  {
   "cell_type": "code",
   "execution_count": 1,
   "id": "d6b029c8",
   "metadata": {},
   "outputs": [],
   "source": [
    "# TO REMOVE when notebook is stable\n",
    "\n",
    "%load_ext autoreload\n",
    "%autoreload 2"
   ]
  },
  {
   "cell_type": "markdown",
   "id": "concrete-logic",
   "metadata": {},
   "source": [
    "### Common Imports"
   ]
  },
  {
   "cell_type": "code",
   "execution_count": 2,
   "id": "living-firewall",
   "metadata": {},
   "outputs": [],
   "source": [
    "import torch\n",
    "import tarfile\n",
    "import os\n",
    "from anndata import read_h5ad\n",
    "\n",
    "# tissue_purifier import\n",
    "import tissue_purifier as tp"
   ]
  },
  {
   "cell_type": "markdown",
   "id": "046c3b85",
   "metadata": {},
   "source": [
    "### Download and untar the example dataset"
   ]
  },
  {
   "cell_type": "code",
   "execution_count": 3,
   "id": "6d7f49b7-77b6-4612-98b2-c0484b1e66d7",
   "metadata": {},
   "outputs": [
    {
     "name": "stdout",
     "output_type": "stream",
     "text": [
      "['anndata_sick3.h5ad', 'anndata_sick1.h5ad', 'anndata_sick2.h5ad', 'anndata_wt2.h5ad', 'anndata_wt1.h5ad', 'anndata_wt3.h5ad']\n"
     ]
    }
   ],
   "source": [
    "import tissue_purifier.io\n",
    "\n",
    "bucket_name = \"ld-data-bucket\"\n",
    "data_source_path = \"tissue-purifier/slideseq_testis_anndata_h5ad.tar.gz\"\n",
    "data_destination_path = \"./slideseq_testis_anndata_h5ad.tar.gz\"\n",
    "data_destination_folder = \"./testis_anndata\"\n",
    "\n",
    "# download and untar the data from google bucket\n",
    "# tp.io.download_from_bucket(bucket_name, data_source_path, data_destination_path)\n",
    "\n",
    "# untar the data\n",
    "# with tarfile.open(data_destination_path, \"r:gz\") as fp:\n",
    "#    fp.extractall(path=data_destination_folder)\n",
    "\n",
    "# Make a list of all the h5ad files in the data_destination_folder\n",
    "fname_list = []\n",
    "for f in os.listdir(data_destination_folder):\n",
    "    if f.endswith('.h5ad'):\n",
    "        fname_list.append(f)\n",
    "print(fname_list)"
   ]
  },
  {
   "cell_type": "markdown",
   "id": "df6af91f-a1b2-4867-9641-78db3eea5479",
   "metadata": {},
   "source": [
    "### copy the data into a new folder "
   ]
  },
  {
   "cell_type": "code",
   "execution_count": null,
   "id": "af1e35b3-b3fd-4886-9aa0-fd3d0ee125a2",
   "metadata": {},
   "outputs": [],
   "source": [
    "new_data_folder = \"./testis_anndata_annotated\"\n"
   ]
  },
  {
   "cell_type": "markdown",
   "id": "bee36ef8-707b-4f87-873b-51906afa7e6a",
   "metadata": {},
   "source": [
    "### Download all the checkpoint files"
   ]
  },
  {
   "cell_type": "code",
   "execution_count": 4,
   "id": "c9f58da9-a025-4536-8b44-b828f9db6860",
   "metadata": {},
   "outputs": [
    {
     "name": "stdout",
     "output_type": "stream",
     "text": [
      "['./ckpt_barlow.pt', './ckpt_simclr.pt', './ckpt_dino.pt', './ckpt_vae.pt']\n"
     ]
    }
   ],
   "source": [
    "bucket_name = \"ld-data-bucket\"\n",
    "all_ckpts = [\"ckpt_barlow.pt\", \"ckpt_simclr.pt\", \"ckpt_dino.pt\", \"ckpt_vae.pt\"]\n",
    "all_models = [\"barlow\", \"simclr\", \"dino\", \"vae\"]\n",
    "all_ckpts_dest = []\n",
    "for ckpt in all_ckpts:\n",
    "    ckpt_source = os.path.join(\"tissue-purifier\", ckpt)\n",
    "    ckpt_dest = os.path.join(\"./\", ckpt)\n",
    "    all_ckpts_dest.append(ckpt_dest)\n",
    "    # tp.io.download_from_bucket(bucket_name, ckpt_source, ckpt_dest)\n",
    "    \n",
    "print(all_ckpts_dest)"
   ]
  },
  {
   "cell_type": "markdown",
   "id": "bfa30a0b",
   "metadata": {},
   "source": [
    "### Extract features with all the models (Barlow, Simclr, Dino, Vae)"
   ]
  },
  {
   "cell_type": "code",
   "execution_count": 5,
   "id": "846cfb2d",
   "metadata": {},
   "outputs": [
    {
     "name": "stdout",
     "output_type": "stream",
     "text": [
      "Model ---> barlow ./ckpt_barlow.pt\n",
      "number of elements ---> 33441\n",
      "mean and median spacing 15.479421424523398, 15.47439133436206\n",
      "The dense shape of the image is -> torch.Size([9, 1164, 1165])\n",
      "Occupacy (zero, single, double, ...) of voxels in 3D sparse array -> [    0 33433     4]\n",
      "Occupacy (zero, single, double, ...) of voxels  in 2D sparse array (summed over category) -> [    0 33423     9]\n",
      "number of elements ---> 27194\n",
      "mean and median spacing 16.12433160571037, 15.591954248205585\n",
      "The dense shape of the image is -> torch.Size([9, 1176, 1180])\n",
      "Occupacy (zero, single, double, ...) of voxels in 3D sparse array -> [    0 27190     2]\n",
      "Occupacy (zero, single, double, ...) of voxels  in 2D sparse array (summed over category) -> [    0 27174    10]\n",
      "number of elements ---> 42776\n",
      "mean and median spacing 15.424869146306138, 15.42998109176031\n",
      "The dense shape of the image is -> torch.Size([9, 1180, 1180])\n",
      "Occupacy (zero, single, double, ...) of voxels in 3D sparse array -> [    0 42772     2]\n",
      "Occupacy (zero, single, double, ...) of voxels  in 2D sparse array (summed over category) -> [    0 42764     6]\n",
      "number of elements ---> 33059\n",
      "mean and median spacing 15.358030584634598, 15.508166323067783\n",
      "The dense shape of the image is -> torch.Size([9, 1180, 855])\n",
      "Occupacy (zero, single, double, ...) of voxels in 3D sparse array -> [    0 33033    13]\n",
      "Occupacy (zero, single, double, ...) of voxels  in 2D sparse array (summed over category) -> [    0 32973    43]\n",
      "number of elements ---> 31659\n",
      "mean and median spacing 15.622264926052864, 15.420071793081707\n",
      "The dense shape of the image is -> torch.Size([9, 1178, 1178])\n",
      "Occupacy (zero, single, double, ...) of voxels in 3D sparse array -> [    0 31649     5]\n",
      "Occupacy (zero, single, double, ...) of voxels  in 2D sparse array (summed over category) -> [    0 31629    15]\n",
      "number of elements ---> 39206\n",
      "mean and median spacing 15.535967840319682, 15.438280914030202\n",
      "The dense shape of the image is -> torch.Size([9, 1179, 1180])\n",
      "Occupacy (zero, single, double, ...) of voxels in 3D sparse array -> [    0 39204     1]\n",
      "Occupacy (zero, single, double, ...) of voxels  in 2D sparse array (summed over category) -> [    0 39202     2]\n",
      "Model ---> simclr ./ckpt_simclr.pt\n",
      "number of elements ---> 33441\n",
      "mean and median spacing 15.479421424523398, 15.47439133436206\n",
      "The dense shape of the image is -> torch.Size([9, 1164, 1165])\n",
      "Occupacy (zero, single, double, ...) of voxels in 3D sparse array -> [    0 33433     4]\n",
      "Occupacy (zero, single, double, ...) of voxels  in 2D sparse array (summed over category) -> [    0 33423     9]\n",
      "number of elements ---> 27194\n",
      "mean and median spacing 16.12433160571037, 15.591954248205585\n",
      "The dense shape of the image is -> torch.Size([9, 1176, 1180])\n",
      "Occupacy (zero, single, double, ...) of voxels in 3D sparse array -> [    0 27190     2]\n",
      "Occupacy (zero, single, double, ...) of voxels  in 2D sparse array (summed over category) -> [    0 27174    10]\n",
      "number of elements ---> 42776\n",
      "mean and median spacing 15.424869146306138, 15.42998109176031\n",
      "The dense shape of the image is -> torch.Size([9, 1180, 1180])\n",
      "Occupacy (zero, single, double, ...) of voxels in 3D sparse array -> [    0 42772     2]\n",
      "Occupacy (zero, single, double, ...) of voxels  in 2D sparse array (summed over category) -> [    0 42764     6]\n",
      "number of elements ---> 33059\n",
      "mean and median spacing 15.358030584634598, 15.508166323067783\n",
      "The dense shape of the image is -> torch.Size([9, 1180, 855])\n",
      "Occupacy (zero, single, double, ...) of voxels in 3D sparse array -> [    0 33033    13]\n",
      "Occupacy (zero, single, double, ...) of voxels  in 2D sparse array (summed over category) -> [    0 32973    43]\n",
      "number of elements ---> 31659\n",
      "mean and median spacing 15.622264926052864, 15.420071793081707\n",
      "The dense shape of the image is -> torch.Size([9, 1178, 1178])\n",
      "Occupacy (zero, single, double, ...) of voxels in 3D sparse array -> [    0 31649     5]\n",
      "Occupacy (zero, single, double, ...) of voxels  in 2D sparse array (summed over category) -> [    0 31629    15]\n",
      "number of elements ---> 39206\n",
      "mean and median spacing 15.535967840319682, 15.438280914030202\n",
      "The dense shape of the image is -> torch.Size([9, 1179, 1180])\n",
      "Occupacy (zero, single, double, ...) of voxels in 3D sparse array -> [    0 39204     1]\n",
      "Occupacy (zero, single, double, ...) of voxels  in 2D sparse array (summed over category) -> [    0 39202     2]\n",
      "Model ---> dino ./ckpt_dino.pt\n",
      "number of elements ---> 33441\n",
      "mean and median spacing 15.479421424523398, 15.47439133436206\n",
      "The dense shape of the image is -> torch.Size([9, 1164, 1165])\n",
      "Occupacy (zero, single, double, ...) of voxels in 3D sparse array -> [    0 33433     4]\n",
      "Occupacy (zero, single, double, ...) of voxels  in 2D sparse array (summed over category) -> [    0 33423     9]\n",
      "number of elements ---> 27194\n",
      "mean and median spacing 16.12433160571037, 15.591954248205585\n",
      "The dense shape of the image is -> torch.Size([9, 1176, 1180])\n",
      "Occupacy (zero, single, double, ...) of voxels in 3D sparse array -> [    0 27190     2]\n",
      "Occupacy (zero, single, double, ...) of voxels  in 2D sparse array (summed over category) -> [    0 27174    10]\n",
      "number of elements ---> 42776\n",
      "mean and median spacing 15.424869146306138, 15.42998109176031\n",
      "The dense shape of the image is -> torch.Size([9, 1180, 1180])\n",
      "Occupacy (zero, single, double, ...) of voxels in 3D sparse array -> [    0 42772     2]\n",
      "Occupacy (zero, single, double, ...) of voxels  in 2D sparse array (summed over category) -> [    0 42764     6]\n",
      "number of elements ---> 33059\n",
      "mean and median spacing 15.358030584634598, 15.508166323067783\n",
      "The dense shape of the image is -> torch.Size([9, 1180, 855])\n",
      "Occupacy (zero, single, double, ...) of voxels in 3D sparse array -> [    0 33033    13]\n",
      "Occupacy (zero, single, double, ...) of voxels  in 2D sparse array (summed over category) -> [    0 32973    43]\n",
      "number of elements ---> 31659\n",
      "mean and median spacing 15.622264926052864, 15.420071793081707\n",
      "The dense shape of the image is -> torch.Size([9, 1178, 1178])\n",
      "Occupacy (zero, single, double, ...) of voxels in 3D sparse array -> [    0 31649     5]\n",
      "Occupacy (zero, single, double, ...) of voxels  in 2D sparse array (summed over category) -> [    0 31629    15]\n",
      "number of elements ---> 39206\n",
      "mean and median spacing 15.535967840319682, 15.438280914030202\n",
      "The dense shape of the image is -> torch.Size([9, 1179, 1180])\n",
      "Occupacy (zero, single, double, ...) of voxels in 3D sparse array -> [    0 39204     1]\n",
      "Occupacy (zero, single, double, ...) of voxels  in 2D sparse array (summed over category) -> [    0 39202     2]\n",
      "Model ---> vae ./ckpt_vae.pt\n",
      "making encoder resnet34\n",
      "number of elements ---> 33441\n",
      "mean and median spacing 15.479421424523398, 15.47439133436206\n",
      "The dense shape of the image is -> torch.Size([9, 1164, 1165])\n",
      "Occupacy (zero, single, double, ...) of voxels in 3D sparse array -> [    0 33433     4]\n",
      "Occupacy (zero, single, double, ...) of voxels  in 2D sparse array (summed over category) -> [    0 33423     9]\n",
      "number of elements ---> 27194\n",
      "mean and median spacing 16.12433160571037, 15.591954248205585\n",
      "The dense shape of the image is -> torch.Size([9, 1176, 1180])\n",
      "Occupacy (zero, single, double, ...) of voxels in 3D sparse array -> [    0 27190     2]\n",
      "Occupacy (zero, single, double, ...) of voxels  in 2D sparse array (summed over category) -> [    0 27174    10]\n",
      "number of elements ---> 42776\n",
      "mean and median spacing 15.424869146306138, 15.42998109176031\n",
      "The dense shape of the image is -> torch.Size([9, 1180, 1180])\n",
      "Occupacy (zero, single, double, ...) of voxels in 3D sparse array -> [    0 42772     2]\n",
      "Occupacy (zero, single, double, ...) of voxels  in 2D sparse array (summed over category) -> [    0 42764     6]\n",
      "number of elements ---> 33059\n",
      "mean and median spacing 15.358030584634598, 15.508166323067783\n",
      "The dense shape of the image is -> torch.Size([9, 1180, 855])\n",
      "Occupacy (zero, single, double, ...) of voxels in 3D sparse array -> [    0 33033    13]\n",
      "Occupacy (zero, single, double, ...) of voxels  in 2D sparse array (summed over category) -> [    0 32973    43]\n",
      "number of elements ---> 31659\n",
      "mean and median spacing 15.622264926052864, 15.420071793081707\n",
      "The dense shape of the image is -> torch.Size([9, 1178, 1178])\n",
      "Occupacy (zero, single, double, ...) of voxels in 3D sparse array -> [    0 31649     5]\n",
      "Occupacy (zero, single, double, ...) of voxels  in 2D sparse array (summed over category) -> [    0 31629    15]\n",
      "number of elements ---> 39206\n",
      "mean and median spacing 15.535967840319682, 15.438280914030202\n",
      "The dense shape of the image is -> torch.Size([9, 1179, 1180])\n",
      "Occupacy (zero, single, double, ...) of voxels in 3D sparse array -> [    0 39204     1]\n",
      "Occupacy (zero, single, double, ...) of voxels  in 2D sparse array (summed over category) -> [    0 39202     2]\n"
     ]
    }
   ],
   "source": [
    "from tissue_purifier.data import AnndataFolderDM\n",
    "from tissue_purifier.models.ssl_models import *\n",
    "# now you have access to Barlow, SImclr, Dino, Vae\n",
    "\n",
    "n_patches_max = 1000 # cover each tissue with this many overlapping patches\n",
    "\n",
    "for ckpt_path, model_name in zip(all_ckpts_dest, all_models):\n",
    "    \n",
    "    print(\"----------\")\n",
    "    print(\"Model --->\", model_name, ckpt_path)\n",
    "    print(\"----------\")\n",
    "    \n",
    "    if model_name == \"barlow\":\n",
    "        model = tp.models.ssl_models.Barlow.load_from_checkpoint(checkpoint_path=ckpt_path, strict=False)\n",
    "    elif model_name == \"simclr\":\n",
    "        model = tp.models.ssl_models.Simclr.load_from_checkpoint(checkpoint_path=ckpt_path, strict=False)\n",
    "    elif model_name == \"dino\":\n",
    "        model = tp.models.ssl_models.Dino.load_from_checkpoint(checkpoint_path=ckpt_path, strict=False)\n",
    "    elif model_name == \"vae\":\n",
    "        model = tp.models.ssl_models.Vae.load_from_checkpoint(checkpoint_path=ckpt_path, strict=False)\n",
    "    else:\n",
    "        raise Exception(\"Model name not recongnized {}\".format(model_name))\n",
    "        \n",
    "    # create the datamodule associated with the pretrained model\n",
    "    dm = tp.data.AnndataFolderDM(**model._hparams) \n",
    "    \n",
    "    # put the model on GPU if available\n",
    "    if torch.cuda.is_available():\n",
    "        model = model.cuda()\n",
    "    \n",
    "    # process all the anndata with the model, datamodule pair\n",
    "    for fname in fname_list:\n",
    "        anndata = read_h5ad(os.path.join(data_destination_folder, fname))\n",
    "        sp_img = dm.anndata_to_sparseimage(anndata)\n",
    "        \n",
    "        # add some ncv as well\n",
    "        if model_name == \"barlow\":\n",
    "            for k in 10, 20, 50, 100, 200, 500:\n",
    "                sp_img.compute_ncv(feature_name=\"ncv_k{}\".format(k), k=k)\n",
    "                \n",
    "        # put sparse image on GPU if available\n",
    "        if torch.cuda.is_available():\n",
    "            sp_img = sp_img.cuda()\n",
    "        \n",
    "        # compute the patch-feature\n",
    "        sp_img.compute_patch_features(\n",
    "            feature_name=model_name, \n",
    "            datamodule=dm, \n",
    "            model=model, \n",
    "            batch_size=64,\n",
    "            n_patches_max=n_patches_max,\n",
    "            overwrite=True)\n",
    "        \n",
    "        sp_img.transfer_patch_to_spot(keys_to_transfer=model_name, overwrite=True)\n",
    "        \n",
    "        new_adata = sp_img.to_anndata()\n",
    "        new_adata.write(filename=os.path.join(data_destination_folder, fname)) # overwrite the file but with extra annotations   "
   ]
  },
  {
   "cell_type": "markdown",
   "id": "e9b8f276-76e2-4fa1-80b1-f6fb115f0282",
   "metadata": {},
   "source": [
    "### check what I have done"
   ]
  },
  {
   "cell_type": "code",
   "execution_count": 6,
   "id": "b3f3c483-75c8-46bc-98ed-c256e827ecea",
   "metadata": {},
   "outputs": [
    {
     "name": "stdout",
     "output_type": "stream",
     "text": [
      "anndata_sick3.h5ad\n",
      "AnnData object with n_obs × n_vars = 33441 × 23514\n",
      "    obs: 'x', 'y', 'cell_type'\n",
      "anndata_sick1.h5ad\n",
      "AnnData object with n_obs × n_vars = 27194 × 24420\n",
      "    obs: 'x', 'y', 'cell_type'\n",
      "anndata_sick2.h5ad\n",
      "AnnData object with n_obs × n_vars = 42776 × 24263\n",
      "    obs: 'x', 'y', 'cell_type'\n",
      "anndata_wt2.h5ad\n",
      "AnnData object with n_obs × n_vars = 33059 × 23741\n",
      "    obs: 'x', 'y', 'cell_type'\n",
      "anndata_wt1.h5ad\n",
      "AnnData object with n_obs × n_vars = 31659 × 24450\n",
      "    obs: 'x', 'y', 'cell_type'\n",
      "anndata_wt3.h5ad\n",
      "AnnData object with n_obs × n_vars = 39206 × 23705\n",
      "    obs: 'x', 'y', 'cell_type'\n"
     ]
    }
   ],
   "source": [
    "for fname in fname_list:\n",
    "    anndata = read_h5ad(os.path.join(data_destination_folder, fname))\n",
    "    print(fname)\n",
    "    print(anndata)"
   ]
  },
  {
   "cell_type": "code",
   "execution_count": null,
   "id": "191d1952-59d1-412e-8562-ac7ac7e931ef",
   "metadata": {},
   "outputs": [],
   "source": []
  }
 ],
 "metadata": {
  "environment": {
   "kernel": "python3",
   "name": "common-cu113.m84",
   "type": "gcloud",
   "uri": "gcr.io/deeplearning-platform-release/base-cu113:m84"
  },
  "kernelspec": {
   "display_name": "Python 3",
   "language": "python",
   "name": "python3"
  },
  "language_info": {
   "codemirror_mode": {
    "name": "ipython",
    "version": 3
   },
   "file_extension": ".py",
   "mimetype": "text/x-python",
   "name": "python",
   "nbconvert_exporter": "python",
   "pygments_lexer": "ipython3",
   "version": "3.7.12"
  }
 },
 "nbformat": 4,
 "nbformat_minor": 5
}
